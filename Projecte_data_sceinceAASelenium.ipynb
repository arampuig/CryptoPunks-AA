{
 "cells": [
  {
   "cell_type": "markdown",
   "metadata": {},
   "source": [
    " <div class=\"alert alert-block alert-info\"><font size=\"5\"><center><b><u>Projecte Data Science </u></b></center></font>   \n",
    " <div class=\"alert alert-block alert-info\"><font size=\"5\"><center><b><u>CryptoPunks</u></b></center></font>   \n",
    "\n",
    "\n",
    "\n",
    "\\begin{align*}Anton\\:Sobrino\\end{align*}\n",
    "\n",
    "\\begin{align*}Juliol\\hspace{2mm}\\hspace{2mm}2021\\end{align*}</div>"
   ]
  },
  {
   "cell_type": "code",
   "execution_count": 59,
   "metadata": {},
   "outputs": [],
   "source": [
    "#Importació llibreries bàsiques \n",
    "\n",
    "import pandas as pd\n",
    "import numpy as np\n",
    "import matplotlib.pyplot as plt\n",
    "import time\n",
    "import random\n",
    "import re\n",
    "\n",
    "#Importació Llibrereis per webscrapping\n",
    "from selenium import webdriver\n",
    "\n",
    "#Importacion \n",
    "from selenium.webdriver.support.ui import WebDriverWait\n",
    "from selenium.webdriver.support import expected_conditions as EC\n",
    "from selenium.webdriver.common.by import By\n",
    "import time\n",
    "\n",
    "#SQL\n",
    "import mysql.connector\n",
    "from sqlalchemy import create_engine\n",
    "\n",
    "#labelencoder\n",
    "from sklearn.preprocessing import LabelEncoder\n",
    "labelencoder = LabelEncoder()\n",
    "\n",
    "driver = webdriver.Chrome(executable_path=r'C:\\Users\\Anton SL\\bin_chrome\\Chromedriver.exe')\n",
    "#engine = create_engine('mysql+mysqlconnector://root:Zxcvbn123+-@' + 127001 +'/cryptopunks', echo=False)\n",
    "time.sleep(random.uniform(2.0,2.0))\n",
    "\n",
    "\n",
    "K = 1000\n",
    "M = 1000000"
   ]
  },
  {
   "cell_type": "markdown",
   "metadata": {},
   "source": [
    "# <span style=color:darkblue>A. Obtencio dades des de la web de Crypto Punks</span>"
   ]
  },
  {
   "cell_type": "markdown",
   "metadata": {},
   "source": [
    "### <span style=color:darkred>1.tbl types of Crypto Punks</span>"
   ]
  },
  {
   "cell_type": "code",
   "execution_count": 60,
   "metadata": {},
   "outputs": [],
   "source": [
    "url1 = 'https://www.larvalabs.com/cryptopunks/attributes'\n",
    "driver.get(url1)\n"
   ]
  },
  {
   "cell_type": "code",
   "execution_count": 61,
   "metadata": {},
   "outputs": [
    {
     "name": "stdout",
     "output_type": "stream",
     "text": [
      "col: 6 i rows: 5\n"
     ]
    }
   ],
   "source": [
    "rows = len(driver.find_elements_by_xpath('/html/body/div[2]/div/div[3]/div/div[1]/table/tbody/tr'))\n",
    "col = len(driver.find_elements_by_xpath('/html/body/div[2]/div/div[3]/div/div[1]/table/thead/tr[2]/th'))\n",
    "\n",
    "\n",
    "print('col:', str(col), 'i rows:', str(rows) )"
   ]
  },
  {
   "cell_type": "code",
   "execution_count": 62,
   "metadata": {},
   "outputs": [
    {
     "data": {
      "text/plain": [
       "['Attribute', '#', 'Avail', 'Avg Sale', 'Cheapest']"
      ]
     },
     "execution_count": 62,
     "metadata": {},
     "output_type": "execute_result"
    }
   ],
   "source": [
    "col_nom = []\n",
    "for n in range(1,rows + 1):\n",
    "    if n -1  < col :\n",
    "        n == n-1\n",
    "        col_nom.append(driver.find_element_by_xpath('/html/body/div[2]/div/div[3]/div/div[1]/table/thead/tr[2]/th[' + str(n) + ']').text)\n",
    "\n",
    "col_nom"
   ]
  },
  {
   "cell_type": "code",
   "execution_count": 63,
   "metadata": {},
   "outputs": [
    {
     "data": {
      "text/html": [
       "<div>\n",
       "<style scoped>\n",
       "    .dataframe tbody tr th:only-of-type {\n",
       "        vertical-align: middle;\n",
       "    }\n",
       "\n",
       "    .dataframe tbody tr th {\n",
       "        vertical-align: top;\n",
       "    }\n",
       "\n",
       "    .dataframe thead th {\n",
       "        text-align: right;\n",
       "    }\n",
       "</style>\n",
       "<table border=\"1\" class=\"dataframe\">\n",
       "  <thead>\n",
       "    <tr style=\"text-align: right;\">\n",
       "      <th></th>\n",
       "      <th>Attribute</th>\n",
       "      <th>NumPunks</th>\n",
       "      <th>Avail</th>\n",
       "      <th>Avg_Sale_ETH</th>\n",
       "      <th>Cheapest_ETH</th>\n",
       "    </tr>\n",
       "  </thead>\n",
       "  <tbody>\n",
       "    <tr>\n",
       "      <th>0</th>\n",
       "      <td>Alien</td>\n",
       "      <td>9</td>\n",
       "      <td>0</td>\n",
       "      <td>0.00</td>\n",
       "      <td>0.0</td>\n",
       "    </tr>\n",
       "    <tr>\n",
       "      <th>1</th>\n",
       "      <td>Ape</td>\n",
       "      <td>24</td>\n",
       "      <td>4</td>\n",
       "      <td>0.00</td>\n",
       "      <td>1.6</td>\n",
       "    </tr>\n",
       "    <tr>\n",
       "      <th>2</th>\n",
       "      <td>Zombie</td>\n",
       "      <td>88</td>\n",
       "      <td>10</td>\n",
       "      <td>420.86</td>\n",
       "      <td>420.0</td>\n",
       "    </tr>\n",
       "    <tr>\n",
       "      <th>3</th>\n",
       "      <td>Female</td>\n",
       "      <td>3840</td>\n",
       "      <td>667</td>\n",
       "      <td>29.85</td>\n",
       "      <td>16.9</td>\n",
       "    </tr>\n",
       "    <tr>\n",
       "      <th>4</th>\n",
       "      <td>Male</td>\n",
       "      <td>6039</td>\n",
       "      <td>984</td>\n",
       "      <td>26.89</td>\n",
       "      <td>18.0</td>\n",
       "    </tr>\n",
       "  </tbody>\n",
       "</table>\n",
       "</div>"
      ],
      "text/plain": [
       "  Attribute  NumPunks  Avail  Avg_Sale_ETH  Cheapest_ETH\n",
       "0     Alien         9      0          0.00           0.0\n",
       "1       Ape        24      4          0.00           1.6\n",
       "2    Zombie        88     10        420.86         420.0\n",
       "3    Female      3840    667         29.85          16.9\n",
       "4      Male      6039    984         26.89          18.0"
      ]
     },
     "execution_count": 63,
     "metadata": {},
     "output_type": "execute_result"
    }
   ],
   "source": [
    "MyListaAnidada = []\n",
    "for n in range (1,rows + 1 ):\n",
    "    mylista=[]\n",
    "    for b in range (1, col):\n",
    "        dato= driver.find_element_by_xpath('/html/body/div[2]/div/div[3]/div/div[1]/table/tbody/tr[' + str(n) + ']/td[' +str(b) +']').text\n",
    "        mylista.append(dato)\n",
    "        if len(mylista)== len(col_nom):\n",
    "            MyListaAnidada.append(mylista)\n",
    "\n",
    "df_types = pd.DataFrame(MyListaAnidada, columns = col_nom)\n",
    "df_types.columns = ['Attribute', 'NumPunks', 'Avail', 'Avg_Sale_ETH', 'Cheapest_ETH']\n",
    "#df_types['Avg_Sale_ETH'] = df_types['Avg_Sale_ETH'].str.extract(r'(0-9.\\-)')\n",
    "df_types['Avg_Sale_ETH']=df_types['Avg_Sale_ETH'].str.rstrip('Ξ') \n",
    "df_types['Avg_Sale_ETH']=df_types['Avg_Sale_ETH'].str.rstrip('K')\n",
    "df_types['Cheapest_ETH']=df_types['Cheapest_ETH'].str.rstrip('Ξ') \n",
    "df_types['Cheapest_ETH']=df_types['Cheapest_ETH'].str.rstrip('K')\n",
    "df_types['NumPunks']=pd.to_numeric(df_types['NumPunks'])\n",
    "df_types['Avail']=pd.to_numeric(df_types['Avail'])\n",
    "df_types['Avg_Sale_ETH']=pd.to_numeric(df_types['Avg_Sale_ETH']) \n",
    "df_types['Cheapest_ETH']=pd.to_numeric(df_types['Cheapest_ETH'])\n",
    "df_types = df_types.fillna(0)\n",
    "df_types.to_csv('types.csv')\n",
    "df_types"
   ]
  },
  {
   "cell_type": "code",
   "execution_count": 64,
   "metadata": {},
   "outputs": [
    {
     "name": "stdout",
     "output_type": "stream",
     "text": [
      "<class 'pandas.core.frame.DataFrame'>\n",
      "RangeIndex: 5 entries, 0 to 4\n",
      "Data columns (total 5 columns):\n",
      " #   Column        Non-Null Count  Dtype  \n",
      "---  ------        --------------  -----  \n",
      " 0   Attribute     5 non-null      object \n",
      " 1   NumPunks      5 non-null      int64  \n",
      " 2   Avail         5 non-null      int64  \n",
      " 3   Avg_Sale_ETH  5 non-null      float64\n",
      " 4   Cheapest_ETH  5 non-null      float64\n",
      "dtypes: float64(2), int64(2), object(1)\n",
      "memory usage: 328.0+ bytes\n"
     ]
    }
   ],
   "source": [
    "df_types.info()"
   ]
  },
  {
   "cell_type": "markdown",
   "metadata": {},
   "source": [
    "### <span style=color:darkred>2. tbl Top Sales</span>"
   ]
  },
  {
   "cell_type": "code",
   "execution_count": 69,
   "metadata": {},
   "outputs": [],
   "source": [
    "url1 = 'https://www.larvalabs.com/cryptopunks/topsales?sortByUSD=false'\n",
    "driver.get(url1)"
   ]
  },
  {
   "cell_type": "code",
   "execution_count": 70,
   "metadata": {},
   "outputs": [
    {
     "data": {
      "text/html": [
       "<div>\n",
       "<style scoped>\n",
       "    .dataframe tbody tr th:only-of-type {\n",
       "        vertical-align: middle;\n",
       "    }\n",
       "\n",
       "    .dataframe tbody tr th {\n",
       "        vertical-align: top;\n",
       "    }\n",
       "\n",
       "    .dataframe thead th {\n",
       "        text-align: right;\n",
       "    }\n",
       "</style>\n",
       "<table border=\"1\" class=\"dataframe\">\n",
       "  <thead>\n",
       "    <tr style=\"text-align: right;\">\n",
       "      <th></th>\n",
       "      <th>Ranking</th>\n",
       "      <th>Num_CriptoPunk</th>\n",
       "      <th>Valor_ETH</th>\n",
       "    </tr>\n",
       "  </thead>\n",
       "  <tbody>\n",
       "    <tr>\n",
       "      <th>0</th>\n",
       "      <td>1</td>\n",
       "      <td>3100</td>\n",
       "      <td>4.2</td>\n",
       "    </tr>\n",
       "    <tr>\n",
       "      <th>1</th>\n",
       "      <td>2</td>\n",
       "      <td>7804</td>\n",
       "      <td>4.2</td>\n",
       "    </tr>\n",
       "    <tr>\n",
       "      <th>2</th>\n",
       "      <td>3</td>\n",
       "      <td>6965</td>\n",
       "      <td>800.0</td>\n",
       "    </tr>\n",
       "    <tr>\n",
       "      <th>3</th>\n",
       "      <td>4</td>\n",
       "      <td>2140</td>\n",
       "      <td>750.0</td>\n",
       "    </tr>\n",
       "    <tr>\n",
       "      <th>4</th>\n",
       "      <td>5</td>\n",
       "      <td>3011</td>\n",
       "      <td>667.0</td>\n",
       "    </tr>\n",
       "  </tbody>\n",
       "</table>\n",
       "</div>"
      ],
      "text/plain": [
       "   Ranking  Num_CriptoPunk  Valor_ETH\n",
       "0        1            3100        4.2\n",
       "1        2            7804        4.2\n",
       "2        3            6965      800.0\n",
       "3        4            2140      750.0\n",
       "4        5            3011      667.0"
      ]
     },
     "execution_count": 70,
     "metadata": {},
     "output_type": "execute_result"
    }
   ],
   "source": [
    "MyListaAnidada=[]\n",
    "\n",
    "for n in range(1, 100):\n",
    "    try:\n",
    "        CPunks = driver.find_element_by_xpath('/html/body/div[2]/div/div[2]/div['+ str(n)+ ']').text\n",
    "        mylista = CPunks.split()\n",
    "        MyListaAnidada.append(mylista[0:3])\n",
    "    except:\n",
    "        pass\n",
    "\n",
    "df_topsales= pd.DataFrame(MyListaAnidada,columns =['Ranking','Num_CriptoPunk','Valor_ETH'])\n",
    "df_topsales['Num_CriptoPunk'] = df_topsales['Num_CriptoPunk'].str.lstrip('#').astype('int64')\n",
    "df_topsales['Valor_ETH']=df_topsales['Valor_ETH'].str.rstrip('Ξ') \n",
    "df_topsales['Valor_ETH']=df_topsales['Valor_ETH'].str.rstrip('K') \n",
    "df_topsales['Valor_ETH']=pd.to_numeric(df_topsales['Valor_ETH'])\n",
    "df_topsales['Ranking']=pd.to_numeric(df_topsales['Ranking'])\n",
    "df_topsales.to_csv('topsales.csv')\n",
    "df_topsales.head(5)"
   ]
  },
  {
   "cell_type": "code",
   "execution_count": 71,
   "metadata": {},
   "outputs": [
    {
     "name": "stdout",
     "output_type": "stream",
     "text": [
      "<class 'pandas.core.frame.DataFrame'>\n",
      "RangeIndex: 60 entries, 0 to 59\n",
      "Data columns (total 3 columns):\n",
      " #   Column          Non-Null Count  Dtype  \n",
      "---  ------          --------------  -----  \n",
      " 0   Ranking         60 non-null     int64  \n",
      " 1   Num_CriptoPunk  60 non-null     int64  \n",
      " 2   Valor_ETH       60 non-null     float64\n",
      "dtypes: float64(1), int64(2)\n",
      "memory usage: 1.5 KB\n"
     ]
    }
   ],
   "source": [
    "df_topsales.info()"
   ]
  },
  {
   "cell_type": "markdown",
   "metadata": {},
   "source": [
    "### <span style=color:darkred>3. tbl CriptoPunks Transacciones</span>"
   ]
  },
  {
   "cell_type": "code",
   "execution_count": 72,
   "metadata": {},
   "outputs": [],
   "source": [
    "url1 = 'https://www.larvalabs.com/cryptopunks/details/00001'\n",
    "driver.get(url1)"
   ]
  },
  {
   "cell_type": "code",
   "execution_count": 73,
   "metadata": {},
   "outputs": [
    {
     "name": "stdout",
     "output_type": "stream",
     "text": [
      "col: 5 i rows: 54\n"
     ]
    }
   ],
   "source": [
    "col = len(driver.find_elements_by_xpath('//*[@id=\"punkHistory\"]/div/table/tbody/tr[1]/th'))\n",
    "rows = len(driver.find_elements_by_xpath('//*[@id=\"punkHistory\"]/div/table/tbody/tr'))\n",
    "\n",
    "\n",
    "print('col:', str(col), 'i rows:', str(rows) )"
   ]
  },
  {
   "cell_type": "code",
   "execution_count": 74,
   "metadata": {},
   "outputs": [
    {
     "data": {
      "text/plain": [
       "['Num_CP', 'Type', 'From', 'To', 'Amount', 'Txn']"
      ]
     },
     "execution_count": 74,
     "metadata": {},
     "output_type": "execute_result"
    }
   ],
   "source": [
    "col_nom = ['Num_CP']\n",
    "\n",
    "for n in range(1,col + 1):\n",
    "    if n   < col + 1:\n",
    "        n == n -1\n",
    "        col_nom.append(driver.find_element_by_xpath('//*[@id=\"punkHistory\"]/div/table/tbody/tr[1]/th[' + str(n) + ']').text)\n",
    "\n",
    "col_nom\n",
    "\n",
    "#//*[@id=\"punkHistory\"]/div/table/tbody/tr[1]/th[1]"
   ]
  },
  {
   "cell_type": "raw",
   "metadata": {},
   "source": [
    "MyListaAnidada = []\n",
    "\n",
    "for web in range(1,9999):\n",
    "    url1 = 'https://www.larvalabs.com/cryptopunks/details/'+ str(web)\n",
    "    driver.get(url1)\n",
    "    #print(web)\n",
    "    for n in range (2,rows + 1 ):\n",
    "        mylista=[web]\n",
    "        for b in range (1, col + 1 ):\n",
    "            try:\n",
    "                dato = driver.find_element_by_xpath('//*[@id=\"punkHistory\"]/div/table/tbody/tr[' + str(n) + ']/td[' +str(b) +']').text\n",
    "                mylista.append(dato)\n",
    "                if len(mylista)== len(col_nom):\n",
    "                    MyListaAnidada.append(mylista)\n",
    "            except:\n",
    "                pass\n",
    "\n",
    "                            \n",
    "df_Punk_History = pd.DataFrame(MyListaAnidada, columns = col_nom)\n",
    "df_Punk_History.to_csv('Punk_History.csv')"
   ]
  },
  {
   "cell_type": "markdown",
   "metadata": {},
   "source": [
    "### <span style=color:darkred>4. tbl Skin</span>"
   ]
  },
  {
   "cell_type": "code",
   "execution_count": 75,
   "metadata": {},
   "outputs": [],
   "source": [
    "url1 = 'https://defypunk.com/punks/'\n",
    "driver.get(url1)"
   ]
  },
  {
   "cell_type": "code",
   "execution_count": 76,
   "metadata": {},
   "outputs": [],
   "source": [
    "skin=(driver.find_element_by_xpath('//*[@id=\"root\"]/div/main/div/div/div[2]/div[2]/button')).text"
   ]
  },
  {
   "cell_type": "code",
   "execution_count": 77,
   "metadata": {},
   "outputs": [
    {
     "data": {
      "text/html": [
       "<div>\n",
       "<style scoped>\n",
       "    .dataframe tbody tr th:only-of-type {\n",
       "        vertical-align: middle;\n",
       "    }\n",
       "\n",
       "    .dataframe tbody tr th {\n",
       "        vertical-align: top;\n",
       "    }\n",
       "\n",
       "    .dataframe thead th {\n",
       "        text-align: right;\n",
       "    }\n",
       "</style>\n",
       "<table border=\"1\" class=\"dataframe\">\n",
       "  <thead>\n",
       "    <tr style=\"text-align: right;\">\n",
       "      <th></th>\n",
       "      <th>skin</th>\n",
       "      <th>NumP</th>\n",
       "    </tr>\n",
       "  </thead>\n",
       "  <tbody>\n",
       "    <tr>\n",
       "      <th>0</th>\n",
       "      <td>Alien</td>\n",
       "      <td>9</td>\n",
       "    </tr>\n",
       "    <tr>\n",
       "      <th>1</th>\n",
       "      <td>Ape</td>\n",
       "      <td>24</td>\n",
       "    </tr>\n",
       "    <tr>\n",
       "      <th>2</th>\n",
       "      <td>Zombie</td>\n",
       "      <td>88</td>\n",
       "    </tr>\n",
       "    <tr>\n",
       "      <th>3</th>\n",
       "      <td>Albino</td>\n",
       "      <td>1018</td>\n",
       "    </tr>\n",
       "    <tr>\n",
       "      <th>4</th>\n",
       "      <td>Dark</td>\n",
       "      <td>2824</td>\n",
       "    </tr>\n",
       "    <tr>\n",
       "      <th>5</th>\n",
       "      <td>Light</td>\n",
       "      <td>3006</td>\n",
       "    </tr>\n",
       "    <tr>\n",
       "      <th>6</th>\n",
       "      <td>Mid</td>\n",
       "      <td>3031</td>\n",
       "    </tr>\n",
       "  </tbody>\n",
       "</table>\n",
       "</div>"
      ],
      "text/plain": [
       "     skin  NumP\n",
       "0   Alien     9\n",
       "1     Ape    24\n",
       "2  Zombie    88\n",
       "3  Albino  1018\n",
       "4    Dark  2824\n",
       "5   Light  3006\n",
       "6     Mid  3031"
      ]
     },
     "execution_count": 77,
     "metadata": {},
     "output_type": "execute_result"
    }
   ],
   "source": [
    "mylista = []\n",
    "MyListaAnidada=[]\n",
    "df_skin = pd.DataFrame(columns=['skin','NumP', 'Punks'])\n",
    "\n",
    "for i in range(1,10):\n",
    "    try:\n",
    "        skin=(driver.find_element_by_xpath('//*[@id=\"root\"]/div/main/div/div/div[2]/div['+ str(i) +']/button')).text\n",
    "        mylista.append(skin.split())\n",
    "    except:\n",
    "        pass\n",
    "                       \n",
    "df_skin = pd.DataFrame(mylista,columns=['skin','NumP', 'Punks'])\n",
    "df_skin = df_skin.drop(['Punks'],axis=1)\n",
    "df_skin['NumP']=df_skin['NumP'].str.replace('(','')\n",
    "df_skin['NumP']=df_skin['NumP'].str.replace(',','')\n",
    "df_skin['NumP']=pd.to_numeric(df_skin['NumP'])\n",
    "df_skin.to_csv('skin.csv')\n",
    "df_skin"
   ]
  },
  {
   "cell_type": "code",
   "execution_count": 78,
   "metadata": {},
   "outputs": [
    {
     "name": "stdout",
     "output_type": "stream",
     "text": [
      "<class 'pandas.core.frame.DataFrame'>\n",
      "RangeIndex: 7 entries, 0 to 6\n",
      "Data columns (total 2 columns):\n",
      " #   Column  Non-Null Count  Dtype \n",
      "---  ------  --------------  ----- \n",
      " 0   skin    7 non-null      object\n",
      " 1   NumP    7 non-null      int64 \n",
      "dtypes: int64(1), object(1)\n",
      "memory usage: 240.0+ bytes\n"
     ]
    }
   ],
   "source": [
    "df_skin.info()"
   ]
  },
  {
   "cell_type": "markdown",
   "metadata": {},
   "source": [
    "### <span style=color:darkred>5. tbl Attibutes</span>"
   ]
  },
  {
   "cell_type": "code",
   "execution_count": 65,
   "metadata": {},
   "outputs": [
    {
     "name": "stdout",
     "output_type": "stream",
     "text": [
      "col: 6 i rows: 87\n"
     ]
    }
   ],
   "source": [
    "rows = len(driver.find_elements_by_xpath('/html/body/div[2]/div/div[3]/div/div[2]/table/tbody/tr'))\n",
    "col = len(driver.find_elements_by_xpath('/html/body/div[2]/div/div[3]/div/div[2]/table/thead/tr[2]/th'))\n",
    "\n",
    "\n",
    "print('col:', str(col), 'i rows:', str(rows) )"
   ]
  },
  {
   "cell_type": "code",
   "execution_count": 66,
   "metadata": {},
   "outputs": [
    {
     "data": {
      "text/plain": [
       "['Attribute', '#', 'Avail', 'Avg Sale', 'Cheapest']"
      ]
     },
     "execution_count": 66,
     "metadata": {},
     "output_type": "execute_result"
    }
   ],
   "source": [
    "col_nom = []\n",
    "for n in range(1,col + 1):\n",
    "    if n   < col :\n",
    "        n == n -1\n",
    "        col_nom.append(driver.find_element_by_xpath('/html/body/div[2]/div/div[3]/div/div[2]/table/thead/tr[2]/th[' + str(n) + ']').text)\n",
    "\n",
    "col_nom"
   ]
  },
  {
   "cell_type": "code",
   "execution_count": 67,
   "metadata": {},
   "outputs": [
    {
     "data": {
      "text/html": [
       "<div>\n",
       "<style scoped>\n",
       "    .dataframe tbody tr th:only-of-type {\n",
       "        vertical-align: middle;\n",
       "    }\n",
       "\n",
       "    .dataframe tbody tr th {\n",
       "        vertical-align: top;\n",
       "    }\n",
       "\n",
       "    .dataframe thead th {\n",
       "        text-align: right;\n",
       "    }\n",
       "</style>\n",
       "<table border=\"1\" class=\"dataframe\">\n",
       "  <thead>\n",
       "    <tr style=\"text-align: right;\">\n",
       "      <th></th>\n",
       "      <th>Attribute</th>\n",
       "      <th>NumPunks</th>\n",
       "      <th>Avail</th>\n",
       "      <th>Avg_Sale_ETH</th>\n",
       "      <th>Cheapest_ETH</th>\n",
       "    </tr>\n",
       "  </thead>\n",
       "  <tbody>\n",
       "    <tr>\n",
       "      <th>0</th>\n",
       "      <td>Beanie</td>\n",
       "      <td>44</td>\n",
       "      <td>11</td>\n",
       "      <td>152.00</td>\n",
       "      <td>199.99</td>\n",
       "    </tr>\n",
       "    <tr>\n",
       "      <th>1</th>\n",
       "      <td>Choker</td>\n",
       "      <td>48</td>\n",
       "      <td>7</td>\n",
       "      <td>67.33</td>\n",
       "      <td>75.00</td>\n",
       "    </tr>\n",
       "    <tr>\n",
       "      <th>2</th>\n",
       "      <td>Pilot Helmet</td>\n",
       "      <td>54</td>\n",
       "      <td>11</td>\n",
       "      <td>121.20</td>\n",
       "      <td>130.00</td>\n",
       "    </tr>\n",
       "    <tr>\n",
       "      <th>3</th>\n",
       "      <td>Tiara</td>\n",
       "      <td>55</td>\n",
       "      <td>15</td>\n",
       "      <td>67.00</td>\n",
       "      <td>73.88</td>\n",
       "    </tr>\n",
       "    <tr>\n",
       "      <th>4</th>\n",
       "      <td>Orange Side</td>\n",
       "      <td>68</td>\n",
       "      <td>15</td>\n",
       "      <td>96.03</td>\n",
       "      <td>65.56</td>\n",
       "    </tr>\n",
       "    <tr>\n",
       "      <th>...</th>\n",
       "      <td>...</td>\n",
       "      <td>...</td>\n",
       "      <td>...</td>\n",
       "      <td>...</td>\n",
       "      <td>...</td>\n",
       "    </tr>\n",
       "    <tr>\n",
       "      <th>82</th>\n",
       "      <td>Mole</td>\n",
       "      <td>644</td>\n",
       "      <td>111</td>\n",
       "      <td>23.75</td>\n",
       "      <td>16.90</td>\n",
       "    </tr>\n",
       "    <tr>\n",
       "      <th>83</th>\n",
       "      <td>Purple Lipstick</td>\n",
       "      <td>655</td>\n",
       "      <td>108</td>\n",
       "      <td>30.67</td>\n",
       "      <td>19.00</td>\n",
       "    </tr>\n",
       "    <tr>\n",
       "      <th>84</th>\n",
       "      <td>Hot Lipstick</td>\n",
       "      <td>696</td>\n",
       "      <td>124</td>\n",
       "      <td>30.10</td>\n",
       "      <td>19.00</td>\n",
       "    </tr>\n",
       "    <tr>\n",
       "      <th>85</th>\n",
       "      <td>Cigarette</td>\n",
       "      <td>961</td>\n",
       "      <td>168</td>\n",
       "      <td>28.43</td>\n",
       "      <td>18.80</td>\n",
       "    </tr>\n",
       "    <tr>\n",
       "      <th>86</th>\n",
       "      <td>Earring</td>\n",
       "      <td>2459</td>\n",
       "      <td>432</td>\n",
       "      <td>29.02</td>\n",
       "      <td>16.90</td>\n",
       "    </tr>\n",
       "  </tbody>\n",
       "</table>\n",
       "<p>87 rows × 5 columns</p>\n",
       "</div>"
      ],
      "text/plain": [
       "          Attribute  NumPunks  Avail  Avg_Sale_ETH  Cheapest_ETH\n",
       "0            Beanie        44     11        152.00        199.99\n",
       "1            Choker        48      7         67.33         75.00\n",
       "2      Pilot Helmet        54     11        121.20        130.00\n",
       "3             Tiara        55     15         67.00         73.88\n",
       "4       Orange Side        68     15         96.03         65.56\n",
       "..              ...       ...    ...           ...           ...\n",
       "82             Mole       644    111         23.75         16.90\n",
       "83  Purple Lipstick       655    108         30.67         19.00\n",
       "84     Hot Lipstick       696    124         30.10         19.00\n",
       "85        Cigarette       961    168         28.43         18.80\n",
       "86          Earring      2459    432         29.02         16.90\n",
       "\n",
       "[87 rows x 5 columns]"
      ]
     },
     "execution_count": 67,
     "metadata": {},
     "output_type": "execute_result"
    }
   ],
   "source": [
    "MyListaAnidada = []\n",
    "for n in range (1,rows + 1 ):\n",
    "    mylista=[]\n",
    "    for b in range (1, col):\n",
    "        dato= driver.find_element_by_xpath('/html/body/div[2]/div/div[3]/div/div[2]/table/tbody/tr[' + str(n) + ']/td[' +str(b) +']').text\n",
    "        mylista.append(dato)\n",
    "        if len(mylista)== len(col_nom):\n",
    "            MyListaAnidada.append(mylista)\n",
    "            \n",
    "df_Attibutes = pd.DataFrame(MyListaAnidada, columns = col_nom)\n",
    "df_Attibutes.columns = ['Attribute', 'NumPunks', 'Avail', 'Avg_Sale_ETH', 'Cheapest_ETH']\n",
    "df_Attibutes['Avg_Sale_ETH']=df_Attibutes['Avg_Sale_ETH'].str.rstrip('Ξ') \n",
    "df_Attibutes['Avg_Sale_ETH']=df_Attibutes['Avg_Sale_ETH'].str.rstrip('K')\n",
    "df_Attibutes['Cheapest_ETH']=df_Attibutes['Cheapest_ETH'].str.rstrip('Ξ') \n",
    "df_Attibutes['Cheapest_ETH']=df_Attibutes['Cheapest_ETH'].str.rstrip('K')\n",
    "df_Attibutes['Avg_Sale_ETH']=pd.to_numeric(df_Attibutes['Avg_Sale_ETH'])\n",
    "df_Attibutes['Cheapest_ETH']=pd.to_numeric(df_Attibutes['Cheapest_ETH'])\n",
    "df_Attibutes['NumPunks']=pd.to_numeric(df_Attibutes['NumPunks'])\n",
    "df_Attibutes['Avail']=pd.to_numeric(df_Attibutes['Avail'])\n",
    "df_Attibutes = df_Attibutes.fillna(0)\n",
    "df_Attibutes.to_csv('Attibutes.csv')\n",
    "df_Attibutes"
   ]
  },
  {
   "cell_type": "code",
   "execution_count": 68,
   "metadata": {},
   "outputs": [
    {
     "name": "stdout",
     "output_type": "stream",
     "text": [
      "<class 'pandas.core.frame.DataFrame'>\n",
      "RangeIndex: 87 entries, 0 to 86\n",
      "Data columns (total 5 columns):\n",
      " #   Column        Non-Null Count  Dtype  \n",
      "---  ------        --------------  -----  \n",
      " 0   Attribute     87 non-null     object \n",
      " 1   NumPunks      87 non-null     int64  \n",
      " 2   Avail         87 non-null     int64  \n",
      " 3   Avg_Sale_ETH  87 non-null     float64\n",
      " 4   Cheapest_ETH  87 non-null     float64\n",
      "dtypes: float64(2), int64(2), object(1)\n",
      "memory usage: 3.5+ KB\n"
     ]
    }
   ],
   "source": [
    "df_Attibutes.info()"
   ]
  },
  {
   "cell_type": "markdown",
   "metadata": {},
   "source": [
    "### <span style=color:darkred>6. tbl accesories</span>"
   ]
  },
  {
   "cell_type": "code",
   "execution_count": 175,
   "metadata": {},
   "outputs": [],
   "source": [
    "punks_df= pd.read_csv('Punks.csv')"
   ]
  },
  {
   "cell_type": "code",
   "execution_count": 176,
   "metadata": {},
   "outputs": [
    {
     "data": {
      "text/html": [
       "<div>\n",
       "<style scoped>\n",
       "    .dataframe tbody tr th:only-of-type {\n",
       "        vertical-align: middle;\n",
       "    }\n",
       "\n",
       "    .dataframe tbody tr th {\n",
       "        vertical-align: top;\n",
       "    }\n",
       "\n",
       "    .dataframe thead th {\n",
       "        text-align: right;\n",
       "    }\n",
       "</style>\n",
       "<table border=\"1\" class=\"dataframe\">\n",
       "  <thead>\n",
       "    <tr style=\"text-align: right;\">\n",
       "      <th></th>\n",
       "      <th>Unnamed: 0</th>\n",
       "      <th>id</th>\n",
       "      <th>type</th>\n",
       "      <th>count</th>\n",
       "      <th>accesories</th>\n",
       "    </tr>\n",
       "  </thead>\n",
       "  <tbody>\n",
       "    <tr>\n",
       "      <th>0</th>\n",
       "      <td>0</td>\n",
       "      <td>0</td>\n",
       "      <td>Female</td>\n",
       "      <td>3</td>\n",
       "      <td>Green Eye Shadow / Earring / Blonde Bob</td>\n",
       "    </tr>\n",
       "    <tr>\n",
       "      <th>1</th>\n",
       "      <td>1</td>\n",
       "      <td>1</td>\n",
       "      <td>Male</td>\n",
       "      <td>2</td>\n",
       "      <td>Smile / Mohawk</td>\n",
       "    </tr>\n",
       "    <tr>\n",
       "      <th>2</th>\n",
       "      <td>2</td>\n",
       "      <td>2</td>\n",
       "      <td>Female</td>\n",
       "      <td>1</td>\n",
       "      <td>Wild Hair</td>\n",
       "    </tr>\n",
       "    <tr>\n",
       "      <th>3</th>\n",
       "      <td>3</td>\n",
       "      <td>3</td>\n",
       "      <td>Male</td>\n",
       "      <td>3</td>\n",
       "      <td>Wild Hair / Nerd Glasses / Pipe</td>\n",
       "    </tr>\n",
       "    <tr>\n",
       "      <th>4</th>\n",
       "      <td>4</td>\n",
       "      <td>4</td>\n",
       "      <td>Male</td>\n",
       "      <td>4</td>\n",
       "      <td>Big Shades / Wild Hair / Earring / Goat</td>\n",
       "    </tr>\n",
       "  </tbody>\n",
       "</table>\n",
       "</div>"
      ],
      "text/plain": [
       "   Unnamed: 0  id     type  count                                accesories\n",
       "0           0   0   Female      3   Green Eye Shadow / Earring / Blonde Bob\n",
       "1           1   1     Male      2                            Smile / Mohawk\n",
       "2           2   2   Female      1                                 Wild Hair\n",
       "3           3   3     Male      3           Wild Hair / Nerd Glasses / Pipe\n",
       "4           4   4     Male      4   Big Shades / Wild Hair / Earring / Goat"
      ]
     },
     "execution_count": 176,
     "metadata": {},
     "output_type": "execute_result"
    }
   ],
   "source": [
    "punks_df.head(5)"
   ]
  },
  {
   "cell_type": "code",
   "execution_count": 177,
   "metadata": {},
   "outputs": [],
   "source": [
    "punks_df= punks_df.drop(['Unnamed: 0'], axis=1)"
   ]
  },
  {
   "cell_type": "code",
   "execution_count": 178,
   "metadata": {},
   "outputs": [
    {
     "name": "stdout",
     "output_type": "stream",
     "text": [
      "<class 'pandas.core.frame.DataFrame'>\n",
      "RangeIndex: 10000 entries, 0 to 9999\n",
      "Data columns (total 4 columns):\n",
      " #   Column      Non-Null Count  Dtype \n",
      "---  ------      --------------  ----- \n",
      " 0   id          10000 non-null  int64 \n",
      " 1   type        10000 non-null  object\n",
      " 2   count       10000 non-null  int64 \n",
      " 3   accesories  10000 non-null  object\n",
      "dtypes: int64(2), object(2)\n",
      "memory usage: 312.6+ KB\n"
     ]
    }
   ],
   "source": [
    "punks_df.info()"
   ]
  },
  {
   "cell_type": "code",
   "execution_count": 179,
   "metadata": {},
   "outputs": [],
   "source": [
    "df = pd.DataFrame(punks_df.accesories)"
   ]
  },
  {
   "cell_type": "code",
   "execution_count": 180,
   "metadata": {},
   "outputs": [],
   "source": [
    "df1 = df['accesories'].str.split('/', expand=True).stack()"
   ]
  },
  {
   "cell_type": "code",
   "execution_count": 181,
   "metadata": {},
   "outputs": [
    {
     "data": {
      "text/plain": [
       "0     0     Green Eye Shadow \n",
       "      1              Earring \n",
       "      2            Blonde Bob\n",
       "1     0                Smile \n",
       "      1                Mohawk\n",
       "                  ...        \n",
       "9998  0      Wild White Hair \n",
       "      1       Black Lipstick \n",
       "      2      Clown Eyes Green\n",
       "9999  0               Mohawk \n",
       "      1          Nerd Glasses\n",
       "Length: 27547, dtype: object"
      ]
     },
     "execution_count": 181,
     "metadata": {},
     "output_type": "execute_result"
    }
   ],
   "source": [
    "df1"
   ]
  },
  {
   "cell_type": "code",
   "execution_count": 182,
   "metadata": {},
   "outputs": [],
   "source": [
    "df1 = df1.reset_index(level=1,drop=True).rename('accesories1')"
   ]
  },
  {
   "cell_type": "code",
   "execution_count": 183,
   "metadata": {},
   "outputs": [
    {
     "data": {
      "text/plain": [
       "0        Green Eye Shadow \n",
       "0                 Earring \n",
       "0               Blonde Bob\n",
       "1                   Smile \n",
       "1                   Mohawk\n",
       "               ...        \n",
       "9998      Wild White Hair \n",
       "9998       Black Lipstick \n",
       "9998      Clown Eyes Green\n",
       "9999               Mohawk \n",
       "9999          Nerd Glasses\n",
       "Name: accesories1, Length: 27547, dtype: object"
      ]
     },
     "execution_count": 183,
     "metadata": {},
     "output_type": "execute_result"
    }
   ],
   "source": [
    "df1"
   ]
  },
  {
   "cell_type": "code",
   "execution_count": 184,
   "metadata": {},
   "outputs": [],
   "source": [
    "punks_df=punks_df.drop('accesories', axis=1)\n"
   ]
  },
  {
   "cell_type": "code",
   "execution_count": 185,
   "metadata": {},
   "outputs": [],
   "source": [
    "punks_df = punks_df.join(df1)"
   ]
  },
  {
   "cell_type": "code",
   "execution_count": 186,
   "metadata": {},
   "outputs": [
    {
     "data": {
      "text/html": [
       "<div>\n",
       "<style scoped>\n",
       "    .dataframe tbody tr th:only-of-type {\n",
       "        vertical-align: middle;\n",
       "    }\n",
       "\n",
       "    .dataframe tbody tr th {\n",
       "        vertical-align: top;\n",
       "    }\n",
       "\n",
       "    .dataframe thead th {\n",
       "        text-align: right;\n",
       "    }\n",
       "</style>\n",
       "<table border=\"1\" class=\"dataframe\">\n",
       "  <thead>\n",
       "    <tr style=\"text-align: right;\">\n",
       "      <th></th>\n",
       "      <th>id</th>\n",
       "      <th>type</th>\n",
       "      <th>count</th>\n",
       "      <th>accesories1</th>\n",
       "    </tr>\n",
       "  </thead>\n",
       "  <tbody>\n",
       "    <tr>\n",
       "      <th>0</th>\n",
       "      <td>0</td>\n",
       "      <td>Female</td>\n",
       "      <td>3</td>\n",
       "      <td>Green Eye Shadow</td>\n",
       "    </tr>\n",
       "    <tr>\n",
       "      <th>0</th>\n",
       "      <td>0</td>\n",
       "      <td>Female</td>\n",
       "      <td>3</td>\n",
       "      <td>Earring</td>\n",
       "    </tr>\n",
       "    <tr>\n",
       "      <th>0</th>\n",
       "      <td>0</td>\n",
       "      <td>Female</td>\n",
       "      <td>3</td>\n",
       "      <td>Blonde Bob</td>\n",
       "    </tr>\n",
       "    <tr>\n",
       "      <th>1</th>\n",
       "      <td>1</td>\n",
       "      <td>Male</td>\n",
       "      <td>2</td>\n",
       "      <td>Smile</td>\n",
       "    </tr>\n",
       "    <tr>\n",
       "      <th>1</th>\n",
       "      <td>1</td>\n",
       "      <td>Male</td>\n",
       "      <td>2</td>\n",
       "      <td>Mohawk</td>\n",
       "    </tr>\n",
       "    <tr>\n",
       "      <th>...</th>\n",
       "      <td>...</td>\n",
       "      <td>...</td>\n",
       "      <td>...</td>\n",
       "      <td>...</td>\n",
       "    </tr>\n",
       "    <tr>\n",
       "      <th>9998</th>\n",
       "      <td>9998</td>\n",
       "      <td>Female</td>\n",
       "      <td>3</td>\n",
       "      <td>Wild White Hair</td>\n",
       "    </tr>\n",
       "    <tr>\n",
       "      <th>9998</th>\n",
       "      <td>9998</td>\n",
       "      <td>Female</td>\n",
       "      <td>3</td>\n",
       "      <td>Black Lipstick</td>\n",
       "    </tr>\n",
       "    <tr>\n",
       "      <th>9998</th>\n",
       "      <td>9998</td>\n",
       "      <td>Female</td>\n",
       "      <td>3</td>\n",
       "      <td>Clown Eyes Green</td>\n",
       "    </tr>\n",
       "    <tr>\n",
       "      <th>9999</th>\n",
       "      <td>9999</td>\n",
       "      <td>Female</td>\n",
       "      <td>2</td>\n",
       "      <td>Mohawk</td>\n",
       "    </tr>\n",
       "    <tr>\n",
       "      <th>9999</th>\n",
       "      <td>9999</td>\n",
       "      <td>Female</td>\n",
       "      <td>2</td>\n",
       "      <td>Nerd Glasses</td>\n",
       "    </tr>\n",
       "  </tbody>\n",
       "</table>\n",
       "<p>27547 rows × 4 columns</p>\n",
       "</div>"
      ],
      "text/plain": [
       "        id     type  count         accesories1\n",
       "0        0   Female      3   Green Eye Shadow \n",
       "0        0   Female      3            Earring \n",
       "0        0   Female      3          Blonde Bob\n",
       "1        1     Male      2              Smile \n",
       "1        1     Male      2              Mohawk\n",
       "...    ...      ...    ...                 ...\n",
       "9998  9998   Female      3    Wild White Hair \n",
       "9998  9998   Female      3     Black Lipstick \n",
       "9998  9998   Female      3    Clown Eyes Green\n",
       "9999  9999   Female      2             Mohawk \n",
       "9999  9999   Female      2        Nerd Glasses\n",
       "\n",
       "[27547 rows x 4 columns]"
      ]
     },
     "execution_count": 186,
     "metadata": {},
     "output_type": "execute_result"
    }
   ],
   "source": [
    "punks_df"
   ]
  },
  {
   "cell_type": "code",
   "execution_count": 187,
   "metadata": {},
   "outputs": [],
   "source": [
    "punks_df['count'] = 1"
   ]
  },
  {
   "cell_type": "code",
   "execution_count": 188,
   "metadata": {},
   "outputs": [],
   "source": [
    "#df1 = df1.reset_index(level=1,drop=True).rename('accesories1')\n",
    "punks_df = punks_df.reset_index(drop=True)"
   ]
  },
  {
   "cell_type": "code",
   "execution_count": 189,
   "metadata": {},
   "outputs": [],
   "source": [
    "#\\w+\\D\n",
    "punks_df[\"type\"] = punks_df[\"type\"].str.extract(r'(\\w+)')\n",
    "punks_df[\"accesories1\"] = punks_df[\"accesories1\"].str.extract(r'(\\w+\\D+)')"
   ]
  },
  {
   "cell_type": "code",
   "execution_count": 190,
   "metadata": {},
   "outputs": [
    {
     "data": {
      "text/html": [
       "<div>\n",
       "<style scoped>\n",
       "    .dataframe tbody tr th:only-of-type {\n",
       "        vertical-align: middle;\n",
       "    }\n",
       "\n",
       "    .dataframe tbody tr th {\n",
       "        vertical-align: top;\n",
       "    }\n",
       "\n",
       "    .dataframe thead th {\n",
       "        text-align: right;\n",
       "    }\n",
       "</style>\n",
       "<table border=\"1\" class=\"dataframe\">\n",
       "  <thead>\n",
       "    <tr style=\"text-align: right;\">\n",
       "      <th></th>\n",
       "      <th>id</th>\n",
       "      <th>type</th>\n",
       "      <th>count</th>\n",
       "      <th>accesories1</th>\n",
       "    </tr>\n",
       "  </thead>\n",
       "  <tbody>\n",
       "    <tr>\n",
       "      <th>0</th>\n",
       "      <td>0</td>\n",
       "      <td>Female</td>\n",
       "      <td>1</td>\n",
       "      <td>Green Eye Shadow</td>\n",
       "    </tr>\n",
       "    <tr>\n",
       "      <th>1</th>\n",
       "      <td>0</td>\n",
       "      <td>Female</td>\n",
       "      <td>1</td>\n",
       "      <td>Earring</td>\n",
       "    </tr>\n",
       "    <tr>\n",
       "      <th>2</th>\n",
       "      <td>0</td>\n",
       "      <td>Female</td>\n",
       "      <td>1</td>\n",
       "      <td>Blonde Bob</td>\n",
       "    </tr>\n",
       "    <tr>\n",
       "      <th>3</th>\n",
       "      <td>1</td>\n",
       "      <td>Male</td>\n",
       "      <td>1</td>\n",
       "      <td>Smile</td>\n",
       "    </tr>\n",
       "    <tr>\n",
       "      <th>4</th>\n",
       "      <td>1</td>\n",
       "      <td>Male</td>\n",
       "      <td>1</td>\n",
       "      <td>Mohawk</td>\n",
       "    </tr>\n",
       "    <tr>\n",
       "      <th>...</th>\n",
       "      <td>...</td>\n",
       "      <td>...</td>\n",
       "      <td>...</td>\n",
       "      <td>...</td>\n",
       "    </tr>\n",
       "    <tr>\n",
       "      <th>27542</th>\n",
       "      <td>9998</td>\n",
       "      <td>Female</td>\n",
       "      <td>1</td>\n",
       "      <td>Wild White Hair</td>\n",
       "    </tr>\n",
       "    <tr>\n",
       "      <th>27543</th>\n",
       "      <td>9998</td>\n",
       "      <td>Female</td>\n",
       "      <td>1</td>\n",
       "      <td>Black Lipstick</td>\n",
       "    </tr>\n",
       "    <tr>\n",
       "      <th>27544</th>\n",
       "      <td>9998</td>\n",
       "      <td>Female</td>\n",
       "      <td>1</td>\n",
       "      <td>Clown Eyes Green</td>\n",
       "    </tr>\n",
       "    <tr>\n",
       "      <th>27545</th>\n",
       "      <td>9999</td>\n",
       "      <td>Female</td>\n",
       "      <td>1</td>\n",
       "      <td>Mohawk</td>\n",
       "    </tr>\n",
       "    <tr>\n",
       "      <th>27546</th>\n",
       "      <td>9999</td>\n",
       "      <td>Female</td>\n",
       "      <td>1</td>\n",
       "      <td>Nerd Glasses</td>\n",
       "    </tr>\n",
       "  </tbody>\n",
       "</table>\n",
       "<p>27547 rows × 4 columns</p>\n",
       "</div>"
      ],
      "text/plain": [
       "         id    type  count        accesories1\n",
       "0         0  Female      1  Green Eye Shadow \n",
       "1         0  Female      1           Earring \n",
       "2         0  Female      1         Blonde Bob\n",
       "3         1    Male      1             Smile \n",
       "4         1    Male      1             Mohawk\n",
       "...     ...     ...    ...                ...\n",
       "27542  9998  Female      1   Wild White Hair \n",
       "27543  9998  Female      1    Black Lipstick \n",
       "27544  9998  Female      1   Clown Eyes Green\n",
       "27545  9999  Female      1            Mohawk \n",
       "27546  9999  Female      1       Nerd Glasses\n",
       "\n",
       "[27547 rows x 4 columns]"
      ]
     },
     "execution_count": 190,
     "metadata": {},
     "output_type": "execute_result"
    }
   ],
   "source": [
    "punks_df"
   ]
  },
  {
   "cell_type": "code",
   "execution_count": 191,
   "metadata": {},
   "outputs": [],
   "source": [
    "punks_df.to_csv('punks_accesories.csv')"
   ]
  },
  {
   "cell_type": "markdown",
   "metadata": {},
   "source": [
    "### <span style=color:darkred>6. tbl Master</span>"
   ]
  },
  {
   "cell_type": "code",
   "execution_count": 95,
   "metadata": {},
   "outputs": [
    {
     "data": {
      "text/html": [
       "<div>\n",
       "<style scoped>\n",
       "    .dataframe tbody tr th:only-of-type {\n",
       "        vertical-align: middle;\n",
       "    }\n",
       "\n",
       "    .dataframe tbody tr th {\n",
       "        vertical-align: top;\n",
       "    }\n",
       "\n",
       "    .dataframe thead th {\n",
       "        text-align: right;\n",
       "    }\n",
       "</style>\n",
       "<table border=\"1\" class=\"dataframe\">\n",
       "  <thead>\n",
       "    <tr style=\"text-align: right;\">\n",
       "      <th></th>\n",
       "      <th>NumCriptoPunk</th>\n",
       "    </tr>\n",
       "  </thead>\n",
       "  <tbody>\n",
       "    <tr>\n",
       "      <th>0</th>\n",
       "      <td>0</td>\n",
       "    </tr>\n",
       "    <tr>\n",
       "      <th>1</th>\n",
       "      <td>1</td>\n",
       "    </tr>\n",
       "    <tr>\n",
       "      <th>2</th>\n",
       "      <td>2</td>\n",
       "    </tr>\n",
       "    <tr>\n",
       "      <th>3</th>\n",
       "      <td>3</td>\n",
       "    </tr>\n",
       "    <tr>\n",
       "      <th>4</th>\n",
       "      <td>4</td>\n",
       "    </tr>\n",
       "    <tr>\n",
       "      <th>...</th>\n",
       "      <td>...</td>\n",
       "    </tr>\n",
       "    <tr>\n",
       "      <th>9995</th>\n",
       "      <td>9995</td>\n",
       "    </tr>\n",
       "    <tr>\n",
       "      <th>9996</th>\n",
       "      <td>9996</td>\n",
       "    </tr>\n",
       "    <tr>\n",
       "      <th>9997</th>\n",
       "      <td>9997</td>\n",
       "    </tr>\n",
       "    <tr>\n",
       "      <th>9998</th>\n",
       "      <td>9998</td>\n",
       "    </tr>\n",
       "    <tr>\n",
       "      <th>9999</th>\n",
       "      <td>9999</td>\n",
       "    </tr>\n",
       "  </tbody>\n",
       "</table>\n",
       "<p>10000 rows × 1 columns</p>\n",
       "</div>"
      ],
      "text/plain": [
       "      NumCriptoPunk\n",
       "0                 0\n",
       "1                 1\n",
       "2                 2\n",
       "3                 3\n",
       "4                 4\n",
       "...             ...\n",
       "9995           9995\n",
       "9996           9996\n",
       "9997           9997\n",
       "9998           9998\n",
       "9999           9999\n",
       "\n",
       "[10000 rows x 1 columns]"
      ]
     },
     "execution_count": 95,
     "metadata": {},
     "output_type": "execute_result"
    }
   ],
   "source": [
    "master_df = pd.DataFrame(range(0,10000), columns=['NumCriptoPunk'])\n",
    "master_df.to_csv('master.csv')\n",
    "master_df"
   ]
  },
  {
   "cell_type": "code",
   "execution_count": 96,
   "metadata": {},
   "outputs": [
    {
     "name": "stdout",
     "output_type": "stream",
     "text": [
      "<class 'pandas.core.frame.DataFrame'>\n",
      "RangeIndex: 10000 entries, 0 to 9999\n",
      "Data columns (total 1 columns):\n",
      " #   Column         Non-Null Count  Dtype\n",
      "---  ------         --------------  -----\n",
      " 0   NumCriptoPunk  10000 non-null  int64\n",
      "dtypes: int64(1)\n",
      "memory usage: 78.2 KB\n"
     ]
    }
   ],
   "source": [
    "master_df.info()"
   ]
  },
  {
   "cell_type": "markdown",
   "metadata": {},
   "source": [
    "# <span style=color:darkblue>B. Creació BBDD MySql</span>\n",
    "\n",
    "### <span style=color:darkred>Scripts MySQL </span>"
   ]
  },
  {
   "cell_type": "raw",
   "metadata": {},
   "source": [
    "DROP DATABASE IF EXISTS cryptopunks;\n",
    "\n",
    "CREATE SCHEMA cryptopunks;\n",
    "\n",
    "USE cryptopunks;\n",
    "\n",
    "CREATE TABLE cryptopunks.types (\n",
    "  idtypes INT NOT NULL AUTO_INCREMENT,\n",
    "  Attribute VARCHAR(45) NOT NULL,\n",
    "  NumPunks INT NOT NULL,\n",
    "  Avail INT NOT NULL,\n",
    "  Avg_Sale_ETH FLOAT NOT NULL,\n",
    "  Cheapest_ETH FLOAT NULL,\n",
    "  PRIMARY KEY (idtypes,NumPunks));\n",
    "\n",
    "CREATE TABLE cryptopunks.attibutes (\n",
    "  idattibutes INT NOT NULL AUTO_INCREMENT,\n",
    "  Attibutes VARCHAR(45) NOT NULL,\n",
    "  NumPunks INT NOT NULL,\n",
    "  Avail INT NOT NULL,\n",
    "  Avg_Sale_ETH FLOAT NOT NULL,\n",
    "  Cheapest_ETH FLOAT NOT NULL,\n",
    "  PRIMARY KEY (idattibutes,Attibutes));\n",
    "\n",
    "CREATE TABLE cryptopunks.topsales (\n",
    "  idtopsales INT NOT NULL AUTO_INCREMENT,\n",
    "  Ranking INT NOT NULL,\n",
    "  Num_CriptoPunk INT NOT NULL,\n",
    "  Valor_ETH FLOAT NOT NULL,\n",
    "  PRIMARY KEY (idtopsales, Num_CriptoPunk));\n",
    "\n",
    "  CREATE TABLE cryptopunks.skin (\n",
    "  idSkin INT NOT NULL AUTO_INCREMENT,\n",
    "  skin VARCHAR(45) NOT NULL,\n",
    "  NumP INT NOT NULL,\n",
    "  PRIMARY KEY (idSkin, skin));\n",
    "  \n",
    "  CREATE TABLE cryptopunks.punks_accesories (\n",
    "  idaccesories INT NOT NULL AUTO_INCREMENT,\n",
    "  ippunks INT NOT NULL,\n",
    "  type VARCHAR(45) NOT NULL,\n",
    "  counter INT NOT NULL,\n",
    "  accesories1 VARCHAR(45) NOT NULL,\n",
    "  Accesories_LE INT NOT NULL,\n",
    "  PRIMARY KEY (idaccesories, ippunks));\n",
    "  \n",
    "  CREATE TABLE cryptopunks.master (\n",
    "  idmaster INT NOT NULL AUTO_INCREMENT,\n",
    "  ippunks INT NOT NULL,\n",
    "  PRIMARY KEY (idmaster, ippunks));\n",
    "\n",
    "  COMMIT;"
   ]
  },
  {
   "cell_type": "markdown",
   "metadata": {},
   "source": [
    "### <span style=color:darkred>Scripts MySQL </span>"
   ]
  },
  {
   "cell_type": "code",
   "execution_count": 97,
   "metadata": {},
   "outputs": [
    {
     "name": "stdout",
     "output_type": "stream",
     "text": [
      "<mysql.connector.connection.MySQLConnection object at 0x00000191901C8C10>\n"
     ]
    }
   ],
   "source": [
    "mydb = mysql.connector.connect(\n",
    "  host=\"127.0.0.1\",\n",
    "  user=\"root\",\n",
    "  password=\"Zxcvbn123+-\",\n",
    "  database='cryptopunks'\n",
    ")\n",
    "\n",
    "print(mydb)"
   ]
  },
  {
   "cell_type": "code",
   "execution_count": 98,
   "metadata": {},
   "outputs": [],
   "source": [
    "mycursor = mydb.cursor()"
   ]
  },
  {
   "cell_type": "code",
   "execution_count": 99,
   "metadata": {},
   "outputs": [],
   "source": [
    "#df_topsales.to_sql(name='topsales', con=mydb, if_exists = 'append', index=False)"
   ]
  },
  {
   "cell_type": "code",
   "execution_count": null,
   "metadata": {},
   "outputs": [],
   "source": []
  }
 ],
 "metadata": {
  "kernelspec": {
   "display_name": "Python 3",
   "language": "python",
   "name": "python3"
  },
  "language_info": {
   "codemirror_mode": {
    "name": "ipython",
    "version": 3
   },
   "file_extension": ".py",
   "mimetype": "text/x-python",
   "name": "python",
   "nbconvert_exporter": "python",
   "pygments_lexer": "ipython3",
   "version": "3.8.5"
  }
 },
 "nbformat": 4,
 "nbformat_minor": 4
}
