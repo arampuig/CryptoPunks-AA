{
 "cells": [
  {
   "cell_type": "code",
   "execution_count": 1,
   "id": "2061ea79",
   "metadata": {
    "ExecuteTime": {
     "end_time": "2021-07-01T17:23:37.757000Z",
     "start_time": "2021-07-01T17:23:36.974133Z"
    }
   },
   "outputs": [],
   "source": [
    "import pandas as pd\n",
    "import regex as re\n",
    "\n",
    "pd.set_option('display.max_rows', 500)\n",
    "pd.set_option('display.max_columns', 500)\n",
    "pd.set_option('display.width', 1000)\n",
    "pd.set_option('display.expand_frame_repr', False)\n",
    "\n",
    "import warnings\n",
    "warnings.filterwarnings('ignore')"
   ]
  },
  {
   "cell_type": "markdown",
   "id": "20bc8b97",
   "metadata": {},
   "source": [
    "Volem deixar la taula STATUS_TOTAL així:\n",
    "\n",
    "- cryptopunk_number\n",
    "- owner\n",
    "- for_sale: Yes/No\n",
    "- sale_eth: quantiat ethereum sense el signe/None\n",
    "- eth_factors: K, M i Y\n",
    "- sale_dolars: quantiat dolars sense el signe/None\n",
    "- dolars factors: B\n",
    "- are_bids: Yes/No\n",
    "- bids_eth: quantiat ethereum sense el signe/None\n",
    "- bids_eth_factors: K, M i Y\n",
    "- bids_dolars: quantiat dolars sense el signe/None\n",
    "- bids_dolars_factors: B\n",
    "- bid_placer: usuari que fa la puja/None"
   ]
  },
  {
   "cell_type": "code",
   "execution_count": 2,
   "id": "c385533e",
   "metadata": {
    "ExecuteTime": {
     "end_time": "2021-07-01T17:23:37.836789Z",
     "start_time": "2021-07-01T17:23:37.758996Z"
    }
   },
   "outputs": [],
   "source": [
    "df_1 = pd.read_csv('STATUS_TOTAL.csv')"
   ]
  },
  {
   "cell_type": "code",
   "execution_count": 3,
   "id": "f8646666",
   "metadata": {
    "ExecuteTime": {
     "end_time": "2021-07-01T17:23:37.884663Z",
     "start_time": "2021-07-01T17:23:37.839782Z"
    }
   },
   "outputs": [
    {
     "data": {
      "text/html": [
       "<div>\n",
       "<style scoped>\n",
       "    .dataframe tbody tr th:only-of-type {\n",
       "        vertical-align: middle;\n",
       "    }\n",
       "\n",
       "    .dataframe tbody tr th {\n",
       "        vertical-align: top;\n",
       "    }\n",
       "\n",
       "    .dataframe thead th {\n",
       "        text-align: right;\n",
       "    }\n",
       "</style>\n",
       "<table border=\"1\" class=\"dataframe\">\n",
       "  <thead>\n",
       "    <tr style=\"text-align: right;\">\n",
       "      <th></th>\n",
       "      <th>Unnamed: 0</th>\n",
       "      <th>owner</th>\n",
       "      <th>for_sale</th>\n",
       "      <th>are_bids</th>\n",
       "      <th>cryptopunk_number</th>\n",
       "    </tr>\n",
       "  </thead>\n",
       "  <tbody>\n",
       "    <tr>\n",
       "      <th>0</th>\n",
       "      <td>0</td>\n",
       "      <td>This punk is currently owned by address 0xe08c32.</td>\n",
       "      <td>This punk has not been listed for sale by its ...</td>\n",
       "      <td>There are currently no bids on this punk.</td>\n",
       "      <td>0</td>\n",
       "    </tr>\n",
       "    <tr>\n",
       "      <th>1</th>\n",
       "      <td>1</td>\n",
       "      <td>This punk is currently owned by address 0xb88f61.</td>\n",
       "      <td>This punk has not been listed for sale by its ...</td>\n",
       "      <td>There are currently no bids on this punk.</td>\n",
       "      <td>1</td>\n",
       "    </tr>\n",
       "    <tr>\n",
       "      <th>2</th>\n",
       "      <td>2</td>\n",
       "      <td>This punk is currently owned by address 0x897aea.</td>\n",
       "      <td>This punk has not been listed for sale by its ...</td>\n",
       "      <td>There is a bid of &lt;0.01Ξ ($4) for this punk fr...</td>\n",
       "      <td>2</td>\n",
       "    </tr>\n",
       "    <tr>\n",
       "      <th>3</th>\n",
       "      <td>3</td>\n",
       "      <td>This punk is currently owned by address 0xc352b5.</td>\n",
       "      <td>This punk has not been listed for sale by its ...</td>\n",
       "      <td>There are currently no bids on this punk.</td>\n",
       "      <td>3</td>\n",
       "    </tr>\n",
       "    <tr>\n",
       "      <th>4</th>\n",
       "      <td>4</td>\n",
       "      <td>This punk is currently owned by address 0xc352b5.</td>\n",
       "      <td>This punk has not been listed for sale by its ...</td>\n",
       "      <td>There are currently no bids on this punk.</td>\n",
       "      <td>4</td>\n",
       "    </tr>\n",
       "    <tr>\n",
       "      <th>...</th>\n",
       "      <td>...</td>\n",
       "      <td>...</td>\n",
       "      <td>...</td>\n",
       "      <td>...</td>\n",
       "      <td>...</td>\n",
       "    </tr>\n",
       "    <tr>\n",
       "      <th>9995</th>\n",
       "      <td>9995</td>\n",
       "      <td>This punk is currently owned by address 0x758353.</td>\n",
       "      <td>This punk has not been listed for sale by its ...</td>\n",
       "      <td>There are currently no bids on this punk.</td>\n",
       "      <td>9995</td>\n",
       "    </tr>\n",
       "    <tr>\n",
       "      <th>9996</th>\n",
       "      <td>9996</td>\n",
       "      <td>This punk is currently owned by address 0xa9bfa9.</td>\n",
       "      <td>This punk has not been listed for sale by its ...</td>\n",
       "      <td>There are currently no bids on this punk.</td>\n",
       "      <td>9996</td>\n",
       "    </tr>\n",
       "    <tr>\n",
       "      <th>9997</th>\n",
       "      <td>9997</td>\n",
       "      <td>This punk is currently owned by address 0x279679.</td>\n",
       "      <td>This punk is currently for sale by owner for 4...</td>\n",
       "      <td>There are currently no bids on this punk.</td>\n",
       "      <td>9997</td>\n",
       "    </tr>\n",
       "    <tr>\n",
       "      <th>9998</th>\n",
       "      <td>9998</td>\n",
       "      <td>This punk is currently owned by address 0xcfd9cc.</td>\n",
       "      <td>This punk has not been listed for sale by its ...</td>\n",
       "      <td>There are currently no bids on this punk.</td>\n",
       "      <td>9998</td>\n",
       "    </tr>\n",
       "    <tr>\n",
       "      <th>9999</th>\n",
       "      <td>9999</td>\n",
       "      <td>This punk is currently owned by address punk99...</td>\n",
       "      <td>This punk has not been listed for sale by its ...</td>\n",
       "      <td>There is a bid of 0.22Ξ ($489) for this punk f...</td>\n",
       "      <td>9999</td>\n",
       "    </tr>\n",
       "  </tbody>\n",
       "</table>\n",
       "<p>10000 rows × 5 columns</p>\n",
       "</div>"
      ],
      "text/plain": [
       "      Unnamed: 0                                              owner                                           for_sale                                           are_bids  cryptopunk_number\n",
       "0              0  This punk is currently owned by address 0xe08c32.  This punk has not been listed for sale by its ...          There are currently no bids on this punk.                  0\n",
       "1              1  This punk is currently owned by address 0xb88f61.  This punk has not been listed for sale by its ...          There are currently no bids on this punk.                  1\n",
       "2              2  This punk is currently owned by address 0x897aea.  This punk has not been listed for sale by its ...  There is a bid of <0.01Ξ ($4) for this punk fr...                  2\n",
       "3              3  This punk is currently owned by address 0xc352b5.  This punk has not been listed for sale by its ...          There are currently no bids on this punk.                  3\n",
       "4              4  This punk is currently owned by address 0xc352b5.  This punk has not been listed for sale by its ...          There are currently no bids on this punk.                  4\n",
       "...          ...                                                ...                                                ...                                                ...                ...\n",
       "9995        9995  This punk is currently owned by address 0x758353.  This punk has not been listed for sale by its ...          There are currently no bids on this punk.               9995\n",
       "9996        9996  This punk is currently owned by address 0xa9bfa9.  This punk has not been listed for sale by its ...          There are currently no bids on this punk.               9996\n",
       "9997        9997  This punk is currently owned by address 0x279679.  This punk is currently for sale by owner for 4...          There are currently no bids on this punk.               9997\n",
       "9998        9998  This punk is currently owned by address 0xcfd9cc.  This punk has not been listed for sale by its ...          There are currently no bids on this punk.               9998\n",
       "9999        9999  This punk is currently owned by address punk99...  This punk has not been listed for sale by its ...  There is a bid of 0.22Ξ ($489) for this punk f...               9999\n",
       "\n",
       "[10000 rows x 5 columns]"
      ]
     },
     "execution_count": 3,
     "metadata": {},
     "output_type": "execute_result"
    }
   ],
   "source": [
    "df_1"
   ]
  },
  {
   "cell_type": "markdown",
   "id": "0517082c",
   "metadata": {},
   "source": [
    "Eliminem la primera columna, ja que està repetida i canviem l'ordre de les columnes, posant l'id davant:"
   ]
  },
  {
   "cell_type": "code",
   "execution_count": 4,
   "id": "5a983376",
   "metadata": {
    "ExecuteTime": {
     "end_time": "2021-07-01T17:23:37.900619Z",
     "start_time": "2021-07-01T17:23:37.888650Z"
    }
   },
   "outputs": [],
   "source": [
    "df_1.drop('Unnamed: 0', axis=1, inplace=True)"
   ]
  },
  {
   "cell_type": "code",
   "execution_count": 5,
   "id": "9c5c3d9d",
   "metadata": {
    "ExecuteTime": {
     "end_time": "2021-07-01T17:23:37.917576Z",
     "start_time": "2021-07-01T17:23:37.903610Z"
    }
   },
   "outputs": [],
   "source": [
    "df_1 = df_1[['cryptopunk_number','owner', 'for_sale', 'are_bids']]"
   ]
  },
  {
   "cell_type": "markdown",
   "id": "6e8fa9b5",
   "metadata": {},
   "source": [
    "Netejem la columna owner perquè ens quedi només l'identificador de l'usuari:"
   ]
  },
  {
   "cell_type": "code",
   "execution_count": 6,
   "id": "1e0fff06",
   "metadata": {
    "ExecuteTime": {
     "end_time": "2021-07-01T17:23:38.026283Z",
     "start_time": "2021-07-01T17:23:37.920565Z"
    }
   },
   "outputs": [],
   "source": [
    "df_1['owner'].replace({'This punk is currently owned by address':''}, regex=True, inplace=True)"
   ]
  },
  {
   "cell_type": "code",
   "execution_count": 7,
   "id": "46b90fb8",
   "metadata": {
    "ExecuteTime": {
     "end_time": "2021-07-01T17:23:38.121058Z",
     "start_time": "2021-07-01T17:23:38.029273Z"
    }
   },
   "outputs": [],
   "source": [
    "df_1['owner'].replace({'\\.':''}, regex=True, inplace=True)"
   ]
  },
  {
   "cell_type": "markdown",
   "id": "c03ea33c",
   "metadata": {},
   "source": [
    "Netegem la columna 'for_sale'. Posem 'No' a tots els registres que no han estat en venta i deixem només el preu dels que han estat venuts:"
   ]
  },
  {
   "cell_type": "code",
   "execution_count": 8,
   "id": "590a756c",
   "metadata": {
    "ExecuteTime": {
     "end_time": "2021-07-01T17:23:38.150982Z",
     "start_time": "2021-07-01T17:23:38.126044Z"
    }
   },
   "outputs": [
    {
     "data": {
      "text/plain": [
       "This punk has not been listed for sale by its owner.                8079\n",
       "This punk is currently for sale by owner for 140Ξ ($293,839).        190\n",
       "This punk is currently for sale by owner for 38.95Ξ ($83,588).       155\n",
       "This punk is currently for sale by owner for 125Ξ ($274,111).         59\n",
       "This punk is currently for sale by owner for 34.47Ξ ($73,073).        26\n",
       "                                                                    ... \n",
       "This punk is currently for sale by owner for 28Ξ ($63,110).            1\n",
       "This punk is currently for sale by owner for 33.98Ξ ($76,589).         1\n",
       "This punk is currently for sale by owner for 133.70Ξ ($283,334).       1\n",
       "This punk is currently for sale by owner for 39Ξ ($88,061).            1\n",
       "This punk is currently for sale by owner for 23.99Ξ ($52,038).         1\n",
       "Name: for_sale, Length: 1119, dtype: int64"
      ]
     },
     "execution_count": 8,
     "metadata": {},
     "output_type": "execute_result"
    }
   ],
   "source": [
    "df_1['for_sale'].value_counts()"
   ]
  },
  {
   "cell_type": "code",
   "execution_count": 9,
   "id": "6a52a6c1",
   "metadata": {
    "ExecuteTime": {
     "end_time": "2021-07-01T17:23:38.229770Z",
     "start_time": "2021-07-01T17:23:38.156962Z"
    }
   },
   "outputs": [],
   "source": [
    "df_1['for_sale'].replace({'This punk has not been listed for sale by its owner.':'No'}, regex=True, inplace=True)"
   ]
  },
  {
   "cell_type": "code",
   "execution_count": 10,
   "id": "f2c708ee",
   "metadata": {
    "ExecuteTime": {
     "end_time": "2021-07-01T17:23:38.275643Z",
     "start_time": "2021-07-01T17:23:38.235752Z"
    }
   },
   "outputs": [],
   "source": [
    "df_1['for_sale'].replace({'This punk is currently for sale by owner for ':''}, regex=True, inplace=True)"
   ]
  },
  {
   "cell_type": "code",
   "execution_count": 11,
   "id": "cecfda5c",
   "metadata": {
    "ExecuteTime": {
     "end_time": "2021-07-01T17:23:38.321291Z",
     "start_time": "2021-07-01T17:23:38.277640Z"
    }
   },
   "outputs": [],
   "source": [
    "df_1['for_sale'].replace({'\\.':''}, regex=True, inplace=True)"
   ]
  },
  {
   "cell_type": "markdown",
   "id": "fbe9869e",
   "metadata": {},
   "source": [
    "Separem els preus en dolars i ethereum en dues columnes noves:"
   ]
  },
  {
   "cell_type": "code",
   "execution_count": 12,
   "id": "f0f82a95",
   "metadata": {
    "ExecuteTime": {
     "end_time": "2021-07-01T17:23:38.399607Z",
     "start_time": "2021-07-01T17:23:38.323285Z"
    }
   },
   "outputs": [],
   "source": [
    "df_1[['price_eth','price_dolar']] = df_1['for_sale'].str.split(expand=True)"
   ]
  },
  {
   "cell_type": "code",
   "execution_count": 13,
   "id": "bd795df3",
   "metadata": {
    "ExecuteTime": {
     "end_time": "2021-07-01T17:23:38.446492Z",
     "start_time": "2021-07-01T17:23:38.401603Z"
    }
   },
   "outputs": [],
   "source": [
    "df_1['for_sale'].replace({'[^\"No\"]+':'Yes'}, regex=True, inplace=True)"
   ]
  },
  {
   "cell_type": "code",
   "execution_count": 14,
   "id": "defa0686",
   "metadata": {
    "ExecuteTime": {
     "end_time": "2021-07-01T17:23:38.462440Z",
     "start_time": "2021-07-01T17:23:38.450472Z"
    }
   },
   "outputs": [
    {
     "data": {
      "text/plain": [
       "No     8079\n",
       "Yes    1921\n",
       "Name: for_sale, dtype: int64"
      ]
     },
     "execution_count": 14,
     "metadata": {},
     "output_type": "execute_result"
    }
   ],
   "source": [
    "df_1['for_sale'].value_counts()"
   ]
  },
  {
   "cell_type": "code",
   "execution_count": 15,
   "id": "dade973a",
   "metadata": {
    "ExecuteTime": {
     "end_time": "2021-07-01T17:23:38.494354Z",
     "start_time": "2021-07-01T17:23:38.466430Z"
    }
   },
   "outputs": [
    {
     "data": {
      "text/plain": [
       "No     8079\n",
       "Yes    1921\n",
       "Name: for_sale, dtype: int64"
      ]
     },
     "execution_count": 15,
     "metadata": {},
     "output_type": "execute_result"
    }
   ],
   "source": [
    "df_1['for_sale'].value_counts()"
   ]
  },
  {
   "cell_type": "markdown",
   "id": "5043456e",
   "metadata": {},
   "source": [
    "Netegem els registres de Bids:"
   ]
  },
  {
   "cell_type": "code",
   "execution_count": 16,
   "id": "010f908f",
   "metadata": {
    "ExecuteTime": {
     "end_time": "2021-07-01T17:23:38.621022Z",
     "start_time": "2021-07-01T17:23:38.497346Z"
    }
   },
   "outputs": [],
   "source": [
    "df_1['are_bids'].replace({'There are currently no bids on this punk.':'No'}, regex=True, inplace=True)"
   ]
  },
  {
   "cell_type": "code",
   "execution_count": 17,
   "id": "aa3f8b3e",
   "metadata": {
    "ExecuteTime": {
     "end_time": "2021-07-01T17:23:38.667573Z",
     "start_time": "2021-07-01T17:23:38.623009Z"
    }
   },
   "outputs": [],
   "source": [
    "df_1['are_bids'].replace({'There is a bid of ':''}, regex=True, inplace=True)"
   ]
  },
  {
   "cell_type": "code",
   "execution_count": 18,
   "id": "0fb97bf9",
   "metadata": {
    "ExecuteTime": {
     "end_time": "2021-07-01T17:23:38.699480Z",
     "start_time": "2021-07-01T17:23:38.675550Z"
    }
   },
   "outputs": [
    {
     "data": {
      "text/plain": [
       "0                                              No\n",
       "1                                              No\n",
       "2        <0.01Ξ ($4) for this punk from 0x7f6498.\n",
       "3                                              No\n",
       "4                                              No\n",
       "                          ...                    \n",
       "9995                                           No\n",
       "9996                                           No\n",
       "9997                                           No\n",
       "9998                                           No\n",
       "9999    0.22Ξ ($489) for this punk from 0x20ed17.\n",
       "Name: are_bids, Length: 10000, dtype: object"
      ]
     },
     "execution_count": 18,
     "metadata": {},
     "output_type": "execute_result"
    }
   ],
   "source": [
    "df_1['are_bids']"
   ]
  },
  {
   "cell_type": "markdown",
   "id": "9f9625bd",
   "metadata": {},
   "source": [
    "Creem les columnes necessaries per incloure tota la informació de bids:"
   ]
  },
  {
   "cell_type": "code",
   "execution_count": 19,
   "id": "dabe3f9d",
   "metadata": {
    "ExecuteTime": {
     "end_time": "2021-07-01T17:23:38.715439Z",
     "start_time": "2021-07-01T17:23:38.704468Z"
    }
   },
   "outputs": [],
   "source": [
    "df_1['bids_price'] = df_1['are_bids']"
   ]
  },
  {
   "cell_type": "code",
   "execution_count": 20,
   "id": "3a805a6c",
   "metadata": {
    "ExecuteTime": {
     "end_time": "2021-07-01T17:23:38.746358Z",
     "start_time": "2021-07-01T17:23:38.719427Z"
    }
   },
   "outputs": [],
   "source": [
    "df_1['bids_placer'] = df_1['are_bids']"
   ]
  },
  {
   "cell_type": "code",
   "execution_count": 21,
   "id": "da986c41",
   "metadata": {
    "ExecuteTime": {
     "end_time": "2021-07-01T17:23:38.824202Z",
     "start_time": "2021-07-01T17:23:38.758329Z"
    }
   },
   "outputs": [],
   "source": [
    "df_1.loc[df_1['are_bids']!='No', 'are_bids'] = df_1.loc[df_1['are_bids']!='No']['are_bids'].replace({'\\w':'', '\\W':''}, regex=True)"
   ]
  },
  {
   "cell_type": "code",
   "execution_count": 22,
   "id": "92aca60c",
   "metadata": {
    "ExecuteTime": {
     "end_time": "2021-07-01T17:23:38.871384Z",
     "start_time": "2021-07-01T17:23:38.828191Z"
    }
   },
   "outputs": [],
   "source": [
    "df_1['are_bids'].replace({'':'Yes'}, regex=True, inplace=True)"
   ]
  },
  {
   "cell_type": "code",
   "execution_count": 23,
   "id": "d266fa68",
   "metadata": {
    "ExecuteTime": {
     "end_time": "2021-07-01T17:23:38.903297Z",
     "start_time": "2021-07-01T17:23:38.877370Z"
    }
   },
   "outputs": [
    {
     "data": {
      "text/plain": [
       "No     9108\n",
       "Yes     892\n",
       "Name: are_bids, dtype: int64"
      ]
     },
     "execution_count": 23,
     "metadata": {},
     "output_type": "execute_result"
    }
   ],
   "source": [
    "df_1['are_bids'].value_counts()"
   ]
  },
  {
   "cell_type": "markdown",
   "id": "c318137e",
   "metadata": {},
   "source": [
    "Netegem 'price_eth': FALTA SABER QUÈ FER AMB ELS FACTORIALS 'K', 'M' i 'Y' !"
   ]
  },
  {
   "cell_type": "code",
   "execution_count": 24,
   "id": "e6d88722",
   "metadata": {
    "ExecuteTime": {
     "end_time": "2021-07-01T17:23:38.950177Z",
     "start_time": "2021-07-01T17:23:38.907289Z"
    }
   },
   "outputs": [],
   "source": [
    "df_1['price_eth'].replace({'Ξ':''}, regex=True, inplace=True)"
   ]
  },
  {
   "cell_type": "code",
   "execution_count": 25,
   "id": "ba1f7f1e",
   "metadata": {
    "ExecuteTime": {
     "end_time": "2021-07-01T17:23:39.013289Z",
     "start_time": "2021-07-01T17:23:38.957156Z"
    }
   },
   "outputs": [],
   "source": [
    "df_1['price_eth'].replace({'No':'None'}, regex=True, inplace=True)"
   ]
  },
  {
   "cell_type": "markdown",
   "id": "6c2992b3",
   "metadata": {},
   "source": [
    "Netegem 'price_dolar':"
   ]
  },
  {
   "cell_type": "code",
   "execution_count": 26,
   "id": "d8d12c40",
   "metadata": {
    "ExecuteTime": {
     "end_time": "2021-07-01T17:23:39.060987Z",
     "start_time": "2021-07-01T17:23:39.017289Z"
    }
   },
   "outputs": [],
   "source": [
    "df_1['price_dolar'].replace({'\\(':'', '\\)':'', '\\$':'', ',':''}, regex=True, inplace=True)"
   ]
  },
  {
   "cell_type": "code",
   "execution_count": 27,
   "id": "d224faa7",
   "metadata": {
    "ExecuteTime": {
     "end_time": "2021-07-01T17:23:39.091911Z",
     "start_time": "2021-07-01T17:23:39.062989Z"
    }
   },
   "outputs": [
    {
     "data": {
      "text/plain": [
       "293839    190\n",
       "83588     155\n",
       "274111     59\n",
       "73073      26\n",
       "49918      23\n",
       "         ... \n",
       "37319       1\n",
       "442676      1\n",
       "201322      1\n",
       "119303      1\n",
       "70798       1\n",
       "Name: price_dolar, Length: 1107, dtype: int64"
      ]
     },
     "execution_count": 27,
     "metadata": {},
     "output_type": "execute_result"
    }
   ],
   "source": [
    "df_1.price_dolar.value_counts()"
   ]
  },
  {
   "cell_type": "code",
   "execution_count": 28,
   "id": "3f4c2ebb",
   "metadata": {
    "ExecuteTime": {
     "end_time": "2021-07-01T17:23:39.123840Z",
     "start_time": "2021-07-01T17:23:39.094914Z"
    }
   },
   "outputs": [],
   "source": [
    "df_1['dolar_factors'] = df_1['price_dolar'].str.extract(r'([a-zA-Z])')"
   ]
  },
  {
   "cell_type": "code",
   "execution_count": 29,
   "id": "3f134884",
   "metadata": {
    "ExecuteTime": {
     "end_time": "2021-07-01T17:23:39.171699Z",
     "start_time": "2021-07-01T17:23:39.128814Z"
    }
   },
   "outputs": [],
   "source": [
    "df_1['eth_factors'] = df_1['price_eth'].str.extract(r'([a-zA-Z])')"
   ]
  },
  {
   "cell_type": "code",
   "execution_count": 30,
   "id": "f10debba",
   "metadata": {
    "ExecuteTime": {
     "end_time": "2021-07-01T17:23:39.211592Z",
     "start_time": "2021-07-01T17:23:39.176700Z"
    }
   },
   "outputs": [
    {
     "data": {
      "text/plain": [
       "N    8079\n",
       "K      44\n",
       "Y      20\n",
       "M       1\n",
       "Name: eth_factors, dtype: int64"
      ]
     },
     "execution_count": 30,
     "metadata": {},
     "output_type": "execute_result"
    }
   ],
   "source": [
    "df_1['eth_factors'].value_counts()"
   ]
  },
  {
   "cell_type": "code",
   "execution_count": 31,
   "id": "86511bd5",
   "metadata": {
    "ExecuteTime": {
     "end_time": "2021-07-01T17:23:39.234532Z",
     "start_time": "2021-07-01T17:23:39.218572Z"
    }
   },
   "outputs": [
    {
     "data": {
      "text/plain": [
       "M    114\n",
       "Y     20\n",
       "B      1\n",
       "Name: dolar_factors, dtype: int64"
      ]
     },
     "execution_count": 31,
     "metadata": {},
     "output_type": "execute_result"
    }
   ],
   "source": [
    "df_1['dolar_factors'].value_counts()"
   ]
  },
  {
   "cell_type": "markdown",
   "id": "5d60335f",
   "metadata": {},
   "source": [
    "Mirar com fer l'split amb els nuls, només per les files que hi ha info dels preus i els propietaris. --> Fer l'split manualment."
   ]
  },
  {
   "cell_type": "code",
   "execution_count": 32,
   "id": "b27c34f2",
   "metadata": {
    "ExecuteTime": {
     "end_time": "2021-07-01T17:23:39.282414Z",
     "start_time": "2021-07-01T17:23:39.237523Z"
    }
   },
   "outputs": [],
   "source": [
    "df_1['bids_price'].replace({'<':''}, regex=True, inplace=True)"
   ]
  },
  {
   "cell_type": "code",
   "execution_count": 49,
   "id": "2756457f",
   "metadata": {
    "ExecuteTime": {
     "end_time": "2021-07-01T17:34:27.377740Z",
     "start_time": "2021-07-01T17:34:27.356830Z"
    }
   },
   "outputs": [],
   "source": [
    "df_1['bids_dolars'] = df_1['bids_price'].str.extract(r'(\\$\\d+(\\,\\d+)?[a-zA-Z]?)')"
   ]
  },
  {
   "cell_type": "code",
   "execution_count": 51,
   "id": "2e83f763",
   "metadata": {
    "ExecuteTime": {
     "end_time": "2021-07-01T17:34:46.127876Z",
     "start_time": "2021-07-01T17:34:46.100912Z"
    }
   },
   "outputs": [],
   "source": [
    "df_1['bids_dolars'].replace({'$':''}, regex=True, inplace=True)"
   ]
  },
  {
   "cell_type": "code",
   "execution_count": 107,
   "id": "414e53fb",
   "metadata": {
    "ExecuteTime": {
     "end_time": "2021-07-01T18:43:56.643668Z",
     "start_time": "2021-07-01T18:43:56.597757Z"
    }
   },
   "outputs": [
    {
     "data": {
      "text/html": [
       "<div>\n",
       "<style scoped>\n",
       "    .dataframe tbody tr th:only-of-type {\n",
       "        vertical-align: middle;\n",
       "    }\n",
       "\n",
       "    .dataframe tbody tr th {\n",
       "        vertical-align: top;\n",
       "    }\n",
       "\n",
       "    .dataframe thead th {\n",
       "        text-align: right;\n",
       "    }\n",
       "</style>\n",
       "<table border=\"1\" class=\"dataframe\">\n",
       "  <thead>\n",
       "    <tr style=\"text-align: right;\">\n",
       "      <th></th>\n",
       "      <th>cryptopunk_number</th>\n",
       "      <th>owner</th>\n",
       "      <th>for_sale</th>\n",
       "      <th>are_bids</th>\n",
       "      <th>price_eth</th>\n",
       "      <th>price_dolar</th>\n",
       "      <th>bids_price</th>\n",
       "      <th>bids_placer</th>\n",
       "      <th>dolar_factors</th>\n",
       "      <th>eth_factors</th>\n",
       "      <th>bids_dolars</th>\n",
       "      <th>bids_eth</th>\n",
       "    </tr>\n",
       "  </thead>\n",
       "  <tbody>\n",
       "    <tr>\n",
       "      <th>0</th>\n",
       "      <td>0</td>\n",
       "      <td>0xe08c32</td>\n",
       "      <td>No</td>\n",
       "      <td>No</td>\n",
       "      <td>None</td>\n",
       "      <td>None</td>\n",
       "      <td>No</td>\n",
       "      <td>NaN</td>\n",
       "      <td>NaN</td>\n",
       "      <td>N</td>\n",
       "      <td>NaN</td>\n",
       "      <td>NaN</td>\n",
       "    </tr>\n",
       "    <tr>\n",
       "      <th>1</th>\n",
       "      <td>1</td>\n",
       "      <td>0xb88f61</td>\n",
       "      <td>No</td>\n",
       "      <td>No</td>\n",
       "      <td>None</td>\n",
       "      <td>None</td>\n",
       "      <td>No</td>\n",
       "      <td>NaN</td>\n",
       "      <td>NaN</td>\n",
       "      <td>N</td>\n",
       "      <td>NaN</td>\n",
       "      <td>NaN</td>\n",
       "    </tr>\n",
       "    <tr>\n",
       "      <th>2</th>\n",
       "      <td>2</td>\n",
       "      <td>0x897aea</td>\n",
       "      <td>No</td>\n",
       "      <td>Yes</td>\n",
       "      <td>None</td>\n",
       "      <td>None</td>\n",
       "      <td>0.01Ξ ($4) for this punk from 0x7f6498.</td>\n",
       "      <td>from 0x7f6498</td>\n",
       "      <td>NaN</td>\n",
       "      <td>N</td>\n",
       "      <td>$4</td>\n",
       "      <td>.01</td>\n",
       "    </tr>\n",
       "    <tr>\n",
       "      <th>3</th>\n",
       "      <td>3</td>\n",
       "      <td>0xc352b5</td>\n",
       "      <td>No</td>\n",
       "      <td>No</td>\n",
       "      <td>None</td>\n",
       "      <td>None</td>\n",
       "      <td>No</td>\n",
       "      <td>NaN</td>\n",
       "      <td>NaN</td>\n",
       "      <td>N</td>\n",
       "      <td>NaN</td>\n",
       "      <td>NaN</td>\n",
       "    </tr>\n",
       "    <tr>\n",
       "      <th>4</th>\n",
       "      <td>4</td>\n",
       "      <td>0xc352b5</td>\n",
       "      <td>No</td>\n",
       "      <td>No</td>\n",
       "      <td>None</td>\n",
       "      <td>None</td>\n",
       "      <td>No</td>\n",
       "      <td>NaN</td>\n",
       "      <td>NaN</td>\n",
       "      <td>N</td>\n",
       "      <td>NaN</td>\n",
       "      <td>NaN</td>\n",
       "    </tr>\n",
       "    <tr>\n",
       "      <th>...</th>\n",
       "      <td>...</td>\n",
       "      <td>...</td>\n",
       "      <td>...</td>\n",
       "      <td>...</td>\n",
       "      <td>...</td>\n",
       "      <td>...</td>\n",
       "      <td>...</td>\n",
       "      <td>...</td>\n",
       "      <td>...</td>\n",
       "      <td>...</td>\n",
       "      <td>...</td>\n",
       "      <td>...</td>\n",
       "    </tr>\n",
       "    <tr>\n",
       "      <th>9995</th>\n",
       "      <td>9995</td>\n",
       "      <td>0x758353</td>\n",
       "      <td>No</td>\n",
       "      <td>No</td>\n",
       "      <td>None</td>\n",
       "      <td>None</td>\n",
       "      <td>No</td>\n",
       "      <td>NaN</td>\n",
       "      <td>NaN</td>\n",
       "      <td>N</td>\n",
       "      <td>NaN</td>\n",
       "      <td>NaN</td>\n",
       "    </tr>\n",
       "    <tr>\n",
       "      <th>9996</th>\n",
       "      <td>9996</td>\n",
       "      <td>0xa9bfa9</td>\n",
       "      <td>No</td>\n",
       "      <td>No</td>\n",
       "      <td>None</td>\n",
       "      <td>None</td>\n",
       "      <td>No</td>\n",
       "      <td>NaN</td>\n",
       "      <td>NaN</td>\n",
       "      <td>N</td>\n",
       "      <td>NaN</td>\n",
       "      <td>NaN</td>\n",
       "    </tr>\n",
       "    <tr>\n",
       "      <th>9997</th>\n",
       "      <td>9997</td>\n",
       "      <td>0x279679</td>\n",
       "      <td>Yes</td>\n",
       "      <td>No</td>\n",
       "      <td>450</td>\n",
       "      <td>991742</td>\n",
       "      <td>No</td>\n",
       "      <td>NaN</td>\n",
       "      <td>NaN</td>\n",
       "      <td>NaN</td>\n",
       "      <td>NaN</td>\n",
       "      <td>NaN</td>\n",
       "    </tr>\n",
       "    <tr>\n",
       "      <th>9998</th>\n",
       "      <td>9998</td>\n",
       "      <td>0xcfd9cc</td>\n",
       "      <td>No</td>\n",
       "      <td>No</td>\n",
       "      <td>None</td>\n",
       "      <td>None</td>\n",
       "      <td>No</td>\n",
       "      <td>NaN</td>\n",
       "      <td>NaN</td>\n",
       "      <td>N</td>\n",
       "      <td>NaN</td>\n",
       "      <td>NaN</td>\n",
       "    </tr>\n",
       "    <tr>\n",
       "      <th>9999</th>\n",
       "      <td>9999</td>\n",
       "      <td>punk9999…</td>\n",
       "      <td>No</td>\n",
       "      <td>Yes</td>\n",
       "      <td>None</td>\n",
       "      <td>None</td>\n",
       "      <td>0.22Ξ ($489) for this punk from 0x20ed17.</td>\n",
       "      <td>from 0x20ed17</td>\n",
       "      <td>NaN</td>\n",
       "      <td>N</td>\n",
       "      <td>$489</td>\n",
       "      <td>.22</td>\n",
       "    </tr>\n",
       "  </tbody>\n",
       "</table>\n",
       "<p>10000 rows × 12 columns</p>\n",
       "</div>"
      ],
      "text/plain": [
       "      cryptopunk_number       owner for_sale are_bids price_eth price_dolar                                 bids_price    bids_placer dolar_factors eth_factors bids_dolars bids_eth\n",
       "0                     0    0xe08c32       No       No      None        None                                         No            NaN           NaN           N         NaN      NaN\n",
       "1                     1    0xb88f61       No       No      None        None                                         No            NaN           NaN           N         NaN      NaN\n",
       "2                     2    0x897aea       No      Yes      None        None    0.01Ξ ($4) for this punk from 0x7f6498.  from 0x7f6498           NaN           N          $4      .01\n",
       "3                     3    0xc352b5       No       No      None        None                                         No            NaN           NaN           N         NaN      NaN\n",
       "4                     4    0xc352b5       No       No      None        None                                         No            NaN           NaN           N         NaN      NaN\n",
       "...                 ...         ...      ...      ...       ...         ...                                        ...            ...           ...         ...         ...      ...\n",
       "9995               9995    0x758353       No       No      None        None                                         No            NaN           NaN           N         NaN      NaN\n",
       "9996               9996    0xa9bfa9       No       No      None        None                                         No            NaN           NaN           N         NaN      NaN\n",
       "9997               9997    0x279679      Yes       No       450      991742                                         No            NaN           NaN         NaN         NaN      NaN\n",
       "9998               9998    0xcfd9cc       No       No      None        None                                         No            NaN           NaN           N         NaN      NaN\n",
       "9999               9999   punk9999…       No      Yes      None        None  0.22Ξ ($489) for this punk from 0x20ed17.  from 0x20ed17           NaN           N        $489      .22\n",
       "\n",
       "[10000 rows x 12 columns]"
      ]
     },
     "execution_count": 107,
     "metadata": {},
     "output_type": "execute_result"
    }
   ],
   "source": [
    "df_1"
   ]
  },
  {
   "cell_type": "code",
   "execution_count": 82,
   "id": "8b6b5bac",
   "metadata": {
    "ExecuteTime": {
     "end_time": "2021-07-01T17:45:27.073869Z",
     "start_time": "2021-07-01T17:45:27.049935Z"
    }
   },
   "outputs": [],
   "source": [
    "# Comprovar que no hagi deixat fora els factors i les comes. Perquè no agafo el número enter?\n",
    "df_1['bids_eth'] = df_1['bids_price'].str.extract(r'\\d+(\\.\\d+)?')"
   ]
  },
  {
   "cell_type": "code",
   "execution_count": null,
   "id": "e3e244bc",
   "metadata": {
    "ExecuteTime": {
     "end_time": "2021-07-01T17:23:39.751792Z",
     "start_time": "2021-07-01T17:23:37.087Z"
    }
   },
   "outputs": [],
   "source": [
    "df_1['bids_eth'].replace({'Ξ':''}, regex=True, inplace=True)"
   ]
  },
  {
   "cell_type": "code",
   "execution_count": 106,
   "id": "d6ad50ea",
   "metadata": {
    "ExecuteTime": {
     "end_time": "2021-07-01T18:43:52.689470Z",
     "start_time": "2021-07-01T18:43:52.656569Z"
    }
   },
   "outputs": [],
   "source": [
    "df_1['bids_placer'] = df_1['bids_price'].str.extract(r'(from\\s\\w+)')"
   ]
  },
  {
   "cell_type": "code",
   "execution_count": null,
   "id": "2435f95d",
   "metadata": {
    "ExecuteTime": {
     "end_time": "2021-07-01T17:23:39.755783Z",
     "start_time": "2021-07-01T17:23:37.092Z"
    }
   },
   "outputs": [],
   "source": [
    "# df_1.drop('bids_price', axis=1, inplace=True)"
   ]
  },
  {
   "cell_type": "code",
   "execution_count": null,
   "id": "2e8ecbc0",
   "metadata": {
    "ExecuteTime": {
     "end_time": "2021-07-01T17:23:39.760769Z",
     "start_time": "2021-07-01T17:23:37.097Z"
    }
   },
   "outputs": [],
   "source": [
    "# acabar de definir l'ordre\n",
    "df_1 = df_1[['cryptopunk_number', 'owner', 'for_sale', 'price_dolar','dolar_factors', 'price_eth', 'eth_factors', 'are_bids', \n",
    "             'bids_placer', 'bids_dolars', 'bids_dolars_factors','bids_eth', 'bids_eth_factors']]"
   ]
  },
  {
   "cell_type": "markdown",
   "id": "c90cda12",
   "metadata": {},
   "source": [
    "### TXN_TOTAL"
   ]
  },
  {
   "cell_type": "code",
   "execution_count": 88,
   "id": "3c3f75d1",
   "metadata": {
    "ExecuteTime": {
     "end_time": "2021-07-01T18:40:15.411837Z",
     "start_time": "2021-07-01T18:40:15.118236Z"
    }
   },
   "outputs": [],
   "source": [
    "df_2 = pd.read_csv('TXN_TOTAL.csv')"
   ]
  },
  {
   "cell_type": "code",
   "execution_count": 89,
   "id": "c84826c0",
   "metadata": {
    "ExecuteTime": {
     "end_time": "2021-07-01T18:40:15.569388Z",
     "start_time": "2021-07-01T18:40:15.542458Z"
    }
   },
   "outputs": [
    {
     "data": {
      "text/html": [
       "<div>\n",
       "<style scoped>\n",
       "    .dataframe tbody tr th:only-of-type {\n",
       "        vertical-align: middle;\n",
       "    }\n",
       "\n",
       "    .dataframe tbody tr th {\n",
       "        vertical-align: top;\n",
       "    }\n",
       "\n",
       "    .dataframe thead th {\n",
       "        text-align: right;\n",
       "    }\n",
       "</style>\n",
       "<table border=\"1\" class=\"dataframe\">\n",
       "  <thead>\n",
       "    <tr style=\"text-align: right;\">\n",
       "      <th></th>\n",
       "      <th>Unnamed: 0</th>\n",
       "      <th>Unnamed: 0.1</th>\n",
       "      <th>txn_type</th>\n",
       "      <th>from</th>\n",
       "      <th>to</th>\n",
       "      <th>amount</th>\n",
       "      <th>txn_date</th>\n",
       "      <th>cryptopunk_number</th>\n",
       "    </tr>\n",
       "  </thead>\n",
       "  <tbody>\n",
       "    <tr>\n",
       "      <th>0</th>\n",
       "      <td>0</td>\n",
       "      <td>0</td>\n",
       "      <td>0</td>\n",
       "      <td>NaN</td>\n",
       "      <td>NaN</td>\n",
       "      <td>NaN</td>\n",
       "      <td>NaN</td>\n",
       "      <td>NaN</td>\n",
       "    </tr>\n",
       "    <tr>\n",
       "      <th>1</th>\n",
       "      <td>1</td>\n",
       "      <td>1</td>\n",
       "      <td>Bid Withdrawn</td>\n",
       "      <td>0x983ace</td>\n",
       "      <td>NaN</td>\n",
       "      <td>250Ξ ($1.03M)</td>\n",
       "      <td>May 10, 2021</td>\n",
       "      <td>0.0</td>\n",
       "    </tr>\n",
       "    <tr>\n",
       "      <th>2</th>\n",
       "      <td>2</td>\n",
       "      <td>2</td>\n",
       "      <td>Bid</td>\n",
       "      <td>0x983ace</td>\n",
       "      <td>NaN</td>\n",
       "      <td>250Ξ ($537,615)</td>\n",
       "      <td>Apr 11, 2021</td>\n",
       "      <td>0.0</td>\n",
       "    </tr>\n",
       "    <tr>\n",
       "      <th>3</th>\n",
       "      <td>3</td>\n",
       "      <td>3</td>\n",
       "      <td>Bid Withdrawn</td>\n",
       "      <td>0xd7510a</td>\n",
       "      <td>NaN</td>\n",
       "      <td>100Ξ ($160,973)</td>\n",
       "      <td>Mar 03, 2021</td>\n",
       "      <td>0.0</td>\n",
       "    </tr>\n",
       "    <tr>\n",
       "      <th>4</th>\n",
       "      <td>4</td>\n",
       "      <td>4</td>\n",
       "      <td>Bid</td>\n",
       "      <td>0xd7510a</td>\n",
       "      <td>NaN</td>\n",
       "      <td>100Ξ ($188,897)</td>\n",
       "      <td>Feb 20, 2021</td>\n",
       "      <td>0.0</td>\n",
       "    </tr>\n",
       "    <tr>\n",
       "      <th>...</th>\n",
       "      <td>...</td>\n",
       "      <td>...</td>\n",
       "      <td>...</td>\n",
       "      <td>...</td>\n",
       "      <td>...</td>\n",
       "      <td>...</td>\n",
       "      <td>...</td>\n",
       "      <td>...</td>\n",
       "    </tr>\n",
       "    <tr>\n",
       "      <th>133269</th>\n",
       "      <td>133269</td>\n",
       "      <td>70605</td>\n",
       "      <td>Bid</td>\n",
       "      <td>0xa0a59c</td>\n",
       "      <td>NaN</td>\n",
       "      <td>0.25Ξ ($69)</td>\n",
       "      <td>Jul 03, 2017</td>\n",
       "      <td>9999.0</td>\n",
       "    </tr>\n",
       "    <tr>\n",
       "      <th>133270</th>\n",
       "      <td>133270</td>\n",
       "      <td>70606</td>\n",
       "      <td>Bid</td>\n",
       "      <td>0x717403</td>\n",
       "      <td>NaN</td>\n",
       "      <td>0.20Ξ ($51)</td>\n",
       "      <td>Jun 26, 2017</td>\n",
       "      <td>9999.0</td>\n",
       "    </tr>\n",
       "    <tr>\n",
       "      <th>133271</th>\n",
       "      <td>133271</td>\n",
       "      <td>70607</td>\n",
       "      <td>Bid</td>\n",
       "      <td>ddaavvee</td>\n",
       "      <td>NaN</td>\n",
       "      <td>0.20Ξ ($65)</td>\n",
       "      <td>Jun 23, 2017</td>\n",
       "      <td>9999.0</td>\n",
       "    </tr>\n",
       "    <tr>\n",
       "      <th>133272</th>\n",
       "      <td>133272</td>\n",
       "      <td>70608</td>\n",
       "      <td>Bid</td>\n",
       "      <td>0x5b098b</td>\n",
       "      <td>NaN</td>\n",
       "      <td>0.15Ξ ($50)</td>\n",
       "      <td>Jun 23, 2017</td>\n",
       "      <td>9999.0</td>\n",
       "    </tr>\n",
       "    <tr>\n",
       "      <th>133273</th>\n",
       "      <td>133273</td>\n",
       "      <td>70609</td>\n",
       "      <td>Claimed</td>\n",
       "      <td>NaN</td>\n",
       "      <td>0x7e2d1c</td>\n",
       "      <td>NaN</td>\n",
       "      <td>Jun 23, 2017</td>\n",
       "      <td>9999.0</td>\n",
       "    </tr>\n",
       "  </tbody>\n",
       "</table>\n",
       "<p>133274 rows × 8 columns</p>\n",
       "</div>"
      ],
      "text/plain": [
       "        Unnamed: 0  Unnamed: 0.1       txn_type      from        to           amount      txn_date  cryptopunk_number\n",
       "0                0             0              0       NaN       NaN              NaN           NaN                NaN\n",
       "1                1             1  Bid Withdrawn  0x983ace       NaN    250Ξ ($1.03M)  May 10, 2021                0.0\n",
       "2                2             2            Bid  0x983ace       NaN  250Ξ ($537,615)  Apr 11, 2021                0.0\n",
       "3                3             3  Bid Withdrawn  0xd7510a       NaN  100Ξ ($160,973)  Mar 03, 2021                0.0\n",
       "4                4             4            Bid  0xd7510a       NaN  100Ξ ($188,897)  Feb 20, 2021                0.0\n",
       "...            ...           ...            ...       ...       ...              ...           ...                ...\n",
       "133269      133269         70605            Bid  0xa0a59c       NaN      0.25Ξ ($69)  Jul 03, 2017             9999.0\n",
       "133270      133270         70606            Bid  0x717403       NaN      0.20Ξ ($51)  Jun 26, 2017             9999.0\n",
       "133271      133271         70607            Bid  ddaavvee       NaN      0.20Ξ ($65)  Jun 23, 2017             9999.0\n",
       "133272      133272         70608            Bid  0x5b098b       NaN      0.15Ξ ($50)  Jun 23, 2017             9999.0\n",
       "133273      133273         70609        Claimed       NaN  0x7e2d1c              NaN  Jun 23, 2017             9999.0\n",
       "\n",
       "[133274 rows x 8 columns]"
      ]
     },
     "execution_count": 89,
     "metadata": {},
     "output_type": "execute_result"
    }
   ],
   "source": [
    "df_2"
   ]
  },
  {
   "cell_type": "code",
   "execution_count": 90,
   "id": "046bf25b",
   "metadata": {
    "ExecuteTime": {
     "end_time": "2021-07-01T18:40:16.466699Z",
     "start_time": "2021-07-01T18:40:16.444726Z"
    }
   },
   "outputs": [],
   "source": [
    "df_2.drop(['Unnamed: 0', 'Unnamed: 0.1'], axis=1, inplace=True)"
   ]
  },
  {
   "cell_type": "code",
   "execution_count": 118,
   "id": "8104a716",
   "metadata": {
    "ExecuteTime": {
     "end_time": "2021-07-01T18:48:33.799751Z",
     "start_time": "2021-07-01T18:48:33.768793Z"
    }
   },
   "outputs": [],
   "source": [
    "df_2.drop(0, inplace=True)"
   ]
  },
  {
   "cell_type": "code",
   "execution_count": 119,
   "id": "8ce17077",
   "metadata": {
    "ExecuteTime": {
     "end_time": "2021-07-01T18:48:37.158857Z",
     "start_time": "2021-07-01T18:48:37.115977Z"
    }
   },
   "outputs": [
    {
     "data": {
      "text/plain": [
       "Offered            43487\n",
       "Bid                21934\n",
       "Sold               13848\n",
       "Bid Withdrawn      12429\n",
       "Transfer           10687\n",
       "Claimed            10000\n",
       "Offer Withdrawn     6534\n",
       "(Wrap)              2297\n",
       "(Unwrap)            2058\n",
       "7068                   1\n",
       "Name: txn_type, dtype: int64"
      ]
     },
     "execution_count": 119,
     "metadata": {},
     "output_type": "execute_result"
    }
   ],
   "source": [
    "df_2.txn_type.value_counts().head(10)"
   ]
  },
  {
   "cell_type": "code",
   "execution_count": 120,
   "id": "23a75feb",
   "metadata": {
    "ExecuteTime": {
     "end_time": "2021-07-01T18:48:39.119320Z",
     "start_time": "2021-07-01T18:48:39.084412Z"
    }
   },
   "outputs": [
    {
     "data": {
      "text/plain": [
       "Pranksy      0.036220\n",
       "WrappedC…    0.032536\n",
       "0x717403     0.032520\n",
       "Hemba        0.019430\n",
       "0x7760e0     0.017090\n",
       "               ...   \n",
       "0xa2af28…    0.000016\n",
       "0xece772     0.000016\n",
       "0x60385b     0.000016\n",
       "0x143418     0.000016\n",
       "0x15547b     0.000016\n",
       "Name: from, Length: 4052, dtype: float64"
      ]
     },
     "execution_count": 120,
     "metadata": {},
     "output_type": "execute_result"
    }
   ],
   "source": [
    "df_2['from'].value_counts(normalize=True)"
   ]
  },
  {
   "cell_type": "code",
   "execution_count": 121,
   "id": "bd42b8e2",
   "metadata": {
    "ExecuteTime": {
     "end_time": "2021-07-01T18:48:40.468735Z",
     "start_time": "2021-07-01T18:48:40.430841Z"
    }
   },
   "outputs": [
    {
     "data": {
      "text/plain": [
       "WrappedC…    0.058542\n",
       "0xc352b5     0.027219\n",
       "Hemba        0.024874\n",
       "0x00d7c9     0.023549\n",
       "Pranksy      0.018834\n",
       "               ...   \n",
       "0x3db26e     0.000025\n",
       "0xcc72f7     0.000025\n",
       "0x3d19c5     0.000025\n",
       "0xbdeef4     0.000025\n",
       "0x59fe45     0.000025\n",
       "Name: to, Length: 4343, dtype: float64"
      ]
     },
     "execution_count": 121,
     "metadata": {},
     "output_type": "execute_result"
    }
   ],
   "source": [
    "df_2['to'].value_counts(normalize=True)"
   ]
  },
  {
   "cell_type": "code",
   "execution_count": 122,
   "id": "c8f36ff4",
   "metadata": {
    "ExecuteTime": {
     "end_time": "2021-07-01T18:48:41.039230Z",
     "start_time": "2021-07-01T18:48:40.928721Z"
    }
   },
   "outputs": [
    {
     "data": {
      "text/plain": [
       "0.05Ξ ($14)         1025\n",
       "0.05Ξ ($13)          800\n",
       "<0.01Ξ ($<0.01)      657\n",
       "0.05Ξ ($16)          569\n",
       "0.03Ξ ($10)          387\n",
       "                    ... \n",
       "52Ξ ($116,474)         1\n",
       "125Ξ ($262,280)        1\n",
       "24.49Ξ ($86,405)       1\n",
       "41.50Ξ ($76,807)       1\n",
       "31Ξ ($106,010)         1\n",
       "Name: amount, Length: 52622, dtype: int64"
      ]
     },
     "execution_count": 122,
     "metadata": {},
     "output_type": "execute_result"
    }
   ],
   "source": [
    "df_2['amount'].value_counts()"
   ]
  },
  {
   "cell_type": "code",
   "execution_count": 124,
   "id": "92519e18",
   "metadata": {
    "ExecuteTime": {
     "end_time": "2021-07-01T18:49:07.462997Z",
     "start_time": "2021-07-01T18:49:07.426099Z"
    }
   },
   "outputs": [
    {
     "data": {
      "text/plain": [
       "Jun 23, 2017    10452\n",
       "May 03, 2021     1635\n",
       "Mar 28, 2021     1287\n",
       "Sep 28, 2020     1193\n",
       "Feb 21, 2021     1117\n",
       "                ...  \n",
       "Sep 07, 2019        1\n",
       "Apr 03, 2019        1\n",
       "Nov 08, 2017        1\n",
       "Jan 30, 2018        1\n",
       "Mar 28, 2020        1\n",
       "Name: txn_date, Length: 1367, dtype: int64"
      ]
     },
     "execution_count": 124,
     "metadata": {},
     "output_type": "execute_result"
    }
   ],
   "source": [
    "df_2['txn_date'].value_counts()"
   ]
  },
  {
   "cell_type": "code",
   "execution_count": 125,
   "id": "cc12b354",
   "metadata": {
    "ExecuteTime": {
     "end_time": "2021-07-01T18:49:38.196299Z",
     "start_time": "2021-07-01T18:49:38.159399Z"
    }
   },
   "outputs": [
    {
     "data": {
      "text/plain": [
       "3914.0    111\n",
       "6704.0    104\n",
       "1737.0    102\n",
       "7421.0    102\n",
       "8951.0     99\n",
       "         ... \n",
       "8496.0      1\n",
       "2171.0      1\n",
       "2797.0      1\n",
       "4981.0      1\n",
       "5459.0      1\n",
       "Name: cryptopunk_number, Length: 10000, dtype: int64"
      ]
     },
     "execution_count": 125,
     "metadata": {},
     "output_type": "execute_result"
    }
   ],
   "source": [
    "df_2['cryptopunk_number'].value_counts()"
   ]
  },
  {
   "cell_type": "code",
   "execution_count": 126,
   "id": "7efbb7dd",
   "metadata": {
    "ExecuteTime": {
     "end_time": "2021-07-01T18:50:03.989342Z",
     "start_time": "2021-07-01T18:50:03.969403Z"
    }
   },
   "outputs": [
    {
     "data": {
      "text/plain": [
       "Index(['txn_type', 'from', 'to', 'amount', 'txn_date', 'cryptopunk_number'], dtype='object')"
      ]
     },
     "execution_count": 126,
     "metadata": {},
     "output_type": "execute_result"
    }
   ],
   "source": [
    "df_2.columns"
   ]
  },
  {
   "cell_type": "code",
   "execution_count": 127,
   "id": "ba32e849",
   "metadata": {
    "ExecuteTime": {
     "end_time": "2021-07-01T18:50:22.963278Z",
     "start_time": "2021-07-01T18:50:22.946288Z"
    }
   },
   "outputs": [],
   "source": [
    "df_2 = df_2[['cryptopunk_number','txn_type', 'from', 'to', 'amount', 'txn_date']]"
   ]
  },
  {
   "cell_type": "code",
   "execution_count": 135,
   "id": "353aefc3",
   "metadata": {
    "ExecuteTime": {
     "end_time": "2021-07-01T18:57:20.543436Z",
     "start_time": "2021-07-01T18:57:20.479747Z"
    }
   },
   "outputs": [
    {
     "name": "stdout",
     "output_type": "stream",
     "text": [
      "<class 'pandas.core.frame.DataFrame'>\n",
      "Int64Index: 133273 entries, 1 to 133273\n",
      "Data columns (total 6 columns):\n",
      " #   Column             Non-Null Count   Dtype         \n",
      "---  ------             --------------   -----         \n",
      " 0   cryptopunk_number  123274 non-null  float64       \n",
      " 1   txn_type           133273 non-null  object        \n",
      " 2   from               63253 non-null   object        \n",
      " 3   to                 39237 non-null   object        \n",
      " 4   amount             91698 non-null   object        \n",
      " 5   txn_date           123274 non-null  datetime64[ns]\n",
      "dtypes: datetime64[ns](1), float64(1), object(4)\n",
      "memory usage: 7.1+ MB\n"
     ]
    }
   ],
   "source": [
    "df_2.info()"
   ]
  },
  {
   "cell_type": "markdown",
   "id": "781aeec3",
   "metadata": {},
   "source": [
    "Hi ha un nul per cada cryptopunk:"
   ]
  },
  {
   "cell_type": "code",
   "execution_count": 132,
   "id": "aa8776df",
   "metadata": {
    "ExecuteTime": {
     "end_time": "2021-07-01T18:51:20.469901Z",
     "start_time": "2021-07-01T18:51:20.461923Z"
    }
   },
   "outputs": [
    {
     "data": {
      "text/plain": [
       "9999"
      ]
     },
     "execution_count": 132,
     "metadata": {},
     "output_type": "execute_result"
    }
   ],
   "source": [
    "df_2['cryptopunk_number'].isna().sum()"
   ]
  },
  {
   "cell_type": "code",
   "execution_count": 134,
   "id": "9c022921",
   "metadata": {
    "ExecuteTime": {
     "end_time": "2021-07-01T18:57:15.008429Z",
     "start_time": "2021-07-01T18:57:14.770642Z"
    }
   },
   "outputs": [],
   "source": [
    "df_2[\"txn_date\"]= pd.to_datetime(df_2[\"txn_date\"])"
   ]
  },
  {
   "cell_type": "code",
   "execution_count": 136,
   "id": "1c560a4a",
   "metadata": {
    "ExecuteTime": {
     "end_time": "2021-07-01T18:57:35.836275Z",
     "start_time": "2021-07-01T18:57:35.812336Z"
    }
   },
   "outputs": [
    {
     "data": {
      "text/plain": [
       "2017-06-23    10452\n",
       "2021-05-03     1635\n",
       "2021-03-28     1287\n",
       "2020-09-28     1193\n",
       "2021-02-21     1117\n",
       "              ...  \n",
       "2017-10-22        1\n",
       "2019-11-17        1\n",
       "2020-07-18        1\n",
       "2018-08-14        1\n",
       "2018-07-17        1\n",
       "Name: txn_date, Length: 1367, dtype: int64"
      ]
     },
     "execution_count": 136,
     "metadata": {},
     "output_type": "execute_result"
    }
   ],
   "source": [
    "df_2['txn_date'].value_counts()"
   ]
  },
  {
   "cell_type": "code",
   "execution_count": 137,
   "id": "c2bc56d3",
   "metadata": {
    "ExecuteTime": {
     "end_time": "2021-07-01T18:58:04.417054Z",
     "start_time": "2021-07-01T18:58:04.368189Z"
    }
   },
   "outputs": [
    {
     "data": {
      "text/plain": [
       "cryptopunk_number     9999\n",
       "txn_type                 0\n",
       "from                 70020\n",
       "to                   94036\n",
       "amount               41575\n",
       "txn_date              9999\n",
       "dtype: int64"
      ]
     },
     "execution_count": 137,
     "metadata": {},
     "output_type": "execute_result"
    }
   ],
   "source": [
    "df_2.isna().sum()"
   ]
  },
  {
   "cell_type": "markdown",
   "id": "ef5b6f06",
   "metadata": {},
   "source": [
    "Veiem que al final de cada crypto punk hi ha una fila de barrera on els valors son nulls. Les busquem totes i les eliminem:"
   ]
  },
  {
   "cell_type": "code",
   "execution_count": 156,
   "id": "abcfc197",
   "metadata": {
    "ExecuteTime": {
     "end_time": "2021-07-01T19:02:08.629700Z",
     "start_time": "2021-07-01T19:02:08.622716Z"
    }
   },
   "outputs": [],
   "source": [
    "i = df_2['cryptopunk_number'].isna()"
   ]
  },
  {
   "cell_type": "code",
   "execution_count": 161,
   "id": "75be8e52",
   "metadata": {
    "ExecuteTime": {
     "end_time": "2021-07-01T19:02:45.911887Z",
     "start_time": "2021-07-01T19:02:45.900921Z"
    }
   },
   "outputs": [],
   "source": [
    "i = df_2[i].index"
   ]
  },
  {
   "cell_type": "code",
   "execution_count": 163,
   "id": "01db31f4",
   "metadata": {
    "ExecuteTime": {
     "end_time": "2021-07-01T19:03:03.878806Z",
     "start_time": "2021-07-01T19:03:03.826948Z"
    }
   },
   "outputs": [],
   "source": [
    "df_2.drop(i, inplace=True)"
   ]
  },
  {
   "cell_type": "code",
   "execution_count": 164,
   "id": "32e4f7e1",
   "metadata": {
    "ExecuteTime": {
     "end_time": "2021-07-01T19:03:12.824866Z",
     "start_time": "2021-07-01T19:03:12.777956Z"
    }
   },
   "outputs": [
    {
     "data": {
      "text/plain": [
       "cryptopunk_number        0\n",
       "txn_type                 0\n",
       "from                 60021\n",
       "to                   84037\n",
       "amount               31576\n",
       "txn_date                 0\n",
       "dtype: int64"
      ]
     },
     "execution_count": 164,
     "metadata": {},
     "output_type": "execute_result"
    }
   ],
   "source": [
    "df_2.isna().sum()"
   ]
  },
  {
   "cell_type": "markdown",
   "id": "732872bd",
   "metadata": {},
   "source": [
    "Passem la columna de id dels punks a INT:"
   ]
  },
  {
   "cell_type": "code",
   "execution_count": null,
   "id": "ccfae9e3",
   "metadata": {
    "ExecuteTime": {
     "end_time": "2021-07-01T19:08:47.940013Z",
     "start_time": "2021-07-01T19:08:47.930040Z"
    }
   },
   "outputs": [],
   "source": [
    "df_2['cryptopunk_number'] = df_2['cryptopunk_number'].astype(int)"
   ]
  },
  {
   "cell_type": "markdown",
   "id": "bb81fd49",
   "metadata": {},
   "source": [
    "Comencem amb els regex:"
   ]
  },
  {
   "cell_type": "code",
   "execution_count": 165,
   "id": "3521484e",
   "metadata": {
    "ExecuteTime": {
     "end_time": "2021-07-01T19:06:08.599371Z",
     "start_time": "2021-07-01T19:06:08.430820Z"
    }
   },
   "outputs": [],
   "source": [
    "df_2['amount'].replace({'<':''}, regex=True, inplace=True)"
   ]
  },
  {
   "cell_type": "code",
   "execution_count": 180,
   "id": "42545ede",
   "metadata": {
    "ExecuteTime": {
     "end_time": "2021-07-01T19:11:10.674322Z",
     "start_time": "2021-07-01T19:11:10.634431Z"
    }
   },
   "outputs": [
    {
     "data": {
      "text/html": [
       "<div>\n",
       "<style scoped>\n",
       "    .dataframe tbody tr th:only-of-type {\n",
       "        vertical-align: middle;\n",
       "    }\n",
       "\n",
       "    .dataframe tbody tr th {\n",
       "        vertical-align: top;\n",
       "    }\n",
       "\n",
       "    .dataframe thead th {\n",
       "        text-align: right;\n",
       "    }\n",
       "</style>\n",
       "<table border=\"1\" class=\"dataframe\">\n",
       "  <thead>\n",
       "    <tr style=\"text-align: right;\">\n",
       "      <th></th>\n",
       "      <th>cryptopunk_number</th>\n",
       "      <th>txn_type</th>\n",
       "      <th>from</th>\n",
       "      <th>to</th>\n",
       "      <th>amount</th>\n",
       "      <th>txn_date</th>\n",
       "      <th>amount_dolars</th>\n",
       "      <th>amount_eth</th>\n",
       "      <th>dolar_factors</th>\n",
       "      <th>eth_factors</th>\n",
       "    </tr>\n",
       "  </thead>\n",
       "  <tbody>\n",
       "    <tr>\n",
       "      <th>1</th>\n",
       "      <td>0</td>\n",
       "      <td>Bid Withdrawn</td>\n",
       "      <td>0x983ace</td>\n",
       "      <td>NaN</td>\n",
       "      <td>250Ξ ($1.03M)</td>\n",
       "      <td>2021-05-10</td>\n",
       "      <td>$1</td>\n",
       "      <td>NaN</td>\n",
       "      <td>NaN</td>\n",
       "      <td>NaN</td>\n",
       "    </tr>\n",
       "    <tr>\n",
       "      <th>2</th>\n",
       "      <td>0</td>\n",
       "      <td>Bid</td>\n",
       "      <td>0x983ace</td>\n",
       "      <td>NaN</td>\n",
       "      <td>250Ξ ($537,615)</td>\n",
       "      <td>2021-04-11</td>\n",
       "      <td>$537,615</td>\n",
       "      <td>NaN</td>\n",
       "      <td>NaN</td>\n",
       "      <td>NaN</td>\n",
       "    </tr>\n",
       "    <tr>\n",
       "      <th>3</th>\n",
       "      <td>0</td>\n",
       "      <td>Bid Withdrawn</td>\n",
       "      <td>0xd7510a</td>\n",
       "      <td>NaN</td>\n",
       "      <td>100Ξ ($160,973)</td>\n",
       "      <td>2021-03-03</td>\n",
       "      <td>$160,973</td>\n",
       "      <td>NaN</td>\n",
       "      <td>NaN</td>\n",
       "      <td>NaN</td>\n",
       "    </tr>\n",
       "    <tr>\n",
       "      <th>4</th>\n",
       "      <td>0</td>\n",
       "      <td>Bid</td>\n",
       "      <td>0xd7510a</td>\n",
       "      <td>NaN</td>\n",
       "      <td>100Ξ ($188,897)</td>\n",
       "      <td>2021-02-20</td>\n",
       "      <td>$188,897</td>\n",
       "      <td>NaN</td>\n",
       "      <td>NaN</td>\n",
       "      <td>NaN</td>\n",
       "    </tr>\n",
       "    <tr>\n",
       "      <th>5</th>\n",
       "      <td>0</td>\n",
       "      <td>Bid Withdrawn</td>\n",
       "      <td>natealex</td>\n",
       "      <td>NaN</td>\n",
       "      <td>69Ξ ($25,532)</td>\n",
       "      <td>2020-09-16</td>\n",
       "      <td>$25,532</td>\n",
       "      <td>NaN</td>\n",
       "      <td>NaN</td>\n",
       "      <td>NaN</td>\n",
       "    </tr>\n",
       "    <tr>\n",
       "      <th>...</th>\n",
       "      <td>...</td>\n",
       "      <td>...</td>\n",
       "      <td>...</td>\n",
       "      <td>...</td>\n",
       "      <td>...</td>\n",
       "      <td>...</td>\n",
       "      <td>...</td>\n",
       "      <td>...</td>\n",
       "      <td>...</td>\n",
       "      <td>...</td>\n",
       "    </tr>\n",
       "    <tr>\n",
       "      <th>133269</th>\n",
       "      <td>9999</td>\n",
       "      <td>Bid</td>\n",
       "      <td>0xa0a59c</td>\n",
       "      <td>NaN</td>\n",
       "      <td>0.25Ξ ($69)</td>\n",
       "      <td>2017-07-03</td>\n",
       "      <td>$69</td>\n",
       "      <td>.25</td>\n",
       "      <td>NaN</td>\n",
       "      <td>NaN</td>\n",
       "    </tr>\n",
       "    <tr>\n",
       "      <th>133270</th>\n",
       "      <td>9999</td>\n",
       "      <td>Bid</td>\n",
       "      <td>0x717403</td>\n",
       "      <td>NaN</td>\n",
       "      <td>0.20Ξ ($51)</td>\n",
       "      <td>2017-06-26</td>\n",
       "      <td>$51</td>\n",
       "      <td>.20</td>\n",
       "      <td>NaN</td>\n",
       "      <td>NaN</td>\n",
       "    </tr>\n",
       "    <tr>\n",
       "      <th>133271</th>\n",
       "      <td>9999</td>\n",
       "      <td>Bid</td>\n",
       "      <td>ddaavvee</td>\n",
       "      <td>NaN</td>\n",
       "      <td>0.20Ξ ($65)</td>\n",
       "      <td>2017-06-23</td>\n",
       "      <td>$65</td>\n",
       "      <td>.20</td>\n",
       "      <td>NaN</td>\n",
       "      <td>NaN</td>\n",
       "    </tr>\n",
       "    <tr>\n",
       "      <th>133272</th>\n",
       "      <td>9999</td>\n",
       "      <td>Bid</td>\n",
       "      <td>0x5b098b</td>\n",
       "      <td>NaN</td>\n",
       "      <td>0.15Ξ ($50)</td>\n",
       "      <td>2017-06-23</td>\n",
       "      <td>$50</td>\n",
       "      <td>.15</td>\n",
       "      <td>NaN</td>\n",
       "      <td>NaN</td>\n",
       "    </tr>\n",
       "    <tr>\n",
       "      <th>133273</th>\n",
       "      <td>9999</td>\n",
       "      <td>Claimed</td>\n",
       "      <td>NaN</td>\n",
       "      <td>0x7e2d1c</td>\n",
       "      <td>NaN</td>\n",
       "      <td>2017-06-23</td>\n",
       "      <td>NaN</td>\n",
       "      <td>NaN</td>\n",
       "      <td>NaN</td>\n",
       "      <td>NaN</td>\n",
       "    </tr>\n",
       "  </tbody>\n",
       "</table>\n",
       "<p>123274 rows × 10 columns</p>\n",
       "</div>"
      ],
      "text/plain": [
       "        cryptopunk_number       txn_type      from        to           amount   txn_date amount_dolars amount_eth dolar_factors eth_factors\n",
       "1                       0  Bid Withdrawn  0x983ace       NaN    250Ξ ($1.03M) 2021-05-10            $1        NaN           NaN         NaN\n",
       "2                       0            Bid  0x983ace       NaN  250Ξ ($537,615) 2021-04-11      $537,615        NaN           NaN         NaN\n",
       "3                       0  Bid Withdrawn  0xd7510a       NaN  100Ξ ($160,973) 2021-03-03      $160,973        NaN           NaN         NaN\n",
       "4                       0            Bid  0xd7510a       NaN  100Ξ ($188,897) 2021-02-20      $188,897        NaN           NaN         NaN\n",
       "5                       0  Bid Withdrawn  natealex       NaN    69Ξ ($25,532) 2020-09-16       $25,532        NaN           NaN         NaN\n",
       "...                   ...            ...       ...       ...              ...        ...           ...        ...           ...         ...\n",
       "133269               9999            Bid  0xa0a59c       NaN      0.25Ξ ($69) 2017-07-03           $69        .25           NaN         NaN\n",
       "133270               9999            Bid  0x717403       NaN      0.20Ξ ($51) 2017-06-26           $51        .20           NaN         NaN\n",
       "133271               9999            Bid  ddaavvee       NaN      0.20Ξ ($65) 2017-06-23           $65        .20           NaN         NaN\n",
       "133272               9999            Bid  0x5b098b       NaN      0.15Ξ ($50) 2017-06-23           $50        .15           NaN         NaN\n",
       "133273               9999        Claimed       NaN  0x7e2d1c              NaN 2017-06-23           NaN        NaN           NaN         NaN\n",
       "\n",
       "[123274 rows x 10 columns]"
      ]
     },
     "execution_count": 180,
     "metadata": {},
     "output_type": "execute_result"
    }
   ],
   "source": [
    "df_2"
   ]
  },
  {
   "cell_type": "markdown",
   "id": "e212321e",
   "metadata": {},
   "source": [
    "Creem les columnes per dolars i Ethereum:"
   ]
  },
  {
   "cell_type": "code",
   "execution_count": 170,
   "id": "c7c47b6f",
   "metadata": {
    "ExecuteTime": {
     "end_time": "2021-07-01T19:06:51.696478Z",
     "start_time": "2021-07-01T19:06:51.249761Z"
    }
   },
   "outputs": [],
   "source": [
    "# Repassar regex\n",
    "df_2['amount_dolars'] = df_2['amount'].str.extract(r'(\\$\\d+(\\,\\d+)?[a-zA-Z]?)')"
   ]
  },
  {
   "cell_type": "code",
   "execution_count": 172,
   "id": "e33ec721",
   "metadata": {
    "ExecuteTime": {
     "end_time": "2021-07-01T19:07:58.024127Z",
     "start_time": "2021-07-01T19:07:57.556145Z"
    }
   },
   "outputs": [],
   "source": [
    "# Repassar regex\n",
    "df_2['amount_eth'] = df_2['amount'].str.extract(r'\\d+(\\.\\d+)?')"
   ]
  },
  {
   "cell_type": "markdown",
   "id": "07bc6eed",
   "metadata": {},
   "source": [
    "Fem les columnes de factors corresponents:"
   ]
  },
  {
   "cell_type": "code",
   "execution_count": 178,
   "id": "672e4e1f",
   "metadata": {
    "ExecuteTime": {
     "end_time": "2021-07-01T19:11:05.418424Z",
     "start_time": "2021-07-01T19:11:05.284763Z"
    }
   },
   "outputs": [],
   "source": [
    "df_2['dolar_factors'] = df_2['amount_dolars'].str.extract(r'([a-zA-Z])')"
   ]
  },
  {
   "cell_type": "code",
   "execution_count": 179,
   "id": "0665679b",
   "metadata": {
    "ExecuteTime": {
     "end_time": "2021-07-01T19:11:07.587476Z",
     "start_time": "2021-07-01T19:11:07.465740Z"
    }
   },
   "outputs": [],
   "source": [
    "df_2['eth_factors'] = df_2['amount_eth'].str.extract(r'([a-zA-Z])')"
   ]
  },
  {
   "cell_type": "code",
   "execution_count": null,
   "id": "d92e5b34",
   "metadata": {},
   "outputs": [],
   "source": []
  },
  {
   "cell_type": "code",
   "execution_count": null,
   "id": "f3e8fc5d",
   "metadata": {},
   "outputs": [],
   "source": [
    "# df_2.drop('amount', inplace=True)"
   ]
  }
 ],
 "metadata": {
  "kernelspec": {
   "display_name": "Python 3",
   "language": "python",
   "name": "python3"
  },
  "language_info": {
   "codemirror_mode": {
    "name": "ipython",
    "version": 3
   },
   "file_extension": ".py",
   "mimetype": "text/x-python",
   "name": "python",
   "nbconvert_exporter": "python",
   "pygments_lexer": "ipython3",
   "version": "3.8.8"
  }
 },
 "nbformat": 4,
 "nbformat_minor": 5
}
