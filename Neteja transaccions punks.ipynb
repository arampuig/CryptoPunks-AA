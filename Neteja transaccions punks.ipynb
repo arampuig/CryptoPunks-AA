{
 "cells": [
  {
   "cell_type": "code",
   "execution_count": 3,
   "id": "4ade5669",
   "metadata": {
    "ExecuteTime": {
     "end_time": "2021-07-04T11:24:01.551504Z",
     "start_time": "2021-07-04T11:24:00.922584Z"
    }
   },
   "outputs": [],
   "source": [
    "import pandas as pd\n",
    "import regex as re\n",
    "import numpy as np\n",
    "\n",
    "pd.set_option('display.max_rows', 500)\n",
    "pd.set_option('display.max_columns', 500)\n",
    "pd.set_option('display.width', 1000)\n",
    "pd.set_option('display.expand_frame_repr', False)\n",
    "\n",
    "import warnings\n",
    "warnings.filterwarnings('ignore')"
   ]
  },
  {
   "cell_type": "markdown",
   "id": "5ddc27b2",
   "metadata": {},
   "source": [
    "Volem deixar la taula STATUS_TOTAL així:\n",
    "\n",
    "- cryptopunk_number\n",
    "- owner\n",
    "- for_sale: Yes/No\n",
    "- sale_eth: quantiat ethereum sense el signe/None\n",
    "- eth_factors: K, M i Y\n",
    "- sale_dolars: quantiat dolars sense el signe/None\n",
    "- dolars factors: B\n",
    "- are_bids: Yes/No\n",
    "- bids_eth: quantiat ethereum sense el signe/None\n",
    "- bids_eth_factors: K, M i Y\n",
    "- bids_dolars: quantiat dolars sense el signe/None\n",
    "- bids_dolars_factors: B\n",
    "- bid_placer: usuari que fa la puja/None"
   ]
  },
  {
   "cell_type": "code",
   "execution_count": 2,
   "id": "4acc196a",
   "metadata": {
    "ExecuteTime": {
     "end_time": "2021-07-04T08:50:47.236239Z",
     "start_time": "2021-07-04T08:50:47.145273Z"
    }
   },
   "outputs": [],
   "source": [
    "df_1 = pd.read_csv('STATUS_TOTAL.csv')"
   ]
  },
  {
   "cell_type": "code",
   "execution_count": 3,
   "id": "7cca8ea3",
   "metadata": {
    "ExecuteTime": {
     "end_time": "2021-07-04T08:50:47.284118Z",
     "start_time": "2021-07-04T08:50:47.243226Z"
    }
   },
   "outputs": [
    {
     "data": {
      "text/html": [
       "<div>\n",
       "<style scoped>\n",
       "    .dataframe tbody tr th:only-of-type {\n",
       "        vertical-align: middle;\n",
       "    }\n",
       "\n",
       "    .dataframe tbody tr th {\n",
       "        vertical-align: top;\n",
       "    }\n",
       "\n",
       "    .dataframe thead th {\n",
       "        text-align: right;\n",
       "    }\n",
       "</style>\n",
       "<table border=\"1\" class=\"dataframe\">\n",
       "  <thead>\n",
       "    <tr style=\"text-align: right;\">\n",
       "      <th></th>\n",
       "      <th>Unnamed: 0</th>\n",
       "      <th>owner</th>\n",
       "      <th>for_sale</th>\n",
       "      <th>are_bids</th>\n",
       "      <th>cryptopunk_number</th>\n",
       "    </tr>\n",
       "  </thead>\n",
       "  <tbody>\n",
       "    <tr>\n",
       "      <th>0</th>\n",
       "      <td>0</td>\n",
       "      <td>This punk is currently owned by address 0xe08c32.</td>\n",
       "      <td>This punk has not been listed for sale by its ...</td>\n",
       "      <td>There are currently no bids on this punk.</td>\n",
       "      <td>0</td>\n",
       "    </tr>\n",
       "    <tr>\n",
       "      <th>1</th>\n",
       "      <td>1</td>\n",
       "      <td>This punk is currently owned by address 0xb88f61.</td>\n",
       "      <td>This punk has not been listed for sale by its ...</td>\n",
       "      <td>There are currently no bids on this punk.</td>\n",
       "      <td>1</td>\n",
       "    </tr>\n",
       "    <tr>\n",
       "      <th>2</th>\n",
       "      <td>2</td>\n",
       "      <td>This punk is currently owned by address 0x897aea.</td>\n",
       "      <td>This punk has not been listed for sale by its ...</td>\n",
       "      <td>There is a bid of &lt;0.01Ξ ($4) for this punk fr...</td>\n",
       "      <td>2</td>\n",
       "    </tr>\n",
       "    <tr>\n",
       "      <th>3</th>\n",
       "      <td>3</td>\n",
       "      <td>This punk is currently owned by address 0xc352b5.</td>\n",
       "      <td>This punk has not been listed for sale by its ...</td>\n",
       "      <td>There are currently no bids on this punk.</td>\n",
       "      <td>3</td>\n",
       "    </tr>\n",
       "    <tr>\n",
       "      <th>4</th>\n",
       "      <td>4</td>\n",
       "      <td>This punk is currently owned by address 0xc352b5.</td>\n",
       "      <td>This punk has not been listed for sale by its ...</td>\n",
       "      <td>There are currently no bids on this punk.</td>\n",
       "      <td>4</td>\n",
       "    </tr>\n",
       "    <tr>\n",
       "      <th>...</th>\n",
       "      <td>...</td>\n",
       "      <td>...</td>\n",
       "      <td>...</td>\n",
       "      <td>...</td>\n",
       "      <td>...</td>\n",
       "    </tr>\n",
       "    <tr>\n",
       "      <th>9995</th>\n",
       "      <td>9995</td>\n",
       "      <td>This punk is currently owned by address 0x758353.</td>\n",
       "      <td>This punk has not been listed for sale by its ...</td>\n",
       "      <td>There are currently no bids on this punk.</td>\n",
       "      <td>9995</td>\n",
       "    </tr>\n",
       "    <tr>\n",
       "      <th>9996</th>\n",
       "      <td>9996</td>\n",
       "      <td>This punk is currently owned by address 0xa9bfa9.</td>\n",
       "      <td>This punk has not been listed for sale by its ...</td>\n",
       "      <td>There are currently no bids on this punk.</td>\n",
       "      <td>9996</td>\n",
       "    </tr>\n",
       "    <tr>\n",
       "      <th>9997</th>\n",
       "      <td>9997</td>\n",
       "      <td>This punk is currently owned by address 0x279679.</td>\n",
       "      <td>This punk is currently for sale by owner for 4...</td>\n",
       "      <td>There are currently no bids on this punk.</td>\n",
       "      <td>9997</td>\n",
       "    </tr>\n",
       "    <tr>\n",
       "      <th>9998</th>\n",
       "      <td>9998</td>\n",
       "      <td>This punk is currently owned by address 0xcfd9cc.</td>\n",
       "      <td>This punk has not been listed for sale by its ...</td>\n",
       "      <td>There are currently no bids on this punk.</td>\n",
       "      <td>9998</td>\n",
       "    </tr>\n",
       "    <tr>\n",
       "      <th>9999</th>\n",
       "      <td>9999</td>\n",
       "      <td>This punk is currently owned by address punk99...</td>\n",
       "      <td>This punk has not been listed for sale by its ...</td>\n",
       "      <td>There is a bid of 0.22Ξ ($489) for this punk f...</td>\n",
       "      <td>9999</td>\n",
       "    </tr>\n",
       "  </tbody>\n",
       "</table>\n",
       "<p>10000 rows × 5 columns</p>\n",
       "</div>"
      ],
      "text/plain": [
       "      Unnamed: 0                                              owner                                           for_sale                                           are_bids  cryptopunk_number\n",
       "0              0  This punk is currently owned by address 0xe08c32.  This punk has not been listed for sale by its ...          There are currently no bids on this punk.                  0\n",
       "1              1  This punk is currently owned by address 0xb88f61.  This punk has not been listed for sale by its ...          There are currently no bids on this punk.                  1\n",
       "2              2  This punk is currently owned by address 0x897aea.  This punk has not been listed for sale by its ...  There is a bid of <0.01Ξ ($4) for this punk fr...                  2\n",
       "3              3  This punk is currently owned by address 0xc352b5.  This punk has not been listed for sale by its ...          There are currently no bids on this punk.                  3\n",
       "4              4  This punk is currently owned by address 0xc352b5.  This punk has not been listed for sale by its ...          There are currently no bids on this punk.                  4\n",
       "...          ...                                                ...                                                ...                                                ...                ...\n",
       "9995        9995  This punk is currently owned by address 0x758353.  This punk has not been listed for sale by its ...          There are currently no bids on this punk.               9995\n",
       "9996        9996  This punk is currently owned by address 0xa9bfa9.  This punk has not been listed for sale by its ...          There are currently no bids on this punk.               9996\n",
       "9997        9997  This punk is currently owned by address 0x279679.  This punk is currently for sale by owner for 4...          There are currently no bids on this punk.               9997\n",
       "9998        9998  This punk is currently owned by address 0xcfd9cc.  This punk has not been listed for sale by its ...          There are currently no bids on this punk.               9998\n",
       "9999        9999  This punk is currently owned by address punk99...  This punk has not been listed for sale by its ...  There is a bid of 0.22Ξ ($489) for this punk f...               9999\n",
       "\n",
       "[10000 rows x 5 columns]"
      ]
     },
     "execution_count": 3,
     "metadata": {},
     "output_type": "execute_result"
    }
   ],
   "source": [
    "df_1"
   ]
  },
  {
   "cell_type": "markdown",
   "id": "9b7d59de",
   "metadata": {},
   "source": [
    "Eliminem la primera columna, ja que està repetida i canviem l'ordre de les columnes, posant l'id davant:"
   ]
  },
  {
   "cell_type": "code",
   "execution_count": 4,
   "id": "91384635",
   "metadata": {
    "ExecuteTime": {
     "end_time": "2021-07-04T08:50:47.300072Z",
     "start_time": "2021-07-04T08:50:47.288141Z"
    }
   },
   "outputs": [],
   "source": [
    "df_1.drop('Unnamed: 0', axis=1, inplace=True)"
   ]
  },
  {
   "cell_type": "code",
   "execution_count": 5,
   "id": "30f00976",
   "metadata": {
    "ExecuteTime": {
     "end_time": "2021-07-04T08:50:47.316029Z",
     "start_time": "2021-07-04T08:50:47.305060Z"
    }
   },
   "outputs": [],
   "source": [
    "df_1 = df_1[['cryptopunk_number','owner', 'for_sale', 'are_bids']]"
   ]
  },
  {
   "cell_type": "markdown",
   "id": "13f7346f",
   "metadata": {},
   "source": [
    "Netejem la columna owner perquè ens quedi només l'identificador de l'usuari:"
   ]
  },
  {
   "cell_type": "code",
   "execution_count": 6,
   "id": "c0135334",
   "metadata": {
    "ExecuteTime": {
     "end_time": "2021-07-04T08:50:47.411775Z",
     "start_time": "2021-07-04T08:50:47.319480Z"
    }
   },
   "outputs": [],
   "source": [
    "df_1['owner'].replace({'This punk is currently owned by address':''}, regex=True, inplace=True)"
   ]
  },
  {
   "cell_type": "code",
   "execution_count": 7,
   "id": "3df1827d",
   "metadata": {
    "ExecuteTime": {
     "end_time": "2021-07-04T08:50:47.491564Z",
     "start_time": "2021-07-04T08:50:47.417287Z"
    }
   },
   "outputs": [],
   "source": [
    "df_1['owner'].replace({'\\.':''}, regex=True, inplace=True)"
   ]
  },
  {
   "cell_type": "markdown",
   "id": "afc58aa6",
   "metadata": {},
   "source": [
    "Netegem la columna 'for_sale'. Posem 'No' a tots els registres que no han estat en venta i deixem només el preu dels que han estat venuts:"
   ]
  },
  {
   "cell_type": "code",
   "execution_count": 8,
   "id": "e62b9eb7",
   "metadata": {
    "ExecuteTime": {
     "end_time": "2021-07-04T08:50:47.543441Z",
     "start_time": "2021-07-04T08:50:47.501535Z"
    }
   },
   "outputs": [
    {
     "data": {
      "text/plain": [
       "This punk has not been listed for sale by its owner.               8079\n",
       "This punk is currently for sale by owner for 140Ξ ($293,839).       190\n",
       "This punk is currently for sale by owner for 38.95Ξ ($83,588).      155\n",
       "This punk is currently for sale by owner for 125Ξ ($274,111).        59\n",
       "This punk is currently for sale by owner for 34.47Ξ ($73,073).       26\n",
       "                                                                   ... \n",
       "This punk is currently for sale by owner for 55.55Ξ ($122,584).       1\n",
       "This punk is currently for sale by owner for 25.49Ξ ($57,837).        1\n",
       "This punk is currently for sale by owner for 1KΞ ($2.17M).            1\n",
       "This punk is currently for sale by owner for 94.49Ξ ($208,511).       1\n",
       "This punk is currently for sale by owner for 2.25KΞ ($4.77M).         1\n",
       "Name: for_sale, Length: 1119, dtype: int64"
      ]
     },
     "execution_count": 8,
     "metadata": {},
     "output_type": "execute_result"
    }
   ],
   "source": [
    "df_1['for_sale'].value_counts()"
   ]
  },
  {
   "cell_type": "code",
   "execution_count": 9,
   "id": "68e48f5a",
   "metadata": {
    "ExecuteTime": {
     "end_time": "2021-07-04T08:50:47.647144Z",
     "start_time": "2021-07-04T08:50:47.552400Z"
    }
   },
   "outputs": [],
   "source": [
    "df_1['for_sale'].replace({'This punk has not been listed for sale by its owner.':'No'}, regex=True, inplace=True)"
   ]
  },
  {
   "cell_type": "code",
   "execution_count": 10,
   "id": "8fc5552a",
   "metadata": {
    "ExecuteTime": {
     "end_time": "2021-07-04T08:50:47.709654Z",
     "start_time": "2021-07-04T08:50:47.650137Z"
    }
   },
   "outputs": [],
   "source": [
    "df_1['for_sale'].replace({'This punk is currently for sale by owner for ':''}, regex=True, inplace=True)"
   ]
  },
  {
   "cell_type": "code",
   "execution_count": 11,
   "id": "8f3dde96",
   "metadata": {
    "ExecuteTime": {
     "end_time": "2021-07-04T08:50:47.772810Z",
     "start_time": "2021-07-04T08:50:47.719230Z"
    }
   },
   "outputs": [],
   "source": [
    "df_1['for_sale'].replace({'\\.':''}, regex=True, inplace=True)"
   ]
  },
  {
   "cell_type": "markdown",
   "id": "e0d27de1",
   "metadata": {},
   "source": [
    "Separem els preus en dolars i ethereum en dues columnes noves:"
   ]
  },
  {
   "cell_type": "code",
   "execution_count": 12,
   "id": "93d520d1",
   "metadata": {
    "ExecuteTime": {
     "end_time": "2021-07-04T08:50:47.868525Z",
     "start_time": "2021-07-04T08:50:47.775803Z"
    }
   },
   "outputs": [],
   "source": [
    "df_1[['price_eth','price_dolar']] = df_1['for_sale'].str.split(expand=True)"
   ]
  },
  {
   "cell_type": "code",
   "execution_count": 13,
   "id": "8b7cd6ca",
   "metadata": {
    "ExecuteTime": {
     "end_time": "2021-07-04T08:50:47.916302Z",
     "start_time": "2021-07-04T08:50:47.870427Z"
    }
   },
   "outputs": [],
   "source": [
    "df_1['for_sale'].replace({'[^\"No\"]+':'Yes'}, regex=True, inplace=True)"
   ]
  },
  {
   "cell_type": "code",
   "execution_count": 14,
   "id": "010979b0",
   "metadata": {
    "ExecuteTime": {
     "end_time": "2021-07-04T08:50:47.948218Z",
     "start_time": "2021-07-04T08:50:47.920292Z"
    }
   },
   "outputs": [
    {
     "data": {
      "text/plain": [
       "No     8079\n",
       "Yes    1921\n",
       "Name: for_sale, dtype: int64"
      ]
     },
     "execution_count": 14,
     "metadata": {},
     "output_type": "execute_result"
    }
   ],
   "source": [
    "df_1['for_sale'].value_counts()"
   ]
  },
  {
   "cell_type": "code",
   "execution_count": 15,
   "id": "2c08e58a",
   "metadata": {
    "ExecuteTime": {
     "end_time": "2021-07-04T08:50:47.964176Z",
     "start_time": "2021-07-04T08:50:47.950213Z"
    }
   },
   "outputs": [
    {
     "data": {
      "text/plain": [
       "No     8079\n",
       "Yes    1921\n",
       "Name: for_sale, dtype: int64"
      ]
     },
     "execution_count": 15,
     "metadata": {},
     "output_type": "execute_result"
    }
   ],
   "source": [
    "df_1['for_sale'].value_counts()"
   ]
  },
  {
   "cell_type": "markdown",
   "id": "a34ce49e",
   "metadata": {},
   "source": [
    "Netegem els registres de Bids:"
   ]
  },
  {
   "cell_type": "code",
   "execution_count": 16,
   "id": "aa29d97e",
   "metadata": {
    "ExecuteTime": {
     "end_time": "2021-07-04T08:50:48.058923Z",
     "start_time": "2021-07-04T08:50:47.967168Z"
    }
   },
   "outputs": [],
   "source": [
    "df_1['are_bids'].replace({'There are currently no bids on this punk.':'No'}, regex=True, inplace=True)"
   ]
  },
  {
   "cell_type": "code",
   "execution_count": 17,
   "id": "bf5822ce",
   "metadata": {
    "ExecuteTime": {
     "end_time": "2021-07-04T08:50:48.122752Z",
     "start_time": "2021-07-04T08:50:48.060936Z"
    }
   },
   "outputs": [],
   "source": [
    "df_1['are_bids'].replace({'There is a bid of ':''}, regex=True, inplace=True)"
   ]
  },
  {
   "cell_type": "code",
   "execution_count": 18,
   "id": "9480da9d",
   "metadata": {
    "ExecuteTime": {
     "end_time": "2021-07-04T08:50:48.153668Z",
     "start_time": "2021-07-04T08:50:48.124748Z"
    }
   },
   "outputs": [
    {
     "data": {
      "text/plain": [
       "0                                              No\n",
       "1                                              No\n",
       "2        <0.01Ξ ($4) for this punk from 0x7f6498.\n",
       "3                                              No\n",
       "4                                              No\n",
       "                          ...                    \n",
       "9995                                           No\n",
       "9996                                           No\n",
       "9997                                           No\n",
       "9998                                           No\n",
       "9999    0.22Ξ ($489) for this punk from 0x20ed17.\n",
       "Name: are_bids, Length: 10000, dtype: object"
      ]
     },
     "execution_count": 18,
     "metadata": {},
     "output_type": "execute_result"
    }
   ],
   "source": [
    "df_1['are_bids']"
   ]
  },
  {
   "cell_type": "markdown",
   "id": "e570dc82",
   "metadata": {},
   "source": [
    "Creem les columnes necessaries per incloure tota la informació de bids:"
   ]
  },
  {
   "cell_type": "code",
   "execution_count": 19,
   "id": "4c08baf5",
   "metadata": {
    "ExecuteTime": {
     "end_time": "2021-07-04T08:50:48.184617Z",
     "start_time": "2021-07-04T08:50:48.156662Z"
    }
   },
   "outputs": [],
   "source": [
    "df_1['bids_price'] = df_1['are_bids']"
   ]
  },
  {
   "cell_type": "code",
   "execution_count": 20,
   "id": "31e88445",
   "metadata": {
    "ExecuteTime": {
     "end_time": "2021-07-04T08:50:48.200542Z",
     "start_time": "2021-07-04T08:50:48.186581Z"
    }
   },
   "outputs": [],
   "source": [
    "df_1['bids_placer'] = df_1['are_bids']"
   ]
  },
  {
   "cell_type": "code",
   "execution_count": 21,
   "id": "7a165717",
   "metadata": {
    "ExecuteTime": {
     "end_time": "2021-07-04T08:50:48.263376Z",
     "start_time": "2021-07-04T08:50:48.203558Z"
    }
   },
   "outputs": [],
   "source": [
    "df_1.loc[df_1['are_bids']!='No', 'are_bids'] = df_1.loc[df_1['are_bids']!='No']['are_bids'].replace({'\\w':'', '\\W':''}, regex=True)"
   ]
  },
  {
   "cell_type": "code",
   "execution_count": 22,
   "id": "1723fad9",
   "metadata": {
    "ExecuteTime": {
     "end_time": "2021-07-04T08:50:48.325209Z",
     "start_time": "2021-07-04T08:50:48.268364Z"
    }
   },
   "outputs": [],
   "source": [
    "df_1['are_bids'].replace({'':'Yes'}, regex=True, inplace=True)"
   ]
  },
  {
   "cell_type": "code",
   "execution_count": 23,
   "id": "26d82739",
   "metadata": {
    "ExecuteTime": {
     "end_time": "2021-07-04T08:50:48.357167Z",
     "start_time": "2021-07-04T08:50:48.333786Z"
    }
   },
   "outputs": [
    {
     "data": {
      "text/plain": [
       "No     9108\n",
       "Yes     892\n",
       "Name: are_bids, dtype: int64"
      ]
     },
     "execution_count": 23,
     "metadata": {},
     "output_type": "execute_result"
    }
   ],
   "source": [
    "df_1['are_bids'].value_counts()"
   ]
  },
  {
   "cell_type": "markdown",
   "id": "6d1f1a5d",
   "metadata": {},
   "source": [
    "Netegem 'price_eth': FALTA SABER QUÈ FER AMB ELS FACTORIALS 'K', 'M' i 'Y' !"
   ]
  },
  {
   "cell_type": "code",
   "execution_count": 24,
   "id": "5b8c7dc3",
   "metadata": {
    "ExecuteTime": {
     "end_time": "2021-07-04T08:50:48.420958Z",
     "start_time": "2021-07-04T08:50:48.364621Z"
    }
   },
   "outputs": [],
   "source": [
    "df_1['price_eth'].replace({'Ξ':''}, regex=True, inplace=True)"
   ]
  },
  {
   "cell_type": "code",
   "execution_count": 25,
   "id": "83561cc4",
   "metadata": {
    "ExecuteTime": {
     "end_time": "2021-07-04T08:50:48.498747Z",
     "start_time": "2021-07-04T08:50:48.429939Z"
    }
   },
   "outputs": [],
   "source": [
    "df_1['price_eth'].replace({'No':'None'}, regex=True, inplace=True)"
   ]
  },
  {
   "cell_type": "markdown",
   "id": "bcd13c8f",
   "metadata": {},
   "source": [
    "Netegem 'price_dolar':"
   ]
  },
  {
   "cell_type": "code",
   "execution_count": 26,
   "id": "79baec9d",
   "metadata": {
    "ExecuteTime": {
     "end_time": "2021-07-04T08:50:48.576539Z",
     "start_time": "2021-07-04T08:50:48.501758Z"
    }
   },
   "outputs": [],
   "source": [
    "df_1['price_dolar'].replace({'\\(':'', '\\)':'', '\\$':'', ',':''}, regex=True, inplace=True)"
   ]
  },
  {
   "cell_type": "code",
   "execution_count": 27,
   "id": "1021b5be",
   "metadata": {
    "ExecuteTime": {
     "end_time": "2021-07-04T08:50:48.607971Z",
     "start_time": "2021-07-04T08:50:48.582523Z"
    }
   },
   "outputs": [
    {
     "data": {
      "text/plain": [
       "293839     190\n",
       "83588      155\n",
       "274111      59\n",
       "73073       26\n",
       "49918       23\n",
       "          ... \n",
       "214837       1\n",
       "53995        1\n",
       "146505       1\n",
       "228029Y      1\n",
       "58742        1\n",
       "Name: price_dolar, Length: 1107, dtype: int64"
      ]
     },
     "execution_count": 27,
     "metadata": {},
     "output_type": "execute_result"
    }
   ],
   "source": [
    "df_1.price_dolar.value_counts()"
   ]
  },
  {
   "cell_type": "code",
   "execution_count": 28,
   "id": "5e05dadc",
   "metadata": {
    "ExecuteTime": {
     "end_time": "2021-07-04T08:50:48.638776Z",
     "start_time": "2021-07-04T08:50:48.612442Z"
    }
   },
   "outputs": [],
   "source": [
    "df_1['dolar_factors'] = df_1['price_dolar'].str.extract(r'([a-zA-Z])')"
   ]
  },
  {
   "cell_type": "code",
   "execution_count": 29,
   "id": "0c181950",
   "metadata": {
    "ExecuteTime": {
     "end_time": "2021-07-04T08:50:48.686244Z",
     "start_time": "2021-07-04T08:50:48.646351Z"
    }
   },
   "outputs": [],
   "source": [
    "df_1['eth_factors'] = df_1['price_eth'].str.extract(r'([a-zA-Z])')"
   ]
  },
  {
   "cell_type": "code",
   "execution_count": 30,
   "id": "a7904f26",
   "metadata": {
    "ExecuteTime": {
     "end_time": "2021-07-04T08:50:48.702201Z",
     "start_time": "2021-07-04T08:50:48.689625Z"
    }
   },
   "outputs": [
    {
     "data": {
      "text/plain": [
       "N    8079\n",
       "K      44\n",
       "Y      20\n",
       "M       1\n",
       "Name: eth_factors, dtype: int64"
      ]
     },
     "execution_count": 30,
     "metadata": {},
     "output_type": "execute_result"
    }
   ],
   "source": [
    "df_1['eth_factors'].value_counts()"
   ]
  },
  {
   "cell_type": "code",
   "execution_count": 31,
   "id": "1ffcd71a",
   "metadata": {
    "ExecuteTime": {
     "end_time": "2021-07-04T08:50:48.717865Z",
     "start_time": "2021-07-04T08:50:48.706194Z"
    }
   },
   "outputs": [
    {
     "data": {
      "text/plain": [
       "M    114\n",
       "Y     20\n",
       "B      1\n",
       "Name: dolar_factors, dtype: int64"
      ]
     },
     "execution_count": 31,
     "metadata": {},
     "output_type": "execute_result"
    }
   ],
   "source": [
    "df_1['dolar_factors'].value_counts()"
   ]
  },
  {
   "cell_type": "markdown",
   "id": "c4eee8e6",
   "metadata": {},
   "source": [
    "Separem la columna de de bids en si hi ha bid o no, l'usuari que l'ha fet, el preu en dolars i el preu en ethereum:"
   ]
  },
  {
   "cell_type": "code",
   "execution_count": 32,
   "id": "9fddd675",
   "metadata": {
    "ExecuteTime": {
     "end_time": "2021-07-04T08:50:48.780990Z",
     "start_time": "2021-07-04T08:50:48.729130Z"
    }
   },
   "outputs": [],
   "source": [
    "df_1['bids_price'].replace({'<':''}, regex=True, inplace=True)"
   ]
  },
  {
   "cell_type": "code",
   "execution_count": 35,
   "id": "83061f08",
   "metadata": {
    "ExecuteTime": {
     "end_time": "2021-07-04T08:51:16.949568Z",
     "start_time": "2021-07-04T08:51:16.927624Z"
    }
   },
   "outputs": [],
   "source": [
    "df_1['bids_dolars'] = df_1['bids_price'].str.extract(r'(\\$\\d+(\\,\\d+)?[a-zA-Z]?)')"
   ]
  },
  {
   "cell_type": "code",
   "execution_count": 36,
   "id": "240f8a61",
   "metadata": {
    "ExecuteTime": {
     "end_time": "2021-07-04T08:51:17.961335Z",
     "start_time": "2021-07-04T08:51:17.915493Z"
    }
   },
   "outputs": [
    {
     "data": {
      "text/html": [
       "<div>\n",
       "<style scoped>\n",
       "    .dataframe tbody tr th:only-of-type {\n",
       "        vertical-align: middle;\n",
       "    }\n",
       "\n",
       "    .dataframe tbody tr th {\n",
       "        vertical-align: top;\n",
       "    }\n",
       "\n",
       "    .dataframe thead th {\n",
       "        text-align: right;\n",
       "    }\n",
       "</style>\n",
       "<table border=\"1\" class=\"dataframe\">\n",
       "  <thead>\n",
       "    <tr style=\"text-align: right;\">\n",
       "      <th></th>\n",
       "      <th>cryptopunk_number</th>\n",
       "      <th>owner</th>\n",
       "      <th>for_sale</th>\n",
       "      <th>are_bids</th>\n",
       "      <th>price_eth</th>\n",
       "      <th>price_dolar</th>\n",
       "      <th>bids_price</th>\n",
       "      <th>bids_placer</th>\n",
       "      <th>dolar_factors</th>\n",
       "      <th>eth_factors</th>\n",
       "      <th>bids_dolars</th>\n",
       "    </tr>\n",
       "  </thead>\n",
       "  <tbody>\n",
       "    <tr>\n",
       "      <th>0</th>\n",
       "      <td>0</td>\n",
       "      <td>0xe08c32</td>\n",
       "      <td>No</td>\n",
       "      <td>No</td>\n",
       "      <td>None</td>\n",
       "      <td>None</td>\n",
       "      <td>No</td>\n",
       "      <td>No</td>\n",
       "      <td>NaN</td>\n",
       "      <td>N</td>\n",
       "      <td>NaN</td>\n",
       "    </tr>\n",
       "    <tr>\n",
       "      <th>1</th>\n",
       "      <td>1</td>\n",
       "      <td>0xb88f61</td>\n",
       "      <td>No</td>\n",
       "      <td>No</td>\n",
       "      <td>None</td>\n",
       "      <td>None</td>\n",
       "      <td>No</td>\n",
       "      <td>No</td>\n",
       "      <td>NaN</td>\n",
       "      <td>N</td>\n",
       "      <td>NaN</td>\n",
       "    </tr>\n",
       "    <tr>\n",
       "      <th>2</th>\n",
       "      <td>2</td>\n",
       "      <td>0x897aea</td>\n",
       "      <td>No</td>\n",
       "      <td>Yes</td>\n",
       "      <td>None</td>\n",
       "      <td>None</td>\n",
       "      <td>0.01Ξ ($4) for this punk from 0x7f6498.</td>\n",
       "      <td>&lt;0.01Ξ ($4) for this punk from 0x7f6498.</td>\n",
       "      <td>NaN</td>\n",
       "      <td>N</td>\n",
       "      <td>$4</td>\n",
       "    </tr>\n",
       "    <tr>\n",
       "      <th>3</th>\n",
       "      <td>3</td>\n",
       "      <td>0xc352b5</td>\n",
       "      <td>No</td>\n",
       "      <td>No</td>\n",
       "      <td>None</td>\n",
       "      <td>None</td>\n",
       "      <td>No</td>\n",
       "      <td>No</td>\n",
       "      <td>NaN</td>\n",
       "      <td>N</td>\n",
       "      <td>NaN</td>\n",
       "    </tr>\n",
       "    <tr>\n",
       "      <th>4</th>\n",
       "      <td>4</td>\n",
       "      <td>0xc352b5</td>\n",
       "      <td>No</td>\n",
       "      <td>No</td>\n",
       "      <td>None</td>\n",
       "      <td>None</td>\n",
       "      <td>No</td>\n",
       "      <td>No</td>\n",
       "      <td>NaN</td>\n",
       "      <td>N</td>\n",
       "      <td>NaN</td>\n",
       "    </tr>\n",
       "    <tr>\n",
       "      <th>...</th>\n",
       "      <td>...</td>\n",
       "      <td>...</td>\n",
       "      <td>...</td>\n",
       "      <td>...</td>\n",
       "      <td>...</td>\n",
       "      <td>...</td>\n",
       "      <td>...</td>\n",
       "      <td>...</td>\n",
       "      <td>...</td>\n",
       "      <td>...</td>\n",
       "      <td>...</td>\n",
       "    </tr>\n",
       "    <tr>\n",
       "      <th>9995</th>\n",
       "      <td>9995</td>\n",
       "      <td>0x758353</td>\n",
       "      <td>No</td>\n",
       "      <td>No</td>\n",
       "      <td>None</td>\n",
       "      <td>None</td>\n",
       "      <td>No</td>\n",
       "      <td>No</td>\n",
       "      <td>NaN</td>\n",
       "      <td>N</td>\n",
       "      <td>NaN</td>\n",
       "    </tr>\n",
       "    <tr>\n",
       "      <th>9996</th>\n",
       "      <td>9996</td>\n",
       "      <td>0xa9bfa9</td>\n",
       "      <td>No</td>\n",
       "      <td>No</td>\n",
       "      <td>None</td>\n",
       "      <td>None</td>\n",
       "      <td>No</td>\n",
       "      <td>No</td>\n",
       "      <td>NaN</td>\n",
       "      <td>N</td>\n",
       "      <td>NaN</td>\n",
       "    </tr>\n",
       "    <tr>\n",
       "      <th>9997</th>\n",
       "      <td>9997</td>\n",
       "      <td>0x279679</td>\n",
       "      <td>Yes</td>\n",
       "      <td>No</td>\n",
       "      <td>450</td>\n",
       "      <td>991742</td>\n",
       "      <td>No</td>\n",
       "      <td>No</td>\n",
       "      <td>NaN</td>\n",
       "      <td>NaN</td>\n",
       "      <td>NaN</td>\n",
       "    </tr>\n",
       "    <tr>\n",
       "      <th>9998</th>\n",
       "      <td>9998</td>\n",
       "      <td>0xcfd9cc</td>\n",
       "      <td>No</td>\n",
       "      <td>No</td>\n",
       "      <td>None</td>\n",
       "      <td>None</td>\n",
       "      <td>No</td>\n",
       "      <td>No</td>\n",
       "      <td>NaN</td>\n",
       "      <td>N</td>\n",
       "      <td>NaN</td>\n",
       "    </tr>\n",
       "    <tr>\n",
       "      <th>9999</th>\n",
       "      <td>9999</td>\n",
       "      <td>punk9999…</td>\n",
       "      <td>No</td>\n",
       "      <td>Yes</td>\n",
       "      <td>None</td>\n",
       "      <td>None</td>\n",
       "      <td>0.22Ξ ($489) for this punk from 0x20ed17.</td>\n",
       "      <td>0.22Ξ ($489) for this punk from 0x20ed17.</td>\n",
       "      <td>NaN</td>\n",
       "      <td>N</td>\n",
       "      <td>$489</td>\n",
       "    </tr>\n",
       "  </tbody>\n",
       "</table>\n",
       "<p>10000 rows × 11 columns</p>\n",
       "</div>"
      ],
      "text/plain": [
       "      cryptopunk_number       owner for_sale are_bids price_eth price_dolar                                 bids_price                                bids_placer dolar_factors eth_factors bids_dolars\n",
       "0                     0    0xe08c32       No       No      None        None                                         No                                         No           NaN           N         NaN\n",
       "1                     1    0xb88f61       No       No      None        None                                         No                                         No           NaN           N         NaN\n",
       "2                     2    0x897aea       No      Yes      None        None    0.01Ξ ($4) for this punk from 0x7f6498.   <0.01Ξ ($4) for this punk from 0x7f6498.           NaN           N          $4\n",
       "3                     3    0xc352b5       No       No      None        None                                         No                                         No           NaN           N         NaN\n",
       "4                     4    0xc352b5       No       No      None        None                                         No                                         No           NaN           N         NaN\n",
       "...                 ...         ...      ...      ...       ...         ...                                        ...                                        ...           ...         ...         ...\n",
       "9995               9995    0x758353       No       No      None        None                                         No                                         No           NaN           N         NaN\n",
       "9996               9996    0xa9bfa9       No       No      None        None                                         No                                         No           NaN           N         NaN\n",
       "9997               9997    0x279679      Yes       No       450      991742                                         No                                         No           NaN         NaN         NaN\n",
       "9998               9998    0xcfd9cc       No       No      None        None                                         No                                         No           NaN           N         NaN\n",
       "9999               9999   punk9999…       No      Yes      None        None  0.22Ξ ($489) for this punk from 0x20ed17.  0.22Ξ ($489) for this punk from 0x20ed17.           NaN           N        $489\n",
       "\n",
       "[10000 rows x 11 columns]"
      ]
     },
     "execution_count": 36,
     "metadata": {},
     "output_type": "execute_result"
    }
   ],
   "source": [
    "df_1"
   ]
  },
  {
   "cell_type": "code",
   "execution_count": 37,
   "id": "ce0221a6",
   "metadata": {
    "ExecuteTime": {
     "end_time": "2021-07-04T08:51:24.628960Z",
     "start_time": "2021-07-04T08:51:24.603970Z"
    }
   },
   "outputs": [],
   "source": [
    "df_1['bids_dolars'].replace({'\\$':''}, regex=True, inplace=True)"
   ]
  },
  {
   "cell_type": "code",
   "execution_count": 38,
   "id": "0f035d74",
   "metadata": {
    "ExecuteTime": {
     "end_time": "2021-07-04T08:51:25.369398Z",
     "start_time": "2021-07-04T08:51:25.338479Z"
    }
   },
   "outputs": [],
   "source": [
    "df_1['bids_eth'] = df_1['bids_price'].str[:6]"
   ]
  },
  {
   "cell_type": "code",
   "execution_count": 39,
   "id": "a8b57cf0",
   "metadata": {
    "ExecuteTime": {
     "end_time": "2021-07-04T08:51:26.015753Z",
     "start_time": "2021-07-04T08:51:25.992781Z"
    }
   },
   "outputs": [
    {
     "data": {
      "text/plain": [
       "0          No\n",
       "1          No\n",
       "2      0.01Ξ \n",
       "3          No\n",
       "4          No\n",
       "5      4.20Ξ \n",
       "6          No\n",
       "7          No\n",
       "8          No\n",
       "9          No\n",
       "10         No\n",
       "11         No\n",
       "12         No\n",
       "13         No\n",
       "14         No\n",
       "15         No\n",
       "16         No\n",
       "17     0.10Ξ \n",
       "18         No\n",
       "19         No\n",
       "20         No\n",
       "21         No\n",
       "22         No\n",
       "23         No\n",
       "24         No\n",
       "25         No\n",
       "26         No\n",
       "27         No\n",
       "28         No\n",
       "29         No\n",
       "30         No\n",
       "31         No\n",
       "32         No\n",
       "33         No\n",
       "34         No\n",
       "35         No\n",
       "36         No\n",
       "37         No\n",
       "38         No\n",
       "39     0.02Ξ \n",
       "40         No\n",
       "41         No\n",
       "42         No\n",
       "43         No\n",
       "44         No\n",
       "45         No\n",
       "46         No\n",
       "47         No\n",
       "48         No\n",
       "49     0.01Ξ \n",
       "50         No\n",
       "51     0.15Ξ \n",
       "52     0.03Ξ \n",
       "53         No\n",
       "54         No\n",
       "55         No\n",
       "56         No\n",
       "57         No\n",
       "58         No\n",
       "59         No\n",
       "60     0.01Ξ \n",
       "61     0.25Ξ \n",
       "62         No\n",
       "63     0.01Ξ \n",
       "64         No\n",
       "65         No\n",
       "66         No\n",
       "67         No\n",
       "68         No\n",
       "69         No\n",
       "70         No\n",
       "71         No\n",
       "72         No\n",
       "73         No\n",
       "74     0.01Ξ \n",
       "75         No\n",
       "76         No\n",
       "77         No\n",
       "78         No\n",
       "79         No\n",
       "80         No\n",
       "81         No\n",
       "82         No\n",
       "83         No\n",
       "84         No\n",
       "85         No\n",
       "86         No\n",
       "87         No\n",
       "88     33Ξ ($\n",
       "89         No\n",
       "90         No\n",
       "91         No\n",
       "92         No\n",
       "93         No\n",
       "94         No\n",
       "95         No\n",
       "96         No\n",
       "97         No\n",
       "98         No\n",
       "99         No\n",
       "100        No\n",
       "101        No\n",
       "102        No\n",
       "103        No\n",
       "104        No\n",
       "105    0.25Ξ \n",
       "106        No\n",
       "107        No\n",
       "108        No\n",
       "109        No\n",
       "110        No\n",
       "111        No\n",
       "112    3Ξ ($6\n",
       "113        No\n",
       "114        No\n",
       "115        No\n",
       "116        No\n",
       "117        No\n",
       "118        No\n",
       "119        No\n",
       "120    0.05Ξ \n",
       "121        No\n",
       "122    0.25Ξ \n",
       "123        No\n",
       "124        No\n",
       "125        No\n",
       "126        No\n",
       "127        No\n",
       "128        No\n",
       "129        No\n",
       "130        No\n",
       "131        No\n",
       "132        No\n",
       "133        No\n",
       "134        No\n",
       "135        No\n",
       "136        No\n",
       "137        No\n",
       "138        No\n",
       "139        No\n",
       "140        No\n",
       "141        No\n",
       "142        No\n",
       "143        No\n",
       "144        No\n",
       "145        No\n",
       "146        No\n",
       "147        No\n",
       "148        No\n",
       "149        No\n",
       "150        No\n",
       "151        No\n",
       "152        No\n",
       "153        No\n",
       "154        No\n",
       "155        No\n",
       "156        No\n",
       "157        No\n",
       "158        No\n",
       "159        No\n",
       "160        No\n",
       "161        No\n",
       "162        No\n",
       "163        No\n",
       "164        No\n",
       "165        No\n",
       "166        No\n",
       "167        No\n",
       "168        No\n",
       "169        No\n",
       "170        No\n",
       "171        No\n",
       "172        No\n",
       "173        No\n",
       "174        No\n",
       "175        No\n",
       "176        No\n",
       "177        No\n",
       "178        No\n",
       "179        No\n",
       "180        No\n",
       "181        No\n",
       "182        No\n",
       "183        No\n",
       "184        No\n",
       "185        No\n",
       "186        No\n",
       "187    0.21Ξ \n",
       "188        No\n",
       "189        No\n",
       "190        No\n",
       "191        No\n",
       "192        No\n",
       "193        No\n",
       "194        No\n",
       "195        No\n",
       "196        No\n",
       "197        No\n",
       "198        No\n",
       "199        No\n",
       "Name: bids_eth, dtype: object"
      ]
     },
     "execution_count": 39,
     "metadata": {},
     "output_type": "execute_result"
    }
   ],
   "source": [
    "df_1['bids_eth'].head(200)"
   ]
  },
  {
   "cell_type": "code",
   "execution_count": 40,
   "id": "9571a3ac",
   "metadata": {
    "ExecuteTime": {
     "end_time": "2021-07-04T08:51:30.448619Z",
     "start_time": "2021-07-04T08:51:30.365305Z"
    }
   },
   "outputs": [],
   "source": [
    "df_1['bids_eth'].replace({'Ξ':'', 'No':'', '\\(\\$\\d?': ''}, regex=True, inplace=True)"
   ]
  },
  {
   "cell_type": "code",
   "execution_count": 41,
   "id": "861d6cfb",
   "metadata": {
    "ExecuteTime": {
     "end_time": "2021-07-04T08:51:31.183749Z",
     "start_time": "2021-07-04T08:51:31.155827Z"
    }
   },
   "outputs": [],
   "source": [
    "df_1['bids_placer'] = df_1['bids_price'].str.extract(r'(from\\s\\w+)')"
   ]
  },
  {
   "cell_type": "code",
   "execution_count": 42,
   "id": "caf26919",
   "metadata": {
    "ExecuteTime": {
     "end_time": "2021-07-04T08:51:31.681472Z",
     "start_time": "2021-07-04T08:51:31.656536Z"
    }
   },
   "outputs": [],
   "source": [
    "df_1['bids_placer'].replace({'from':''}, regex=True, inplace=True)"
   ]
  },
  {
   "cell_type": "code",
   "execution_count": 43,
   "id": "d812a7d6",
   "metadata": {
    "ExecuteTime": {
     "end_time": "2021-07-04T08:51:32.150506Z",
     "start_time": "2021-07-04T08:51:32.128597Z"
    }
   },
   "outputs": [],
   "source": [
    "df_1.drop('bids_price', axis=1, inplace=True)"
   ]
  },
  {
   "cell_type": "code",
   "execution_count": 44,
   "id": "7e49067b",
   "metadata": {
    "ExecuteTime": {
     "end_time": "2021-07-04T08:51:32.790458Z",
     "start_time": "2021-07-04T08:51:32.768519Z"
    }
   },
   "outputs": [],
   "source": [
    "factors = {'K': 10**3,\n",
    "          'M': 10**6,\n",
    "          'G': 10**9,\n",
    "          'T': 10**12,\n",
    "          'P': 10**15,\n",
    "          'E': 10**18,\n",
    "          'Z': 10**21,\n",
    "          'Y': 10**24,\n",
    "          'B': 10**9,\n",
    "          }\n",
    "\n",
    "df_1['eth_factors'] = df_1['eth_factors'].map(factors).astype(float)\n",
    "df_1['dolar_factors'] = df_1['dolar_factors'].map(factors).astype(float)"
   ]
  },
  {
   "cell_type": "code",
   "execution_count": 45,
   "id": "f825aaed",
   "metadata": {
    "ExecuteTime": {
     "end_time": "2021-07-04T08:51:38.422277Z",
     "start_time": "2021-07-04T08:51:38.404324Z"
    }
   },
   "outputs": [
    {
     "data": {
      "text/plain": [
       "Index(['cryptopunk_number', 'owner', 'for_sale', 'are_bids', 'price_eth', 'price_dolar', 'bids_placer', 'dolar_factors', 'eth_factors', 'bids_dolars', 'bids_eth'], dtype='object')"
      ]
     },
     "execution_count": 45,
     "metadata": {},
     "output_type": "execute_result"
    }
   ],
   "source": [
    "df_1.columns"
   ]
  },
  {
   "cell_type": "code",
   "execution_count": 46,
   "id": "a4887444",
   "metadata": {
    "ExecuteTime": {
     "end_time": "2021-07-04T08:51:39.654979Z",
     "start_time": "2021-07-04T08:51:39.641982Z"
    }
   },
   "outputs": [],
   "source": [
    "df_1 = df_1[['cryptopunk_number', 'owner', 'for_sale', 'price_dolar', 'dolar_factors', 'price_eth', 'eth_factors', \n",
    "             'are_bids', 'bids_placer', 'bids_dolars', 'bids_eth']]"
   ]
  },
  {
   "cell_type": "code",
   "execution_count": 47,
   "id": "76a01370",
   "metadata": {
    "ExecuteTime": {
     "end_time": "2021-07-04T08:51:40.328237Z",
     "start_time": "2021-07-04T08:51:40.313276Z"
    }
   },
   "outputs": [],
   "source": [
    "df_1.replace(r'', np.nan, regex=True, inplace=True)"
   ]
  },
  {
   "cell_type": "code",
   "execution_count": 48,
   "id": "3f62a2da",
   "metadata": {
    "ExecuteTime": {
     "end_time": "2021-07-04T08:51:41.997321Z",
     "start_time": "2021-07-04T08:51:41.976378Z"
    }
   },
   "outputs": [],
   "source": [
    "df_1 = df_1.fillna(value=np.nan)"
   ]
  },
  {
   "cell_type": "code",
   "execution_count": 49,
   "id": "528525ba",
   "metadata": {
    "ExecuteTime": {
     "end_time": "2021-07-04T08:51:42.735188Z",
     "start_time": "2021-07-04T08:51:42.697290Z"
    }
   },
   "outputs": [
    {
     "data": {
      "text/html": [
       "<div>\n",
       "<style scoped>\n",
       "    .dataframe tbody tr th:only-of-type {\n",
       "        vertical-align: middle;\n",
       "    }\n",
       "\n",
       "    .dataframe tbody tr th {\n",
       "        vertical-align: top;\n",
       "    }\n",
       "\n",
       "    .dataframe thead th {\n",
       "        text-align: right;\n",
       "    }\n",
       "</style>\n",
       "<table border=\"1\" class=\"dataframe\">\n",
       "  <thead>\n",
       "    <tr style=\"text-align: right;\">\n",
       "      <th></th>\n",
       "      <th>cryptopunk_number</th>\n",
       "      <th>owner</th>\n",
       "      <th>for_sale</th>\n",
       "      <th>price_dolar</th>\n",
       "      <th>dolar_factors</th>\n",
       "      <th>price_eth</th>\n",
       "      <th>eth_factors</th>\n",
       "      <th>are_bids</th>\n",
       "      <th>bids_placer</th>\n",
       "      <th>bids_dolars</th>\n",
       "      <th>bids_eth</th>\n",
       "    </tr>\n",
       "  </thead>\n",
       "  <tbody>\n",
       "    <tr>\n",
       "      <th>0</th>\n",
       "      <td>0</td>\n",
       "      <td>0xe08c32</td>\n",
       "      <td>No</td>\n",
       "      <td>NaN</td>\n",
       "      <td>NaN</td>\n",
       "      <td>None</td>\n",
       "      <td>NaN</td>\n",
       "      <td>No</td>\n",
       "      <td>NaN</td>\n",
       "      <td>NaN</td>\n",
       "      <td>NaN</td>\n",
       "    </tr>\n",
       "    <tr>\n",
       "      <th>1</th>\n",
       "      <td>1</td>\n",
       "      <td>0xb88f61</td>\n",
       "      <td>No</td>\n",
       "      <td>NaN</td>\n",
       "      <td>NaN</td>\n",
       "      <td>None</td>\n",
       "      <td>NaN</td>\n",
       "      <td>No</td>\n",
       "      <td>NaN</td>\n",
       "      <td>NaN</td>\n",
       "      <td>NaN</td>\n",
       "    </tr>\n",
       "    <tr>\n",
       "      <th>2</th>\n",
       "      <td>2</td>\n",
       "      <td>0x897aea</td>\n",
       "      <td>No</td>\n",
       "      <td>NaN</td>\n",
       "      <td>NaN</td>\n",
       "      <td>None</td>\n",
       "      <td>NaN</td>\n",
       "      <td>Yes</td>\n",
       "      <td>0x7f6498</td>\n",
       "      <td>4</td>\n",
       "      <td>0.01</td>\n",
       "    </tr>\n",
       "    <tr>\n",
       "      <th>3</th>\n",
       "      <td>3</td>\n",
       "      <td>0xc352b5</td>\n",
       "      <td>No</td>\n",
       "      <td>NaN</td>\n",
       "      <td>NaN</td>\n",
       "      <td>None</td>\n",
       "      <td>NaN</td>\n",
       "      <td>No</td>\n",
       "      <td>NaN</td>\n",
       "      <td>NaN</td>\n",
       "      <td>NaN</td>\n",
       "    </tr>\n",
       "    <tr>\n",
       "      <th>4</th>\n",
       "      <td>4</td>\n",
       "      <td>0xc352b5</td>\n",
       "      <td>No</td>\n",
       "      <td>NaN</td>\n",
       "      <td>NaN</td>\n",
       "      <td>None</td>\n",
       "      <td>NaN</td>\n",
       "      <td>No</td>\n",
       "      <td>NaN</td>\n",
       "      <td>NaN</td>\n",
       "      <td>NaN</td>\n",
       "    </tr>\n",
       "    <tr>\n",
       "      <th>...</th>\n",
       "      <td>...</td>\n",
       "      <td>...</td>\n",
       "      <td>...</td>\n",
       "      <td>...</td>\n",
       "      <td>...</td>\n",
       "      <td>...</td>\n",
       "      <td>...</td>\n",
       "      <td>...</td>\n",
       "      <td>...</td>\n",
       "      <td>...</td>\n",
       "      <td>...</td>\n",
       "    </tr>\n",
       "    <tr>\n",
       "      <th>9995</th>\n",
       "      <td>9995</td>\n",
       "      <td>0x758353</td>\n",
       "      <td>No</td>\n",
       "      <td>NaN</td>\n",
       "      <td>NaN</td>\n",
       "      <td>None</td>\n",
       "      <td>NaN</td>\n",
       "      <td>No</td>\n",
       "      <td>NaN</td>\n",
       "      <td>NaN</td>\n",
       "      <td>NaN</td>\n",
       "    </tr>\n",
       "    <tr>\n",
       "      <th>9996</th>\n",
       "      <td>9996</td>\n",
       "      <td>0xa9bfa9</td>\n",
       "      <td>No</td>\n",
       "      <td>NaN</td>\n",
       "      <td>NaN</td>\n",
       "      <td>None</td>\n",
       "      <td>NaN</td>\n",
       "      <td>No</td>\n",
       "      <td>NaN</td>\n",
       "      <td>NaN</td>\n",
       "      <td>NaN</td>\n",
       "    </tr>\n",
       "    <tr>\n",
       "      <th>9997</th>\n",
       "      <td>9997</td>\n",
       "      <td>0x279679</td>\n",
       "      <td>Yes</td>\n",
       "      <td>991742</td>\n",
       "      <td>NaN</td>\n",
       "      <td>450</td>\n",
       "      <td>NaN</td>\n",
       "      <td>No</td>\n",
       "      <td>NaN</td>\n",
       "      <td>NaN</td>\n",
       "      <td>NaN</td>\n",
       "    </tr>\n",
       "    <tr>\n",
       "      <th>9998</th>\n",
       "      <td>9998</td>\n",
       "      <td>0xcfd9cc</td>\n",
       "      <td>No</td>\n",
       "      <td>NaN</td>\n",
       "      <td>NaN</td>\n",
       "      <td>None</td>\n",
       "      <td>NaN</td>\n",
       "      <td>No</td>\n",
       "      <td>NaN</td>\n",
       "      <td>NaN</td>\n",
       "      <td>NaN</td>\n",
       "    </tr>\n",
       "    <tr>\n",
       "      <th>9999</th>\n",
       "      <td>9999</td>\n",
       "      <td>punk9999…</td>\n",
       "      <td>No</td>\n",
       "      <td>NaN</td>\n",
       "      <td>NaN</td>\n",
       "      <td>None</td>\n",
       "      <td>NaN</td>\n",
       "      <td>Yes</td>\n",
       "      <td>0x20ed17</td>\n",
       "      <td>489</td>\n",
       "      <td>0.22</td>\n",
       "    </tr>\n",
       "  </tbody>\n",
       "</table>\n",
       "<p>10000 rows × 11 columns</p>\n",
       "</div>"
      ],
      "text/plain": [
       "      cryptopunk_number       owner for_sale price_dolar  dolar_factors price_eth  eth_factors are_bids bids_placer bids_dolars bids_eth\n",
       "0                     0    0xe08c32       No         NaN            NaN      None          NaN       No         NaN         NaN      NaN\n",
       "1                     1    0xb88f61       No         NaN            NaN      None          NaN       No         NaN         NaN      NaN\n",
       "2                     2    0x897aea       No         NaN            NaN      None          NaN      Yes    0x7f6498           4    0.01 \n",
       "3                     3    0xc352b5       No         NaN            NaN      None          NaN       No         NaN         NaN      NaN\n",
       "4                     4    0xc352b5       No         NaN            NaN      None          NaN       No         NaN         NaN      NaN\n",
       "...                 ...         ...      ...         ...            ...       ...          ...      ...         ...         ...      ...\n",
       "9995               9995    0x758353       No         NaN            NaN      None          NaN       No         NaN         NaN      NaN\n",
       "9996               9996    0xa9bfa9       No         NaN            NaN      None          NaN       No         NaN         NaN      NaN\n",
       "9997               9997    0x279679      Yes      991742            NaN       450          NaN       No         NaN         NaN      NaN\n",
       "9998               9998    0xcfd9cc       No         NaN            NaN      None          NaN       No         NaN         NaN      NaN\n",
       "9999               9999   punk9999…       No         NaN            NaN      None          NaN      Yes    0x20ed17         489    0.22 \n",
       "\n",
       "[10000 rows x 11 columns]"
      ]
     },
     "execution_count": 49,
     "metadata": {},
     "output_type": "execute_result"
    }
   ],
   "source": [
    "df_1"
   ]
  },
  {
   "cell_type": "code",
   "execution_count": 50,
   "id": "3408b1a6",
   "metadata": {
    "ExecuteTime": {
     "end_time": "2021-07-04T08:51:55.451010Z",
     "start_time": "2021-07-04T08:51:55.368976Z"
    }
   },
   "outputs": [],
   "source": [
    "df_1.to_csv('estat_punk_actual_df.csv')"
   ]
  },
  {
   "cell_type": "code",
   "execution_count": 51,
   "id": "2d6cdc6e",
   "metadata": {
    "ExecuteTime": {
     "end_time": "2021-07-04T08:51:56.046575Z",
     "start_time": "2021-07-04T08:51:56.036931Z"
    }
   },
   "outputs": [
    {
     "data": {
      "text/plain": [
       "1.000000e+03    44\n",
       "1.000000e+24    20\n",
       "1.000000e+06     1\n",
       "Name: eth_factors, dtype: int64"
      ]
     },
     "execution_count": 51,
     "metadata": {},
     "output_type": "execute_result"
    }
   ],
   "source": [
    "df_1['eth_factors'].value_counts()"
   ]
  },
  {
   "cell_type": "code",
   "execution_count": 52,
   "id": "6bddb568",
   "metadata": {
    "ExecuteTime": {
     "end_time": "2021-07-04T08:52:15.651968Z",
     "start_time": "2021-07-04T08:52:15.628878Z"
    }
   },
   "outputs": [
    {
     "data": {
      "text/plain": [
       "1.000000e+06    114\n",
       "1.000000e+24     20\n",
       "1.000000e+09      1\n",
       "Name: dolar_factors, dtype: int64"
      ]
     },
     "execution_count": 52,
     "metadata": {},
     "output_type": "execute_result"
    }
   ],
   "source": [
    "df_1['dolar_factors'].value_counts()"
   ]
  },
  {
   "cell_type": "markdown",
   "id": "17ef0e5c",
   "metadata": {},
   "source": [
    "### TXN_TOTAL"
   ]
  },
  {
   "cell_type": "markdown",
   "id": "79d21888",
   "metadata": {},
   "source": [
    "Volem deixar la taula TXN_TOTAL així:\n",
    "\n",
    "- cryptopunk_number\n",
    "- txn_type\n",
    "- from\n",
    "- to\n",
    "- amount_dolars\n",
    "- dolars_factors:\n",
    "- amount_ethereum\n",
    "- ethereum_factors:\n",
    "- txn_date\n"
   ]
  },
  {
   "cell_type": "code",
   "execution_count": 122,
   "id": "495dd4a8",
   "metadata": {
    "ExecuteTime": {
     "end_time": "2021-07-04T08:57:56.569365Z",
     "start_time": "2021-07-04T08:57:56.191289Z"
    }
   },
   "outputs": [],
   "source": [
    "df_2 = pd.read_csv('TXN_TOTAL.csv')"
   ]
  },
  {
   "cell_type": "code",
   "execution_count": 123,
   "id": "c04fb4e5",
   "metadata": {
    "ExecuteTime": {
     "end_time": "2021-07-04T08:57:56.616155Z",
     "start_time": "2021-07-04T08:57:56.573269Z"
    }
   },
   "outputs": [
    {
     "data": {
      "text/html": [
       "<div>\n",
       "<style scoped>\n",
       "    .dataframe tbody tr th:only-of-type {\n",
       "        vertical-align: middle;\n",
       "    }\n",
       "\n",
       "    .dataframe tbody tr th {\n",
       "        vertical-align: top;\n",
       "    }\n",
       "\n",
       "    .dataframe thead th {\n",
       "        text-align: right;\n",
       "    }\n",
       "</style>\n",
       "<table border=\"1\" class=\"dataframe\">\n",
       "  <thead>\n",
       "    <tr style=\"text-align: right;\">\n",
       "      <th></th>\n",
       "      <th>Unnamed: 0</th>\n",
       "      <th>Unnamed: 0.1</th>\n",
       "      <th>txn_type</th>\n",
       "      <th>from</th>\n",
       "      <th>to</th>\n",
       "      <th>amount</th>\n",
       "      <th>txn_date</th>\n",
       "      <th>cryptopunk_number</th>\n",
       "    </tr>\n",
       "  </thead>\n",
       "  <tbody>\n",
       "    <tr>\n",
       "      <th>0</th>\n",
       "      <td>0</td>\n",
       "      <td>0</td>\n",
       "      <td>0</td>\n",
       "      <td>NaN</td>\n",
       "      <td>NaN</td>\n",
       "      <td>NaN</td>\n",
       "      <td>NaN</td>\n",
       "      <td>NaN</td>\n",
       "    </tr>\n",
       "    <tr>\n",
       "      <th>1</th>\n",
       "      <td>1</td>\n",
       "      <td>1</td>\n",
       "      <td>Bid Withdrawn</td>\n",
       "      <td>0x983ace</td>\n",
       "      <td>NaN</td>\n",
       "      <td>250Ξ ($1.03M)</td>\n",
       "      <td>May 10, 2021</td>\n",
       "      <td>0.0</td>\n",
       "    </tr>\n",
       "    <tr>\n",
       "      <th>2</th>\n",
       "      <td>2</td>\n",
       "      <td>2</td>\n",
       "      <td>Bid</td>\n",
       "      <td>0x983ace</td>\n",
       "      <td>NaN</td>\n",
       "      <td>250Ξ ($537,615)</td>\n",
       "      <td>Apr 11, 2021</td>\n",
       "      <td>0.0</td>\n",
       "    </tr>\n",
       "    <tr>\n",
       "      <th>3</th>\n",
       "      <td>3</td>\n",
       "      <td>3</td>\n",
       "      <td>Bid Withdrawn</td>\n",
       "      <td>0xd7510a</td>\n",
       "      <td>NaN</td>\n",
       "      <td>100Ξ ($160,973)</td>\n",
       "      <td>Mar 03, 2021</td>\n",
       "      <td>0.0</td>\n",
       "    </tr>\n",
       "    <tr>\n",
       "      <th>4</th>\n",
       "      <td>4</td>\n",
       "      <td>4</td>\n",
       "      <td>Bid</td>\n",
       "      <td>0xd7510a</td>\n",
       "      <td>NaN</td>\n",
       "      <td>100Ξ ($188,897)</td>\n",
       "      <td>Feb 20, 2021</td>\n",
       "      <td>0.0</td>\n",
       "    </tr>\n",
       "    <tr>\n",
       "      <th>...</th>\n",
       "      <td>...</td>\n",
       "      <td>...</td>\n",
       "      <td>...</td>\n",
       "      <td>...</td>\n",
       "      <td>...</td>\n",
       "      <td>...</td>\n",
       "      <td>...</td>\n",
       "      <td>...</td>\n",
       "    </tr>\n",
       "    <tr>\n",
       "      <th>133269</th>\n",
       "      <td>133269</td>\n",
       "      <td>70605</td>\n",
       "      <td>Bid</td>\n",
       "      <td>0xa0a59c</td>\n",
       "      <td>NaN</td>\n",
       "      <td>0.25Ξ ($69)</td>\n",
       "      <td>Jul 03, 2017</td>\n",
       "      <td>9999.0</td>\n",
       "    </tr>\n",
       "    <tr>\n",
       "      <th>133270</th>\n",
       "      <td>133270</td>\n",
       "      <td>70606</td>\n",
       "      <td>Bid</td>\n",
       "      <td>0x717403</td>\n",
       "      <td>NaN</td>\n",
       "      <td>0.20Ξ ($51)</td>\n",
       "      <td>Jun 26, 2017</td>\n",
       "      <td>9999.0</td>\n",
       "    </tr>\n",
       "    <tr>\n",
       "      <th>133271</th>\n",
       "      <td>133271</td>\n",
       "      <td>70607</td>\n",
       "      <td>Bid</td>\n",
       "      <td>ddaavvee</td>\n",
       "      <td>NaN</td>\n",
       "      <td>0.20Ξ ($65)</td>\n",
       "      <td>Jun 23, 2017</td>\n",
       "      <td>9999.0</td>\n",
       "    </tr>\n",
       "    <tr>\n",
       "      <th>133272</th>\n",
       "      <td>133272</td>\n",
       "      <td>70608</td>\n",
       "      <td>Bid</td>\n",
       "      <td>0x5b098b</td>\n",
       "      <td>NaN</td>\n",
       "      <td>0.15Ξ ($50)</td>\n",
       "      <td>Jun 23, 2017</td>\n",
       "      <td>9999.0</td>\n",
       "    </tr>\n",
       "    <tr>\n",
       "      <th>133273</th>\n",
       "      <td>133273</td>\n",
       "      <td>70609</td>\n",
       "      <td>Claimed</td>\n",
       "      <td>NaN</td>\n",
       "      <td>0x7e2d1c</td>\n",
       "      <td>NaN</td>\n",
       "      <td>Jun 23, 2017</td>\n",
       "      <td>9999.0</td>\n",
       "    </tr>\n",
       "  </tbody>\n",
       "</table>\n",
       "<p>133274 rows × 8 columns</p>\n",
       "</div>"
      ],
      "text/plain": [
       "        Unnamed: 0  Unnamed: 0.1       txn_type      from        to           amount      txn_date  cryptopunk_number\n",
       "0                0             0              0       NaN       NaN              NaN           NaN                NaN\n",
       "1                1             1  Bid Withdrawn  0x983ace       NaN    250Ξ ($1.03M)  May 10, 2021                0.0\n",
       "2                2             2            Bid  0x983ace       NaN  250Ξ ($537,615)  Apr 11, 2021                0.0\n",
       "3                3             3  Bid Withdrawn  0xd7510a       NaN  100Ξ ($160,973)  Mar 03, 2021                0.0\n",
       "4                4             4            Bid  0xd7510a       NaN  100Ξ ($188,897)  Feb 20, 2021                0.0\n",
       "...            ...           ...            ...       ...       ...              ...           ...                ...\n",
       "133269      133269         70605            Bid  0xa0a59c       NaN      0.25Ξ ($69)  Jul 03, 2017             9999.0\n",
       "133270      133270         70606            Bid  0x717403       NaN      0.20Ξ ($51)  Jun 26, 2017             9999.0\n",
       "133271      133271         70607            Bid  ddaavvee       NaN      0.20Ξ ($65)  Jun 23, 2017             9999.0\n",
       "133272      133272         70608            Bid  0x5b098b       NaN      0.15Ξ ($50)  Jun 23, 2017             9999.0\n",
       "133273      133273         70609        Claimed       NaN  0x7e2d1c              NaN  Jun 23, 2017             9999.0\n",
       "\n",
       "[133274 rows x 8 columns]"
      ]
     },
     "execution_count": 123,
     "metadata": {},
     "output_type": "execute_result"
    }
   ],
   "source": [
    "df_2"
   ]
  },
  {
   "cell_type": "code",
   "execution_count": 124,
   "id": "8b0efb01",
   "metadata": {
    "ExecuteTime": {
     "end_time": "2021-07-04T08:57:56.647475Z",
     "start_time": "2021-07-04T08:57:56.621142Z"
    }
   },
   "outputs": [],
   "source": [
    "df_2.drop(['Unnamed: 0', 'Unnamed: 0.1'], axis=1, inplace=True)"
   ]
  },
  {
   "cell_type": "code",
   "execution_count": 125,
   "id": "ddb483ac",
   "metadata": {
    "ExecuteTime": {
     "end_time": "2021-07-04T08:57:56.694040Z",
     "start_time": "2021-07-04T08:57:56.656048Z"
    }
   },
   "outputs": [],
   "source": [
    "df_2.drop(0, inplace=True)"
   ]
  },
  {
   "cell_type": "code",
   "execution_count": 126,
   "id": "0f688d10",
   "metadata": {
    "ExecuteTime": {
     "end_time": "2021-07-04T08:57:56.898436Z",
     "start_time": "2021-07-04T08:57:56.848105Z"
    }
   },
   "outputs": [
    {
     "data": {
      "text/plain": [
       "Offered            43487\n",
       "Bid                21934\n",
       "Sold               13848\n",
       "Bid Withdrawn      12429\n",
       "Transfer           10687\n",
       "Claimed            10000\n",
       "Offer Withdrawn     6534\n",
       "(Wrap)              2297\n",
       "(Unwrap)            2058\n",
       "6927                   1\n",
       "Name: txn_type, dtype: int64"
      ]
     },
     "execution_count": 126,
     "metadata": {},
     "output_type": "execute_result"
    }
   ],
   "source": [
    "df_2.txn_type.value_counts().head(10)"
   ]
  },
  {
   "cell_type": "code",
   "execution_count": 127,
   "id": "998d1f2d",
   "metadata": {
    "ExecuteTime": {
     "end_time": "2021-07-04T08:57:57.071649Z",
     "start_time": "2021-07-04T08:57:57.020657Z"
    }
   },
   "outputs": [
    {
     "data": {
      "text/plain": [
       "Pranksy      0.036220\n",
       "WrappedC…    0.032536\n",
       "0x717403     0.032520\n",
       "Hemba        0.019430\n",
       "0x7760e0     0.017090\n",
       "               ...   \n",
       "0x54e70a     0.000016\n",
       "0x086f30     0.000016\n",
       "0x9c6b92     0.000016\n",
       "0xb9051f     0.000016\n",
       "0x3e37e1     0.000016\n",
       "Name: from, Length: 4052, dtype: float64"
      ]
     },
     "execution_count": 127,
     "metadata": {},
     "output_type": "execute_result"
    }
   ],
   "source": [
    "df_2['from'].value_counts(normalize=True)"
   ]
  },
  {
   "cell_type": "code",
   "execution_count": 128,
   "id": "1f291aa0",
   "metadata": {
    "ExecuteTime": {
     "end_time": "2021-07-04T08:57:57.340656Z",
     "start_time": "2021-07-04T08:57:57.297739Z"
    }
   },
   "outputs": [
    {
     "data": {
      "text/plain": [
       "WrappedC…    0.058542\n",
       "0xc352b5     0.027219\n",
       "Hemba        0.024874\n",
       "0x00d7c9     0.023549\n",
       "Pranksy      0.018834\n",
       "               ...   \n",
       "0x829a08     0.000025\n",
       "0x139e58     0.000025\n",
       "0x7989e7     0.000025\n",
       "0x83fdb6     0.000025\n",
       "0xdb9f8b     0.000025\n",
       "Name: to, Length: 4343, dtype: float64"
      ]
     },
     "execution_count": 128,
     "metadata": {},
     "output_type": "execute_result"
    }
   ],
   "source": [
    "df_2['to'].value_counts(normalize=True)"
   ]
  },
  {
   "cell_type": "code",
   "execution_count": 129,
   "id": "a7c8d74b",
   "metadata": {
    "ExecuteTime": {
     "end_time": "2021-07-04T08:57:57.559932Z",
     "start_time": "2021-07-04T08:57:57.456209Z"
    }
   },
   "outputs": [
    {
     "data": {
      "text/plain": [
       "0.05Ξ ($14)          1025\n",
       "0.05Ξ ($13)           800\n",
       "<0.01Ξ ($<0.01)       657\n",
       "0.05Ξ ($16)           569\n",
       "0.03Ξ ($10)           387\n",
       "                     ... \n",
       "130Ξ ($232,913)         1\n",
       "28Ξ ($67,100)           1\n",
       "44.90Ξ ($111,153)       1\n",
       "24.50Ξ ($56,420)        1\n",
       "16.50Ξ ($32,307)        1\n",
       "Name: amount, Length: 52622, dtype: int64"
      ]
     },
     "execution_count": 129,
     "metadata": {},
     "output_type": "execute_result"
    }
   ],
   "source": [
    "df_2['amount'].value_counts()"
   ]
  },
  {
   "cell_type": "code",
   "execution_count": 130,
   "id": "16bcbd27",
   "metadata": {
    "ExecuteTime": {
     "end_time": "2021-07-04T08:57:57.668642Z",
     "start_time": "2021-07-04T08:57:57.628752Z"
    }
   },
   "outputs": [
    {
     "data": {
      "text/plain": [
       "Jun 23, 2017    10452\n",
       "May 03, 2021     1635\n",
       "Mar 28, 2021     1287\n",
       "Sep 28, 2020     1193\n",
       "Feb 21, 2021     1117\n",
       "                ...  \n",
       "Nov 02, 2018        1\n",
       "Feb 20, 2018        1\n",
       "Sep 07, 2019        1\n",
       "Apr 12, 2018        1\n",
       "Apr 05, 2020        1\n",
       "Name: txn_date, Length: 1367, dtype: int64"
      ]
     },
     "execution_count": 130,
     "metadata": {},
     "output_type": "execute_result"
    }
   ],
   "source": [
    "df_2['txn_date'].value_counts()"
   ]
  },
  {
   "cell_type": "code",
   "execution_count": 131,
   "id": "8642eadf",
   "metadata": {
    "ExecuteTime": {
     "end_time": "2021-07-04T08:57:57.764388Z",
     "start_time": "2021-07-04T08:57:57.741446Z"
    }
   },
   "outputs": [
    {
     "data": {
      "text/plain": [
       "3914.0    111\n",
       "6704.0    104\n",
       "1737.0    102\n",
       "7421.0    102\n",
       "8951.0     99\n",
       "         ... \n",
       "8496.0      1\n",
       "2171.0      1\n",
       "2797.0      1\n",
       "4981.0      1\n",
       "5459.0      1\n",
       "Name: cryptopunk_number, Length: 10000, dtype: int64"
      ]
     },
     "execution_count": 131,
     "metadata": {},
     "output_type": "execute_result"
    }
   ],
   "source": [
    "df_2['cryptopunk_number'].value_counts()"
   ]
  },
  {
   "cell_type": "code",
   "execution_count": 132,
   "id": "0ed71cd4",
   "metadata": {
    "ExecuteTime": {
     "end_time": "2021-07-04T08:57:57.890802Z",
     "start_time": "2021-07-04T08:57:57.874859Z"
    }
   },
   "outputs": [
    {
     "data": {
      "text/plain": [
       "Index(['txn_type', 'from', 'to', 'amount', 'txn_date', 'cryptopunk_number'], dtype='object')"
      ]
     },
     "execution_count": 132,
     "metadata": {},
     "output_type": "execute_result"
    }
   ],
   "source": [
    "df_2.columns"
   ]
  },
  {
   "cell_type": "code",
   "execution_count": 133,
   "id": "59c9942e",
   "metadata": {
    "ExecuteTime": {
     "end_time": "2021-07-04T08:57:58.001505Z",
     "start_time": "2021-07-04T08:57:57.982555Z"
    }
   },
   "outputs": [],
   "source": [
    "df_2 = df_2[['cryptopunk_number','txn_type', 'from', 'to', 'amount', 'txn_date']]"
   ]
  },
  {
   "cell_type": "code",
   "execution_count": 134,
   "id": "c79f7fe3",
   "metadata": {
    "ExecuteTime": {
     "end_time": "2021-07-04T08:57:58.191585Z",
     "start_time": "2021-07-04T08:57:58.135765Z"
    }
   },
   "outputs": [
    {
     "name": "stdout",
     "output_type": "stream",
     "text": [
      "<class 'pandas.core.frame.DataFrame'>\n",
      "Int64Index: 133273 entries, 1 to 133273\n",
      "Data columns (total 6 columns):\n",
      " #   Column             Non-Null Count   Dtype  \n",
      "---  ------             --------------   -----  \n",
      " 0   cryptopunk_number  123274 non-null  float64\n",
      " 1   txn_type           133273 non-null  object \n",
      " 2   from               63253 non-null   object \n",
      " 3   to                 39237 non-null   object \n",
      " 4   amount             91698 non-null   object \n",
      " 5   txn_date           123274 non-null  object \n",
      "dtypes: float64(1), object(5)\n",
      "memory usage: 7.1+ MB\n"
     ]
    }
   ],
   "source": [
    "df_2.info()"
   ]
  },
  {
   "cell_type": "markdown",
   "id": "caa5d19f",
   "metadata": {},
   "source": [
    "Hi ha un nul per cada cryptopunk:"
   ]
  },
  {
   "cell_type": "code",
   "execution_count": 135,
   "id": "4845efe7",
   "metadata": {
    "ExecuteTime": {
     "end_time": "2021-07-04T08:57:58.583518Z",
     "start_time": "2021-07-04T08:57:58.568975Z"
    }
   },
   "outputs": [
    {
     "data": {
      "text/plain": [
       "9999"
      ]
     },
     "execution_count": 135,
     "metadata": {},
     "output_type": "execute_result"
    }
   ],
   "source": [
    "df_2['cryptopunk_number'].isna().sum()"
   ]
  },
  {
   "cell_type": "code",
   "execution_count": 136,
   "id": "e9f9e2ff",
   "metadata": {
    "ExecuteTime": {
     "end_time": "2021-07-04T08:57:59.084637Z",
     "start_time": "2021-07-04T08:57:58.747496Z"
    }
   },
   "outputs": [],
   "source": [
    "df_2[\"txn_date\"]= pd.to_datetime(df_2[\"txn_date\"])"
   ]
  },
  {
   "cell_type": "code",
   "execution_count": 137,
   "id": "ad65d3a3",
   "metadata": {
    "ExecuteTime": {
     "end_time": "2021-07-04T08:57:59.116554Z",
     "start_time": "2021-07-04T08:57:59.088158Z"
    }
   },
   "outputs": [
    {
     "data": {
      "text/plain": [
       "2017-06-23    10452\n",
       "2021-05-03     1635\n",
       "2021-03-28     1287\n",
       "2020-09-28     1193\n",
       "2021-02-21     1117\n",
       "              ...  \n",
       "2017-10-22        1\n",
       "2019-11-17        1\n",
       "2020-07-18        1\n",
       "2018-08-14        1\n",
       "2018-07-17        1\n",
       "Name: txn_date, Length: 1367, dtype: int64"
      ]
     },
     "execution_count": 137,
     "metadata": {},
     "output_type": "execute_result"
    }
   ],
   "source": [
    "df_2['txn_date'].value_counts()"
   ]
  },
  {
   "cell_type": "code",
   "execution_count": 138,
   "id": "74e6adc5",
   "metadata": {
    "ExecuteTime": {
     "end_time": "2021-07-04T08:57:59.164427Z",
     "start_time": "2021-07-04T08:57:59.119547Z"
    }
   },
   "outputs": [
    {
     "data": {
      "text/plain": [
       "cryptopunk_number     9999\n",
       "txn_type                 0\n",
       "from                 70020\n",
       "to                   94036\n",
       "amount               41575\n",
       "txn_date              9999\n",
       "dtype: int64"
      ]
     },
     "execution_count": 138,
     "metadata": {},
     "output_type": "execute_result"
    }
   ],
   "source": [
    "df_2.isna().sum()"
   ]
  },
  {
   "cell_type": "markdown",
   "id": "b26f7f2e",
   "metadata": {},
   "source": [
    "Veiem que al final de cada crypto punk hi ha una fila de barrera on els valors son nulls. Les busquem totes i les eliminem:"
   ]
  },
  {
   "cell_type": "code",
   "execution_count": 139,
   "id": "c42cccab",
   "metadata": {
    "ExecuteTime": {
     "end_time": "2021-07-04T08:57:59.514532Z",
     "start_time": "2021-07-04T08:57:59.498600Z"
    }
   },
   "outputs": [],
   "source": [
    "i = df_2['cryptopunk_number'].isna()"
   ]
  },
  {
   "cell_type": "code",
   "execution_count": 140,
   "id": "d1b192fd",
   "metadata": {
    "ExecuteTime": {
     "end_time": "2021-07-04T08:57:59.811373Z",
     "start_time": "2021-07-04T08:57:59.794397Z"
    }
   },
   "outputs": [],
   "source": [
    "i = df_2[i].index"
   ]
  },
  {
   "cell_type": "code",
   "execution_count": 141,
   "id": "8cdbf9ae",
   "metadata": {
    "ExecuteTime": {
     "end_time": "2021-07-04T08:58:00.000236Z",
     "start_time": "2021-07-04T08:57:59.950372Z"
    }
   },
   "outputs": [],
   "source": [
    "df_2.drop(i, inplace=True)"
   ]
  },
  {
   "cell_type": "code",
   "execution_count": 142,
   "id": "a353912f",
   "metadata": {
    "ExecuteTime": {
     "end_time": "2021-07-04T08:58:00.174039Z",
     "start_time": "2021-07-04T08:58:00.123174Z"
    }
   },
   "outputs": [
    {
     "data": {
      "text/plain": [
       "cryptopunk_number        0\n",
       "txn_type                 0\n",
       "from                 60021\n",
       "to                   84037\n",
       "amount               31576\n",
       "txn_date                 0\n",
       "dtype: int64"
      ]
     },
     "execution_count": 142,
     "metadata": {},
     "output_type": "execute_result"
    }
   ],
   "source": [
    "df_2.isna().sum()"
   ]
  },
  {
   "cell_type": "markdown",
   "id": "e208d7a8",
   "metadata": {},
   "source": [
    "Passem la columna de id dels punks a INT:"
   ]
  },
  {
   "cell_type": "code",
   "execution_count": 143,
   "id": "6d96408c",
   "metadata": {
    "ExecuteTime": {
     "end_time": "2021-07-04T08:58:00.658649Z",
     "start_time": "2021-07-04T08:58:00.646631Z"
    }
   },
   "outputs": [],
   "source": [
    "df_2['cryptopunk_number'] = df_2['cryptopunk_number'].astype(int)"
   ]
  },
  {
   "cell_type": "markdown",
   "id": "2a07af8c",
   "metadata": {},
   "source": [
    "Comencem amb els regex:"
   ]
  },
  {
   "cell_type": "code",
   "execution_count": 144,
   "id": "276cb7e5",
   "metadata": {
    "ExecuteTime": {
     "end_time": "2021-07-04T08:58:01.286883Z",
     "start_time": "2021-07-04T08:58:01.047907Z"
    }
   },
   "outputs": [],
   "source": [
    "df_2['amount'].replace({'<':''}, regex=True, inplace=True)"
   ]
  },
  {
   "cell_type": "markdown",
   "id": "2938cbce",
   "metadata": {},
   "source": [
    "Creem les columnes per dolars i Ethereum, omplim amb NaN els espais buits de la columna 'amount':"
   ]
  },
  {
   "cell_type": "code",
   "execution_count": 145,
   "id": "cde93db2",
   "metadata": {
    "ExecuteTime": {
     "end_time": "2021-07-04T08:58:02.444833Z",
     "start_time": "2021-07-04T08:58:02.131052Z"
    }
   },
   "outputs": [],
   "source": [
    "df_2['amount'].replace(r'^(?!\\d).*$', np.nan, regex=True, inplace=True)"
   ]
  },
  {
   "cell_type": "code",
   "execution_count": 146,
   "id": "6c0a4616",
   "metadata": {
    "ExecuteTime": {
     "end_time": "2021-07-04T08:58:02.647345Z",
     "start_time": "2021-07-04T08:58:02.618180Z"
    }
   },
   "outputs": [
    {
     "data": {
      "text/html": [
       "<div>\n",
       "<style scoped>\n",
       "    .dataframe tbody tr th:only-of-type {\n",
       "        vertical-align: middle;\n",
       "    }\n",
       "\n",
       "    .dataframe tbody tr th {\n",
       "        vertical-align: top;\n",
       "    }\n",
       "\n",
       "    .dataframe thead th {\n",
       "        text-align: right;\n",
       "    }\n",
       "</style>\n",
       "<table border=\"1\" class=\"dataframe\">\n",
       "  <thead>\n",
       "    <tr style=\"text-align: right;\">\n",
       "      <th></th>\n",
       "      <th>cryptopunk_number</th>\n",
       "      <th>txn_type</th>\n",
       "      <th>from</th>\n",
       "      <th>to</th>\n",
       "      <th>amount</th>\n",
       "      <th>txn_date</th>\n",
       "    </tr>\n",
       "  </thead>\n",
       "  <tbody>\n",
       "    <tr>\n",
       "      <th>1</th>\n",
       "      <td>0</td>\n",
       "      <td>Bid Withdrawn</td>\n",
       "      <td>0x983ace</td>\n",
       "      <td>NaN</td>\n",
       "      <td>250Ξ ($1.03M)</td>\n",
       "      <td>2021-05-10</td>\n",
       "    </tr>\n",
       "    <tr>\n",
       "      <th>2</th>\n",
       "      <td>0</td>\n",
       "      <td>Bid</td>\n",
       "      <td>0x983ace</td>\n",
       "      <td>NaN</td>\n",
       "      <td>250Ξ ($537,615)</td>\n",
       "      <td>2021-04-11</td>\n",
       "    </tr>\n",
       "    <tr>\n",
       "      <th>3</th>\n",
       "      <td>0</td>\n",
       "      <td>Bid Withdrawn</td>\n",
       "      <td>0xd7510a</td>\n",
       "      <td>NaN</td>\n",
       "      <td>100Ξ ($160,973)</td>\n",
       "      <td>2021-03-03</td>\n",
       "    </tr>\n",
       "    <tr>\n",
       "      <th>4</th>\n",
       "      <td>0</td>\n",
       "      <td>Bid</td>\n",
       "      <td>0xd7510a</td>\n",
       "      <td>NaN</td>\n",
       "      <td>100Ξ ($188,897)</td>\n",
       "      <td>2021-02-20</td>\n",
       "    </tr>\n",
       "    <tr>\n",
       "      <th>5</th>\n",
       "      <td>0</td>\n",
       "      <td>Bid Withdrawn</td>\n",
       "      <td>natealex</td>\n",
       "      <td>NaN</td>\n",
       "      <td>69Ξ ($25,532)</td>\n",
       "      <td>2020-09-16</td>\n",
       "    </tr>\n",
       "    <tr>\n",
       "      <th>...</th>\n",
       "      <td>...</td>\n",
       "      <td>...</td>\n",
       "      <td>...</td>\n",
       "      <td>...</td>\n",
       "      <td>...</td>\n",
       "      <td>...</td>\n",
       "    </tr>\n",
       "    <tr>\n",
       "      <th>133269</th>\n",
       "      <td>9999</td>\n",
       "      <td>Bid</td>\n",
       "      <td>0xa0a59c</td>\n",
       "      <td>NaN</td>\n",
       "      <td>0.25Ξ ($69)</td>\n",
       "      <td>2017-07-03</td>\n",
       "    </tr>\n",
       "    <tr>\n",
       "      <th>133270</th>\n",
       "      <td>9999</td>\n",
       "      <td>Bid</td>\n",
       "      <td>0x717403</td>\n",
       "      <td>NaN</td>\n",
       "      <td>0.20Ξ ($51)</td>\n",
       "      <td>2017-06-26</td>\n",
       "    </tr>\n",
       "    <tr>\n",
       "      <th>133271</th>\n",
       "      <td>9999</td>\n",
       "      <td>Bid</td>\n",
       "      <td>ddaavvee</td>\n",
       "      <td>NaN</td>\n",
       "      <td>0.20Ξ ($65)</td>\n",
       "      <td>2017-06-23</td>\n",
       "    </tr>\n",
       "    <tr>\n",
       "      <th>133272</th>\n",
       "      <td>9999</td>\n",
       "      <td>Bid</td>\n",
       "      <td>0x5b098b</td>\n",
       "      <td>NaN</td>\n",
       "      <td>0.15Ξ ($50)</td>\n",
       "      <td>2017-06-23</td>\n",
       "    </tr>\n",
       "    <tr>\n",
       "      <th>133273</th>\n",
       "      <td>9999</td>\n",
       "      <td>Claimed</td>\n",
       "      <td>NaN</td>\n",
       "      <td>0x7e2d1c</td>\n",
       "      <td>NaN</td>\n",
       "      <td>2017-06-23</td>\n",
       "    </tr>\n",
       "  </tbody>\n",
       "</table>\n",
       "<p>123274 rows × 6 columns</p>\n",
       "</div>"
      ],
      "text/plain": [
       "        cryptopunk_number       txn_type      from        to           amount   txn_date\n",
       "1                       0  Bid Withdrawn  0x983ace       NaN    250Ξ ($1.03M) 2021-05-10\n",
       "2                       0            Bid  0x983ace       NaN  250Ξ ($537,615) 2021-04-11\n",
       "3                       0  Bid Withdrawn  0xd7510a       NaN  100Ξ ($160,973) 2021-03-03\n",
       "4                       0            Bid  0xd7510a       NaN  100Ξ ($188,897) 2021-02-20\n",
       "5                       0  Bid Withdrawn  natealex       NaN    69Ξ ($25,532) 2020-09-16\n",
       "...                   ...            ...       ...       ...              ...        ...\n",
       "133269               9999            Bid  0xa0a59c       NaN      0.25Ξ ($69) 2017-07-03\n",
       "133270               9999            Bid  0x717403       NaN      0.20Ξ ($51) 2017-06-26\n",
       "133271               9999            Bid  ddaavvee       NaN      0.20Ξ ($65) 2017-06-23\n",
       "133272               9999            Bid  0x5b098b       NaN      0.15Ξ ($50) 2017-06-23\n",
       "133273               9999        Claimed       NaN  0x7e2d1c              NaN 2017-06-23\n",
       "\n",
       "[123274 rows x 6 columns]"
      ]
     },
     "execution_count": 146,
     "metadata": {},
     "output_type": "execute_result"
    }
   ],
   "source": [
    "df_2"
   ]
  },
  {
   "cell_type": "markdown",
   "id": "0d9dcd30",
   "metadata": {},
   "source": [
    "Columna dolars, agafant des del tercer caràcter de l'string i eliminant allò que ens sobra:"
   ]
  },
  {
   "cell_type": "code",
   "execution_count": 113,
   "id": "2284a721",
   "metadata": {
    "ExecuteTime": {
     "end_time": "2021-07-04T08:56:53.012135Z",
     "start_time": "2021-07-04T08:56:52.945313Z"
    }
   },
   "outputs": [],
   "source": [
    "df_2['amount_dolars'] = df_2['amount'].str[3:]"
   ]
  },
  {
   "cell_type": "code",
   "execution_count": 114,
   "id": "fad46b52",
   "metadata": {
    "ExecuteTime": {
     "end_time": "2021-07-04T08:56:57.726360Z",
     "start_time": "2021-07-04T08:56:54.364928Z"
    }
   },
   "outputs": [],
   "source": [
    "df_2['amount_dolars'].replace({'\\.?\\d*[a-zA-Z]?Ξ':'','\\s':'', '\\$':'', '\\(':'',  '\\)':'', '\\,':'', '[a-zA-Z]':''}, regex=True, inplace=True)"
   ]
  },
  {
   "cell_type": "markdown",
   "id": "5a77bcda",
   "metadata": {},
   "source": [
    "Columna d'ethereum, agafant des del setè caràcter de l'string i eliminant allò que ens sobra:"
   ]
  },
  {
   "cell_type": "code",
   "execution_count": 115,
   "id": "586aafc9",
   "metadata": {
    "ExecuteTime": {
     "end_time": "2021-07-04T08:56:59.069735Z",
     "start_time": "2021-07-04T08:56:59.007029Z"
    }
   },
   "outputs": [],
   "source": [
    "df_2['amount_eth'] = df_2['amount'].str[:7]"
   ]
  },
  {
   "cell_type": "code",
   "execution_count": 116,
   "id": "332c5b4f",
   "metadata": {
    "ExecuteTime": {
     "end_time": "2021-07-04T08:57:02.485511Z",
     "start_time": "2021-07-04T08:56:59.479965Z"
    }
   },
   "outputs": [],
   "source": [
    "df_2['amount_eth'].replace({'Ξ':'','\\s':'', '\\(':'','\\)':'','\\$':'','\\$\\d+?': '', '\\,':'', '[a-zA-Z]':''}, regex=True, inplace=True)"
   ]
  },
  {
   "cell_type": "code",
   "execution_count": 117,
   "id": "a609bc08",
   "metadata": {
    "ExecuteTime": {
     "end_time": "2021-07-04T08:57:02.547381Z",
     "start_time": "2021-07-04T08:57:02.489856Z"
    }
   },
   "outputs": [
    {
     "data": {
      "text/html": [
       "<div>\n",
       "<style scoped>\n",
       "    .dataframe tbody tr th:only-of-type {\n",
       "        vertical-align: middle;\n",
       "    }\n",
       "\n",
       "    .dataframe tbody tr th {\n",
       "        vertical-align: top;\n",
       "    }\n",
       "\n",
       "    .dataframe thead th {\n",
       "        text-align: right;\n",
       "    }\n",
       "</style>\n",
       "<table border=\"1\" class=\"dataframe\">\n",
       "  <thead>\n",
       "    <tr style=\"text-align: right;\">\n",
       "      <th></th>\n",
       "      <th>cryptopunk_number</th>\n",
       "      <th>txn_type</th>\n",
       "      <th>from</th>\n",
       "      <th>to</th>\n",
       "      <th>amount</th>\n",
       "      <th>txn_date</th>\n",
       "      <th>amount_dolars</th>\n",
       "      <th>amount_eth</th>\n",
       "    </tr>\n",
       "  </thead>\n",
       "  <tbody>\n",
       "    <tr>\n",
       "      <th>1</th>\n",
       "      <td>0</td>\n",
       "      <td>Bid Withdrawn</td>\n",
       "      <td>0x983ace</td>\n",
       "      <td>NaN</td>\n",
       "      <td>250Ξ ($1.03M)</td>\n",
       "      <td>2021-05-10</td>\n",
       "      <td>1.03</td>\n",
       "      <td>250</td>\n",
       "    </tr>\n",
       "    <tr>\n",
       "      <th>2</th>\n",
       "      <td>0</td>\n",
       "      <td>Bid</td>\n",
       "      <td>0x983ace</td>\n",
       "      <td>NaN</td>\n",
       "      <td>250Ξ ($537,615)</td>\n",
       "      <td>2021-04-11</td>\n",
       "      <td>537615</td>\n",
       "      <td>250</td>\n",
       "    </tr>\n",
       "    <tr>\n",
       "      <th>3</th>\n",
       "      <td>0</td>\n",
       "      <td>Bid Withdrawn</td>\n",
       "      <td>0xd7510a</td>\n",
       "      <td>NaN</td>\n",
       "      <td>100Ξ ($160,973)</td>\n",
       "      <td>2021-03-03</td>\n",
       "      <td>160973</td>\n",
       "      <td>100</td>\n",
       "    </tr>\n",
       "    <tr>\n",
       "      <th>4</th>\n",
       "      <td>0</td>\n",
       "      <td>Bid</td>\n",
       "      <td>0xd7510a</td>\n",
       "      <td>NaN</td>\n",
       "      <td>100Ξ ($188,897)</td>\n",
       "      <td>2021-02-20</td>\n",
       "      <td>188897</td>\n",
       "      <td>100</td>\n",
       "    </tr>\n",
       "    <tr>\n",
       "      <th>5</th>\n",
       "      <td>0</td>\n",
       "      <td>Bid Withdrawn</td>\n",
       "      <td>natealex</td>\n",
       "      <td>NaN</td>\n",
       "      <td>69Ξ ($25,532)</td>\n",
       "      <td>2020-09-16</td>\n",
       "      <td>25532</td>\n",
       "      <td>692</td>\n",
       "    </tr>\n",
       "    <tr>\n",
       "      <th>...</th>\n",
       "      <td>...</td>\n",
       "      <td>...</td>\n",
       "      <td>...</td>\n",
       "      <td>...</td>\n",
       "      <td>...</td>\n",
       "      <td>...</td>\n",
       "      <td>...</td>\n",
       "      <td>...</td>\n",
       "    </tr>\n",
       "    <tr>\n",
       "      <th>133269</th>\n",
       "      <td>9999</td>\n",
       "      <td>Bid</td>\n",
       "      <td>0xa0a59c</td>\n",
       "      <td>NaN</td>\n",
       "      <td>0.25Ξ ($69)</td>\n",
       "      <td>2017-07-03</td>\n",
       "      <td>69</td>\n",
       "      <td>0.25</td>\n",
       "    </tr>\n",
       "    <tr>\n",
       "      <th>133270</th>\n",
       "      <td>9999</td>\n",
       "      <td>Bid</td>\n",
       "      <td>0x717403</td>\n",
       "      <td>NaN</td>\n",
       "      <td>0.20Ξ ($51)</td>\n",
       "      <td>2017-06-26</td>\n",
       "      <td>51</td>\n",
       "      <td>0.20</td>\n",
       "    </tr>\n",
       "    <tr>\n",
       "      <th>133271</th>\n",
       "      <td>9999</td>\n",
       "      <td>Bid</td>\n",
       "      <td>ddaavvee</td>\n",
       "      <td>NaN</td>\n",
       "      <td>0.20Ξ ($65)</td>\n",
       "      <td>2017-06-23</td>\n",
       "      <td>65</td>\n",
       "      <td>0.20</td>\n",
       "    </tr>\n",
       "    <tr>\n",
       "      <th>133272</th>\n",
       "      <td>9999</td>\n",
       "      <td>Bid</td>\n",
       "      <td>0x5b098b</td>\n",
       "      <td>NaN</td>\n",
       "      <td>0.15Ξ ($50)</td>\n",
       "      <td>2017-06-23</td>\n",
       "      <td>50</td>\n",
       "      <td>0.15</td>\n",
       "    </tr>\n",
       "    <tr>\n",
       "      <th>133273</th>\n",
       "      <td>9999</td>\n",
       "      <td>Claimed</td>\n",
       "      <td>NaN</td>\n",
       "      <td>0x7e2d1c</td>\n",
       "      <td>NaN</td>\n",
       "      <td>2017-06-23</td>\n",
       "      <td>NaN</td>\n",
       "      <td>NaN</td>\n",
       "    </tr>\n",
       "  </tbody>\n",
       "</table>\n",
       "<p>123274 rows × 8 columns</p>\n",
       "</div>"
      ],
      "text/plain": [
       "        cryptopunk_number       txn_type      from        to           amount   txn_date amount_dolars amount_eth\n",
       "1                       0  Bid Withdrawn  0x983ace       NaN    250Ξ ($1.03M) 2021-05-10          1.03        250\n",
       "2                       0            Bid  0x983ace       NaN  250Ξ ($537,615) 2021-04-11        537615        250\n",
       "3                       0  Bid Withdrawn  0xd7510a       NaN  100Ξ ($160,973) 2021-03-03        160973        100\n",
       "4                       0            Bid  0xd7510a       NaN  100Ξ ($188,897) 2021-02-20        188897        100\n",
       "5                       0  Bid Withdrawn  natealex       NaN    69Ξ ($25,532) 2020-09-16         25532        692\n",
       "...                   ...            ...       ...       ...              ...        ...           ...        ...\n",
       "133269               9999            Bid  0xa0a59c       NaN      0.25Ξ ($69) 2017-07-03            69       0.25\n",
       "133270               9999            Bid  0x717403       NaN      0.20Ξ ($51) 2017-06-26            51       0.20\n",
       "133271               9999            Bid  ddaavvee       NaN      0.20Ξ ($65) 2017-06-23            65       0.20\n",
       "133272               9999            Bid  0x5b098b       NaN      0.15Ξ ($50) 2017-06-23            50       0.15\n",
       "133273               9999        Claimed       NaN  0x7e2d1c              NaN 2017-06-23           NaN        NaN\n",
       "\n",
       "[123274 rows x 8 columns]"
      ]
     },
     "execution_count": 117,
     "metadata": {},
     "output_type": "execute_result"
    }
   ],
   "source": [
    "df_2"
   ]
  },
  {
   "cell_type": "markdown",
   "id": "708a0bab",
   "metadata": {},
   "source": [
    "Fem les columnes de factors corresponents:"
   ]
  },
  {
   "cell_type": "code",
   "execution_count": 147,
   "id": "145fbe18",
   "metadata": {
    "ExecuteTime": {
     "end_time": "2021-07-04T08:59:00.519292Z",
     "start_time": "2021-07-04T08:59:00.482210Z"
    },
    "collapsed": true
   },
   "outputs": [
    {
     "ename": "KeyError",
     "evalue": "'amount_dolars'",
     "output_type": "error",
     "traceback": [
      "\u001b[1;31m---------------------------------------------------------------------------\u001b[0m",
      "\u001b[1;31mKeyError\u001b[0m                                  Traceback (most recent call last)",
      "\u001b[1;32m~\\anaconda3\\lib\\site-packages\\pandas\\core\\indexes\\base.py\u001b[0m in \u001b[0;36mget_loc\u001b[1;34m(self, key, method, tolerance)\u001b[0m\n\u001b[0;32m   3079\u001b[0m             \u001b[1;32mtry\u001b[0m\u001b[1;33m:\u001b[0m\u001b[1;33m\u001b[0m\u001b[1;33m\u001b[0m\u001b[0m\n\u001b[1;32m-> 3080\u001b[1;33m                 \u001b[1;32mreturn\u001b[0m \u001b[0mself\u001b[0m\u001b[1;33m.\u001b[0m\u001b[0m_engine\u001b[0m\u001b[1;33m.\u001b[0m\u001b[0mget_loc\u001b[0m\u001b[1;33m(\u001b[0m\u001b[0mcasted_key\u001b[0m\u001b[1;33m)\u001b[0m\u001b[1;33m\u001b[0m\u001b[1;33m\u001b[0m\u001b[0m\n\u001b[0m\u001b[0;32m   3081\u001b[0m             \u001b[1;32mexcept\u001b[0m \u001b[0mKeyError\u001b[0m \u001b[1;32mas\u001b[0m \u001b[0merr\u001b[0m\u001b[1;33m:\u001b[0m\u001b[1;33m\u001b[0m\u001b[1;33m\u001b[0m\u001b[0m\n",
      "\u001b[1;32mpandas\\_libs\\index.pyx\u001b[0m in \u001b[0;36mpandas._libs.index.IndexEngine.get_loc\u001b[1;34m()\u001b[0m\n",
      "\u001b[1;32mpandas\\_libs\\index.pyx\u001b[0m in \u001b[0;36mpandas._libs.index.IndexEngine.get_loc\u001b[1;34m()\u001b[0m\n",
      "\u001b[1;32mpandas\\_libs\\hashtable_class_helper.pxi\u001b[0m in \u001b[0;36mpandas._libs.hashtable.PyObjectHashTable.get_item\u001b[1;34m()\u001b[0m\n",
      "\u001b[1;32mpandas\\_libs\\hashtable_class_helper.pxi\u001b[0m in \u001b[0;36mpandas._libs.hashtable.PyObjectHashTable.get_item\u001b[1;34m()\u001b[0m\n",
      "\u001b[1;31mKeyError\u001b[0m: 'amount_dolars'",
      "\nThe above exception was the direct cause of the following exception:\n",
      "\u001b[1;31mKeyError\u001b[0m                                  Traceback (most recent call last)",
      "\u001b[1;32m<ipython-input-147-2207821be52f>\u001b[0m in \u001b[0;36m<module>\u001b[1;34m\u001b[0m\n\u001b[1;32m----> 1\u001b[1;33m \u001b[0mdf_2\u001b[0m\u001b[1;33m[\u001b[0m\u001b[1;34m'dolar_factors'\u001b[0m\u001b[1;33m]\u001b[0m \u001b[1;33m=\u001b[0m \u001b[0mdf_2\u001b[0m\u001b[1;33m[\u001b[0m\u001b[1;34m'amount_dolars'\u001b[0m\u001b[1;33m]\u001b[0m\u001b[1;33m.\u001b[0m\u001b[0mstr\u001b[0m\u001b[1;33m.\u001b[0m\u001b[0mextract\u001b[0m\u001b[1;33m(\u001b[0m\u001b[1;34mr'([a-zA-Z])'\u001b[0m\u001b[1;33m)\u001b[0m\u001b[1;33m\u001b[0m\u001b[1;33m\u001b[0m\u001b[0m\n\u001b[0m",
      "\u001b[1;32m~\\anaconda3\\lib\\site-packages\\pandas\\core\\frame.py\u001b[0m in \u001b[0;36m__getitem__\u001b[1;34m(self, key)\u001b[0m\n\u001b[0;32m   3022\u001b[0m             \u001b[1;32mif\u001b[0m \u001b[0mself\u001b[0m\u001b[1;33m.\u001b[0m\u001b[0mcolumns\u001b[0m\u001b[1;33m.\u001b[0m\u001b[0mnlevels\u001b[0m \u001b[1;33m>\u001b[0m \u001b[1;36m1\u001b[0m\u001b[1;33m:\u001b[0m\u001b[1;33m\u001b[0m\u001b[1;33m\u001b[0m\u001b[0m\n\u001b[0;32m   3023\u001b[0m                 \u001b[1;32mreturn\u001b[0m \u001b[0mself\u001b[0m\u001b[1;33m.\u001b[0m\u001b[0m_getitem_multilevel\u001b[0m\u001b[1;33m(\u001b[0m\u001b[0mkey\u001b[0m\u001b[1;33m)\u001b[0m\u001b[1;33m\u001b[0m\u001b[1;33m\u001b[0m\u001b[0m\n\u001b[1;32m-> 3024\u001b[1;33m             \u001b[0mindexer\u001b[0m \u001b[1;33m=\u001b[0m \u001b[0mself\u001b[0m\u001b[1;33m.\u001b[0m\u001b[0mcolumns\u001b[0m\u001b[1;33m.\u001b[0m\u001b[0mget_loc\u001b[0m\u001b[1;33m(\u001b[0m\u001b[0mkey\u001b[0m\u001b[1;33m)\u001b[0m\u001b[1;33m\u001b[0m\u001b[1;33m\u001b[0m\u001b[0m\n\u001b[0m\u001b[0;32m   3025\u001b[0m             \u001b[1;32mif\u001b[0m \u001b[0mis_integer\u001b[0m\u001b[1;33m(\u001b[0m\u001b[0mindexer\u001b[0m\u001b[1;33m)\u001b[0m\u001b[1;33m:\u001b[0m\u001b[1;33m\u001b[0m\u001b[1;33m\u001b[0m\u001b[0m\n\u001b[0;32m   3026\u001b[0m                 \u001b[0mindexer\u001b[0m \u001b[1;33m=\u001b[0m \u001b[1;33m[\u001b[0m\u001b[0mindexer\u001b[0m\u001b[1;33m]\u001b[0m\u001b[1;33m\u001b[0m\u001b[1;33m\u001b[0m\u001b[0m\n",
      "\u001b[1;32m~\\anaconda3\\lib\\site-packages\\pandas\\core\\indexes\\base.py\u001b[0m in \u001b[0;36mget_loc\u001b[1;34m(self, key, method, tolerance)\u001b[0m\n\u001b[0;32m   3080\u001b[0m                 \u001b[1;32mreturn\u001b[0m \u001b[0mself\u001b[0m\u001b[1;33m.\u001b[0m\u001b[0m_engine\u001b[0m\u001b[1;33m.\u001b[0m\u001b[0mget_loc\u001b[0m\u001b[1;33m(\u001b[0m\u001b[0mcasted_key\u001b[0m\u001b[1;33m)\u001b[0m\u001b[1;33m\u001b[0m\u001b[1;33m\u001b[0m\u001b[0m\n\u001b[0;32m   3081\u001b[0m             \u001b[1;32mexcept\u001b[0m \u001b[0mKeyError\u001b[0m \u001b[1;32mas\u001b[0m \u001b[0merr\u001b[0m\u001b[1;33m:\u001b[0m\u001b[1;33m\u001b[0m\u001b[1;33m\u001b[0m\u001b[0m\n\u001b[1;32m-> 3082\u001b[1;33m                 \u001b[1;32mraise\u001b[0m \u001b[0mKeyError\u001b[0m\u001b[1;33m(\u001b[0m\u001b[0mkey\u001b[0m\u001b[1;33m)\u001b[0m \u001b[1;32mfrom\u001b[0m \u001b[0merr\u001b[0m\u001b[1;33m\u001b[0m\u001b[1;33m\u001b[0m\u001b[0m\n\u001b[0m\u001b[0;32m   3083\u001b[0m \u001b[1;33m\u001b[0m\u001b[0m\n\u001b[0;32m   3084\u001b[0m         \u001b[1;32mif\u001b[0m \u001b[0mtolerance\u001b[0m \u001b[1;32mis\u001b[0m \u001b[1;32mnot\u001b[0m \u001b[1;32mNone\u001b[0m\u001b[1;33m:\u001b[0m\u001b[1;33m\u001b[0m\u001b[1;33m\u001b[0m\u001b[0m\n",
      "\u001b[1;31mKeyError\u001b[0m: 'amount_dolars'"
     ]
    }
   ],
   "source": [
    "df_2['dolar_factors'] = df_2['amount_dolars'].str.extract(r'([a-zA-Z])')"
   ]
  },
  {
   "cell_type": "code",
   "execution_count": 119,
   "id": "c4949662",
   "metadata": {
    "ExecuteTime": {
     "end_time": "2021-07-04T08:57:09.535065Z",
     "start_time": "2021-07-04T08:57:09.516116Z"
    }
   },
   "outputs": [
    {
     "data": {
      "text/plain": [
       "Series([], Name: dolar_factors, dtype: int64)"
      ]
     },
     "execution_count": 119,
     "metadata": {},
     "output_type": "execute_result"
    }
   ],
   "source": [
    "df_2['dolar_factors'].value_counts()"
   ]
  },
  {
   "cell_type": "code",
   "execution_count": 120,
   "id": "400d866b",
   "metadata": {
    "ExecuteTime": {
     "end_time": "2021-07-04T08:57:15.894981Z",
     "start_time": "2021-07-04T08:57:15.749769Z"
    }
   },
   "outputs": [],
   "source": [
    "df_2['eth_factors'] = df_2['amount_eth'].str.extract(r'([a-zA-Z])')"
   ]
  },
  {
   "cell_type": "code",
   "execution_count": 121,
   "id": "9f0a8d3e",
   "metadata": {
    "ExecuteTime": {
     "end_time": "2021-07-04T08:57:16.636395Z",
     "start_time": "2021-07-04T08:57:16.607438Z"
    }
   },
   "outputs": [
    {
     "data": {
      "text/plain": [
       "Series([], Name: eth_factors, dtype: int64)"
      ]
     },
     "execution_count": 121,
     "metadata": {},
     "output_type": "execute_result"
    }
   ],
   "source": [
    "df_2['eth_factors'].value_counts()"
   ]
  },
  {
   "cell_type": "code",
   "execution_count": null,
   "id": "6321a71c",
   "metadata": {
    "ExecuteTime": {
     "end_time": "2021-07-04T08:50:49.400616Z",
     "start_time": "2021-07-04T08:50:46.374Z"
    }
   },
   "outputs": [],
   "source": [
    "factors = {'K': 10**3,\n",
    "          'M': 10**6,\n",
    "          'G': 10**9,\n",
    "          'T': 10**12,\n",
    "          'P': 10**15,\n",
    "          'E': 10**18,\n",
    "          'Z': 10**21,\n",
    "          'Y': 10**24,\n",
    "          'B': 10**9,\n",
    "          }\n",
    "\n",
    "df_2['eth_factors'] = df_2['eth_factors'].map(factors).astype(float)\n",
    "df_2['dolar_factors'] = df_2['dolar_factors'].map(factors).astype(float)"
   ]
  },
  {
   "cell_type": "markdown",
   "id": "edb16e56",
   "metadata": {},
   "source": [
    "Revisar tema factors, els mès grans fent value counts, per mirar que no doni uns valors massa grans. Fer també per la TAULA 1."
   ]
  },
  {
   "cell_type": "markdown",
   "id": "a84ee583",
   "metadata": {},
   "source": [
    "Convertim les columnes a numèric, per fer-ho hem d'omplir els empty strings amb NaN:"
   ]
  },
  {
   "cell_type": "code",
   "execution_count": 82,
   "id": "ac0b6e90",
   "metadata": {
    "ExecuteTime": {
     "end_time": "2021-07-04T08:53:34.411726Z",
     "start_time": "2021-07-04T08:53:34.344837Z"
    }
   },
   "outputs": [],
   "source": [
    "df_2.replace(r'', np.nan, regex=True, inplace=True)"
   ]
  },
  {
   "cell_type": "code",
   "execution_count": 83,
   "id": "8e577854",
   "metadata": {
    "ExecuteTime": {
     "end_time": "2021-07-04T08:53:37.147960Z",
     "start_time": "2021-07-04T08:53:37.099632Z"
    }
   },
   "outputs": [],
   "source": [
    "df_2['amount_dolars'] = df_2['amount_dolars'].astype(float)"
   ]
  },
  {
   "cell_type": "code",
   "execution_count": 84,
   "id": "1c62d704",
   "metadata": {
    "ExecuteTime": {
     "end_time": "2021-07-04T08:53:48.506257Z",
     "start_time": "2021-07-04T08:53:48.220592Z"
    }
   },
   "outputs": [],
   "source": [
    "df_2['amount_eth'].replace(r'^(?!\\d).*$', np.nan, regex=True, inplace=True)"
   ]
  },
  {
   "cell_type": "code",
   "execution_count": 85,
   "id": "716ec8f9",
   "metadata": {
    "ExecuteTime": {
     "end_time": "2021-07-04T08:53:50.189245Z",
     "start_time": "2021-07-04T08:53:50.134385Z"
    }
   },
   "outputs": [],
   "source": [
    "df_2['amount_eth'] = df_2['amount_eth'].astype(float)"
   ]
  },
  {
   "cell_type": "code",
   "execution_count": 87,
   "id": "73061939",
   "metadata": {
    "ExecuteTime": {
     "end_time": "2021-07-04T08:54:34.528093Z",
     "start_time": "2021-07-04T08:54:34.461241Z"
    }
   },
   "outputs": [
    {
     "name": "stdout",
     "output_type": "stream",
     "text": [
      "<class 'pandas.core.frame.DataFrame'>\n",
      "Int64Index: 123274 entries, 1 to 133273\n",
      "Data columns (total 8 columns):\n",
      " #   Column             Non-Null Count   Dtype         \n",
      "---  ------             --------------   -----         \n",
      " 0   cryptopunk_number  123274 non-null  int32         \n",
      " 1   txn_type           123274 non-null  object        \n",
      " 2   from               63253 non-null   object        \n",
      " 3   to                 39237 non-null   object        \n",
      " 4   amount             91698 non-null   object        \n",
      " 5   txn_date           123274 non-null  datetime64[ns]\n",
      " 6   amount_dolars      91698 non-null   float64       \n",
      " 7   amount_eth         91698 non-null   float64       \n",
      "dtypes: datetime64[ns](1), float64(2), int32(1), object(4)\n",
      "memory usage: 8.0+ MB\n"
     ]
    }
   ],
   "source": [
    "df_2.info()"
   ]
  },
  {
   "cell_type": "markdown",
   "id": "5f8d72bd",
   "metadata": {},
   "source": [
    "Treiem la columna 'amount' que ens sobre i ho passem a dataframe:"
   ]
  },
  {
   "cell_type": "code",
   "execution_count": null,
   "id": "a621d41d",
   "metadata": {
    "ExecuteTime": {
     "end_time": "2021-07-04T08:50:49.402610Z",
     "start_time": "2021-07-04T08:50:46.379Z"
    }
   },
   "outputs": [],
   "source": [
    "df_2.drop('amount', 1, inplace=True)"
   ]
  },
  {
   "cell_type": "code",
   "execution_count": null,
   "id": "e2fe8577",
   "metadata": {
    "ExecuteTime": {
     "end_time": "2021-07-04T08:50:49.404606Z",
     "start_time": "2021-07-04T08:50:46.382Z"
    }
   },
   "outputs": [],
   "source": [
    "df_2.to_csv('transaccions_hist_df.csv')"
   ]
  },
  {
   "cell_type": "markdown",
   "id": "6ee1184a",
   "metadata": {},
   "source": [
    "## Df atributs:"
   ]
  },
  {
   "cell_type": "code",
   "execution_count": null,
   "id": "dfd5724c",
   "metadata": {
    "ExecuteTime": {
     "end_time": "2021-07-04T08:50:49.406600Z",
     "start_time": "2021-07-04T08:50:46.387Z"
    }
   },
   "outputs": [],
   "source": [
    "from sklearn.preprocessing import LabelEncoder\n",
    "df= pd.read_csv(r'C:\\Users\\ab\\Itacademy\\Jupyter\\Projecte final\\CryptoPunks-AA\\punks_accesories.csv')\n",
    "df['accesories2']= df['accesories1'].str.rstrip()\n",
    "\n",
    "# encoder = LabelEncoder()\n",
    "# df['idaccesories'] = encoder.fit_transform(df['accesories2'])\n"
   ]
  },
  {
   "cell_type": "code",
   "execution_count": null,
   "id": "5eb6be8b",
   "metadata": {
    "ExecuteTime": {
     "end_time": "2021-07-04T08:50:49.408595Z",
     "start_time": "2021-07-04T08:50:46.392Z"
    }
   },
   "outputs": [],
   "source": [
    "len(df.accesories1.unique())\n",
    "\n",
    "len(df.accesories2.unique())"
   ]
  },
  {
   "cell_type": "code",
   "execution_count": null,
   "id": "a60f0081",
   "metadata": {
    "ExecuteTime": {
     "end_time": "2021-07-04T08:50:49.410589Z",
     "start_time": "2021-07-04T08:50:46.395Z"
    }
   },
   "outputs": [],
   "source": [
    "df.accesories2[[72,85]]"
   ]
  },
  {
   "cell_type": "code",
   "execution_count": null,
   "id": "f424b013",
   "metadata": {
    "ExecuteTime": {
     "end_time": "2021-07-04T08:50:49.413582Z",
     "start_time": "2021-07-04T08:50:46.399Z"
    }
   },
   "outputs": [],
   "source": [
    "df1= pd.read_csv(r'C:\\Users\\ab\\Itacademy\\Jupyter\\Projecte final\\CryptoPunks-AA\\Attibutes.csv')"
   ]
  },
  {
   "cell_type": "code",
   "execution_count": null,
   "id": "fb512cec",
   "metadata": {
    "ExecuteTime": {
     "end_time": "2021-07-04T08:50:49.415814Z",
     "start_time": "2021-07-04T08:50:46.402Z"
    }
   },
   "outputs": [],
   "source": [
    "len(df1['Unnamed: 0'].unique())"
   ]
  },
  {
   "cell_type": "code",
   "execution_count": null,
   "id": "f3da21e0",
   "metadata": {
    "ExecuteTime": {
     "end_time": "2021-07-04T08:50:49.418733Z",
     "start_time": "2021-07-04T08:50:46.410Z"
    }
   },
   "outputs": [],
   "source": [
    "df1"
   ]
  },
  {
   "cell_type": "markdown",
   "id": "d8df1187",
   "metadata": {},
   "source": [
    "## Nous datasets per transaccions"
   ]
  },
  {
   "cell_type": "markdown",
   "id": "590807da",
   "metadata": {},
   "source": [
    "### Historic preu ethereum - dolars"
   ]
  },
  {
   "cell_type": "markdown",
   "id": "ce5ce385",
   "metadata": {},
   "source": [
    "URL: https://finance.yahoo.com/quote/ETH-USD/history/"
   ]
  },
  {
   "cell_type": "code",
   "execution_count": 249,
   "id": "9dc09f7d",
   "metadata": {
    "ExecuteTime": {
     "end_time": "2021-07-05T10:45:51.808071Z",
     "start_time": "2021-07-05T10:45:51.804087Z"
    }
   },
   "outputs": [],
   "source": [
    "columns = ['Date','Open','High','Low','Close','Adj Close','Volume']"
   ]
  },
  {
   "cell_type": "code",
   "execution_count": 250,
   "id": "f004b8ba",
   "metadata": {
    "ExecuteTime": {
     "end_time": "2021-07-05T10:45:51.981651Z",
     "start_time": "2021-07-05T10:45:51.964696Z"
    }
   },
   "outputs": [],
   "source": [
    "eth = pd.read_csv('ETH-USD.CSV')"
   ]
  },
  {
   "cell_type": "code",
   "execution_count": 251,
   "id": "04369b56",
   "metadata": {
    "ExecuteTime": {
     "end_time": "2021-07-05T10:45:52.139231Z",
     "start_time": "2021-07-05T10:45:52.115295Z"
    }
   },
   "outputs": [
    {
     "data": {
      "text/html": [
       "<div>\n",
       "<style scoped>\n",
       "    .dataframe tbody tr th:only-of-type {\n",
       "        vertical-align: middle;\n",
       "    }\n",
       "\n",
       "    .dataframe tbody tr th {\n",
       "        vertical-align: top;\n",
       "    }\n",
       "\n",
       "    .dataframe thead th {\n",
       "        text-align: right;\n",
       "    }\n",
       "</style>\n",
       "<table border=\"1\" class=\"dataframe\">\n",
       "  <thead>\n",
       "    <tr style=\"text-align: right;\">\n",
       "      <th></th>\n",
       "      <th>Date</th>\n",
       "      <th>Open</th>\n",
       "      <th>High</th>\n",
       "      <th>Low</th>\n",
       "      <th>Close</th>\n",
       "      <th>Adj Close</th>\n",
       "      <th>Volume</th>\n",
       "    </tr>\n",
       "  </thead>\n",
       "  <tbody>\n",
       "    <tr>\n",
       "      <th>0</th>\n",
       "      <td>2017-01-01</td>\n",
       "      <td>7.982310</td>\n",
       "      <td>8.471230</td>\n",
       "      <td>7.982310</td>\n",
       "      <td>8.172570</td>\n",
       "      <td>8.172570</td>\n",
       "      <td>1.473170e+07</td>\n",
       "    </tr>\n",
       "    <tr>\n",
       "      <th>1</th>\n",
       "      <td>2017-01-02</td>\n",
       "      <td>8.170870</td>\n",
       "      <td>8.436330</td>\n",
       "      <td>8.054410</td>\n",
       "      <td>8.378510</td>\n",
       "      <td>8.378510</td>\n",
       "      <td>1.457960e+07</td>\n",
       "    </tr>\n",
       "    <tr>\n",
       "      <th>2</th>\n",
       "      <td>2017-01-03</td>\n",
       "      <td>8.374580</td>\n",
       "      <td>9.996800</td>\n",
       "      <td>8.317170</td>\n",
       "      <td>9.725250</td>\n",
       "      <td>9.725250</td>\n",
       "      <td>3.362520e+07</td>\n",
       "    </tr>\n",
       "    <tr>\n",
       "      <th>3</th>\n",
       "      <td>2017-01-04</td>\n",
       "      <td>9.709290</td>\n",
       "      <td>11.276400</td>\n",
       "      <td>9.559810</td>\n",
       "      <td>11.251600</td>\n",
       "      <td>11.251600</td>\n",
       "      <td>4.105120e+07</td>\n",
       "    </tr>\n",
       "    <tr>\n",
       "      <th>4</th>\n",
       "      <td>2017-01-05</td>\n",
       "      <td>11.286800</td>\n",
       "      <td>11.890900</td>\n",
       "      <td>9.402680</td>\n",
       "      <td>10.254400</td>\n",
       "      <td>10.254400</td>\n",
       "      <td>4.155740e+07</td>\n",
       "    </tr>\n",
       "    <tr>\n",
       "      <th>...</th>\n",
       "      <td>...</td>\n",
       "      <td>...</td>\n",
       "      <td>...</td>\n",
       "      <td>...</td>\n",
       "      <td>...</td>\n",
       "      <td>...</td>\n",
       "      <td>...</td>\n",
       "    </tr>\n",
       "    <tr>\n",
       "      <th>1641</th>\n",
       "      <td>2021-06-30</td>\n",
       "      <td>2164.216309</td>\n",
       "      <td>2282.989014</td>\n",
       "      <td>2090.760742</td>\n",
       "      <td>2274.547607</td>\n",
       "      <td>2274.547607</td>\n",
       "      <td>2.582806e+10</td>\n",
       "    </tr>\n",
       "    <tr>\n",
       "      <th>1642</th>\n",
       "      <td>2021-07-01</td>\n",
       "      <td>2274.397461</td>\n",
       "      <td>2274.397461</td>\n",
       "      <td>2081.081055</td>\n",
       "      <td>2113.605469</td>\n",
       "      <td>2113.605469</td>\n",
       "      <td>2.906170e+10</td>\n",
       "    </tr>\n",
       "    <tr>\n",
       "      <th>1643</th>\n",
       "      <td>2021-07-02</td>\n",
       "      <td>2109.892578</td>\n",
       "      <td>2155.596436</td>\n",
       "      <td>2021.824829</td>\n",
       "      <td>2150.040283</td>\n",
       "      <td>2150.040283</td>\n",
       "      <td>3.179621e+10</td>\n",
       "    </tr>\n",
       "    <tr>\n",
       "      <th>1644</th>\n",
       "      <td>2021-07-03</td>\n",
       "      <td>2150.834961</td>\n",
       "      <td>2237.567139</td>\n",
       "      <td>2117.590088</td>\n",
       "      <td>2226.114258</td>\n",
       "      <td>2226.114258</td>\n",
       "      <td>1.743336e+10</td>\n",
       "    </tr>\n",
       "    <tr>\n",
       "      <th>1645</th>\n",
       "      <td>2021-07-04</td>\n",
       "      <td>2228.898682</td>\n",
       "      <td>2342.942627</td>\n",
       "      <td>2191.963135</td>\n",
       "      <td>2334.085449</td>\n",
       "      <td>2334.085449</td>\n",
       "      <td>1.906244e+10</td>\n",
       "    </tr>\n",
       "  </tbody>\n",
       "</table>\n",
       "<p>1646 rows × 7 columns</p>\n",
       "</div>"
      ],
      "text/plain": [
       "            Date         Open         High          Low        Close    Adj Close        Volume\n",
       "0     2017-01-01     7.982310     8.471230     7.982310     8.172570     8.172570  1.473170e+07\n",
       "1     2017-01-02     8.170870     8.436330     8.054410     8.378510     8.378510  1.457960e+07\n",
       "2     2017-01-03     8.374580     9.996800     8.317170     9.725250     9.725250  3.362520e+07\n",
       "3     2017-01-04     9.709290    11.276400     9.559810    11.251600    11.251600  4.105120e+07\n",
       "4     2017-01-05    11.286800    11.890900     9.402680    10.254400    10.254400  4.155740e+07\n",
       "...          ...          ...          ...          ...          ...          ...           ...\n",
       "1641  2021-06-30  2164.216309  2282.989014  2090.760742  2274.547607  2274.547607  2.582806e+10\n",
       "1642  2021-07-01  2274.397461  2274.397461  2081.081055  2113.605469  2113.605469  2.906170e+10\n",
       "1643  2021-07-02  2109.892578  2155.596436  2021.824829  2150.040283  2150.040283  3.179621e+10\n",
       "1644  2021-07-03  2150.834961  2237.567139  2117.590088  2226.114258  2226.114258  1.743336e+10\n",
       "1645  2021-07-04  2228.898682  2342.942627  2191.963135  2334.085449  2334.085449  1.906244e+10\n",
       "\n",
       "[1646 rows x 7 columns]"
      ]
     },
     "execution_count": 251,
     "metadata": {},
     "output_type": "execute_result"
    }
   ],
   "source": [
    "eth"
   ]
  },
  {
   "cell_type": "code",
   "execution_count": 252,
   "id": "267d15d0",
   "metadata": {
    "ExecuteTime": {
     "end_time": "2021-07-05T10:45:52.280833Z",
     "start_time": "2021-07-05T10:45:52.261851Z"
    }
   },
   "outputs": [
    {
     "name": "stdout",
     "output_type": "stream",
     "text": [
      "<class 'pandas.core.frame.DataFrame'>\n",
      "RangeIndex: 1646 entries, 0 to 1645\n",
      "Data columns (total 7 columns):\n",
      " #   Column     Non-Null Count  Dtype  \n",
      "---  ------     --------------  -----  \n",
      " 0   Date       1646 non-null   object \n",
      " 1   Open       1642 non-null   float64\n",
      " 2   High       1642 non-null   float64\n",
      " 3   Low        1642 non-null   float64\n",
      " 4   Close      1642 non-null   float64\n",
      " 5   Adj Close  1642 non-null   float64\n",
      " 6   Volume     1642 non-null   float64\n",
      "dtypes: float64(6), object(1)\n",
      "memory usage: 90.1+ KB\n"
     ]
    }
   ],
   "source": [
    "eth.info()"
   ]
  },
  {
   "cell_type": "markdown",
   "id": "6e046e56",
   "metadata": {},
   "source": [
    "format datetime : %d%b%Y"
   ]
  },
  {
   "cell_type": "code",
   "execution_count": 253,
   "id": "79614c17",
   "metadata": {
    "ExecuteTime": {
     "end_time": "2021-07-05T10:45:52.567796Z",
     "start_time": "2021-07-05T10:45:52.544853Z"
    },
    "scrolled": true
   },
   "outputs": [
    {
     "data": {
      "text/plain": [
       "Date         0\n",
       "Open         4\n",
       "High         4\n",
       "Low          4\n",
       "Close        4\n",
       "Adj Close    4\n",
       "Volume       4\n",
       "dtype: int64"
      ]
     },
     "execution_count": 253,
     "metadata": {},
     "output_type": "execute_result"
    }
   ],
   "source": [
    "eth.isna().sum()"
   ]
  },
  {
   "cell_type": "code",
   "execution_count": 254,
   "id": "7f7b0b50",
   "metadata": {
    "ExecuteTime": {
     "end_time": "2021-07-05T10:45:52.743413Z",
     "start_time": "2021-07-05T10:45:52.719476Z"
    },
    "scrolled": true
   },
   "outputs": [],
   "source": [
    "eth['Date'] = pd.to_datetime(eth['Date'], format= '%Y-%m-%d')"
   ]
  },
  {
   "cell_type": "code",
   "execution_count": 255,
   "id": "56866065",
   "metadata": {
    "ExecuteTime": {
     "end_time": "2021-07-05T10:45:52.854114Z",
     "start_time": "2021-07-05T10:45:52.829182Z"
    }
   },
   "outputs": [
    {
     "data": {
      "text/plain": [
       "0      2017-01-01\n",
       "1      2017-01-02\n",
       "2      2017-01-03\n",
       "3      2017-01-04\n",
       "4      2017-01-05\n",
       "          ...    \n",
       "1641   2021-06-30\n",
       "1642   2021-07-01\n",
       "1643   2021-07-02\n",
       "1644   2021-07-03\n",
       "1645   2021-07-04\n",
       "Name: Date, Length: 1646, dtype: datetime64[ns]"
      ]
     },
     "execution_count": 255,
     "metadata": {},
     "output_type": "execute_result"
    }
   ],
   "source": [
    "eth['Date']"
   ]
  },
  {
   "cell_type": "code",
   "execution_count": 256,
   "id": "0cb1c33a",
   "metadata": {
    "ExecuteTime": {
     "end_time": "2021-07-05T10:45:52.981772Z",
     "start_time": "2021-07-05T10:45:52.962829Z"
    }
   },
   "outputs": [],
   "source": [
    "eth.set_index('Date', inplace=True)"
   ]
  },
  {
   "cell_type": "code",
   "execution_count": 257,
   "id": "5bda5c8d",
   "metadata": {
    "ExecuteTime": {
     "end_time": "2021-07-05T10:45:53.156346Z",
     "start_time": "2021-07-05T10:45:53.136360Z"
    }
   },
   "outputs": [],
   "source": [
    "eth.sort_index(ascending=False, inplace=True)"
   ]
  },
  {
   "cell_type": "code",
   "execution_count": 258,
   "id": "b7679f6f",
   "metadata": {
    "ExecuteTime": {
     "end_time": "2021-07-05T10:45:53.250055Z",
     "start_time": "2021-07-05T10:45:53.231105Z"
    }
   },
   "outputs": [
    {
     "data": {
      "text/plain": [
       "Open         4\n",
       "High         4\n",
       "Low          4\n",
       "Close        4\n",
       "Adj Close    4\n",
       "Volume       4\n",
       "dtype: int64"
      ]
     },
     "execution_count": 258,
     "metadata": {},
     "output_type": "execute_result"
    }
   ],
   "source": [
    "eth.isna().sum()"
   ]
  },
  {
   "cell_type": "code",
   "execution_count": 259,
   "id": "d6517894",
   "metadata": {
    "ExecuteTime": {
     "end_time": "2021-07-05T10:45:53.456013Z",
     "start_time": "2021-07-05T10:45:53.420112Z"
    }
   },
   "outputs": [
    {
     "data": {
      "text/html": [
       "<div>\n",
       "<style scoped>\n",
       "    .dataframe tbody tr th:only-of-type {\n",
       "        vertical-align: middle;\n",
       "    }\n",
       "\n",
       "    .dataframe tbody tr th {\n",
       "        vertical-align: top;\n",
       "    }\n",
       "\n",
       "    .dataframe thead th {\n",
       "        text-align: right;\n",
       "    }\n",
       "</style>\n",
       "<table border=\"1\" class=\"dataframe\">\n",
       "  <thead>\n",
       "    <tr style=\"text-align: right;\">\n",
       "      <th></th>\n",
       "      <th>Open</th>\n",
       "      <th>High</th>\n",
       "      <th>Low</th>\n",
       "      <th>Close</th>\n",
       "      <th>Adj Close</th>\n",
       "      <th>Volume</th>\n",
       "    </tr>\n",
       "    <tr>\n",
       "      <th>Date</th>\n",
       "      <th></th>\n",
       "      <th></th>\n",
       "      <th></th>\n",
       "      <th></th>\n",
       "      <th></th>\n",
       "      <th></th>\n",
       "    </tr>\n",
       "  </thead>\n",
       "  <tbody>\n",
       "    <tr>\n",
       "      <th>2021-07-04</th>\n",
       "      <td>2228.898682</td>\n",
       "      <td>2342.942627</td>\n",
       "      <td>2191.963135</td>\n",
       "      <td>2334.085449</td>\n",
       "      <td>2334.085449</td>\n",
       "      <td>1.906244e+10</td>\n",
       "    </tr>\n",
       "    <tr>\n",
       "      <th>2021-07-03</th>\n",
       "      <td>2150.834961</td>\n",
       "      <td>2237.567139</td>\n",
       "      <td>2117.590088</td>\n",
       "      <td>2226.114258</td>\n",
       "      <td>2226.114258</td>\n",
       "      <td>1.743336e+10</td>\n",
       "    </tr>\n",
       "    <tr>\n",
       "      <th>2021-07-02</th>\n",
       "      <td>2109.892578</td>\n",
       "      <td>2155.596436</td>\n",
       "      <td>2021.824829</td>\n",
       "      <td>2150.040283</td>\n",
       "      <td>2150.040283</td>\n",
       "      <td>3.179621e+10</td>\n",
       "    </tr>\n",
       "    <tr>\n",
       "      <th>2021-07-01</th>\n",
       "      <td>2274.397461</td>\n",
       "      <td>2274.397461</td>\n",
       "      <td>2081.081055</td>\n",
       "      <td>2113.605469</td>\n",
       "      <td>2113.605469</td>\n",
       "      <td>2.906170e+10</td>\n",
       "    </tr>\n",
       "    <tr>\n",
       "      <th>2021-06-30</th>\n",
       "      <td>2164.216309</td>\n",
       "      <td>2282.989014</td>\n",
       "      <td>2090.760742</td>\n",
       "      <td>2274.547607</td>\n",
       "      <td>2274.547607</td>\n",
       "      <td>2.582806e+10</td>\n",
       "    </tr>\n",
       "    <tr>\n",
       "      <th>...</th>\n",
       "      <td>...</td>\n",
       "      <td>...</td>\n",
       "      <td>...</td>\n",
       "      <td>...</td>\n",
       "      <td>...</td>\n",
       "      <td>...</td>\n",
       "    </tr>\n",
       "    <tr>\n",
       "      <th>2017-01-05</th>\n",
       "      <td>11.286800</td>\n",
       "      <td>11.890900</td>\n",
       "      <td>9.402680</td>\n",
       "      <td>10.254400</td>\n",
       "      <td>10.254400</td>\n",
       "      <td>4.155740e+07</td>\n",
       "    </tr>\n",
       "    <tr>\n",
       "      <th>2017-01-04</th>\n",
       "      <td>9.709290</td>\n",
       "      <td>11.276400</td>\n",
       "      <td>9.559810</td>\n",
       "      <td>11.251600</td>\n",
       "      <td>11.251600</td>\n",
       "      <td>4.105120e+07</td>\n",
       "    </tr>\n",
       "    <tr>\n",
       "      <th>2017-01-03</th>\n",
       "      <td>8.374580</td>\n",
       "      <td>9.996800</td>\n",
       "      <td>8.317170</td>\n",
       "      <td>9.725250</td>\n",
       "      <td>9.725250</td>\n",
       "      <td>3.362520e+07</td>\n",
       "    </tr>\n",
       "    <tr>\n",
       "      <th>2017-01-02</th>\n",
       "      <td>8.170870</td>\n",
       "      <td>8.436330</td>\n",
       "      <td>8.054410</td>\n",
       "      <td>8.378510</td>\n",
       "      <td>8.378510</td>\n",
       "      <td>1.457960e+07</td>\n",
       "    </tr>\n",
       "    <tr>\n",
       "      <th>2017-01-01</th>\n",
       "      <td>7.982310</td>\n",
       "      <td>8.471230</td>\n",
       "      <td>7.982310</td>\n",
       "      <td>8.172570</td>\n",
       "      <td>8.172570</td>\n",
       "      <td>1.473170e+07</td>\n",
       "    </tr>\n",
       "  </tbody>\n",
       "</table>\n",
       "<p>1646 rows × 6 columns</p>\n",
       "</div>"
      ],
      "text/plain": [
       "                   Open         High          Low        Close    Adj Close        Volume\n",
       "Date                                                                                     \n",
       "2021-07-04  2228.898682  2342.942627  2191.963135  2334.085449  2334.085449  1.906244e+10\n",
       "2021-07-03  2150.834961  2237.567139  2117.590088  2226.114258  2226.114258  1.743336e+10\n",
       "2021-07-02  2109.892578  2155.596436  2021.824829  2150.040283  2150.040283  3.179621e+10\n",
       "2021-07-01  2274.397461  2274.397461  2081.081055  2113.605469  2113.605469  2.906170e+10\n",
       "2021-06-30  2164.216309  2282.989014  2090.760742  2274.547607  2274.547607  2.582806e+10\n",
       "...                 ...          ...          ...          ...          ...           ...\n",
       "2017-01-05    11.286800    11.890900     9.402680    10.254400    10.254400  4.155740e+07\n",
       "2017-01-04     9.709290    11.276400     9.559810    11.251600    11.251600  4.105120e+07\n",
       "2017-01-03     8.374580     9.996800     8.317170     9.725250     9.725250  3.362520e+07\n",
       "2017-01-02     8.170870     8.436330     8.054410     8.378510     8.378510  1.457960e+07\n",
       "2017-01-01     7.982310     8.471230     7.982310     8.172570     8.172570  1.473170e+07\n",
       "\n",
       "[1646 rows x 6 columns]"
      ]
     },
     "execution_count": 259,
     "metadata": {},
     "output_type": "execute_result"
    }
   ],
   "source": [
    "eth"
   ]
  },
  {
   "cell_type": "code",
   "execution_count": 312,
   "id": "6e9641f7",
   "metadata": {
    "ExecuteTime": {
     "end_time": "2021-07-05T15:28:17.611660Z",
     "start_time": "2021-07-05T15:28:17.551819Z"
    }
   },
   "outputs": [],
   "source": [
    "eth['Variance'] = eth['High'] - eth['Low']"
   ]
  },
  {
   "cell_type": "code",
   "execution_count": 314,
   "id": "b7ea1d05",
   "metadata": {
    "ExecuteTime": {
     "end_time": "2021-07-05T15:30:46.954623Z",
     "start_time": "2021-07-05T15:30:46.936658Z"
    }
   },
   "outputs": [
    {
     "data": {
      "text/plain": [
       "Date\n",
       "2021-07-04     150.979492\n",
       "2021-07-03     119.977051\n",
       "2021-07-02     133.771607\n",
       "2021-07-01     193.316406\n",
       "2021-06-30     192.228272\n",
       "2021-06-29     165.998536\n",
       "2021-06-28     176.189941\n",
       "2021-06-27     168.712280\n",
       "2021-06-26     130.620362\n",
       "2021-06-25     223.359130\n",
       "2021-06-24     144.907348\n",
       "2021-06-23     215.958863\n",
       "2021-06-22     285.559204\n",
       "2021-06-21     392.278686\n",
       "2021-06-20     225.420167\n",
       "2021-06-19     109.530029\n",
       "2021-06-18     229.886718\n",
       "2021-06-17     144.874023\n",
       "2021-06-16     200.278320\n",
       "2021-06-15     124.076172\n",
       "2021-06-14     137.044677\n",
       "2021-06-13     234.727783\n",
       "2021-06-12     181.469726\n",
       "2021-06-11     168.545166\n",
       "2021-06-10     184.556153\n",
       "2021-06-09     212.872803\n",
       "2021-06-08     305.299560\n",
       "2021-06-07     261.189942\n",
       "2021-06-06     127.278808\n",
       "2021-06-05     259.251220\n",
       "2021-06-04     294.528076\n",
       "2021-06-03     223.570557\n",
       "2021-06-02     245.990967\n",
       "2021-06-01     208.576904\n",
       "2021-05-31     436.349853\n",
       "2021-05-30     283.353271\n",
       "2021-05-29     358.447510\n",
       "2021-05-28     425.001953\n",
       "2021-05-27     246.144531\n",
       "2021-05-26     259.641114\n",
       "2021-05-25     356.179443\n",
       "2021-05-24     581.956055\n",
       "2021-05-23     646.942871\n",
       "2021-05-22     315.858886\n",
       "2021-05-21     824.857910\n",
       "2021-05-20     822.916260\n",
       "2021-05-19    1485.475586\n",
       "2021-05-18     316.061035\n",
       "2021-05-17     458.756836\n",
       "2021-05-16     527.944336\n",
       "2021-05-15     491.063477\n",
       "2021-05-14     467.617188\n",
       "2021-05-13     483.156250\n",
       "2021-05-12     576.501953\n",
       "2021-05-11     394.319580\n",
       "2021-05-10     513.021485\n",
       "2021-05-09     237.270019\n",
       "2021-05-08     496.396484\n",
       "2021-05-07     203.028076\n",
       "2021-05-06     212.656006\n",
       "2021-05-05     328.361083\n",
       "2021-05-04     342.843262\n",
       "2021-05-03     498.862061\n",
       "2021-05-02     124.365723\n",
       "2021-05-01     195.532471\n",
       "2021-04-30      67.885010\n",
       "2021-04-29     125.865723\n",
       "2021-04-28     193.395752\n",
       "2021-04-27     191.017822\n",
       "2021-04-26     228.022216\n",
       "2021-04-25     181.571533\n",
       "2021-04-24     204.047852\n",
       "2021-04-23     322.497558\n",
       "2021-04-22     325.134766\n",
       "2021-04-21     228.833741\n",
       "2021-04-20     285.691162\n",
       "2021-04-19     190.088134\n",
       "2021-04-18     353.693603\n",
       "2021-04-17     163.702393\n",
       "2021-04-16     228.880615\n",
       "2021-04-15     134.343262\n",
       "2021-04-14     165.123779\n",
       "2021-04-13     179.863770\n",
       "2021-04-12      89.349854\n",
       "2021-04-11      45.325683\n",
       "2021-04-10     134.208740\n",
       "2021-04-09      47.710449\n",
       "2021-04-08     132.436889\n",
       "2021-04-07     187.745361\n",
       "2021-04-06      93.614258\n",
       "2021-04-05     108.597657\n",
       "2021-04-04     103.241700\n",
       "2021-04-03     116.539917\n",
       "2021-04-02     191.773193\n",
       "2021-04-01      76.876587\n",
       "2021-03-31     154.835572\n",
       "2021-03-30      67.052368\n",
       "2021-03-29     153.471435\n",
       "2021-03-28      55.923706\n",
       "2021-03-27      58.505005\n",
       "Name: Variance, dtype: float64"
      ]
     },
     "execution_count": 314,
     "metadata": {},
     "output_type": "execute_result"
    }
   ],
   "source": [
    "eth['Variance'].head(100)"
   ]
  },
  {
   "cell_type": "markdown",
   "id": "4a35b7d0",
   "metadata": {},
   "source": [
    "### Històric punks"
   ]
  },
  {
   "cell_type": "code",
   "execution_count": 315,
   "id": "a991cca0",
   "metadata": {
    "ExecuteTime": {
     "end_time": "2021-07-05T15:32:34.878189Z",
     "start_time": "2021-07-05T15:32:34.596500Z"
    }
   },
   "outputs": [],
   "source": [
    "df = pd.read_csv('df_trans.csv')"
   ]
  },
  {
   "cell_type": "code",
   "execution_count": 316,
   "id": "8094fc15",
   "metadata": {
    "ExecuteTime": {
     "end_time": "2021-07-05T15:32:36.133936Z",
     "start_time": "2021-07-05T15:32:36.110001Z"
    }
   },
   "outputs": [
    {
     "data": {
      "text/html": [
       "<div>\n",
       "<style scoped>\n",
       "    .dataframe tbody tr th:only-of-type {\n",
       "        vertical-align: middle;\n",
       "    }\n",
       "\n",
       "    .dataframe tbody tr th {\n",
       "        vertical-align: top;\n",
       "    }\n",
       "\n",
       "    .dataframe thead th {\n",
       "        text-align: right;\n",
       "    }\n",
       "</style>\n",
       "<table border=\"1\" class=\"dataframe\">\n",
       "  <thead>\n",
       "    <tr style=\"text-align: right;\">\n",
       "      <th></th>\n",
       "      <th>Type</th>\n",
       "      <th>From</th>\n",
       "      <th>To</th>\n",
       "      <th>Amount</th>\n",
       "      <th>Transaction</th>\n",
       "      <th>Number</th>\n",
       "    </tr>\n",
       "  </thead>\n",
       "  <tbody>\n",
       "    <tr>\n",
       "      <th>0</th>\n",
       "      <td>Bid withdrawn</td>\n",
       "      <td>0x983ace</td>\n",
       "      <td>NaN</td>\n",
       "      <td>250.0Ξ</td>\n",
       "      <td>May 10, 2021 0x0987ef</td>\n",
       "      <td>0</td>\n",
       "    </tr>\n",
       "    <tr>\n",
       "      <th>1</th>\n",
       "      <td>Bid</td>\n",
       "      <td>0x983ace</td>\n",
       "      <td>NaN</td>\n",
       "      <td>250.0Ξ</td>\n",
       "      <td>Apr 11, 2021 0xdbf1a0</td>\n",
       "      <td>0</td>\n",
       "    </tr>\n",
       "    <tr>\n",
       "      <th>2</th>\n",
       "      <td>Bid withdrawn</td>\n",
       "      <td>0xd7510a</td>\n",
       "      <td>NaN</td>\n",
       "      <td>100.0Ξ</td>\n",
       "      <td>Mar 3, 2021 0x580c05</td>\n",
       "      <td>0</td>\n",
       "    </tr>\n",
       "    <tr>\n",
       "      <th>3</th>\n",
       "      <td>Bid</td>\n",
       "      <td>0xd7510a</td>\n",
       "      <td>NaN</td>\n",
       "      <td>100.0Ξ</td>\n",
       "      <td>Feb 21, 2021 0x5377c3</td>\n",
       "      <td>0</td>\n",
       "    </tr>\n",
       "    <tr>\n",
       "      <th>4</th>\n",
       "      <td>Bid withdrawn</td>\n",
       "      <td>0x63a9db</td>\n",
       "      <td>NaN</td>\n",
       "      <td>69.0Ξ</td>\n",
       "      <td>Sep 16, 2020 0xbce1fe</td>\n",
       "      <td>0</td>\n",
       "    </tr>\n",
       "    <tr>\n",
       "      <th>...</th>\n",
       "      <td>...</td>\n",
       "      <td>...</td>\n",
       "      <td>...</td>\n",
       "      <td>...</td>\n",
       "      <td>...</td>\n",
       "      <td>...</td>\n",
       "    </tr>\n",
       "    <tr>\n",
       "      <th>133786</th>\n",
       "      <td>Bid</td>\n",
       "      <td>0xa0a59c</td>\n",
       "      <td>NaN</td>\n",
       "      <td>0.25Ξ</td>\n",
       "      <td>Jul 3, 2017 0xee9da1</td>\n",
       "      <td>9999</td>\n",
       "    </tr>\n",
       "    <tr>\n",
       "      <th>133787</th>\n",
       "      <td>Bid</td>\n",
       "      <td>0x717403</td>\n",
       "      <td>NaN</td>\n",
       "      <td>0.200000000000000001Ξ</td>\n",
       "      <td>Jun 27, 2017 0x12f9f7</td>\n",
       "      <td>9999</td>\n",
       "    </tr>\n",
       "    <tr>\n",
       "      <th>133788</th>\n",
       "      <td>Bid</td>\n",
       "      <td>0x6301Ad</td>\n",
       "      <td>NaN</td>\n",
       "      <td>0.2Ξ</td>\n",
       "      <td>Jun 24, 2017 0x205b42</td>\n",
       "      <td>9999</td>\n",
       "    </tr>\n",
       "    <tr>\n",
       "      <th>133789</th>\n",
       "      <td>Bid</td>\n",
       "      <td>0x5b098b</td>\n",
       "      <td>NaN</td>\n",
       "      <td>0.154Ξ</td>\n",
       "      <td>Jun 24, 2017 0xfa448c</td>\n",
       "      <td>9999</td>\n",
       "    </tr>\n",
       "    <tr>\n",
       "      <th>133790</th>\n",
       "      <td>Claimed</td>\n",
       "      <td>NaN</td>\n",
       "      <td>0x7e2d1c</td>\n",
       "      <td>NaN</td>\n",
       "      <td>Jun 23, 2017 0x6d94da</td>\n",
       "      <td>9999</td>\n",
       "    </tr>\n",
       "  </tbody>\n",
       "</table>\n",
       "<p>133791 rows × 6 columns</p>\n",
       "</div>"
      ],
      "text/plain": [
       "                 Type      From        To                 Amount            Transaction  Number\n",
       "0       Bid withdrawn  0x983ace       NaN                 250.0Ξ  May 10, 2021 0x0987ef       0\n",
       "1                 Bid  0x983ace       NaN                 250.0Ξ  Apr 11, 2021 0xdbf1a0       0\n",
       "2       Bid withdrawn  0xd7510a       NaN                 100.0Ξ   Mar 3, 2021 0x580c05       0\n",
       "3                 Bid  0xd7510a       NaN                 100.0Ξ  Feb 21, 2021 0x5377c3       0\n",
       "4       Bid withdrawn  0x63a9db       NaN                  69.0Ξ  Sep 16, 2020 0xbce1fe       0\n",
       "...               ...       ...       ...                    ...                    ...     ...\n",
       "133786            Bid  0xa0a59c       NaN                  0.25Ξ   Jul 3, 2017 0xee9da1    9999\n",
       "133787            Bid  0x717403       NaN  0.200000000000000001Ξ  Jun 27, 2017 0x12f9f7    9999\n",
       "133788            Bid  0x6301Ad       NaN                   0.2Ξ  Jun 24, 2017 0x205b42    9999\n",
       "133789            Bid  0x5b098b       NaN                 0.154Ξ  Jun 24, 2017 0xfa448c    9999\n",
       "133790        Claimed       NaN  0x7e2d1c                    NaN  Jun 23, 2017 0x6d94da    9999\n",
       "\n",
       "[133791 rows x 6 columns]"
      ]
     },
     "execution_count": 316,
     "metadata": {},
     "output_type": "execute_result"
    }
   ],
   "source": [
    "df"
   ]
  },
  {
   "cell_type": "code",
   "execution_count": 317,
   "id": "0ac7d4ab",
   "metadata": {
    "ExecuteTime": {
     "end_time": "2021-07-05T15:32:37.141527Z",
     "start_time": "2021-07-05T15:32:37.095650Z"
    }
   },
   "outputs": [
    {
     "data": {
      "text/plain": [
       "Type               0\n",
       "From           72081\n",
       "To             95213\n",
       "Amount         44148\n",
       "Transaction        0\n",
       "Number             0\n",
       "dtype: int64"
      ]
     },
     "execution_count": 317,
     "metadata": {},
     "output_type": "execute_result"
    }
   ],
   "source": [
    "df.isna().sum()"
   ]
  },
  {
   "cell_type": "code",
   "execution_count": 318,
   "id": "ea03afab",
   "metadata": {
    "ExecuteTime": {
     "end_time": "2021-07-05T15:32:38.334361Z",
     "start_time": "2021-07-05T15:32:38.250550Z"
    }
   },
   "outputs": [],
   "source": [
    "df['Date'] = df['Transaction'].str[:12]"
   ]
  },
  {
   "cell_type": "code",
   "execution_count": 319,
   "id": "e9dc3789",
   "metadata": {
    "ExecuteTime": {
     "end_time": "2021-07-05T15:32:39.833501Z",
     "start_time": "2021-07-05T15:32:38.874031Z"
    }
   },
   "outputs": [],
   "source": [
    "df['Date'].replace({'\\s':'-', '\\,':''}, regex=True, inplace=True)"
   ]
  },
  {
   "cell_type": "code",
   "execution_count": 320,
   "id": "ede69756",
   "metadata": {
    "ExecuteTime": {
     "end_time": "2021-07-05T15:32:39.945208Z",
     "start_time": "2021-07-05T15:32:39.835501Z"
    }
   },
   "outputs": [],
   "source": [
    "df['Date'] = df['Date'].str.rstrip('-')"
   ]
  },
  {
   "cell_type": "code",
   "execution_count": 321,
   "id": "615e4337",
   "metadata": {
    "ExecuteTime": {
     "end_time": "2021-07-05T15:32:40.039954Z",
     "start_time": "2021-07-05T15:32:39.951190Z"
    }
   },
   "outputs": [],
   "source": [
    "df['Date'] = pd.to_datetime(df['Date'], format= '%b-%d-%Y')"
   ]
  },
  {
   "cell_type": "code",
   "execution_count": 322,
   "id": "331cf132",
   "metadata": {
    "ExecuteTime": {
     "end_time": "2021-07-05T15:32:40.703455Z",
     "start_time": "2021-07-05T15:32:40.184941Z"
    }
   },
   "outputs": [],
   "source": [
    "df['Amount'].replace({'Ξ':'', '\\,':''}, regex=True, inplace=True)"
   ]
  },
  {
   "cell_type": "code",
   "execution_count": 323,
   "id": "24b3f96d",
   "metadata": {
    "ExecuteTime": {
     "end_time": "2021-07-05T15:32:40.782254Z",
     "start_time": "2021-07-05T15:32:40.710444Z"
    }
   },
   "outputs": [],
   "source": [
    "df['Amount'] = df['Amount'].astype(float)"
   ]
  },
  {
   "cell_type": "code",
   "execution_count": 324,
   "id": "40d87a30",
   "metadata": {
    "ExecuteTime": {
     "end_time": "2021-07-05T15:32:41.050288Z",
     "start_time": "2021-07-05T15:32:40.983427Z"
    }
   },
   "outputs": [
    {
     "name": "stdout",
     "output_type": "stream",
     "text": [
      "<class 'pandas.core.frame.DataFrame'>\n",
      "RangeIndex: 133791 entries, 0 to 133790\n",
      "Data columns (total 7 columns):\n",
      " #   Column       Non-Null Count   Dtype         \n",
      "---  ------       --------------   -----         \n",
      " 0   Type         133791 non-null  object        \n",
      " 1   From         61710 non-null   object        \n",
      " 2   To           38578 non-null   object        \n",
      " 3   Amount       89643 non-null   float64       \n",
      " 4   Transaction  133791 non-null  object        \n",
      " 5   Number       133791 non-null  int64         \n",
      " 6   Date         133791 non-null  datetime64[ns]\n",
      "dtypes: datetime64[ns](1), float64(1), int64(1), object(4)\n",
      "memory usage: 7.1+ MB\n"
     ]
    }
   ],
   "source": [
    "df.info()"
   ]
  },
  {
   "cell_type": "code",
   "execution_count": 325,
   "id": "a9a92297",
   "metadata": {
    "ExecuteTime": {
     "end_time": "2021-07-05T15:32:41.364477Z",
     "start_time": "2021-07-05T15:32:41.353513Z"
    }
   },
   "outputs": [],
   "source": [
    "df.set_index('Date', inplace = True)"
   ]
  },
  {
   "cell_type": "code",
   "execution_count": 326,
   "id": "7f516a76",
   "metadata": {
    "ExecuteTime": {
     "end_time": "2021-07-05T15:32:41.820203Z",
     "start_time": "2021-07-05T15:32:41.770337Z"
    }
   },
   "outputs": [],
   "source": [
    "df.sort_index(ascending=False, inplace=True)"
   ]
  },
  {
   "cell_type": "code",
   "execution_count": 327,
   "id": "bf16b793",
   "metadata": {
    "ExecuteTime": {
     "end_time": "2021-07-05T15:32:42.181266Z",
     "start_time": "2021-07-05T15:32:42.155336Z"
    }
   },
   "outputs": [
    {
     "data": {
      "text/html": [
       "<div>\n",
       "<style scoped>\n",
       "    .dataframe tbody tr th:only-of-type {\n",
       "        vertical-align: middle;\n",
       "    }\n",
       "\n",
       "    .dataframe tbody tr th {\n",
       "        vertical-align: top;\n",
       "    }\n",
       "\n",
       "    .dataframe thead th {\n",
       "        text-align: right;\n",
       "    }\n",
       "</style>\n",
       "<table border=\"1\" class=\"dataframe\">\n",
       "  <thead>\n",
       "    <tr style=\"text-align: right;\">\n",
       "      <th></th>\n",
       "      <th>Type</th>\n",
       "      <th>From</th>\n",
       "      <th>To</th>\n",
       "      <th>Amount</th>\n",
       "      <th>Transaction</th>\n",
       "      <th>Number</th>\n",
       "    </tr>\n",
       "    <tr>\n",
       "      <th>Date</th>\n",
       "      <th></th>\n",
       "      <th></th>\n",
       "      <th></th>\n",
       "      <th></th>\n",
       "      <th></th>\n",
       "      <th></th>\n",
       "    </tr>\n",
       "  </thead>\n",
       "  <tbody>\n",
       "    <tr>\n",
       "      <th>2021-06-30</th>\n",
       "      <td>Offered</td>\n",
       "      <td>NaN</td>\n",
       "      <td>NaN</td>\n",
       "      <td>26.69</td>\n",
       "      <td>Jun 30, 2021 0x9e1893</td>\n",
       "      <td>7051</td>\n",
       "    </tr>\n",
       "    <tr>\n",
       "      <th>2021-06-30</th>\n",
       "      <td>Bid withdrawn</td>\n",
       "      <td>0x12D715</td>\n",
       "      <td>NaN</td>\n",
       "      <td>17.00</td>\n",
       "      <td>Jun 30, 2021 0x6feee6</td>\n",
       "      <td>6263</td>\n",
       "    </tr>\n",
       "    <tr>\n",
       "      <th>2021-06-30</th>\n",
       "      <td>Offer withdrawn</td>\n",
       "      <td>NaN</td>\n",
       "      <td>NaN</td>\n",
       "      <td>NaN</td>\n",
       "      <td>Jun 30, 2021 0xf18631</td>\n",
       "      <td>9400</td>\n",
       "    </tr>\n",
       "    <tr>\n",
       "      <th>2021-06-30</th>\n",
       "      <td>Offered</td>\n",
       "      <td>NaN</td>\n",
       "      <td>NaN</td>\n",
       "      <td>19.94</td>\n",
       "      <td>Jun 30, 2021 0xb07068</td>\n",
       "      <td>6493</td>\n",
       "    </tr>\n",
       "    <tr>\n",
       "      <th>2021-06-30</th>\n",
       "      <td>Transfer</td>\n",
       "      <td>0x8F8B47</td>\n",
       "      <td>0x63d4a5</td>\n",
       "      <td>NaN</td>\n",
       "      <td>Jun 30, 2021 0xd09776</td>\n",
       "      <td>6281</td>\n",
       "    </tr>\n",
       "    <tr>\n",
       "      <th>...</th>\n",
       "      <td>...</td>\n",
       "      <td>...</td>\n",
       "      <td>...</td>\n",
       "      <td>...</td>\n",
       "      <td>...</td>\n",
       "      <td>...</td>\n",
       "    </tr>\n",
       "    <tr>\n",
       "      <th>2017-06-23</th>\n",
       "      <td>Claimed</td>\n",
       "      <td>NaN</td>\n",
       "      <td>0xcc7c33</td>\n",
       "      <td>NaN</td>\n",
       "      <td>Jun 23, 2017 0x82a4ad</td>\n",
       "      <td>8420</td>\n",
       "    </tr>\n",
       "    <tr>\n",
       "      <th>2017-06-23</th>\n",
       "      <td>Claimed</td>\n",
       "      <td>NaN</td>\n",
       "      <td>0x005612</td>\n",
       "      <td>NaN</td>\n",
       "      <td>Jun 23, 2017 0x82a4ad</td>\n",
       "      <td>8421</td>\n",
       "    </tr>\n",
       "    <tr>\n",
       "      <th>2017-06-23</th>\n",
       "      <td>Claimed</td>\n",
       "      <td>NaN</td>\n",
       "      <td>0x7e2d1c</td>\n",
       "      <td>NaN</td>\n",
       "      <td>Jun 23, 2017 0x6d94da</td>\n",
       "      <td>9999</td>\n",
       "    </tr>\n",
       "    <tr>\n",
       "      <th>1970-01-01</th>\n",
       "      <td>Offered</td>\n",
       "      <td>NaN</td>\n",
       "      <td>NaN</td>\n",
       "      <td>35.80</td>\n",
       "      <td>Jan 1, 1970 0xd1696d</td>\n",
       "      <td>8908</td>\n",
       "    </tr>\n",
       "    <tr>\n",
       "      <th>1970-01-01</th>\n",
       "      <td>Offered</td>\n",
       "      <td>NaN</td>\n",
       "      <td>NaN</td>\n",
       "      <td>29.00</td>\n",
       "      <td>Jan 1, 1970 0x5ff7f1</td>\n",
       "      <td>9093</td>\n",
       "    </tr>\n",
       "  </tbody>\n",
       "</table>\n",
       "<p>133791 rows × 6 columns</p>\n",
       "</div>"
      ],
      "text/plain": [
       "                       Type      From        To  Amount            Transaction  Number\n",
       "Date                                                                                  \n",
       "2021-06-30          Offered       NaN       NaN   26.69  Jun 30, 2021 0x9e1893    7051\n",
       "2021-06-30    Bid withdrawn  0x12D715       NaN   17.00  Jun 30, 2021 0x6feee6    6263\n",
       "2021-06-30  Offer withdrawn       NaN       NaN     NaN  Jun 30, 2021 0xf18631    9400\n",
       "2021-06-30          Offered       NaN       NaN   19.94  Jun 30, 2021 0xb07068    6493\n",
       "2021-06-30         Transfer  0x8F8B47  0x63d4a5     NaN  Jun 30, 2021 0xd09776    6281\n",
       "...                     ...       ...       ...     ...                    ...     ...\n",
       "2017-06-23          Claimed       NaN  0xcc7c33     NaN  Jun 23, 2017 0x82a4ad    8420\n",
       "2017-06-23          Claimed       NaN  0x005612     NaN  Jun 23, 2017 0x82a4ad    8421\n",
       "2017-06-23          Claimed       NaN  0x7e2d1c     NaN  Jun 23, 2017 0x6d94da    9999\n",
       "1970-01-01          Offered       NaN       NaN   35.80   Jan 1, 1970 0xd1696d    8908\n",
       "1970-01-01          Offered       NaN       NaN   29.00   Jan 1, 1970 0x5ff7f1    9093\n",
       "\n",
       "[133791 rows x 6 columns]"
      ]
     },
     "execution_count": 327,
     "metadata": {},
     "output_type": "execute_result"
    }
   ],
   "source": [
    "df"
   ]
  },
  {
   "cell_type": "code",
   "execution_count": 328,
   "id": "d1fcf6ca",
   "metadata": {
    "ExecuteTime": {
     "end_time": "2021-07-05T15:32:42.999575Z",
     "start_time": "2021-07-05T15:32:42.888873Z"
    }
   },
   "outputs": [],
   "source": [
    "df['user_transaction'] = df['Transaction'].str[12:]"
   ]
  },
  {
   "cell_type": "code",
   "execution_count": 329,
   "id": "58d80daa",
   "metadata": {
    "ExecuteTime": {
     "end_time": "2021-07-05T15:32:43.820966Z",
     "start_time": "2021-07-05T15:32:43.432211Z"
    }
   },
   "outputs": [],
   "source": [
    "df['user_transaction'].replace({'\\s':''}, regex=True, inplace=True)"
   ]
  },
  {
   "cell_type": "markdown",
   "id": "0ccb0474",
   "metadata": {},
   "source": [
    "Afegim el preu de ethereum en dolars en el moment en que es va fer la transacció ajuntant les taules per la columna 'date':"
   ]
  },
  {
   "cell_type": "code",
   "execution_count": 330,
   "id": "a5305937",
   "metadata": {
    "ExecuteTime": {
     "end_time": "2021-07-05T15:32:44.519385Z",
     "start_time": "2021-07-05T15:32:44.318868Z"
    }
   },
   "outputs": [],
   "source": [
    "df = df.merge(eth, on='Date', how='inner', indicator=True)"
   ]
  },
  {
   "cell_type": "code",
   "execution_count": 331,
   "id": "30ec04b0",
   "metadata": {
    "ExecuteTime": {
     "end_time": "2021-07-05T15:32:45.026792Z",
     "start_time": "2021-07-05T15:32:44.935038Z"
    }
   },
   "outputs": [
    {
     "data": {
      "text/html": [
       "<div>\n",
       "<style scoped>\n",
       "    .dataframe tbody tr th:only-of-type {\n",
       "        vertical-align: middle;\n",
       "    }\n",
       "\n",
       "    .dataframe tbody tr th {\n",
       "        vertical-align: top;\n",
       "    }\n",
       "\n",
       "    .dataframe thead th {\n",
       "        text-align: right;\n",
       "    }\n",
       "</style>\n",
       "<table border=\"1\" class=\"dataframe\">\n",
       "  <thead>\n",
       "    <tr style=\"text-align: right;\">\n",
       "      <th></th>\n",
       "      <th>Type</th>\n",
       "      <th>From</th>\n",
       "      <th>To</th>\n",
       "      <th>Amount</th>\n",
       "      <th>Transaction</th>\n",
       "      <th>Number</th>\n",
       "      <th>user_transaction</th>\n",
       "      <th>Open</th>\n",
       "      <th>High</th>\n",
       "      <th>Low</th>\n",
       "      <th>Close</th>\n",
       "      <th>Adj Close</th>\n",
       "      <th>Volume</th>\n",
       "      <th>Variance</th>\n",
       "      <th>_merge</th>\n",
       "    </tr>\n",
       "    <tr>\n",
       "      <th>Date</th>\n",
       "      <th></th>\n",
       "      <th></th>\n",
       "      <th></th>\n",
       "      <th></th>\n",
       "      <th></th>\n",
       "      <th></th>\n",
       "      <th></th>\n",
       "      <th></th>\n",
       "      <th></th>\n",
       "      <th></th>\n",
       "      <th></th>\n",
       "      <th></th>\n",
       "      <th></th>\n",
       "      <th></th>\n",
       "      <th></th>\n",
       "    </tr>\n",
       "  </thead>\n",
       "  <tbody>\n",
       "    <tr>\n",
       "      <th>2021-06-30</th>\n",
       "      <td>Offered</td>\n",
       "      <td>NaN</td>\n",
       "      <td>NaN</td>\n",
       "      <td>26.69</td>\n",
       "      <td>Jun 30, 2021 0x9e1893</td>\n",
       "      <td>7051</td>\n",
       "      <td>0x9e1893</td>\n",
       "      <td>2164.216309</td>\n",
       "      <td>2282.989014</td>\n",
       "      <td>2090.760742</td>\n",
       "      <td>2274.547607</td>\n",
       "      <td>2274.547607</td>\n",
       "      <td>2.582806e+10</td>\n",
       "      <td>192.228272</td>\n",
       "      <td>both</td>\n",
       "    </tr>\n",
       "    <tr>\n",
       "      <th>2021-06-30</th>\n",
       "      <td>Bid withdrawn</td>\n",
       "      <td>0x12D715</td>\n",
       "      <td>NaN</td>\n",
       "      <td>17.00</td>\n",
       "      <td>Jun 30, 2021 0x6feee6</td>\n",
       "      <td>6263</td>\n",
       "      <td>0x6feee6</td>\n",
       "      <td>2164.216309</td>\n",
       "      <td>2282.989014</td>\n",
       "      <td>2090.760742</td>\n",
       "      <td>2274.547607</td>\n",
       "      <td>2274.547607</td>\n",
       "      <td>2.582806e+10</td>\n",
       "      <td>192.228272</td>\n",
       "      <td>both</td>\n",
       "    </tr>\n",
       "    <tr>\n",
       "      <th>2021-06-30</th>\n",
       "      <td>Offer withdrawn</td>\n",
       "      <td>NaN</td>\n",
       "      <td>NaN</td>\n",
       "      <td>NaN</td>\n",
       "      <td>Jun 30, 2021 0xf18631</td>\n",
       "      <td>9400</td>\n",
       "      <td>0xf18631</td>\n",
       "      <td>2164.216309</td>\n",
       "      <td>2282.989014</td>\n",
       "      <td>2090.760742</td>\n",
       "      <td>2274.547607</td>\n",
       "      <td>2274.547607</td>\n",
       "      <td>2.582806e+10</td>\n",
       "      <td>192.228272</td>\n",
       "      <td>both</td>\n",
       "    </tr>\n",
       "    <tr>\n",
       "      <th>2021-06-30</th>\n",
       "      <td>Offered</td>\n",
       "      <td>NaN</td>\n",
       "      <td>NaN</td>\n",
       "      <td>19.94</td>\n",
       "      <td>Jun 30, 2021 0xb07068</td>\n",
       "      <td>6493</td>\n",
       "      <td>0xb07068</td>\n",
       "      <td>2164.216309</td>\n",
       "      <td>2282.989014</td>\n",
       "      <td>2090.760742</td>\n",
       "      <td>2274.547607</td>\n",
       "      <td>2274.547607</td>\n",
       "      <td>2.582806e+10</td>\n",
       "      <td>192.228272</td>\n",
       "      <td>both</td>\n",
       "    </tr>\n",
       "    <tr>\n",
       "      <th>2021-06-30</th>\n",
       "      <td>Transfer</td>\n",
       "      <td>0x8F8B47</td>\n",
       "      <td>0x63d4a5</td>\n",
       "      <td>NaN</td>\n",
       "      <td>Jun 30, 2021 0xd09776</td>\n",
       "      <td>6281</td>\n",
       "      <td>0xd09776</td>\n",
       "      <td>2164.216309</td>\n",
       "      <td>2282.989014</td>\n",
       "      <td>2090.760742</td>\n",
       "      <td>2274.547607</td>\n",
       "      <td>2274.547607</td>\n",
       "      <td>2.582806e+10</td>\n",
       "      <td>192.228272</td>\n",
       "      <td>both</td>\n",
       "    </tr>\n",
       "    <tr>\n",
       "      <th>...</th>\n",
       "      <td>...</td>\n",
       "      <td>...</td>\n",
       "      <td>...</td>\n",
       "      <td>...</td>\n",
       "      <td>...</td>\n",
       "      <td>...</td>\n",
       "      <td>...</td>\n",
       "      <td>...</td>\n",
       "      <td>...</td>\n",
       "      <td>...</td>\n",
       "      <td>...</td>\n",
       "      <td>...</td>\n",
       "      <td>...</td>\n",
       "      <td>...</td>\n",
       "      <td>...</td>\n",
       "    </tr>\n",
       "    <tr>\n",
       "      <th>2017-06-23</th>\n",
       "      <td>Claimed</td>\n",
       "      <td>NaN</td>\n",
       "      <td>0xe4d36b</td>\n",
       "      <td>NaN</td>\n",
       "      <td>Jun 23, 2017 0x218fdb</td>\n",
       "      <td>3029</td>\n",
       "      <td>0x218fdb</td>\n",
       "      <td>336.484985</td>\n",
       "      <td>348.006012</td>\n",
       "      <td>334.989990</td>\n",
       "      <td>341.739014</td>\n",
       "      <td>341.739014</td>\n",
       "      <td>5.932070e+08</td>\n",
       "      <td>13.016022</td>\n",
       "      <td>both</td>\n",
       "    </tr>\n",
       "    <tr>\n",
       "      <th>2017-06-23</th>\n",
       "      <td>Claimed</td>\n",
       "      <td>NaN</td>\n",
       "      <td>0x6f4a2d</td>\n",
       "      <td>NaN</td>\n",
       "      <td>Jun 23, 2017 0x82a4ad</td>\n",
       "      <td>8419</td>\n",
       "      <td>0x82a4ad</td>\n",
       "      <td>336.484985</td>\n",
       "      <td>348.006012</td>\n",
       "      <td>334.989990</td>\n",
       "      <td>341.739014</td>\n",
       "      <td>341.739014</td>\n",
       "      <td>5.932070e+08</td>\n",
       "      <td>13.016022</td>\n",
       "      <td>both</td>\n",
       "    </tr>\n",
       "    <tr>\n",
       "      <th>2017-06-23</th>\n",
       "      <td>Claimed</td>\n",
       "      <td>NaN</td>\n",
       "      <td>0xcc7c33</td>\n",
       "      <td>NaN</td>\n",
       "      <td>Jun 23, 2017 0x82a4ad</td>\n",
       "      <td>8420</td>\n",
       "      <td>0x82a4ad</td>\n",
       "      <td>336.484985</td>\n",
       "      <td>348.006012</td>\n",
       "      <td>334.989990</td>\n",
       "      <td>341.739014</td>\n",
       "      <td>341.739014</td>\n",
       "      <td>5.932070e+08</td>\n",
       "      <td>13.016022</td>\n",
       "      <td>both</td>\n",
       "    </tr>\n",
       "    <tr>\n",
       "      <th>2017-06-23</th>\n",
       "      <td>Claimed</td>\n",
       "      <td>NaN</td>\n",
       "      <td>0x005612</td>\n",
       "      <td>NaN</td>\n",
       "      <td>Jun 23, 2017 0x82a4ad</td>\n",
       "      <td>8421</td>\n",
       "      <td>0x82a4ad</td>\n",
       "      <td>336.484985</td>\n",
       "      <td>348.006012</td>\n",
       "      <td>334.989990</td>\n",
       "      <td>341.739014</td>\n",
       "      <td>341.739014</td>\n",
       "      <td>5.932070e+08</td>\n",
       "      <td>13.016022</td>\n",
       "      <td>both</td>\n",
       "    </tr>\n",
       "    <tr>\n",
       "      <th>2017-06-23</th>\n",
       "      <td>Claimed</td>\n",
       "      <td>NaN</td>\n",
       "      <td>0x7e2d1c</td>\n",
       "      <td>NaN</td>\n",
       "      <td>Jun 23, 2017 0x6d94da</td>\n",
       "      <td>9999</td>\n",
       "      <td>0x6d94da</td>\n",
       "      <td>336.484985</td>\n",
       "      <td>348.006012</td>\n",
       "      <td>334.989990</td>\n",
       "      <td>341.739014</td>\n",
       "      <td>341.739014</td>\n",
       "      <td>5.932070e+08</td>\n",
       "      <td>13.016022</td>\n",
       "      <td>both</td>\n",
       "    </tr>\n",
       "  </tbody>\n",
       "</table>\n",
       "<p>133789 rows × 15 columns</p>\n",
       "</div>"
      ],
      "text/plain": [
       "                       Type      From        To  Amount            Transaction  Number user_transaction         Open         High          Low        Close    Adj Close        Volume    Variance _merge\n",
       "Date                                                                                                                                                                                                     \n",
       "2021-06-30          Offered       NaN       NaN   26.69  Jun 30, 2021 0x9e1893    7051         0x9e1893  2164.216309  2282.989014  2090.760742  2274.547607  2274.547607  2.582806e+10  192.228272   both\n",
       "2021-06-30    Bid withdrawn  0x12D715       NaN   17.00  Jun 30, 2021 0x6feee6    6263         0x6feee6  2164.216309  2282.989014  2090.760742  2274.547607  2274.547607  2.582806e+10  192.228272   both\n",
       "2021-06-30  Offer withdrawn       NaN       NaN     NaN  Jun 30, 2021 0xf18631    9400         0xf18631  2164.216309  2282.989014  2090.760742  2274.547607  2274.547607  2.582806e+10  192.228272   both\n",
       "2021-06-30          Offered       NaN       NaN   19.94  Jun 30, 2021 0xb07068    6493         0xb07068  2164.216309  2282.989014  2090.760742  2274.547607  2274.547607  2.582806e+10  192.228272   both\n",
       "2021-06-30         Transfer  0x8F8B47  0x63d4a5     NaN  Jun 30, 2021 0xd09776    6281         0xd09776  2164.216309  2282.989014  2090.760742  2274.547607  2274.547607  2.582806e+10  192.228272   both\n",
       "...                     ...       ...       ...     ...                    ...     ...              ...          ...          ...          ...          ...          ...           ...         ...    ...\n",
       "2017-06-23          Claimed       NaN  0xe4d36b     NaN  Jun 23, 2017 0x218fdb    3029         0x218fdb   336.484985   348.006012   334.989990   341.739014   341.739014  5.932070e+08   13.016022   both\n",
       "2017-06-23          Claimed       NaN  0x6f4a2d     NaN  Jun 23, 2017 0x82a4ad    8419         0x82a4ad   336.484985   348.006012   334.989990   341.739014   341.739014  5.932070e+08   13.016022   both\n",
       "2017-06-23          Claimed       NaN  0xcc7c33     NaN  Jun 23, 2017 0x82a4ad    8420         0x82a4ad   336.484985   348.006012   334.989990   341.739014   341.739014  5.932070e+08   13.016022   both\n",
       "2017-06-23          Claimed       NaN  0x005612     NaN  Jun 23, 2017 0x82a4ad    8421         0x82a4ad   336.484985   348.006012   334.989990   341.739014   341.739014  5.932070e+08   13.016022   both\n",
       "2017-06-23          Claimed       NaN  0x7e2d1c     NaN  Jun 23, 2017 0x6d94da    9999         0x6d94da   336.484985   348.006012   334.989990   341.739014   341.739014  5.932070e+08   13.016022   both\n",
       "\n",
       "[133789 rows x 15 columns]"
      ]
     },
     "execution_count": 331,
     "metadata": {},
     "output_type": "execute_result"
    }
   ],
   "source": [
    "df"
   ]
  },
  {
   "cell_type": "code",
   "execution_count": 332,
   "id": "3418320d",
   "metadata": {
    "ExecuteTime": {
     "end_time": "2021-07-05T15:32:46.319942Z",
     "start_time": "2021-07-05T15:32:46.258106Z"
    }
   },
   "outputs": [
    {
     "data": {
      "text/plain": [
       "Type                    0\n",
       "From                72079\n",
       "To                  95211\n",
       "Amount              44148\n",
       "Transaction             0\n",
       "Number                  0\n",
       "user_transaction        0\n",
       "Open                  874\n",
       "High                  874\n",
       "Low                   874\n",
       "Close                 874\n",
       "Adj Close             874\n",
       "Volume                874\n",
       "Variance              874\n",
       "_merge                  0\n",
       "dtype: int64"
      ]
     },
     "execution_count": 332,
     "metadata": {},
     "output_type": "execute_result"
    }
   ],
   "source": [
    "df.isna().sum()"
   ]
  },
  {
   "cell_type": "code",
   "execution_count": 333,
   "id": "53d9079f",
   "metadata": {
    "ExecuteTime": {
     "end_time": "2021-07-05T15:32:47.228869Z",
     "start_time": "2021-07-05T15:32:47.205926Z"
    }
   },
   "outputs": [],
   "source": [
    "df['Amount_dolars'] = df['Amount']*df['Adj Close']"
   ]
  },
  {
   "cell_type": "code",
   "execution_count": 334,
   "id": "4a04ac89",
   "metadata": {
    "ExecuteTime": {
     "end_time": "2021-07-05T15:32:47.749573Z",
     "start_time": "2021-07-05T15:32:47.732616Z"
    }
   },
   "outputs": [],
   "source": [
    "df['Amount_eth'] = df['Amount']"
   ]
  },
  {
   "cell_type": "code",
   "execution_count": 335,
   "id": "cc788407",
   "metadata": {
    "ExecuteTime": {
     "end_time": "2021-07-05T15:32:48.162900Z",
     "start_time": "2021-07-05T15:32:48.152927Z"
    }
   },
   "outputs": [
    {
     "data": {
      "text/plain": [
       "Index(['Type', 'From', 'To', 'Amount', 'Transaction', 'Number', 'user_transaction', 'Open', 'High', 'Low', 'Close', 'Adj Close', 'Volume', 'Variance', '_merge', 'Amount_dolars', 'Amount_eth'], dtype='object')"
      ]
     },
     "execution_count": 335,
     "metadata": {},
     "output_type": "execute_result"
    }
   ],
   "source": [
    "df.columns"
   ]
  },
  {
   "cell_type": "code",
   "execution_count": 336,
   "id": "00eb7921",
   "metadata": {
    "ExecuteTime": {
     "end_time": "2021-07-05T15:32:48.557585Z",
     "start_time": "2021-07-05T15:32:48.518686Z"
    }
   },
   "outputs": [],
   "source": [
    "df = df[['Number', 'Type', 'From', 'To', 'Amount_dolars', 'Amount_eth', 'user_transaction', 'Adj Close', 'High', 'Low', 'Variance' ]]"
   ]
  },
  {
   "cell_type": "code",
   "execution_count": 337,
   "id": "f7869571",
   "metadata": {
    "ExecuteTime": {
     "end_time": "2021-07-05T15:32:49.062587Z",
     "start_time": "2021-07-05T15:32:49.044635Z"
    }
   },
   "outputs": [],
   "source": [
    "df['Amount_dolars'] = df['Amount_dolars'].round(2)"
   ]
  },
  {
   "cell_type": "code",
   "execution_count": 338,
   "id": "68b76da1",
   "metadata": {
    "ExecuteTime": {
     "end_time": "2021-07-05T15:32:49.500952Z",
     "start_time": "2021-07-05T15:32:49.478014Z"
    }
   },
   "outputs": [],
   "source": [
    "df['Adj Close'] = df['Adj Close'].round(2)"
   ]
  },
  {
   "cell_type": "code",
   "execution_count": 339,
   "id": "a83edd1d",
   "metadata": {
    "ExecuteTime": {
     "end_time": "2021-07-05T15:32:50.073320Z",
     "start_time": "2021-07-05T15:32:50.028441Z"
    }
   },
   "outputs": [
    {
     "data": {
      "text/html": [
       "<div>\n",
       "<style scoped>\n",
       "    .dataframe tbody tr th:only-of-type {\n",
       "        vertical-align: middle;\n",
       "    }\n",
       "\n",
       "    .dataframe tbody tr th {\n",
       "        vertical-align: top;\n",
       "    }\n",
       "\n",
       "    .dataframe thead th {\n",
       "        text-align: right;\n",
       "    }\n",
       "</style>\n",
       "<table border=\"1\" class=\"dataframe\">\n",
       "  <thead>\n",
       "    <tr style=\"text-align: right;\">\n",
       "      <th></th>\n",
       "      <th>Number</th>\n",
       "      <th>Type</th>\n",
       "      <th>From</th>\n",
       "      <th>To</th>\n",
       "      <th>Amount_dolars</th>\n",
       "      <th>Amount_eth</th>\n",
       "      <th>user_transaction</th>\n",
       "      <th>Adj Close</th>\n",
       "      <th>High</th>\n",
       "      <th>Low</th>\n",
       "      <th>Variance</th>\n",
       "    </tr>\n",
       "    <tr>\n",
       "      <th>Date</th>\n",
       "      <th></th>\n",
       "      <th></th>\n",
       "      <th></th>\n",
       "      <th></th>\n",
       "      <th></th>\n",
       "      <th></th>\n",
       "      <th></th>\n",
       "      <th></th>\n",
       "      <th></th>\n",
       "      <th></th>\n",
       "      <th></th>\n",
       "    </tr>\n",
       "  </thead>\n",
       "  <tbody>\n",
       "    <tr>\n",
       "      <th>2021-06-30</th>\n",
       "      <td>7051</td>\n",
       "      <td>Offered</td>\n",
       "      <td>NaN</td>\n",
       "      <td>NaN</td>\n",
       "      <td>60707.68</td>\n",
       "      <td>26.69</td>\n",
       "      <td>0x9e1893</td>\n",
       "      <td>2274.55</td>\n",
       "      <td>2282.989014</td>\n",
       "      <td>2090.760742</td>\n",
       "      <td>192.228272</td>\n",
       "    </tr>\n",
       "    <tr>\n",
       "      <th>2021-06-30</th>\n",
       "      <td>6263</td>\n",
       "      <td>Bid withdrawn</td>\n",
       "      <td>0x12D715</td>\n",
       "      <td>NaN</td>\n",
       "      <td>38667.31</td>\n",
       "      <td>17.00</td>\n",
       "      <td>0x6feee6</td>\n",
       "      <td>2274.55</td>\n",
       "      <td>2282.989014</td>\n",
       "      <td>2090.760742</td>\n",
       "      <td>192.228272</td>\n",
       "    </tr>\n",
       "    <tr>\n",
       "      <th>2021-06-30</th>\n",
       "      <td>9400</td>\n",
       "      <td>Offer withdrawn</td>\n",
       "      <td>NaN</td>\n",
       "      <td>NaN</td>\n",
       "      <td>NaN</td>\n",
       "      <td>NaN</td>\n",
       "      <td>0xf18631</td>\n",
       "      <td>2274.55</td>\n",
       "      <td>2282.989014</td>\n",
       "      <td>2090.760742</td>\n",
       "      <td>192.228272</td>\n",
       "    </tr>\n",
       "    <tr>\n",
       "      <th>2021-06-30</th>\n",
       "      <td>6493</td>\n",
       "      <td>Offered</td>\n",
       "      <td>NaN</td>\n",
       "      <td>NaN</td>\n",
       "      <td>45354.48</td>\n",
       "      <td>19.94</td>\n",
       "      <td>0xb07068</td>\n",
       "      <td>2274.55</td>\n",
       "      <td>2282.989014</td>\n",
       "      <td>2090.760742</td>\n",
       "      <td>192.228272</td>\n",
       "    </tr>\n",
       "    <tr>\n",
       "      <th>2021-06-30</th>\n",
       "      <td>6281</td>\n",
       "      <td>Transfer</td>\n",
       "      <td>0x8F8B47</td>\n",
       "      <td>0x63d4a5</td>\n",
       "      <td>NaN</td>\n",
       "      <td>NaN</td>\n",
       "      <td>0xd09776</td>\n",
       "      <td>2274.55</td>\n",
       "      <td>2282.989014</td>\n",
       "      <td>2090.760742</td>\n",
       "      <td>192.228272</td>\n",
       "    </tr>\n",
       "    <tr>\n",
       "      <th>...</th>\n",
       "      <td>...</td>\n",
       "      <td>...</td>\n",
       "      <td>...</td>\n",
       "      <td>...</td>\n",
       "      <td>...</td>\n",
       "      <td>...</td>\n",
       "      <td>...</td>\n",
       "      <td>...</td>\n",
       "      <td>...</td>\n",
       "      <td>...</td>\n",
       "      <td>...</td>\n",
       "    </tr>\n",
       "    <tr>\n",
       "      <th>2017-06-23</th>\n",
       "      <td>3029</td>\n",
       "      <td>Claimed</td>\n",
       "      <td>NaN</td>\n",
       "      <td>0xe4d36b</td>\n",
       "      <td>NaN</td>\n",
       "      <td>NaN</td>\n",
       "      <td>0x218fdb</td>\n",
       "      <td>341.74</td>\n",
       "      <td>348.006012</td>\n",
       "      <td>334.989990</td>\n",
       "      <td>13.016022</td>\n",
       "    </tr>\n",
       "    <tr>\n",
       "      <th>2017-06-23</th>\n",
       "      <td>8419</td>\n",
       "      <td>Claimed</td>\n",
       "      <td>NaN</td>\n",
       "      <td>0x6f4a2d</td>\n",
       "      <td>NaN</td>\n",
       "      <td>NaN</td>\n",
       "      <td>0x82a4ad</td>\n",
       "      <td>341.74</td>\n",
       "      <td>348.006012</td>\n",
       "      <td>334.989990</td>\n",
       "      <td>13.016022</td>\n",
       "    </tr>\n",
       "    <tr>\n",
       "      <th>2017-06-23</th>\n",
       "      <td>8420</td>\n",
       "      <td>Claimed</td>\n",
       "      <td>NaN</td>\n",
       "      <td>0xcc7c33</td>\n",
       "      <td>NaN</td>\n",
       "      <td>NaN</td>\n",
       "      <td>0x82a4ad</td>\n",
       "      <td>341.74</td>\n",
       "      <td>348.006012</td>\n",
       "      <td>334.989990</td>\n",
       "      <td>13.016022</td>\n",
       "    </tr>\n",
       "    <tr>\n",
       "      <th>2017-06-23</th>\n",
       "      <td>8421</td>\n",
       "      <td>Claimed</td>\n",
       "      <td>NaN</td>\n",
       "      <td>0x005612</td>\n",
       "      <td>NaN</td>\n",
       "      <td>NaN</td>\n",
       "      <td>0x82a4ad</td>\n",
       "      <td>341.74</td>\n",
       "      <td>348.006012</td>\n",
       "      <td>334.989990</td>\n",
       "      <td>13.016022</td>\n",
       "    </tr>\n",
       "    <tr>\n",
       "      <th>2017-06-23</th>\n",
       "      <td>9999</td>\n",
       "      <td>Claimed</td>\n",
       "      <td>NaN</td>\n",
       "      <td>0x7e2d1c</td>\n",
       "      <td>NaN</td>\n",
       "      <td>NaN</td>\n",
       "      <td>0x6d94da</td>\n",
       "      <td>341.74</td>\n",
       "      <td>348.006012</td>\n",
       "      <td>334.989990</td>\n",
       "      <td>13.016022</td>\n",
       "    </tr>\n",
       "  </tbody>\n",
       "</table>\n",
       "<p>133789 rows × 11 columns</p>\n",
       "</div>"
      ],
      "text/plain": [
       "            Number             Type      From        To  Amount_dolars  Amount_eth user_transaction  Adj Close         High          Low    Variance\n",
       "Date                                                                                                                                                \n",
       "2021-06-30    7051          Offered       NaN       NaN       60707.68       26.69         0x9e1893    2274.55  2282.989014  2090.760742  192.228272\n",
       "2021-06-30    6263    Bid withdrawn  0x12D715       NaN       38667.31       17.00         0x6feee6    2274.55  2282.989014  2090.760742  192.228272\n",
       "2021-06-30    9400  Offer withdrawn       NaN       NaN            NaN         NaN         0xf18631    2274.55  2282.989014  2090.760742  192.228272\n",
       "2021-06-30    6493          Offered       NaN       NaN       45354.48       19.94         0xb07068    2274.55  2282.989014  2090.760742  192.228272\n",
       "2021-06-30    6281         Transfer  0x8F8B47  0x63d4a5            NaN         NaN         0xd09776    2274.55  2282.989014  2090.760742  192.228272\n",
       "...            ...              ...       ...       ...            ...         ...              ...        ...          ...          ...         ...\n",
       "2017-06-23    3029          Claimed       NaN  0xe4d36b            NaN         NaN         0x218fdb     341.74   348.006012   334.989990   13.016022\n",
       "2017-06-23    8419          Claimed       NaN  0x6f4a2d            NaN         NaN         0x82a4ad     341.74   348.006012   334.989990   13.016022\n",
       "2017-06-23    8420          Claimed       NaN  0xcc7c33            NaN         NaN         0x82a4ad     341.74   348.006012   334.989990   13.016022\n",
       "2017-06-23    8421          Claimed       NaN  0x005612            NaN         NaN         0x82a4ad     341.74   348.006012   334.989990   13.016022\n",
       "2017-06-23    9999          Claimed       NaN  0x7e2d1c            NaN         NaN         0x6d94da     341.74   348.006012   334.989990   13.016022\n",
       "\n",
       "[133789 rows x 11 columns]"
      ]
     },
     "execution_count": 339,
     "metadata": {},
     "output_type": "execute_result"
    }
   ],
   "source": [
    "df"
   ]
  },
  {
   "cell_type": "code",
   "execution_count": 340,
   "id": "907e96b8",
   "metadata": {
    "ExecuteTime": {
     "end_time": "2021-07-05T15:32:56.788889Z",
     "start_time": "2021-07-05T15:32:53.900207Z"
    }
   },
   "outputs": [],
   "source": [
    "df.to_csv('transactions_hist_nou.csv')"
   ]
  },
  {
   "cell_type": "code",
   "execution_count": 101,
   "id": "fb3d5290",
   "metadata": {
    "ExecuteTime": {
     "end_time": "2021-07-04T12:05:10.117587Z",
     "start_time": "2021-07-04T12:05:10.089663Z"
    }
   },
   "outputs": [],
   "source": [
    "# df.drop('Transaction', 1, inplace=True)"
   ]
  },
  {
   "cell_type": "code",
   "execution_count": null,
   "id": "6dd0ebe3",
   "metadata": {},
   "outputs": [],
   "source": []
  },
  {
   "cell_type": "markdown",
   "id": "085ee5b8",
   "metadata": {},
   "source": [
    "## Dataset Rarity"
   ]
  },
  {
   "cell_type": "markdown",
   "id": "71e4e956",
   "metadata": {},
   "source": [
    "URL: https://0xtycoon.github.io/punk-ranks/"
   ]
  },
  {
   "cell_type": "code",
   "execution_count": 142,
   "id": "7ee1841e",
   "metadata": {
    "ExecuteTime": {
     "end_time": "2021-07-05T09:35:55.946889Z",
     "start_time": "2021-07-05T09:35:55.932925Z"
    }
   },
   "outputs": [],
   "source": [
    "columns = ['ranking', 'punk_image','id', 'minscore', '2nd', 'category_score', 'att_count_score',\n",
    "            'attributes', 'skin','type', 'total_score']"
   ]
  },
  {
   "cell_type": "code",
   "execution_count": 143,
   "id": "e13202bc",
   "metadata": {
    "ExecuteTime": {
     "end_time": "2021-07-05T09:35:56.200813Z",
     "start_time": "2021-07-05T09:35:56.117001Z"
    }
   },
   "outputs": [],
   "source": [
    "df = pd.read_csv('ranks.csv', names = columns)"
   ]
  },
  {
   "cell_type": "code",
   "execution_count": 144,
   "id": "22614076",
   "metadata": {
    "ExecuteTime": {
     "end_time": "2021-07-05T09:35:56.293528Z",
     "start_time": "2021-07-05T09:35:56.250653Z"
    }
   },
   "outputs": [
    {
     "data": {
      "text/html": [
       "<div>\n",
       "<style scoped>\n",
       "    .dataframe tbody tr th:only-of-type {\n",
       "        vertical-align: middle;\n",
       "    }\n",
       "\n",
       "    .dataframe tbody tr th {\n",
       "        vertical-align: top;\n",
       "    }\n",
       "\n",
       "    .dataframe thead th {\n",
       "        text-align: right;\n",
       "    }\n",
       "</style>\n",
       "<table border=\"1\" class=\"dataframe\">\n",
       "  <thead>\n",
       "    <tr style=\"text-align: right;\">\n",
       "      <th></th>\n",
       "      <th>ranking</th>\n",
       "      <th>punk_image</th>\n",
       "      <th>id</th>\n",
       "      <th>minscore</th>\n",
       "      <th>2nd</th>\n",
       "      <th>category_score</th>\n",
       "      <th>att_count_score</th>\n",
       "      <th>attributes</th>\n",
       "      <th>skin</th>\n",
       "      <th>type</th>\n",
       "      <th>total_score</th>\n",
       "    </tr>\n",
       "  </thead>\n",
       "  <tbody>\n",
       "    <tr>\n",
       "      <th>0</th>\n",
       "      <td>1</td>\n",
       "      <td>&lt;img src=\"https://www.larvalabs.com/public/ima...</td>\n",
       "      <td>&lt;a href=\"https://www.larvalabs.com/cryptopunks...</td>\n",
       "      <td>0.0078</td>\n",
       "      <td>1.15</td>\n",
       "      <td>30.31</td>\n",
       "      <td>0.01</td>\n",
       "      <td>Buck Teeth 0.7800,Top Hat 1.1500,Big Beard 1.4...</td>\n",
       "      <td>Mid</td>\n",
       "      <td>Male</td>\n",
       "      <td>0.000200</td>\n",
       "    </tr>\n",
       "    <tr>\n",
       "      <th>1</th>\n",
       "      <td>2</td>\n",
       "      <td>&lt;img src=\"https://www.larvalabs.com/public/ima...</td>\n",
       "      <td>&lt;a href=\"https://www.larvalabs.com/cryptopunks...</td>\n",
       "      <td>0.0142</td>\n",
       "      <td>24.59</td>\n",
       "      <td>0.09</td>\n",
       "      <td>35.60</td>\n",
       "      <td>Cowboy Hat 1.4200,Earring 24.5900</td>\n",
       "      <td>Alien</td>\n",
       "      <td>Alien</td>\n",
       "      <td>0.000441</td>\n",
       "    </tr>\n",
       "    <tr>\n",
       "      <th>2</th>\n",
       "      <td>3</td>\n",
       "      <td>&lt;img src=\"https://www.larvalabs.com/public/ima...</td>\n",
       "      <td>&lt;a href=\"https://www.larvalabs.com/cryptopunks...</td>\n",
       "      <td>0.0175</td>\n",
       "      <td>4.19</td>\n",
       "      <td>0.09</td>\n",
       "      <td>45.01</td>\n",
       "      <td>Medical Mask 1.7500,Knitted Cap 4.1900,Earring...</td>\n",
       "      <td>Alien</td>\n",
       "      <td>Alien</td>\n",
       "      <td>0.000525</td>\n",
       "    </tr>\n",
       "    <tr>\n",
       "      <th>3</th>\n",
       "      <td>4</td>\n",
       "      <td>&lt;img src=\"https://www.larvalabs.com/public/ima...</td>\n",
       "      <td>&lt;a href=\"https://www.larvalabs.com/cryptopunks...</td>\n",
       "      <td>0.0351</td>\n",
       "      <td>3.51</td>\n",
       "      <td>0.09</td>\n",
       "      <td>3.33</td>\n",
       "      <td>Cap 3.5100</td>\n",
       "      <td>Alien</td>\n",
       "      <td>Alien</td>\n",
       "      <td>0.000677</td>\n",
       "    </tr>\n",
       "    <tr>\n",
       "      <th>4</th>\n",
       "      <td>5</td>\n",
       "      <td>&lt;img src=\"https://www.larvalabs.com/public/ima...</td>\n",
       "      <td>&lt;a href=\"https://www.larvalabs.com/cryptopunks...</td>\n",
       "      <td>0.0254</td>\n",
       "      <td>3.17</td>\n",
       "      <td>0.09</td>\n",
       "      <td>45.01</td>\n",
       "      <td>Cap Forward 2.5400,Pipe 3.1700,Small Shades 3....</td>\n",
       "      <td>Alien</td>\n",
       "      <td>Alien</td>\n",
       "      <td>0.000708</td>\n",
       "    </tr>\n",
       "    <tr>\n",
       "      <th>...</th>\n",
       "      <td>...</td>\n",
       "      <td>...</td>\n",
       "      <td>...</td>\n",
       "      <td>...</td>\n",
       "      <td>...</td>\n",
       "      <td>...</td>\n",
       "      <td>...</td>\n",
       "      <td>...</td>\n",
       "      <td>...</td>\n",
       "      <td>...</td>\n",
       "      <td>...</td>\n",
       "    </tr>\n",
       "    <tr>\n",
       "      <th>9995</th>\n",
       "      <td>9996</td>\n",
       "      <td>&lt;img src=\"https://www.larvalabs.com/public/ima...</td>\n",
       "      <td>&lt;a href=\"https://www.larvalabs.com/cryptopunks...</td>\n",
       "      <td>0.2459</td>\n",
       "      <td>24.59</td>\n",
       "      <td>28.24</td>\n",
       "      <td>3.33</td>\n",
       "      <td>Earring 24.5900</td>\n",
       "      <td>Dark</td>\n",
       "      <td>Male</td>\n",
       "      <td>0.681446</td>\n",
       "    </tr>\n",
       "    <tr>\n",
       "      <th>9996</th>\n",
       "      <td>9997</td>\n",
       "      <td>&lt;img src=\"https://www.larvalabs.com/public/ima...</td>\n",
       "      <td>&lt;a href=\"https://www.larvalabs.com/cryptopunks...</td>\n",
       "      <td>0.2459</td>\n",
       "      <td>24.59</td>\n",
       "      <td>28.24</td>\n",
       "      <td>3.33</td>\n",
       "      <td>Earring 24.5900</td>\n",
       "      <td>Dark</td>\n",
       "      <td>Female</td>\n",
       "      <td>0.681446</td>\n",
       "    </tr>\n",
       "    <tr>\n",
       "      <th>9997</th>\n",
       "      <td>9998</td>\n",
       "      <td>&lt;img src=\"https://www.larvalabs.com/public/ima...</td>\n",
       "      <td>&lt;a href=\"https://www.larvalabs.com/cryptopunks...</td>\n",
       "      <td>0.2459</td>\n",
       "      <td>24.59</td>\n",
       "      <td>30.06</td>\n",
       "      <td>3.33</td>\n",
       "      <td>Earring 24.5900</td>\n",
       "      <td>Light</td>\n",
       "      <td>Male</td>\n",
       "      <td>0.681778</td>\n",
       "    </tr>\n",
       "    <tr>\n",
       "      <th>9998</th>\n",
       "      <td>9999</td>\n",
       "      <td>&lt;img src=\"https://www.larvalabs.com/public/ima...</td>\n",
       "      <td>&lt;a href=\"https://www.larvalabs.com/cryptopunks...</td>\n",
       "      <td>0.2459</td>\n",
       "      <td>24.59</td>\n",
       "      <td>30.06</td>\n",
       "      <td>3.33</td>\n",
       "      <td>Earring 24.5900</td>\n",
       "      <td>Light</td>\n",
       "      <td>Female</td>\n",
       "      <td>0.681778</td>\n",
       "    </tr>\n",
       "    <tr>\n",
       "      <th>9999</th>\n",
       "      <td>10000</td>\n",
       "      <td>&lt;img src=\"https://www.larvalabs.com/public/ima...</td>\n",
       "      <td>&lt;a href=\"https://www.larvalabs.com/cryptopunks...</td>\n",
       "      <td>0.2459</td>\n",
       "      <td>24.59</td>\n",
       "      <td>30.31</td>\n",
       "      <td>3.33</td>\n",
       "      <td>Earring 24.5900</td>\n",
       "      <td>Mid</td>\n",
       "      <td>Male</td>\n",
       "      <td>0.681820</td>\n",
       "    </tr>\n",
       "  </tbody>\n",
       "</table>\n",
       "<p>10000 rows × 11 columns</p>\n",
       "</div>"
      ],
      "text/plain": [
       "      ranking                                         punk_image                                                 id  minscore    2nd  category_score  att_count_score                                         attributes   skin    type  total_score\n",
       "0           1  <img src=\"https://www.larvalabs.com/public/ima...  <a href=\"https://www.larvalabs.com/cryptopunks...    0.0078   1.15           30.31             0.01  Buck Teeth 0.7800,Top Hat 1.1500,Big Beard 1.4...    Mid    Male     0.000200\n",
       "1           2  <img src=\"https://www.larvalabs.com/public/ima...  <a href=\"https://www.larvalabs.com/cryptopunks...    0.0142  24.59            0.09            35.60                  Cowboy Hat 1.4200,Earring 24.5900  Alien   Alien     0.000441\n",
       "2           3  <img src=\"https://www.larvalabs.com/public/ima...  <a href=\"https://www.larvalabs.com/cryptopunks...    0.0175   4.19            0.09            45.01  Medical Mask 1.7500,Knitted Cap 4.1900,Earring...  Alien   Alien     0.000525\n",
       "3           4  <img src=\"https://www.larvalabs.com/public/ima...  <a href=\"https://www.larvalabs.com/cryptopunks...    0.0351   3.51            0.09             3.33                                         Cap 3.5100  Alien   Alien     0.000677\n",
       "4           5  <img src=\"https://www.larvalabs.com/public/ima...  <a href=\"https://www.larvalabs.com/cryptopunks...    0.0254   3.17            0.09            45.01  Cap Forward 2.5400,Pipe 3.1700,Small Shades 3....  Alien   Alien     0.000708\n",
       "...       ...                                                ...                                                ...       ...    ...             ...              ...                                                ...    ...     ...          ...\n",
       "9995     9996  <img src=\"https://www.larvalabs.com/public/ima...  <a href=\"https://www.larvalabs.com/cryptopunks...    0.2459  24.59           28.24             3.33                                    Earring 24.5900   Dark    Male     0.681446\n",
       "9996     9997  <img src=\"https://www.larvalabs.com/public/ima...  <a href=\"https://www.larvalabs.com/cryptopunks...    0.2459  24.59           28.24             3.33                                    Earring 24.5900   Dark  Female     0.681446\n",
       "9997     9998  <img src=\"https://www.larvalabs.com/public/ima...  <a href=\"https://www.larvalabs.com/cryptopunks...    0.2459  24.59           30.06             3.33                                    Earring 24.5900  Light    Male     0.681778\n",
       "9998     9999  <img src=\"https://www.larvalabs.com/public/ima...  <a href=\"https://www.larvalabs.com/cryptopunks...    0.2459  24.59           30.06             3.33                                    Earring 24.5900  Light  Female     0.681778\n",
       "9999    10000  <img src=\"https://www.larvalabs.com/public/ima...  <a href=\"https://www.larvalabs.com/cryptopunks...    0.2459  24.59           30.31             3.33                                    Earring 24.5900    Mid    Male     0.681820\n",
       "\n",
       "[10000 rows x 11 columns]"
      ]
     },
     "execution_count": 144,
     "metadata": {},
     "output_type": "execute_result"
    }
   ],
   "source": [
    "df"
   ]
  },
  {
   "cell_type": "code",
   "execution_count": 145,
   "id": "964ce5cb",
   "metadata": {
    "ExecuteTime": {
     "end_time": "2021-07-05T09:35:56.421186Z",
     "start_time": "2021-07-05T09:35:56.407226Z"
    }
   },
   "outputs": [
    {
     "data": {
      "text/plain": [
       "'<a href=\"https://www.larvalabs.com/cryptopunks/details/8348\">8348</a>'"
      ]
     },
     "execution_count": 145,
     "metadata": {},
     "output_type": "execute_result"
    }
   ],
   "source": [
    "df['id'][0]"
   ]
  },
  {
   "cell_type": "code",
   "execution_count": 146,
   "id": "de1d596d",
   "metadata": {
    "ExecuteTime": {
     "end_time": "2021-07-05T09:35:56.578766Z",
     "start_time": "2021-07-05T09:35:56.535879Z"
    }
   },
   "outputs": [],
   "source": [
    "df['id'] = df['id'].str.extract(r'(>\\d+<)')"
   ]
  },
  {
   "cell_type": "code",
   "execution_count": 148,
   "id": "68b2a56b",
   "metadata": {
    "ExecuteTime": {
     "end_time": "2021-07-05T09:36:05.384119Z",
     "start_time": "2021-07-05T09:36:05.271392Z"
    }
   },
   "outputs": [],
   "source": [
    "df['id'].replace({'<':'', '>':''}, regex=True, inplace=True)"
   ]
  },
  {
   "cell_type": "code",
   "execution_count": 150,
   "id": "2f561c23",
   "metadata": {
    "ExecuteTime": {
     "end_time": "2021-07-05T09:36:27.348636Z",
     "start_time": "2021-07-05T09:36:27.328703Z"
    }
   },
   "outputs": [],
   "source": [
    "df = df[['id', 'total_score']]"
   ]
  },
  {
   "cell_type": "code",
   "execution_count": 151,
   "id": "ac73abeb",
   "metadata": {
    "ExecuteTime": {
     "end_time": "2021-07-05T09:36:30.008722Z",
     "start_time": "2021-07-05T09:36:29.986783Z"
    }
   },
   "outputs": [
    {
     "data": {
      "text/html": [
       "<div>\n",
       "<style scoped>\n",
       "    .dataframe tbody tr th:only-of-type {\n",
       "        vertical-align: middle;\n",
       "    }\n",
       "\n",
       "    .dataframe tbody tr th {\n",
       "        vertical-align: top;\n",
       "    }\n",
       "\n",
       "    .dataframe thead th {\n",
       "        text-align: right;\n",
       "    }\n",
       "</style>\n",
       "<table border=\"1\" class=\"dataframe\">\n",
       "  <thead>\n",
       "    <tr style=\"text-align: right;\">\n",
       "      <th></th>\n",
       "      <th>id</th>\n",
       "      <th>total_score</th>\n",
       "    </tr>\n",
       "  </thead>\n",
       "  <tbody>\n",
       "    <tr>\n",
       "      <th>0</th>\n",
       "      <td>8348</td>\n",
       "      <td>0.000200</td>\n",
       "    </tr>\n",
       "    <tr>\n",
       "      <th>1</th>\n",
       "      <td>3443</td>\n",
       "      <td>0.000441</td>\n",
       "    </tr>\n",
       "    <tr>\n",
       "      <th>2</th>\n",
       "      <td>7523</td>\n",
       "      <td>0.000525</td>\n",
       "    </tr>\n",
       "    <tr>\n",
       "      <th>3</th>\n",
       "      <td>2890</td>\n",
       "      <td>0.000677</td>\n",
       "    </tr>\n",
       "    <tr>\n",
       "      <th>4</th>\n",
       "      <td>7804</td>\n",
       "      <td>0.000708</td>\n",
       "    </tr>\n",
       "    <tr>\n",
       "      <th>...</th>\n",
       "      <td>...</td>\n",
       "      <td>...</td>\n",
       "    </tr>\n",
       "    <tr>\n",
       "      <th>9995</th>\n",
       "      <td>4422</td>\n",
       "      <td>0.681446</td>\n",
       "    </tr>\n",
       "    <tr>\n",
       "      <th>9996</th>\n",
       "      <td>2578</td>\n",
       "      <td>0.681446</td>\n",
       "    </tr>\n",
       "    <tr>\n",
       "      <th>9997</th>\n",
       "      <td>2414</td>\n",
       "      <td>0.681778</td>\n",
       "    </tr>\n",
       "    <tr>\n",
       "      <th>9998</th>\n",
       "      <td>5171</td>\n",
       "      <td>0.681778</td>\n",
       "    </tr>\n",
       "    <tr>\n",
       "      <th>9999</th>\n",
       "      <td>0738</td>\n",
       "      <td>0.681820</td>\n",
       "    </tr>\n",
       "  </tbody>\n",
       "</table>\n",
       "<p>10000 rows × 2 columns</p>\n",
       "</div>"
      ],
      "text/plain": [
       "        id  total_score\n",
       "0     8348     0.000200\n",
       "1     3443     0.000441\n",
       "2     7523     0.000525\n",
       "3     2890     0.000677\n",
       "4     7804     0.000708\n",
       "...    ...          ...\n",
       "9995  4422     0.681446\n",
       "9996  2578     0.681446\n",
       "9997  2414     0.681778\n",
       "9998  5171     0.681778\n",
       "9999  0738     0.681820\n",
       "\n",
       "[10000 rows x 2 columns]"
      ]
     },
     "execution_count": 151,
     "metadata": {},
     "output_type": "execute_result"
    }
   ],
   "source": [
    "df"
   ]
  },
  {
   "cell_type": "code",
   "execution_count": 153,
   "id": "9798cd70",
   "metadata": {
    "ExecuteTime": {
     "end_time": "2021-07-05T09:36:50.538108Z",
     "start_time": "2021-07-05T09:36:50.521156Z"
    }
   },
   "outputs": [],
   "source": [
    "df.set_index('id', inplace=True)"
   ]
  },
  {
   "cell_type": "code",
   "execution_count": 154,
   "id": "3bb2eafd",
   "metadata": {
    "ExecuteTime": {
     "end_time": "2021-07-05T09:36:54.848435Z",
     "start_time": "2021-07-05T09:36:54.827491Z"
    }
   },
   "outputs": [
    {
     "data": {
      "text/html": [
       "<div>\n",
       "<style scoped>\n",
       "    .dataframe tbody tr th:only-of-type {\n",
       "        vertical-align: middle;\n",
       "    }\n",
       "\n",
       "    .dataframe tbody tr th {\n",
       "        vertical-align: top;\n",
       "    }\n",
       "\n",
       "    .dataframe thead th {\n",
       "        text-align: right;\n",
       "    }\n",
       "</style>\n",
       "<table border=\"1\" class=\"dataframe\">\n",
       "  <thead>\n",
       "    <tr style=\"text-align: right;\">\n",
       "      <th></th>\n",
       "      <th>total_score</th>\n",
       "    </tr>\n",
       "    <tr>\n",
       "      <th>id</th>\n",
       "      <th></th>\n",
       "    </tr>\n",
       "  </thead>\n",
       "  <tbody>\n",
       "    <tr>\n",
       "      <th>8348</th>\n",
       "      <td>0.000200</td>\n",
       "    </tr>\n",
       "    <tr>\n",
       "      <th>3443</th>\n",
       "      <td>0.000441</td>\n",
       "    </tr>\n",
       "    <tr>\n",
       "      <th>7523</th>\n",
       "      <td>0.000525</td>\n",
       "    </tr>\n",
       "    <tr>\n",
       "      <th>2890</th>\n",
       "      <td>0.000677</td>\n",
       "    </tr>\n",
       "    <tr>\n",
       "      <th>7804</th>\n",
       "      <td>0.000708</td>\n",
       "    </tr>\n",
       "    <tr>\n",
       "      <th>...</th>\n",
       "      <td>...</td>\n",
       "    </tr>\n",
       "    <tr>\n",
       "      <th>4422</th>\n",
       "      <td>0.681446</td>\n",
       "    </tr>\n",
       "    <tr>\n",
       "      <th>2578</th>\n",
       "      <td>0.681446</td>\n",
       "    </tr>\n",
       "    <tr>\n",
       "      <th>2414</th>\n",
       "      <td>0.681778</td>\n",
       "    </tr>\n",
       "    <tr>\n",
       "      <th>5171</th>\n",
       "      <td>0.681778</td>\n",
       "    </tr>\n",
       "    <tr>\n",
       "      <th>0738</th>\n",
       "      <td>0.681820</td>\n",
       "    </tr>\n",
       "  </tbody>\n",
       "</table>\n",
       "<p>10000 rows × 1 columns</p>\n",
       "</div>"
      ],
      "text/plain": [
       "      total_score\n",
       "id               \n",
       "8348     0.000200\n",
       "3443     0.000441\n",
       "7523     0.000525\n",
       "2890     0.000677\n",
       "7804     0.000708\n",
       "...           ...\n",
       "4422     0.681446\n",
       "2578     0.681446\n",
       "2414     0.681778\n",
       "5171     0.681778\n",
       "0738     0.681820\n",
       "\n",
       "[10000 rows x 1 columns]"
      ]
     },
     "execution_count": 154,
     "metadata": {},
     "output_type": "execute_result"
    }
   ],
   "source": [
    "df"
   ]
  },
  {
   "cell_type": "code",
   "execution_count": 155,
   "id": "5b35728c",
   "metadata": {
    "ExecuteTime": {
     "end_time": "2021-07-05T09:37:18.563588Z",
     "start_time": "2021-07-05T09:37:18.516674Z"
    }
   },
   "outputs": [],
   "source": [
    "df.to_csv('rarity_score.csv')"
   ]
  },
  {
   "cell_type": "code",
   "execution_count": null,
   "id": "7c1aac1b",
   "metadata": {},
   "outputs": [],
   "source": []
  }
 ],
 "metadata": {
  "kernelspec": {
   "display_name": "Python 3",
   "language": "python",
   "name": "python3"
  },
  "language_info": {
   "codemirror_mode": {
    "name": "ipython",
    "version": 3
   },
   "file_extension": ".py",
   "mimetype": "text/x-python",
   "name": "python",
   "nbconvert_exporter": "python",
   "pygments_lexer": "ipython3",
   "version": "3.8.8"
  }
 },
 "nbformat": 4,
 "nbformat_minor": 5
}
