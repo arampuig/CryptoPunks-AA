{
 "cells": [
  {
   "cell_type": "code",
   "execution_count": 153,
   "id": "30063f79",
   "metadata": {
    "ExecuteTime": {
     "end_time": "2021-07-05T15:34:14.988228Z",
     "start_time": "2021-07-05T15:34:14.965293Z"
    }
   },
   "outputs": [],
   "source": [
    "# Librerias básicas\n",
    "import pandas as pd\n",
    "import numpy as np\n",
    "import re\n",
    "import datetime\n",
    "# Librerias visualización\n",
    "import matplotlib.pyplot as plt\n",
    "import seaborn as sns\n",
    "from pandas_profiling import ProfileReport\n",
    "\n",
    "#Otras\n",
    "import warnings\n",
    "\n",
    "pd.set_option('display.max_rows', 500)\n",
    "pd.set_option('display.max_columns', 500)\n",
    "pd.set_option('display.width', 1000)\n",
    "pd.set_option('display.expand_frame_repr', False)\n",
    "\n",
    "warnings.filterwarnings('ignore')"
   ]
  },
  {
   "cell_type": "code",
   "execution_count": 154,
   "id": "c65d5473",
   "metadata": {
    "ExecuteTime": {
     "end_time": "2021-07-05T15:34:17.275707Z",
     "start_time": "2021-07-05T15:34:16.914876Z"
    }
   },
   "outputs": [],
   "source": [
    "txn = pd.read_csv('transactions_hist_nou.csv')"
   ]
  },
  {
   "cell_type": "code",
   "execution_count": 155,
   "id": "6b4d5a39",
   "metadata": {
    "ExecuteTime": {
     "end_time": "2021-07-05T15:34:18.657493Z",
     "start_time": "2021-07-05T15:34:18.597826Z"
    }
   },
   "outputs": [],
   "source": [
    "txn['Date'] = pd.to_datetime(txn['Date']) "
   ]
  },
  {
   "cell_type": "code",
   "execution_count": 156,
   "id": "ad03170c",
   "metadata": {
    "ExecuteTime": {
     "end_time": "2021-07-05T15:34:18.971713Z",
     "start_time": "2021-07-05T15:34:18.960701Z"
    }
   },
   "outputs": [],
   "source": [
    "txn.set_index('Date', inplace=True)"
   ]
  },
  {
   "cell_type": "code",
   "execution_count": 157,
   "id": "0379168f",
   "metadata": {
    "ExecuteTime": {
     "end_time": "2021-07-05T15:34:19.474673Z",
     "start_time": "2021-07-05T15:34:19.428799Z"
    }
   },
   "outputs": [
    {
     "data": {
      "text/html": [
       "<div>\n",
       "<style scoped>\n",
       "    .dataframe tbody tr th:only-of-type {\n",
       "        vertical-align: middle;\n",
       "    }\n",
       "\n",
       "    .dataframe tbody tr th {\n",
       "        vertical-align: top;\n",
       "    }\n",
       "\n",
       "    .dataframe thead th {\n",
       "        text-align: right;\n",
       "    }\n",
       "</style>\n",
       "<table border=\"1\" class=\"dataframe\">\n",
       "  <thead>\n",
       "    <tr style=\"text-align: right;\">\n",
       "      <th></th>\n",
       "      <th>Number</th>\n",
       "      <th>Type</th>\n",
       "      <th>From</th>\n",
       "      <th>To</th>\n",
       "      <th>Amount_dolars</th>\n",
       "      <th>Amount_eth</th>\n",
       "      <th>user_transaction</th>\n",
       "      <th>Adj Close</th>\n",
       "      <th>High</th>\n",
       "      <th>Low</th>\n",
       "      <th>Variance</th>\n",
       "    </tr>\n",
       "    <tr>\n",
       "      <th>Date</th>\n",
       "      <th></th>\n",
       "      <th></th>\n",
       "      <th></th>\n",
       "      <th></th>\n",
       "      <th></th>\n",
       "      <th></th>\n",
       "      <th></th>\n",
       "      <th></th>\n",
       "      <th></th>\n",
       "      <th></th>\n",
       "      <th></th>\n",
       "    </tr>\n",
       "  </thead>\n",
       "  <tbody>\n",
       "    <tr>\n",
       "      <th>2021-06-30</th>\n",
       "      <td>7051</td>\n",
       "      <td>Offered</td>\n",
       "      <td>NaN</td>\n",
       "      <td>NaN</td>\n",
       "      <td>60707.68</td>\n",
       "      <td>26.69</td>\n",
       "      <td>0x9e1893</td>\n",
       "      <td>2274.55</td>\n",
       "      <td>2282.989014</td>\n",
       "      <td>2090.760742</td>\n",
       "      <td>192.228272</td>\n",
       "    </tr>\n",
       "    <tr>\n",
       "      <th>2021-06-30</th>\n",
       "      <td>6263</td>\n",
       "      <td>Bid withdrawn</td>\n",
       "      <td>0x12D715</td>\n",
       "      <td>NaN</td>\n",
       "      <td>38667.31</td>\n",
       "      <td>17.00</td>\n",
       "      <td>0x6feee6</td>\n",
       "      <td>2274.55</td>\n",
       "      <td>2282.989014</td>\n",
       "      <td>2090.760742</td>\n",
       "      <td>192.228272</td>\n",
       "    </tr>\n",
       "    <tr>\n",
       "      <th>2021-06-30</th>\n",
       "      <td>9400</td>\n",
       "      <td>Offer withdrawn</td>\n",
       "      <td>NaN</td>\n",
       "      <td>NaN</td>\n",
       "      <td>NaN</td>\n",
       "      <td>NaN</td>\n",
       "      <td>0xf18631</td>\n",
       "      <td>2274.55</td>\n",
       "      <td>2282.989014</td>\n",
       "      <td>2090.760742</td>\n",
       "      <td>192.228272</td>\n",
       "    </tr>\n",
       "    <tr>\n",
       "      <th>2021-06-30</th>\n",
       "      <td>6493</td>\n",
       "      <td>Offered</td>\n",
       "      <td>NaN</td>\n",
       "      <td>NaN</td>\n",
       "      <td>45354.48</td>\n",
       "      <td>19.94</td>\n",
       "      <td>0xb07068</td>\n",
       "      <td>2274.55</td>\n",
       "      <td>2282.989014</td>\n",
       "      <td>2090.760742</td>\n",
       "      <td>192.228272</td>\n",
       "    </tr>\n",
       "    <tr>\n",
       "      <th>2021-06-30</th>\n",
       "      <td>6281</td>\n",
       "      <td>Transfer</td>\n",
       "      <td>0x8F8B47</td>\n",
       "      <td>0x63d4a5</td>\n",
       "      <td>NaN</td>\n",
       "      <td>NaN</td>\n",
       "      <td>0xd09776</td>\n",
       "      <td>2274.55</td>\n",
       "      <td>2282.989014</td>\n",
       "      <td>2090.760742</td>\n",
       "      <td>192.228272</td>\n",
       "    </tr>\n",
       "    <tr>\n",
       "      <th>...</th>\n",
       "      <td>...</td>\n",
       "      <td>...</td>\n",
       "      <td>...</td>\n",
       "      <td>...</td>\n",
       "      <td>...</td>\n",
       "      <td>...</td>\n",
       "      <td>...</td>\n",
       "      <td>...</td>\n",
       "      <td>...</td>\n",
       "      <td>...</td>\n",
       "      <td>...</td>\n",
       "    </tr>\n",
       "    <tr>\n",
       "      <th>2017-06-23</th>\n",
       "      <td>3029</td>\n",
       "      <td>Claimed</td>\n",
       "      <td>NaN</td>\n",
       "      <td>0xe4d36b</td>\n",
       "      <td>NaN</td>\n",
       "      <td>NaN</td>\n",
       "      <td>0x218fdb</td>\n",
       "      <td>341.74</td>\n",
       "      <td>348.006012</td>\n",
       "      <td>334.989990</td>\n",
       "      <td>13.016022</td>\n",
       "    </tr>\n",
       "    <tr>\n",
       "      <th>2017-06-23</th>\n",
       "      <td>8419</td>\n",
       "      <td>Claimed</td>\n",
       "      <td>NaN</td>\n",
       "      <td>0x6f4a2d</td>\n",
       "      <td>NaN</td>\n",
       "      <td>NaN</td>\n",
       "      <td>0x82a4ad</td>\n",
       "      <td>341.74</td>\n",
       "      <td>348.006012</td>\n",
       "      <td>334.989990</td>\n",
       "      <td>13.016022</td>\n",
       "    </tr>\n",
       "    <tr>\n",
       "      <th>2017-06-23</th>\n",
       "      <td>8420</td>\n",
       "      <td>Claimed</td>\n",
       "      <td>NaN</td>\n",
       "      <td>0xcc7c33</td>\n",
       "      <td>NaN</td>\n",
       "      <td>NaN</td>\n",
       "      <td>0x82a4ad</td>\n",
       "      <td>341.74</td>\n",
       "      <td>348.006012</td>\n",
       "      <td>334.989990</td>\n",
       "      <td>13.016022</td>\n",
       "    </tr>\n",
       "    <tr>\n",
       "      <th>2017-06-23</th>\n",
       "      <td>8421</td>\n",
       "      <td>Claimed</td>\n",
       "      <td>NaN</td>\n",
       "      <td>0x005612</td>\n",
       "      <td>NaN</td>\n",
       "      <td>NaN</td>\n",
       "      <td>0x82a4ad</td>\n",
       "      <td>341.74</td>\n",
       "      <td>348.006012</td>\n",
       "      <td>334.989990</td>\n",
       "      <td>13.016022</td>\n",
       "    </tr>\n",
       "    <tr>\n",
       "      <th>2017-06-23</th>\n",
       "      <td>9999</td>\n",
       "      <td>Claimed</td>\n",
       "      <td>NaN</td>\n",
       "      <td>0x7e2d1c</td>\n",
       "      <td>NaN</td>\n",
       "      <td>NaN</td>\n",
       "      <td>0x6d94da</td>\n",
       "      <td>341.74</td>\n",
       "      <td>348.006012</td>\n",
       "      <td>334.989990</td>\n",
       "      <td>13.016022</td>\n",
       "    </tr>\n",
       "  </tbody>\n",
       "</table>\n",
       "<p>133789 rows × 11 columns</p>\n",
       "</div>"
      ],
      "text/plain": [
       "            Number             Type      From        To  Amount_dolars  Amount_eth user_transaction  Adj Close         High          Low    Variance\n",
       "Date                                                                                                                                                \n",
       "2021-06-30    7051          Offered       NaN       NaN       60707.68       26.69         0x9e1893    2274.55  2282.989014  2090.760742  192.228272\n",
       "2021-06-30    6263    Bid withdrawn  0x12D715       NaN       38667.31       17.00         0x6feee6    2274.55  2282.989014  2090.760742  192.228272\n",
       "2021-06-30    9400  Offer withdrawn       NaN       NaN            NaN         NaN         0xf18631    2274.55  2282.989014  2090.760742  192.228272\n",
       "2021-06-30    6493          Offered       NaN       NaN       45354.48       19.94         0xb07068    2274.55  2282.989014  2090.760742  192.228272\n",
       "2021-06-30    6281         Transfer  0x8F8B47  0x63d4a5            NaN         NaN         0xd09776    2274.55  2282.989014  2090.760742  192.228272\n",
       "...            ...              ...       ...       ...            ...         ...              ...        ...          ...          ...         ...\n",
       "2017-06-23    3029          Claimed       NaN  0xe4d36b            NaN         NaN         0x218fdb     341.74   348.006012   334.989990   13.016022\n",
       "2017-06-23    8419          Claimed       NaN  0x6f4a2d            NaN         NaN         0x82a4ad     341.74   348.006012   334.989990   13.016022\n",
       "2017-06-23    8420          Claimed       NaN  0xcc7c33            NaN         NaN         0x82a4ad     341.74   348.006012   334.989990   13.016022\n",
       "2017-06-23    8421          Claimed       NaN  0x005612            NaN         NaN         0x82a4ad     341.74   348.006012   334.989990   13.016022\n",
       "2017-06-23    9999          Claimed       NaN  0x7e2d1c            NaN         NaN         0x6d94da     341.74   348.006012   334.989990   13.016022\n",
       "\n",
       "[133789 rows x 11 columns]"
      ]
     },
     "execution_count": 157,
     "metadata": {},
     "output_type": "execute_result"
    }
   ],
   "source": [
    "txn"
   ]
  },
  {
   "cell_type": "code",
   "execution_count": 26,
   "id": "22b88254",
   "metadata": {
    "ExecuteTime": {
     "end_time": "2021-07-04T12:09:54.065690Z",
     "start_time": "2021-07-04T12:09:53.967117Z"
    }
   },
   "outputs": [],
   "source": [
    "profile = ProfileReport(txn, title=\"Cryptopunks Nou Transactions History profile report\", minimal =True)"
   ]
  },
  {
   "cell_type": "code",
   "execution_count": 27,
   "id": "4814bc13",
   "metadata": {
    "ExecuteTime": {
     "end_time": "2021-07-04T12:10:08.784443Z",
     "start_time": "2021-07-04T12:10:03.181294Z"
    }
   },
   "outputs": [
    {
     "data": {
      "application/vnd.jupyter.widget-view+json": {
       "model_id": "3103e536310c44b390940c652d313851",
       "version_major": 2,
       "version_minor": 0
      },
      "text/plain": [
       "Summarize dataset:   0%|          | 0/17 [00:00<?, ?it/s]"
      ]
     },
     "metadata": {},
     "output_type": "display_data"
    },
    {
     "data": {
      "application/vnd.jupyter.widget-view+json": {
       "model_id": "c214d8ddb41041779298519ddc14fdf6",
       "version_major": 2,
       "version_minor": 0
      },
      "text/plain": [
       "Generate report structure:   0%|          | 0/1 [00:00<?, ?it/s]"
      ]
     },
     "metadata": {},
     "output_type": "display_data"
    },
    {
     "data": {
      "application/vnd.jupyter.widget-view+json": {
       "model_id": "025f59901d6c4d8d99c9a1f728d36995",
       "version_major": 2,
       "version_minor": 0
      },
      "text/plain": [
       "Render HTML:   0%|          | 0/1 [00:00<?, ?it/s]"
      ]
     },
     "metadata": {},
     "output_type": "display_data"
    },
    {
     "data": {
      "application/vnd.jupyter.widget-view+json": {
       "model_id": "bbe8b14513994bdea49eb2cb2f44e56c",
       "version_major": 2,
       "version_minor": 0
      },
      "text/plain": [
       "Export report to file:   0%|          | 0/1 [00:00<?, ?it/s]"
      ]
     },
     "metadata": {},
     "output_type": "display_data"
    }
   ],
   "source": [
    "profile.to_file('nou_profile_output.html')"
   ]
  },
  {
   "cell_type": "code",
   "execution_count": 231,
   "id": "675f77fe",
   "metadata": {
    "ExecuteTime": {
     "end_time": "2021-07-06T10:35:07.961055Z",
     "start_time": "2021-07-06T10:35:07.946053Z"
    }
   },
   "outputs": [],
   "source": [
    "# Buscamos duplicados y eliminamos"
   ]
  },
  {
   "cell_type": "code",
   "execution_count": 158,
   "id": "dca294b5",
   "metadata": {
    "ExecuteTime": {
     "end_time": "2021-07-05T15:34:43.724408Z",
     "start_time": "2021-07-05T15:34:43.543709Z"
    }
   },
   "outputs": [
    {
     "data": {
      "text/plain": [
       "False    133582\n",
       "True        207\n",
       "dtype: int64"
      ]
     },
     "execution_count": 158,
     "metadata": {},
     "output_type": "execute_result"
    }
   ],
   "source": [
    "txn.duplicated().value_counts()"
   ]
  },
  {
   "cell_type": "markdown",
   "id": "7c43f4cd",
   "metadata": {},
   "source": [
    "Mirem els que en principi són duplicats:"
   ]
  },
  {
   "cell_type": "code",
   "execution_count": 203,
   "id": "1e12cc65",
   "metadata": {
    "ExecuteTime": {
     "end_time": "2021-07-06T10:26:10.935647Z",
     "start_time": "2021-07-06T10:26:10.733084Z"
    }
   },
   "outputs": [],
   "source": [
    "txn = txn[txn.duplicated() == False]"
   ]
  },
  {
   "cell_type": "code",
   "execution_count": 277,
   "id": "ad78b691",
   "metadata": {
    "ExecuteTime": {
     "end_time": "2021-07-06T11:25:35.656746Z",
     "start_time": "2021-07-06T11:25:35.635802Z"
    }
   },
   "outputs": [
    {
     "data": {
      "text/plain": [
       "Index(['Number', 'Type', 'From', 'To', 'Amount_dolars', 'Amount_eth', 'user_transaction', 'Adj Close', 'High', 'Low', 'Variance'], dtype='object')"
      ]
     },
     "execution_count": 277,
     "metadata": {},
     "output_type": "execute_result"
    }
   ],
   "source": [
    "txn.columns"
   ]
  },
  {
   "cell_type": "code",
   "execution_count": 278,
   "id": "1fc20472",
   "metadata": {
    "ExecuteTime": {
     "end_time": "2021-07-06T11:25:57.765673Z",
     "start_time": "2021-07-06T11:25:57.732802Z"
    }
   },
   "outputs": [],
   "source": [
    "txn = txn[['Number', 'Type', 'From', 'To', 'Amount_dolars', 'Amount_eth', 'user_transaction', 'Adj Close', 'Variance']]"
   ]
  },
  {
   "cell_type": "markdown",
   "id": "a4c230ae",
   "metadata": {},
   "source": [
    "## 1. Estudi de nuls"
   ]
  },
  {
   "cell_type": "code",
   "execution_count": 280,
   "id": "b9d95cd0",
   "metadata": {
    "ExecuteTime": {
     "end_time": "2021-07-06T11:26:31.739565Z",
     "start_time": "2021-07-06T11:26:31.681721Z"
    }
   },
   "outputs": [
    {
     "data": {
      "text/plain": [
       "Number                  0\n",
       "Type                    0\n",
       "From                71996\n",
       "To                  95098\n",
       "Amount_dolars       44510\n",
       "Amount_eth          44047\n",
       "user_transaction        0\n",
       "Adj Close             874\n",
       "Variance              874\n",
       "dtype: int64"
      ]
     },
     "execution_count": 280,
     "metadata": {},
     "output_type": "execute_result"
    }
   ],
   "source": [
    "txn.isna().sum()"
   ]
  },
  {
   "cell_type": "markdown",
   "id": "e87d337e",
   "metadata": {},
   "source": [
    "Tenemos 44047 transacciones sin valor monetario (eth, y por lo tanto dolares). Vamos a estudiar porqué y a qué tipo de transaccion estan asociadas. Empezamos por la variable Adj Close, que nos permite sacar el valor en dolares a partir del precio de conversión ETH-DOL el día de la transacción."
   ]
  },
  {
   "cell_type": "code",
   "execution_count": 204,
   "id": "0bc5a1a9",
   "metadata": {
    "ExecuteTime": {
     "end_time": "2021-07-06T10:26:14.431845Z",
     "start_time": "2021-07-06T10:26:14.412864Z"
    }
   },
   "outputs": [],
   "source": [
    "# Nuls en Adj Close:\n",
    "adj_nuls = txn[txn['Adj Close'].isna()].sort_values(by='Date', ascending = False)"
   ]
  },
  {
   "cell_type": "code",
   "execution_count": 205,
   "id": "625ab314",
   "metadata": {
    "ExecuteTime": {
     "end_time": "2021-07-06T10:26:15.158634Z",
     "start_time": "2021-07-06T10:26:15.121734Z"
    }
   },
   "outputs": [
    {
     "data": {
      "text/html": [
       "<div>\n",
       "<style scoped>\n",
       "    .dataframe tbody tr th:only-of-type {\n",
       "        vertical-align: middle;\n",
       "    }\n",
       "\n",
       "    .dataframe tbody tr th {\n",
       "        vertical-align: top;\n",
       "    }\n",
       "\n",
       "    .dataframe thead th {\n",
       "        text-align: right;\n",
       "    }\n",
       "</style>\n",
       "<table border=\"1\" class=\"dataframe\">\n",
       "  <thead>\n",
       "    <tr style=\"text-align: right;\">\n",
       "      <th></th>\n",
       "      <th>Number</th>\n",
       "      <th>Type</th>\n",
       "      <th>From</th>\n",
       "      <th>To</th>\n",
       "      <th>Amount_dolars</th>\n",
       "      <th>Amount_eth</th>\n",
       "      <th>user_transaction</th>\n",
       "      <th>Adj Close</th>\n",
       "      <th>High</th>\n",
       "      <th>Low</th>\n",
       "      <th>Variance</th>\n",
       "    </tr>\n",
       "    <tr>\n",
       "      <th>Date</th>\n",
       "      <th></th>\n",
       "      <th></th>\n",
       "      <th></th>\n",
       "      <th></th>\n",
       "      <th></th>\n",
       "      <th></th>\n",
       "      <th></th>\n",
       "      <th></th>\n",
       "      <th></th>\n",
       "      <th></th>\n",
       "      <th></th>\n",
       "    </tr>\n",
       "  </thead>\n",
       "  <tbody>\n",
       "    <tr>\n",
       "      <th>2020-10-13</th>\n",
       "      <td>3107</td>\n",
       "      <td>Bid withdrawn</td>\n",
       "      <td>0xCf0E9b</td>\n",
       "      <td>NaN</td>\n",
       "      <td>NaN</td>\n",
       "      <td>21.00</td>\n",
       "      <td>0xd8620c</td>\n",
       "      <td>NaN</td>\n",
       "      <td>NaN</td>\n",
       "      <td>NaN</td>\n",
       "      <td>NaN</td>\n",
       "    </tr>\n",
       "    <tr>\n",
       "      <th>2020-10-13</th>\n",
       "      <td>5071</td>\n",
       "      <td>Transfer</td>\n",
       "      <td>0xf11dFe</td>\n",
       "      <td>0xb7d53f</td>\n",
       "      <td>NaN</td>\n",
       "      <td>NaN</td>\n",
       "      <td>0xedcd70</td>\n",
       "      <td>NaN</td>\n",
       "      <td>NaN</td>\n",
       "      <td>NaN</td>\n",
       "      <td>NaN</td>\n",
       "    </tr>\n",
       "    <tr>\n",
       "      <th>2020-10-13</th>\n",
       "      <td>8530</td>\n",
       "      <td>Offered</td>\n",
       "      <td>NaN</td>\n",
       "      <td>NaN</td>\n",
       "      <td>NaN</td>\n",
       "      <td>12.00</td>\n",
       "      <td>0xb43e21</td>\n",
       "      <td>NaN</td>\n",
       "      <td>NaN</td>\n",
       "      <td>NaN</td>\n",
       "      <td>NaN</td>\n",
       "    </tr>\n",
       "    <tr>\n",
       "      <th>2020-10-13</th>\n",
       "      <td>8845</td>\n",
       "      <td>Offered</td>\n",
       "      <td>NaN</td>\n",
       "      <td>NaN</td>\n",
       "      <td>NaN</td>\n",
       "      <td>9.25</td>\n",
       "      <td>0xdc3b37</td>\n",
       "      <td>NaN</td>\n",
       "      <td>NaN</td>\n",
       "      <td>NaN</td>\n",
       "      <td>NaN</td>\n",
       "    </tr>\n",
       "    <tr>\n",
       "      <th>2020-10-13</th>\n",
       "      <td>2831</td>\n",
       "      <td>Offered</td>\n",
       "      <td>NaN</td>\n",
       "      <td>NaN</td>\n",
       "      <td>NaN</td>\n",
       "      <td>8.00</td>\n",
       "      <td>0x0a741b</td>\n",
       "      <td>NaN</td>\n",
       "      <td>NaN</td>\n",
       "      <td>NaN</td>\n",
       "      <td>NaN</td>\n",
       "    </tr>\n",
       "    <tr>\n",
       "      <th>...</th>\n",
       "      <td>...</td>\n",
       "      <td>...</td>\n",
       "      <td>...</td>\n",
       "      <td>...</td>\n",
       "      <td>...</td>\n",
       "      <td>...</td>\n",
       "      <td>...</td>\n",
       "      <td>...</td>\n",
       "      <td>...</td>\n",
       "      <td>...</td>\n",
       "      <td>...</td>\n",
       "    </tr>\n",
       "    <tr>\n",
       "      <th>2020-04-17</th>\n",
       "      <td>8820</td>\n",
       "      <td>Offered</td>\n",
       "      <td>NaN</td>\n",
       "      <td>NaN</td>\n",
       "      <td>NaN</td>\n",
       "      <td>1.97</td>\n",
       "      <td>0x4790d5</td>\n",
       "      <td>NaN</td>\n",
       "      <td>NaN</td>\n",
       "      <td>NaN</td>\n",
       "      <td>NaN</td>\n",
       "    </tr>\n",
       "    <tr>\n",
       "      <th>2020-04-17</th>\n",
       "      <td>8820</td>\n",
       "      <td>Offer withdrawn</td>\n",
       "      <td>NaN</td>\n",
       "      <td>NaN</td>\n",
       "      <td>NaN</td>\n",
       "      <td>NaN</td>\n",
       "      <td>0xbfdb30</td>\n",
       "      <td>NaN</td>\n",
       "      <td>NaN</td>\n",
       "      <td>NaN</td>\n",
       "      <td>NaN</td>\n",
       "    </tr>\n",
       "    <tr>\n",
       "      <th>2020-04-17</th>\n",
       "      <td>8820</td>\n",
       "      <td>Transfer</td>\n",
       "      <td>0x677B43</td>\n",
       "      <td>0x1a96af</td>\n",
       "      <td>NaN</td>\n",
       "      <td>NaN</td>\n",
       "      <td>0xbfdb30</td>\n",
       "      <td>NaN</td>\n",
       "      <td>NaN</td>\n",
       "      <td>NaN</td>\n",
       "      <td>NaN</td>\n",
       "    </tr>\n",
       "    <tr>\n",
       "      <th>2020-04-17</th>\n",
       "      <td>8824</td>\n",
       "      <td>Offered</td>\n",
       "      <td>NaN</td>\n",
       "      <td>NaN</td>\n",
       "      <td>NaN</td>\n",
       "      <td>1.89</td>\n",
       "      <td>0xa8003c</td>\n",
       "      <td>NaN</td>\n",
       "      <td>NaN</td>\n",
       "      <td>NaN</td>\n",
       "      <td>NaN</td>\n",
       "    </tr>\n",
       "    <tr>\n",
       "      <th>2020-04-17</th>\n",
       "      <td>4948</td>\n",
       "      <td>Transfer</td>\n",
       "      <td>0xE45dF5</td>\n",
       "      <td>0x1a96af</td>\n",
       "      <td>NaN</td>\n",
       "      <td>NaN</td>\n",
       "      <td>0x6ac756</td>\n",
       "      <td>NaN</td>\n",
       "      <td>NaN</td>\n",
       "      <td>NaN</td>\n",
       "      <td>NaN</td>\n",
       "    </tr>\n",
       "  </tbody>\n",
       "</table>\n",
       "<p>874 rows × 11 columns</p>\n",
       "</div>"
      ],
      "text/plain": [
       "            Number             Type      From        To  Amount_dolars  Amount_eth user_transaction  Adj Close  High  Low  Variance\n",
       "Date                                                                                                                               \n",
       "2020-10-13    3107    Bid withdrawn  0xCf0E9b       NaN            NaN       21.00         0xd8620c        NaN   NaN  NaN       NaN\n",
       "2020-10-13    5071         Transfer  0xf11dFe  0xb7d53f            NaN         NaN         0xedcd70        NaN   NaN  NaN       NaN\n",
       "2020-10-13    8530          Offered       NaN       NaN            NaN       12.00         0xb43e21        NaN   NaN  NaN       NaN\n",
       "2020-10-13    8845          Offered       NaN       NaN            NaN        9.25         0xdc3b37        NaN   NaN  NaN       NaN\n",
       "2020-10-13    2831          Offered       NaN       NaN            NaN        8.00         0x0a741b        NaN   NaN  NaN       NaN\n",
       "...            ...              ...       ...       ...            ...         ...              ...        ...   ...  ...       ...\n",
       "2020-04-17    8820          Offered       NaN       NaN            NaN        1.97         0x4790d5        NaN   NaN  NaN       NaN\n",
       "2020-04-17    8820  Offer withdrawn       NaN       NaN            NaN         NaN         0xbfdb30        NaN   NaN  NaN       NaN\n",
       "2020-04-17    8820         Transfer  0x677B43  0x1a96af            NaN         NaN         0xbfdb30        NaN   NaN  NaN       NaN\n",
       "2020-04-17    8824          Offered       NaN       NaN            NaN        1.89         0xa8003c        NaN   NaN  NaN       NaN\n",
       "2020-04-17    4948         Transfer  0xE45dF5  0x1a96af            NaN         NaN         0x6ac756        NaN   NaN  NaN       NaN\n",
       "\n",
       "[874 rows x 11 columns]"
      ]
     },
     "execution_count": 205,
     "metadata": {},
     "output_type": "execute_result"
    }
   ],
   "source": [
    "adj_nuls"
   ]
  },
  {
   "cell_type": "markdown",
   "id": "bd7d664e",
   "metadata": {},
   "source": [
    "Los 876 nuls que tenemos en Adj Close pertenecen a 4 dias, de los quales, des del principio, no teniamos el valor del ethereum en dolar."
   ]
  },
  {
   "cell_type": "code",
   "execution_count": 206,
   "id": "831a3952",
   "metadata": {
    "ExecuteTime": {
     "end_time": "2021-07-06T10:26:18.847937Z",
     "start_time": "2021-07-06T10:26:18.828989Z"
    }
   },
   "outputs": [
    {
     "data": {
      "text/plain": [
       "DatetimeIndex(['2020-10-13', '2020-10-12', '2020-10-09', '2020-04-17'], dtype='datetime64[ns]', name='Date', freq=None)"
      ]
     },
     "execution_count": 206,
     "metadata": {},
     "output_type": "execute_result"
    }
   ],
   "source": [
    "adj_nuls.index.unique()"
   ]
  },
  {
   "cell_type": "code",
   "execution_count": 207,
   "id": "b1a327d4",
   "metadata": {
    "ExecuteTime": {
     "end_time": "2021-07-06T10:26:19.304842Z",
     "start_time": "2021-07-06T10:26:19.280907Z"
    }
   },
   "outputs": [
    {
     "data": {
      "text/plain": [
       "2020-04-17    396\n",
       "2020-10-09    199\n",
       "2020-10-13    156\n",
       "2020-10-12    123\n",
       "Name: Date, dtype: int64"
      ]
     },
     "execution_count": 207,
     "metadata": {},
     "output_type": "execute_result"
    }
   ],
   "source": [
    "adj_nuls.index.value_counts()"
   ]
  },
  {
   "cell_type": "code",
   "execution_count": 208,
   "id": "691a9f15",
   "metadata": {
    "ExecuteTime": {
     "end_time": "2021-07-06T10:26:19.682128Z",
     "start_time": "2021-07-06T10:26:19.664176Z"
    }
   },
   "outputs": [
    {
     "data": {
      "text/plain": [
       "44047"
      ]
     },
     "execution_count": 208,
     "metadata": {},
     "output_type": "execute_result"
    }
   ],
   "source": [
    "# Nuls en ethereum\n",
    "txn['Amount_eth'].isna().sum()"
   ]
  },
  {
   "cell_type": "code",
   "execution_count": 209,
   "id": "b413a29e",
   "metadata": {
    "ExecuteTime": {
     "end_time": "2021-07-06T10:26:20.116924Z",
     "start_time": "2021-07-06T10:26:20.080024Z"
    }
   },
   "outputs": [],
   "source": [
    "eth_nuls = txn[txn['Amount_eth'].isna()].sort_values(by='Date', ascending = False)"
   ]
  },
  {
   "cell_type": "code",
   "execution_count": 210,
   "id": "0c413cef",
   "metadata": {
    "ExecuteTime": {
     "end_time": "2021-07-06T10:26:20.589638Z",
     "start_time": "2021-07-06T10:26:20.562713Z"
    }
   },
   "outputs": [
    {
     "data": {
      "text/plain": [
       "Offer withdrawn      0.418644\n",
       "Transfer             0.250778\n",
       "Claimed              0.227030\n",
       "Transfer (Wrap)      0.054782\n",
       "Transfer (Unwrap)    0.048766\n",
       "Name: Type, dtype: float64"
      ]
     },
     "execution_count": 210,
     "metadata": {},
     "output_type": "execute_result"
    }
   ],
   "source": [
    "eth_nuls['Type'].value_counts(normalize=True)"
   ]
  },
  {
   "cell_type": "code",
   "execution_count": 211,
   "id": "a933bc59",
   "metadata": {
    "ExecuteTime": {
     "end_time": "2021-07-06T10:26:20.984336Z",
     "start_time": "2021-07-06T10:26:20.945442Z"
    }
   },
   "outputs": [
    {
     "data": {
      "text/plain": [
       "Offered              0.326062\n",
       "Bid                  0.159228\n",
       "Offer withdrawn      0.138043\n",
       "Sold                 0.093531\n",
       "Bid withdrawn        0.091442\n",
       "Transfer             0.082691\n",
       "Claimed              0.074860\n",
       "Transfer (Wrap)      0.018064\n",
       "Transfer (Unwrap)    0.016080\n",
       "Name: Type, dtype: float64"
      ]
     },
     "execution_count": 211,
     "metadata": {},
     "output_type": "execute_result"
    }
   ],
   "source": [
    "txn['Type'].value_counts(normalize=True)"
   ]
  },
  {
   "cell_type": "code",
   "execution_count": 212,
   "id": "603fd624",
   "metadata": {
    "ExecuteTime": {
     "end_time": "2021-07-06T10:26:21.535414Z",
     "start_time": "2021-07-06T10:26:21.515467Z"
    }
   },
   "outputs": [
    {
     "data": {
      "text/plain": [
       "44510"
      ]
     },
     "execution_count": 212,
     "metadata": {},
     "output_type": "execute_result"
    }
   ],
   "source": [
    "# Nuls en dolares\n",
    "txn['Amount_dolars'].isna().sum()"
   ]
  },
  {
   "cell_type": "code",
   "execution_count": 213,
   "id": "29d7e404",
   "metadata": {
    "ExecuteTime": {
     "end_time": "2021-07-06T10:26:22.056251Z",
     "start_time": "2021-07-06T10:26:21.984060Z"
    }
   },
   "outputs": [],
   "source": [
    "dolars_nuls = txn[txn['Amount_dolars'].isna()].sort_values(by='Date', ascending = False)"
   ]
  },
  {
   "cell_type": "markdown",
   "id": "4b5ed4c5",
   "metadata": {},
   "source": [
    "Observando los percentatges y comparandolos con los nuls de ethereum vemos que los nuls en dolares son los mismos que en ethereum sumando los de Adj Close que no coinciden con los  de ethereum."
   ]
  },
  {
   "cell_type": "code",
   "execution_count": 214,
   "id": "a04430f4",
   "metadata": {
    "ExecuteTime": {
     "end_time": "2021-07-06T10:26:22.844321Z",
     "start_time": "2021-07-06T10:26:22.822381Z"
    }
   },
   "outputs": [
    {
     "data": {
      "text/plain": [
       "Offer withdrawn      0.414289\n",
       "Transfer             0.248169\n",
       "Claimed              0.224669\n",
       "Transfer (Wrap)      0.054213\n",
       "Transfer (Unwrap)    0.048259\n",
       "Offered              0.006426\n",
       "Bid                  0.001663\n",
       "Bid withdrawn        0.001258\n",
       "Sold                 0.001056\n",
       "Name: Type, dtype: float64"
      ]
     },
     "execution_count": 214,
     "metadata": {},
     "output_type": "execute_result"
    }
   ],
   "source": [
    "dolars_nuls['Type'].value_counts(normalize=True)"
   ]
  },
  {
   "cell_type": "markdown",
   "id": "374cc1ed",
   "metadata": {},
   "source": [
    "## 2. Analisis descriptivo"
   ]
  },
  {
   "cell_type": "markdown",
   "id": "994d21f1",
   "metadata": {},
   "source": [
    "### 2.1 Categóricas"
   ]
  },
  {
   "cell_type": "markdown",
   "id": "5bf352cf",
   "metadata": {},
   "source": [
    "#### 2.1.1 Tipos de transacciones ('Type')"
   ]
  },
  {
   "cell_type": "markdown",
   "id": "71579d2d",
   "metadata": {},
   "source": [
    "Empezamos el analisis descriptivo con las variables categóricas, primero con el tipo de transacciones, para tener una idea de con què estamos trabajando:"
   ]
  },
  {
   "cell_type": "code",
   "execution_count": 215,
   "id": "6cb2e26b",
   "metadata": {
    "ExecuteTime": {
     "end_time": "2021-07-06T10:26:24.648108Z",
     "start_time": "2021-07-06T10:26:24.612165Z"
    }
   },
   "outputs": [
    {
     "data": {
      "text/plain": [
       "Offered              43556\n",
       "Bid                  21270\n",
       "Offer withdrawn      18440\n",
       "Sold                 12494\n",
       "Bid withdrawn        12215\n",
       "Transfer             11046\n",
       "Claimed              10000\n",
       "Transfer (Wrap)       2413\n",
       "Transfer (Unwrap)     2148\n",
       "Name: Type, dtype: int64"
      ]
     },
     "execution_count": 215,
     "metadata": {},
     "output_type": "execute_result"
    }
   ],
   "source": [
    "txn['Type'].value_counts()"
   ]
  },
  {
   "cell_type": "code",
   "execution_count": 216,
   "id": "bfba8bc3",
   "metadata": {
    "ExecuteTime": {
     "end_time": "2021-07-06T10:26:25.105016Z",
     "start_time": "2021-07-06T10:26:25.065124Z"
    }
   },
   "outputs": [],
   "source": [
    "x = txn['Type'].value_counts().keys()\n",
    "y = txn['Type'].value_counts().values"
   ]
  },
  {
   "cell_type": "code",
   "execution_count": 217,
   "id": "2ae8acbf",
   "metadata": {
    "ExecuteTime": {
     "end_time": "2021-07-06T10:26:25.905138Z",
     "start_time": "2021-07-06T10:26:25.622299Z"
    }
   },
   "outputs": [
    {
     "data": {
      "text/plain": [
       "<BarContainer object of 9 artists>"
      ]
     },
     "execution_count": 217,
     "metadata": {},
     "output_type": "execute_result"
    },
    {
     "data": {
      "image/png": "[encoded data removed]",
      "text/plain": [
       "<Figure size 1200x320 with 1 Axes>"
      ]
     },
     "metadata": {},
     "output_type": "display_data"
    }
   ],
   "source": [
    "from matplotlib.pyplot import figure\n",
    "\n",
    "figure(figsize=(15, 4), dpi=80)\n",
    "plt.bar(x, y)"
   ]
  },
  {
   "cell_type": "markdown",
   "id": "5079cf5b",
   "metadata": {},
   "source": [
    "Buscamos el significado específico de cada tipo. 'Offered' significa que alguien un usuario ha ofrecido al propietario del punk una suma."
   ]
  },
  {
   "cell_type": "code",
   "execution_count": 232,
   "id": "8719f8f4",
   "metadata": {
    "ExecuteTime": {
     "end_time": "2021-07-06T10:42:18.895998Z",
     "start_time": "2021-07-06T10:42:18.840145Z"
    }
   },
   "outputs": [
    {
     "data": {
      "text/plain": [
       "Number                  0\n",
       "Type                    0\n",
       "From                43556\n",
       "To                  43173\n",
       "Amount_dolars         286\n",
       "Amount_eth              0\n",
       "user_transaction        0\n",
       "Adj Close             286\n",
       "High                  286\n",
       "Low                   286\n",
       "Variance              286\n",
       "dtype: int64"
      ]
     },
     "execution_count": 232,
     "metadata": {},
     "output_type": "execute_result"
    }
   ],
   "source": [
    "txn[txn['Type'] == 'Offered'].isna().sum()"
   ]
  },
  {
   "cell_type": "markdown",
   "id": "7fa2228b",
   "metadata": {},
   "source": [
    "Como vemos el tipo 'transfer' no comporta ningún intercanvio monetario, solo la transacción del punk de un usuari a otro:"
   ]
  },
  {
   "cell_type": "code",
   "execution_count": 219,
   "id": "d7e96cac",
   "metadata": {
    "ExecuteTime": {
     "end_time": "2021-07-06T10:26:27.973563Z",
     "start_time": "2021-07-06T10:26:27.904684Z"
    }
   },
   "outputs": [
    {
     "data": {
      "text/html": [
       "<div>\n",
       "<style scoped>\n",
       "    .dataframe tbody tr th:only-of-type {\n",
       "        vertical-align: middle;\n",
       "    }\n",
       "\n",
       "    .dataframe tbody tr th {\n",
       "        vertical-align: top;\n",
       "    }\n",
       "\n",
       "    .dataframe thead th {\n",
       "        text-align: right;\n",
       "    }\n",
       "</style>\n",
       "<table border=\"1\" class=\"dataframe\">\n",
       "  <thead>\n",
       "    <tr style=\"text-align: right;\">\n",
       "      <th></th>\n",
       "      <th>Number</th>\n",
       "      <th>Amount_dolars</th>\n",
       "      <th>Amount_eth</th>\n",
       "      <th>Adj Close</th>\n",
       "      <th>High</th>\n",
       "      <th>Low</th>\n",
       "      <th>Variance</th>\n",
       "    </tr>\n",
       "  </thead>\n",
       "  <tbody>\n",
       "    <tr>\n",
       "      <th>count</th>\n",
       "      <td>11046.000000</td>\n",
       "      <td>0.0</td>\n",
       "      <td>0.0</td>\n",
       "      <td>10891.000000</td>\n",
       "      <td>10891.000000</td>\n",
       "      <td>10891.000000</td>\n",
       "      <td>10891.000000</td>\n",
       "    </tr>\n",
       "    <tr>\n",
       "      <th>mean</th>\n",
       "      <td>5101.211479</td>\n",
       "      <td>NaN</td>\n",
       "      <td>NaN</td>\n",
       "      <td>1414.848651</td>\n",
       "      <td>1457.915243</td>\n",
       "      <td>1336.310461</td>\n",
       "      <td>121.604782</td>\n",
       "    </tr>\n",
       "    <tr>\n",
       "      <th>std</th>\n",
       "      <td>2936.135551</td>\n",
       "      <td>NaN</td>\n",
       "      <td>NaN</td>\n",
       "      <td>1066.586025</td>\n",
       "      <td>1095.748389</td>\n",
       "      <td>987.029273</td>\n",
       "      <td>134.923204</td>\n",
       "    </tr>\n",
       "    <tr>\n",
       "      <th>min</th>\n",
       "      <td>0.000000</td>\n",
       "      <td>NaN</td>\n",
       "      <td>NaN</td>\n",
       "      <td>84.440000</td>\n",
       "      <td>85.342743</td>\n",
       "      <td>82.829887</td>\n",
       "      <td>2.512856</td>\n",
       "    </tr>\n",
       "    <tr>\n",
       "      <th>25%</th>\n",
       "      <td>2457.250000</td>\n",
       "      <td>NaN</td>\n",
       "      <td>NaN</td>\n",
       "      <td>360.020000</td>\n",
       "      <td>371.119064</td>\n",
       "      <td>354.825134</td>\n",
       "      <td>17.901489</td>\n",
       "    </tr>\n",
       "    <tr>\n",
       "      <th>50%</th>\n",
       "      <td>5222.000000</td>\n",
       "      <td>NaN</td>\n",
       "      <td>NaN</td>\n",
       "      <td>1376.120000</td>\n",
       "      <td>1402.399780</td>\n",
       "      <td>1328.529053</td>\n",
       "      <td>89.245727</td>\n",
       "    </tr>\n",
       "    <tr>\n",
       "      <th>75%</th>\n",
       "      <td>7668.000000</td>\n",
       "      <td>NaN</td>\n",
       "      <td>NaN</td>\n",
       "      <td>2093.120000</td>\n",
       "      <td>2110.353516</td>\n",
       "      <td>1963.615479</td>\n",
       "      <td>161.717651</td>\n",
       "    </tr>\n",
       "    <tr>\n",
       "      <th>max</th>\n",
       "      <td>9999.000000</td>\n",
       "      <td>NaN</td>\n",
       "      <td>NaN</td>\n",
       "      <td>4168.700000</td>\n",
       "      <td>4362.350586</td>\n",
       "      <td>3785.848633</td>\n",
       "      <td>1485.475586</td>\n",
       "    </tr>\n",
       "  </tbody>\n",
       "</table>\n",
       "</div>"
      ],
      "text/plain": [
       "             Number  Amount_dolars  Amount_eth     Adj Close          High           Low      Variance\n",
       "count  11046.000000            0.0         0.0  10891.000000  10891.000000  10891.000000  10891.000000\n",
       "mean    5101.211479            NaN         NaN   1414.848651   1457.915243   1336.310461    121.604782\n",
       "std     2936.135551            NaN         NaN   1066.586025   1095.748389    987.029273    134.923204\n",
       "min        0.000000            NaN         NaN     84.440000     85.342743     82.829887      2.512856\n",
       "25%     2457.250000            NaN         NaN    360.020000    371.119064    354.825134     17.901489\n",
       "50%     5222.000000            NaN         NaN   1376.120000   1402.399780   1328.529053     89.245727\n",
       "75%     7668.000000            NaN         NaN   2093.120000   2110.353516   1963.615479    161.717651\n",
       "max     9999.000000            NaN         NaN   4168.700000   4362.350586   3785.848633   1485.475586"
      ]
     },
     "execution_count": 219,
     "metadata": {},
     "output_type": "execute_result"
    }
   ],
   "source": [
    "txn[txn['Type'] == 'Transfer'].describe()"
   ]
  },
  {
   "cell_type": "markdown",
   "id": "1bbb890f",
   "metadata": {},
   "source": [
    "Withdrawn tampoco comporta ningún intercanvio monetario:"
   ]
  },
  {
   "cell_type": "code",
   "execution_count": 220,
   "id": "6dcc6c64",
   "metadata": {
    "ExecuteTime": {
     "end_time": "2021-07-06T10:26:30.551697Z",
     "start_time": "2021-07-06T10:26:30.450968Z"
    }
   },
   "outputs": [
    {
     "data": {
      "text/html": [
       "<div>\n",
       "<style scoped>\n",
       "    .dataframe tbody tr th:only-of-type {\n",
       "        vertical-align: middle;\n",
       "    }\n",
       "\n",
       "    .dataframe tbody tr th {\n",
       "        vertical-align: top;\n",
       "    }\n",
       "\n",
       "    .dataframe thead th {\n",
       "        text-align: right;\n",
       "    }\n",
       "</style>\n",
       "<table border=\"1\" class=\"dataframe\">\n",
       "  <thead>\n",
       "    <tr style=\"text-align: right;\">\n",
       "      <th></th>\n",
       "      <th>Number</th>\n",
       "      <th>Amount_dolars</th>\n",
       "      <th>Amount_eth</th>\n",
       "      <th>Adj Close</th>\n",
       "      <th>High</th>\n",
       "      <th>Low</th>\n",
       "      <th>Variance</th>\n",
       "    </tr>\n",
       "  </thead>\n",
       "  <tbody>\n",
       "    <tr>\n",
       "      <th>count</th>\n",
       "      <td>18440.000000</td>\n",
       "      <td>0.0</td>\n",
       "      <td>0.0</td>\n",
       "      <td>18242.000000</td>\n",
       "      <td>18242.000000</td>\n",
       "      <td>18242.000000</td>\n",
       "      <td>18242.000000</td>\n",
       "    </tr>\n",
       "    <tr>\n",
       "      <th>mean</th>\n",
       "      <td>5435.309924</td>\n",
       "      <td>NaN</td>\n",
       "      <td>NaN</td>\n",
       "      <td>1243.232104</td>\n",
       "      <td>1285.735019</td>\n",
       "      <td>1175.822747</td>\n",
       "      <td>109.912271</td>\n",
       "    </tr>\n",
       "    <tr>\n",
       "      <th>std</th>\n",
       "      <td>2656.920789</td>\n",
       "      <td>NaN</td>\n",
       "      <td>NaN</td>\n",
       "      <td>1002.133539</td>\n",
       "      <td>1040.955052</td>\n",
       "      <td>938.069121</td>\n",
       "      <td>137.154522</td>\n",
       "    </tr>\n",
       "    <tr>\n",
       "      <th>min</th>\n",
       "      <td>1.000000</td>\n",
       "      <td>NaN</td>\n",
       "      <td>NaN</td>\n",
       "      <td>84.310000</td>\n",
       "      <td>85.342743</td>\n",
       "      <td>82.829887</td>\n",
       "      <td>1.215011</td>\n",
       "    </tr>\n",
       "    <tr>\n",
       "      <th>25%</th>\n",
       "      <td>3186.000000</td>\n",
       "      <td>NaN</td>\n",
       "      <td>NaN</td>\n",
       "      <td>282.800000</td>\n",
       "      <td>291.104004</td>\n",
       "      <td>273.110992</td>\n",
       "      <td>14.277008</td>\n",
       "    </tr>\n",
       "    <tr>\n",
       "      <th>50%</th>\n",
       "      <td>5428.000000</td>\n",
       "      <td>NaN</td>\n",
       "      <td>NaN</td>\n",
       "      <td>1298.100000</td>\n",
       "      <td>1368.074097</td>\n",
       "      <td>1225.274048</td>\n",
       "      <td>67.885010</td>\n",
       "    </tr>\n",
       "    <tr>\n",
       "      <th>75%</th>\n",
       "      <td>7707.000000</td>\n",
       "      <td>NaN</td>\n",
       "      <td>NaN</td>\n",
       "      <td>1935.600000</td>\n",
       "      <td>1969.546997</td>\n",
       "      <td>1845.119995</td>\n",
       "      <td>149.965454</td>\n",
       "    </tr>\n",
       "    <tr>\n",
       "      <th>max</th>\n",
       "      <td>9999.000000</td>\n",
       "      <td>NaN</td>\n",
       "      <td>NaN</td>\n",
       "      <td>4168.700000</td>\n",
       "      <td>4362.350586</td>\n",
       "      <td>3785.848633</td>\n",
       "      <td>1485.475586</td>\n",
       "    </tr>\n",
       "  </tbody>\n",
       "</table>\n",
       "</div>"
      ],
      "text/plain": [
       "             Number  Amount_dolars  Amount_eth     Adj Close          High           Low      Variance\n",
       "count  18440.000000            0.0         0.0  18242.000000  18242.000000  18242.000000  18242.000000\n",
       "mean    5435.309924            NaN         NaN   1243.232104   1285.735019   1175.822747    109.912271\n",
       "std     2656.920789            NaN         NaN   1002.133539   1040.955052    938.069121    137.154522\n",
       "min        1.000000            NaN         NaN     84.310000     85.342743     82.829887      1.215011\n",
       "25%     3186.000000            NaN         NaN    282.800000    291.104004    273.110992     14.277008\n",
       "50%     5428.000000            NaN         NaN   1298.100000   1368.074097   1225.274048     67.885010\n",
       "75%     7707.000000            NaN         NaN   1935.600000   1969.546997   1845.119995    149.965454\n",
       "max     9999.000000            NaN         NaN   4168.700000   4362.350586   3785.848633   1485.475586"
      ]
     },
     "execution_count": 220,
     "metadata": {},
     "output_type": "execute_result"
    }
   ],
   "source": [
    "txn[txn['Type'] == 'Offer withdrawn'].describe()"
   ]
  },
  {
   "cell_type": "code",
   "execution_count": 221,
   "id": "c38172c7",
   "metadata": {
    "ExecuteTime": {
     "end_time": "2021-07-06T10:26:30.900627Z",
     "start_time": "2021-07-06T10:26:30.807865Z"
    }
   },
   "outputs": [
    {
     "data": {
      "text/html": [
       "<div>\n",
       "<style scoped>\n",
       "    .dataframe tbody tr th:only-of-type {\n",
       "        vertical-align: middle;\n",
       "    }\n",
       "\n",
       "    .dataframe tbody tr th {\n",
       "        vertical-align: top;\n",
       "    }\n",
       "\n",
       "    .dataframe thead th {\n",
       "        text-align: right;\n",
       "    }\n",
       "</style>\n",
       "<table border=\"1\" class=\"dataframe\">\n",
       "  <thead>\n",
       "    <tr style=\"text-align: right;\">\n",
       "      <th></th>\n",
       "      <th>Number</th>\n",
       "      <th>Amount_dolars</th>\n",
       "      <th>Amount_eth</th>\n",
       "      <th>Adj Close</th>\n",
       "      <th>High</th>\n",
       "      <th>Low</th>\n",
       "      <th>Variance</th>\n",
       "    </tr>\n",
       "  </thead>\n",
       "  <tbody>\n",
       "    <tr>\n",
       "      <th>count</th>\n",
       "      <td>12494.00</td>\n",
       "      <td>12447.00</td>\n",
       "      <td>12494.00</td>\n",
       "      <td>12447.00</td>\n",
       "      <td>12447.00</td>\n",
       "      <td>12447.00</td>\n",
       "      <td>12447.00</td>\n",
       "    </tr>\n",
       "    <tr>\n",
       "      <th>mean</th>\n",
       "      <td>5374.04</td>\n",
       "      <td>29323.05</td>\n",
       "      <td>14.78</td>\n",
       "      <td>1204.25</td>\n",
       "      <td>1244.73</td>\n",
       "      <td>1141.09</td>\n",
       "      <td>103.64</td>\n",
       "    </tr>\n",
       "    <tr>\n",
       "      <th>std</th>\n",
       "      <td>2662.98</td>\n",
       "      <td>112329.78</td>\n",
       "      <td>59.19</td>\n",
       "      <td>973.63</td>\n",
       "      <td>1009.05</td>\n",
       "      <td>914.10</td>\n",
       "      <td>127.29</td>\n",
       "    </tr>\n",
       "    <tr>\n",
       "      <th>min</th>\n",
       "      <td>0.00</td>\n",
       "      <td>0.00</td>\n",
       "      <td>0.00</td>\n",
       "      <td>84.44</td>\n",
       "      <td>85.34</td>\n",
       "      <td>82.83</td>\n",
       "      <td>1.22</td>\n",
       "    </tr>\n",
       "    <tr>\n",
       "      <th>25%</th>\n",
       "      <td>3125.00</td>\n",
       "      <td>134.06</td>\n",
       "      <td>0.60</td>\n",
       "      <td>273.30</td>\n",
       "      <td>287.39</td>\n",
       "      <td>265.50</td>\n",
       "      <td>14.28</td>\n",
       "    </tr>\n",
       "    <tr>\n",
       "      <th>50%</th>\n",
       "      <td>5354.00</td>\n",
       "      <td>6754.52</td>\n",
       "      <td>6.50</td>\n",
       "      <td>1230.99</td>\n",
       "      <td>1282.58</td>\n",
       "      <td>1167.44</td>\n",
       "      <td>63.78</td>\n",
       "    </tr>\n",
       "    <tr>\n",
       "      <th>75%</th>\n",
       "      <td>7657.50</td>\n",
       "      <td>42648.71</td>\n",
       "      <td>21.95</td>\n",
       "      <td>1854.56</td>\n",
       "      <td>1936.45</td>\n",
       "      <td>1793.92</td>\n",
       "      <td>142.56</td>\n",
       "    </tr>\n",
       "    <tr>\n",
       "      <th>max</th>\n",
       "      <td>9998.00</td>\n",
       "      <td>7670018.77</td>\n",
       "      <td>4200.00</td>\n",
       "      <td>4168.70</td>\n",
       "      <td>4362.35</td>\n",
       "      <td>3785.85</td>\n",
       "      <td>1485.48</td>\n",
       "    </tr>\n",
       "  </tbody>\n",
       "</table>\n",
       "</div>"
      ],
      "text/plain": [
       "         Number  Amount_dolars  Amount_eth  Adj Close      High       Low  Variance\n",
       "count  12494.00       12447.00    12494.00   12447.00  12447.00  12447.00  12447.00\n",
       "mean    5374.04       29323.05       14.78    1204.25   1244.73   1141.09    103.64\n",
       "std     2662.98      112329.78       59.19     973.63   1009.05    914.10    127.29\n",
       "min        0.00           0.00        0.00      84.44     85.34     82.83      1.22\n",
       "25%     3125.00         134.06        0.60     273.30    287.39    265.50     14.28\n",
       "50%     5354.00        6754.52        6.50    1230.99   1282.58   1167.44     63.78\n",
       "75%     7657.50       42648.71       21.95    1854.56   1936.45   1793.92    142.56\n",
       "max     9998.00     7670018.77     4200.00    4168.70   4362.35   3785.85   1485.48"
      ]
     },
     "execution_count": 221,
     "metadata": {},
     "output_type": "execute_result"
    }
   ],
   "source": [
    "round(txn[txn['Type'] == 'Sold'].describe(),2)"
   ]
  },
  {
   "cell_type": "markdown",
   "id": "570288c4",
   "metadata": {},
   "source": [
    "La media del precio histórico de venta en dolares es 29.360,04. El mínimo es 0 y el máximo son 7.670.018,77, con una desviación estándar de 112.284,38. El 50 percentil del precio histórico de venta en dolares se encuentra en los 6.784,11, teniendo el 25 percentil a 134,18 y el 75 a 42.714,17.\n",
    "\n",
    "La media del precio histórico de venta en Ethereum es de 59,16. El mínimo són 0 y el máximo son 4200, con una desviación estándar de 59,16. El 50 percentil del precio histórico de venta en dolars se encuentra en los 6,5. El 25 percentil a 0.6 y el 75 a 21,95."
   ]
  },
  {
   "cell_type": "code",
   "execution_count": 222,
   "id": "81057a18",
   "metadata": {
    "ExecuteTime": {
     "end_time": "2021-07-06T10:26:31.828779Z",
     "start_time": "2021-07-06T10:26:31.752977Z"
    }
   },
   "outputs": [
    {
     "data": {
      "text/html": [
       "<div>\n",
       "<style scoped>\n",
       "    .dataframe tbody tr th:only-of-type {\n",
       "        vertical-align: middle;\n",
       "    }\n",
       "\n",
       "    .dataframe tbody tr th {\n",
       "        vertical-align: top;\n",
       "    }\n",
       "\n",
       "    .dataframe thead th {\n",
       "        text-align: right;\n",
       "    }\n",
       "</style>\n",
       "<table border=\"1\" class=\"dataframe\">\n",
       "  <thead>\n",
       "    <tr style=\"text-align: right;\">\n",
       "      <th></th>\n",
       "      <th>Number</th>\n",
       "      <th>Amount_dolars</th>\n",
       "      <th>Amount_eth</th>\n",
       "      <th>Adj Close</th>\n",
       "      <th>High</th>\n",
       "      <th>Low</th>\n",
       "      <th>Variance</th>\n",
       "    </tr>\n",
       "  </thead>\n",
       "  <tbody>\n",
       "    <tr>\n",
       "      <th>count</th>\n",
       "      <td>12215.00</td>\n",
       "      <td>12159.00</td>\n",
       "      <td>12215.00</td>\n",
       "      <td>12159.00</td>\n",
       "      <td>12159.00</td>\n",
       "      <td>12159.00</td>\n",
       "      <td>12159.00</td>\n",
       "    </tr>\n",
       "    <tr>\n",
       "      <th>mean</th>\n",
       "      <td>5124.21</td>\n",
       "      <td>38539.59</td>\n",
       "      <td>19.27</td>\n",
       "      <td>1301.13</td>\n",
       "      <td>1348.44</td>\n",
       "      <td>1232.53</td>\n",
       "      <td>115.92</td>\n",
       "    </tr>\n",
       "    <tr>\n",
       "      <th>std</th>\n",
       "      <td>2865.33</td>\n",
       "      <td>142982.99</td>\n",
       "      <td>73.50</td>\n",
       "      <td>989.73</td>\n",
       "      <td>1030.47</td>\n",
       "      <td>931.81</td>\n",
       "      <td>136.51</td>\n",
       "    </tr>\n",
       "    <tr>\n",
       "      <th>min</th>\n",
       "      <td>0.00</td>\n",
       "      <td>0.00</td>\n",
       "      <td>0.00</td>\n",
       "      <td>84.44</td>\n",
       "      <td>85.34</td>\n",
       "      <td>82.83</td>\n",
       "      <td>1.22</td>\n",
       "    </tr>\n",
       "    <tr>\n",
       "      <th>25%</th>\n",
       "      <td>2698.00</td>\n",
       "      <td>212.41</td>\n",
       "      <td>0.70</td>\n",
       "      <td>302.88</td>\n",
       "      <td>315.19</td>\n",
       "      <td>276.41</td>\n",
       "      <td>18.61</td>\n",
       "    </tr>\n",
       "    <tr>\n",
       "      <th>50%</th>\n",
       "      <td>5204.00</td>\n",
       "      <td>5908.75</td>\n",
       "      <td>6.20</td>\n",
       "      <td>1382.27</td>\n",
       "      <td>1405.74</td>\n",
       "      <td>1288.50</td>\n",
       "      <td>85.66</td>\n",
       "    </tr>\n",
       "    <tr>\n",
       "      <th>75%</th>\n",
       "      <td>7611.00</td>\n",
       "      <td>42341.15</td>\n",
       "      <td>21.00</td>\n",
       "      <td>1937.45</td>\n",
       "      <td>1974.26</td>\n",
       "      <td>1848.21</td>\n",
       "      <td>162.81</td>\n",
       "    </tr>\n",
       "    <tr>\n",
       "      <th>max</th>\n",
       "      <td>9999.00</td>\n",
       "      <td>6429676.76</td>\n",
       "      <td>3100.00</td>\n",
       "      <td>4168.70</td>\n",
       "      <td>4362.35</td>\n",
       "      <td>3785.85</td>\n",
       "      <td>1485.48</td>\n",
       "    </tr>\n",
       "  </tbody>\n",
       "</table>\n",
       "</div>"
      ],
      "text/plain": [
       "         Number  Amount_dolars  Amount_eth  Adj Close      High       Low  Variance\n",
       "count  12215.00       12159.00    12215.00   12159.00  12159.00  12159.00  12159.00\n",
       "mean    5124.21       38539.59       19.27    1301.13   1348.44   1232.53    115.92\n",
       "std     2865.33      142982.99       73.50     989.73   1030.47    931.81    136.51\n",
       "min        0.00           0.00        0.00      84.44     85.34     82.83      1.22\n",
       "25%     2698.00         212.41        0.70     302.88    315.19    276.41     18.61\n",
       "50%     5204.00        5908.75        6.20    1382.27   1405.74   1288.50     85.66\n",
       "75%     7611.00       42341.15       21.00    1937.45   1974.26   1848.21    162.81\n",
       "max     9999.00     6429676.76     3100.00    4168.70   4362.35   3785.85   1485.48"
      ]
     },
     "execution_count": 222,
     "metadata": {},
     "output_type": "execute_result"
    }
   ],
   "source": [
    "round(txn[txn['Type'] == 'Bid withdrawn'].describe(),2)"
   ]
  },
  {
   "cell_type": "code",
   "execution_count": 223,
   "id": "cac38038",
   "metadata": {
    "ExecuteTime": {
     "end_time": "2021-07-06T10:26:32.266957Z",
     "start_time": "2021-07-06T10:26:32.185079Z"
    }
   },
   "outputs": [
    {
     "data": {
      "text/html": [
       "<div>\n",
       "<style scoped>\n",
       "    .dataframe tbody tr th:only-of-type {\n",
       "        vertical-align: middle;\n",
       "    }\n",
       "\n",
       "    .dataframe tbody tr th {\n",
       "        vertical-align: top;\n",
       "    }\n",
       "\n",
       "    .dataframe thead th {\n",
       "        text-align: right;\n",
       "    }\n",
       "</style>\n",
       "<table border=\"1\" class=\"dataframe\">\n",
       "  <thead>\n",
       "    <tr style=\"text-align: right;\">\n",
       "      <th></th>\n",
       "      <th>Number</th>\n",
       "      <th>Amount_dolars</th>\n",
       "      <th>Amount_eth</th>\n",
       "      <th>Adj Close</th>\n",
       "      <th>High</th>\n",
       "      <th>Low</th>\n",
       "      <th>Variance</th>\n",
       "    </tr>\n",
       "  </thead>\n",
       "  <tbody>\n",
       "    <tr>\n",
       "      <th>count</th>\n",
       "      <td>21270.00</td>\n",
       "      <td>21196.00</td>\n",
       "      <td>21270.00</td>\n",
       "      <td>21196.00</td>\n",
       "      <td>21196.00</td>\n",
       "      <td>21196.00</td>\n",
       "      <td>21196.00</td>\n",
       "    </tr>\n",
       "    <tr>\n",
       "      <th>mean</th>\n",
       "      <td>5125.41</td>\n",
       "      <td>30522.50</td>\n",
       "      <td>15.53</td>\n",
       "      <td>1153.24</td>\n",
       "      <td>1194.19</td>\n",
       "      <td>1091.03</td>\n",
       "      <td>103.17</td>\n",
       "    </tr>\n",
       "    <tr>\n",
       "      <th>std</th>\n",
       "      <td>2853.29</td>\n",
       "      <td>127005.47</td>\n",
       "      <td>65.69</td>\n",
       "      <td>956.44</td>\n",
       "      <td>991.74</td>\n",
       "      <td>902.43</td>\n",
       "      <td>120.34</td>\n",
       "    </tr>\n",
       "    <tr>\n",
       "      <th>min</th>\n",
       "      <td>0.00</td>\n",
       "      <td>0.00</td>\n",
       "      <td>0.00</td>\n",
       "      <td>88.95</td>\n",
       "      <td>92.78</td>\n",
       "      <td>83.47</td>\n",
       "      <td>1.22</td>\n",
       "    </tr>\n",
       "    <tr>\n",
       "      <th>25%</th>\n",
       "      <td>2717.00</td>\n",
       "      <td>64.41</td>\n",
       "      <td>0.22</td>\n",
       "      <td>282.90</td>\n",
       "      <td>311.46</td>\n",
       "      <td>265.51</td>\n",
       "      <td>23.56</td>\n",
       "    </tr>\n",
       "    <tr>\n",
       "      <th>50%</th>\n",
       "      <td>5153.00</td>\n",
       "      <td>1675.30</td>\n",
       "      <td>3.25</td>\n",
       "      <td>875.24</td>\n",
       "      <td>914.83</td>\n",
       "      <td>785.34</td>\n",
       "      <td>67.89</td>\n",
       "    </tr>\n",
       "    <tr>\n",
       "      <th>75%</th>\n",
       "      <td>7577.75</td>\n",
       "      <td>36397.22</td>\n",
       "      <td>19.00</td>\n",
       "      <td>1823.45</td>\n",
       "      <td>1860.97</td>\n",
       "      <td>1749.18</td>\n",
       "      <td>139.79</td>\n",
       "    </tr>\n",
       "    <tr>\n",
       "      <th>max</th>\n",
       "      <td>9999.00</td>\n",
       "      <td>7670018.77</td>\n",
       "      <td>4200.00</td>\n",
       "      <td>4168.70</td>\n",
       "      <td>4362.35</td>\n",
       "      <td>3785.85</td>\n",
       "      <td>1485.48</td>\n",
       "    </tr>\n",
       "  </tbody>\n",
       "</table>\n",
       "</div>"
      ],
      "text/plain": [
       "         Number  Amount_dolars  Amount_eth  Adj Close      High       Low  Variance\n",
       "count  21270.00       21196.00    21270.00   21196.00  21196.00  21196.00  21196.00\n",
       "mean    5125.41       30522.50       15.53    1153.24   1194.19   1091.03    103.17\n",
       "std     2853.29      127005.47       65.69     956.44    991.74    902.43    120.34\n",
       "min        0.00           0.00        0.00      88.95     92.78     83.47      1.22\n",
       "25%     2717.00          64.41        0.22     282.90    311.46    265.51     23.56\n",
       "50%     5153.00        1675.30        3.25     875.24    914.83    785.34     67.89\n",
       "75%     7577.75       36397.22       19.00    1823.45   1860.97   1749.18    139.79\n",
       "max     9999.00     7670018.77     4200.00    4168.70   4362.35   3785.85   1485.48"
      ]
     },
     "execution_count": 223,
     "metadata": {},
     "output_type": "execute_result"
    }
   ],
   "source": [
    "round(txn[txn['Type'] == 'Bid'].describe(),2)"
   ]
  },
  {
   "cell_type": "code",
   "execution_count": 224,
   "id": "fbc32cf2",
   "metadata": {
    "ExecuteTime": {
     "end_time": "2021-07-06T10:26:32.721212Z",
     "start_time": "2021-07-06T10:26:32.617490Z"
    }
   },
   "outputs": [
    {
     "data": {
      "text/html": [
       "<div>\n",
       "<style scoped>\n",
       "    .dataframe tbody tr th:only-of-type {\n",
       "        vertical-align: middle;\n",
       "    }\n",
       "\n",
       "    .dataframe tbody tr th {\n",
       "        vertical-align: top;\n",
       "    }\n",
       "\n",
       "    .dataframe thead th {\n",
       "        text-align: right;\n",
       "    }\n",
       "</style>\n",
       "<table border=\"1\" class=\"dataframe\">\n",
       "  <thead>\n",
       "    <tr style=\"text-align: right;\">\n",
       "      <th></th>\n",
       "      <th>Number</th>\n",
       "      <th>Amount_dolars</th>\n",
       "      <th>Amount_eth</th>\n",
       "      <th>Adj Close</th>\n",
       "      <th>High</th>\n",
       "      <th>Low</th>\n",
       "      <th>Variance</th>\n",
       "    </tr>\n",
       "  </thead>\n",
       "  <tbody>\n",
       "    <tr>\n",
       "      <th>count</th>\n",
       "      <td>43556.00</td>\n",
       "      <td>4.327000e+04</td>\n",
       "      <td>4.355600e+04</td>\n",
       "      <td>43270.00</td>\n",
       "      <td>43270.00</td>\n",
       "      <td>43270.00</td>\n",
       "      <td>43270.00</td>\n",
       "    </tr>\n",
       "    <tr>\n",
       "      <th>mean</th>\n",
       "      <td>5439.53</td>\n",
       "      <td>1.711512e+59</td>\n",
       "      <td>6.107934e+55</td>\n",
       "      <td>1448.18</td>\n",
       "      <td>1501.00</td>\n",
       "      <td>1372.10</td>\n",
       "      <td>128.90</td>\n",
       "    </tr>\n",
       "    <tr>\n",
       "      <th>std</th>\n",
       "      <td>2698.87</td>\n",
       "      <td>7.535543e+60</td>\n",
       "      <td>2.657326e+57</td>\n",
       "      <td>1051.70</td>\n",
       "      <td>1095.95</td>\n",
       "      <td>988.87</td>\n",
       "      <td>144.38</td>\n",
       "    </tr>\n",
       "    <tr>\n",
       "      <th>min</th>\n",
       "      <td>0.00</td>\n",
       "      <td>0.000000e+00</td>\n",
       "      <td>0.000000e+00</td>\n",
       "      <td>84.31</td>\n",
       "      <td>87.14</td>\n",
       "      <td>83.23</td>\n",
       "      <td>1.22</td>\n",
       "    </tr>\n",
       "    <tr>\n",
       "      <th>25%</th>\n",
       "      <td>3175.00</td>\n",
       "      <td>7.446200e+02</td>\n",
       "      <td>2.750000e+00</td>\n",
       "      <td>341.79</td>\n",
       "      <td>347.05</td>\n",
       "      <td>328.82</td>\n",
       "      <td>21.53</td>\n",
       "    </tr>\n",
       "    <tr>\n",
       "      <th>50%</th>\n",
       "      <td>5518.00</td>\n",
       "      <td>3.736969e+04</td>\n",
       "      <td>2.000000e+01</td>\n",
       "      <td>1654.74</td>\n",
       "      <td>1725.11</td>\n",
       "      <td>1560.37</td>\n",
       "      <td>93.61</td>\n",
       "    </tr>\n",
       "    <tr>\n",
       "      <th>75%</th>\n",
       "      <td>7750.00</td>\n",
       "      <td>7.495897e+04</td>\n",
       "      <td>3.421000e+01</td>\n",
       "      <td>2088.57</td>\n",
       "      <td>2138.15</td>\n",
       "      <td>2007.11</td>\n",
       "      <td>175.95</td>\n",
       "    </tr>\n",
       "    <tr>\n",
       "      <th>max</th>\n",
       "      <td>9999.00</td>\n",
       "      <td>4.511097e+62</td>\n",
       "      <td>1.157903e+59</td>\n",
       "      <td>4168.70</td>\n",
       "      <td>4362.35</td>\n",
       "      <td>3785.85</td>\n",
       "      <td>1485.48</td>\n",
       "    </tr>\n",
       "  </tbody>\n",
       "</table>\n",
       "</div>"
      ],
      "text/plain": [
       "         Number  Amount_dolars    Amount_eth  Adj Close      High       Low  Variance\n",
       "count  43556.00   4.327000e+04  4.355600e+04   43270.00  43270.00  43270.00  43270.00\n",
       "mean    5439.53   1.711512e+59  6.107934e+55    1448.18   1501.00   1372.10    128.90\n",
       "std     2698.87   7.535543e+60  2.657326e+57    1051.70   1095.95    988.87    144.38\n",
       "min        0.00   0.000000e+00  0.000000e+00      84.31     87.14     83.23      1.22\n",
       "25%     3175.00   7.446200e+02  2.750000e+00     341.79    347.05    328.82     21.53\n",
       "50%     5518.00   3.736969e+04  2.000000e+01    1654.74   1725.11   1560.37     93.61\n",
       "75%     7750.00   7.495897e+04  3.421000e+01    2088.57   2138.15   2007.11    175.95\n",
       "max     9999.00   4.511097e+62  1.157903e+59    4168.70   4362.35   3785.85   1485.48"
      ]
     },
     "execution_count": 224,
     "metadata": {},
     "output_type": "execute_result"
    }
   ],
   "source": [
    "round(txn[txn['Type'] == 'Offered'].describe(),2)"
   ]
  },
  {
   "cell_type": "markdown",
   "id": "602b8da3",
   "metadata": {},
   "source": [
    "#### Conclusiones tipo de transacciones:\n",
    "\n",
    "Podemos dividir los tipos de transacciones de punks entre usuarios por si van acompañadas de un valor monetario o no. Por una lado tenemos las transacciones con precio: 'Offered', 'Bid', 'Sold' y 'Bid withdrawn'. Por otro lado las transacciones o operaciones sin precio: 'Offer withdrawn', 'Transfer', 'Claimed', 'Transfer (Wrap)' y 'Transfer (Unwrap)'. \n",
    "\n",
    "    - Offered:              43619 (32,6%), Prcio\n",
    "    - Bid:                  21292 (15,91%), Precio\n",
    "    - Offer withdrawn:      18460 (13,8%), sin Precio\n",
    "    - Sold:                 12506 (9.35%), Precio\n",
    "    - Bid withdrawn:        12224 (9,14%), Precio\n",
    "    - Transfer:             11081 (8,28%), sin Precio\n",
    "    - Claimed:              10000 (7,47%), sin Precio\n",
    "    - Transfer (Wrap):       2437 (1,82%), sin Precio\n",
    "    - Transfer (Unwrap):     2170 (1,62%), sin Precio\n",
    "    \n",
    "Principalmente a nosotros nos interesan aquellas transacciones que vienen acompañadas de un precio, aunque tambien pueden llegar a ser interesante investigar porque se dan ciertas transferencias y como varia el precio de los punks después de una transferencia o puja. "
   ]
  },
  {
   "cell_type": "markdown",
   "id": "62d1278c",
   "metadata": {},
   "source": [
    "#### 2.1.2 Users"
   ]
  },
  {
   "cell_type": "markdown",
   "id": "dddefea4",
   "metadata": {},
   "source": [
    "Miramos los nuls de las 3 columnas que contienen ids de usuarios"
   ]
  },
  {
   "cell_type": "code",
   "execution_count": 293,
   "id": "af1a5364",
   "metadata": {
    "ExecuteTime": {
     "end_time": "2021-07-06T11:43:16.783725Z",
     "start_time": "2021-07-06T11:43:16.725879Z"
    }
   },
   "outputs": [
    {
     "data": {
      "text/plain": [
       "From                71996\n",
       "To                  95098\n",
       "user_transaction        0\n",
       "dtype: int64"
      ]
     },
     "execution_count": 293,
     "metadata": {},
     "output_type": "execute_result"
    }
   ],
   "source": [
    "txn[['From', 'To', 'user_transaction']].isna().sum()"
   ]
  },
  {
   "cell_type": "markdown",
   "id": "f6d8490d",
   "metadata": {},
   "source": [
    "Mientras que toda transacción va ligada a un usuario (no hay ningún nul), no se da lo mismo en el 'From' y 'To', en el usuario de procedencia y usuario objetivo de la transacción. Teniendo 71.996 nuls en 'From' y 95.098 en 'To'."
   ]
  },
  {
   "cell_type": "code",
   "execution_count": 287,
   "id": "71392569",
   "metadata": {
    "ExecuteTime": {
     "end_time": "2021-07-06T11:34:45.845258Z",
     "start_time": "2021-07-06T11:34:45.811349Z"
    }
   },
   "outputs": [],
   "source": [
    "tfrom = txn[txn['From'].isna() == False]"
   ]
  },
  {
   "cell_type": "code",
   "execution_count": 289,
   "id": "8ef26b60",
   "metadata": {
    "ExecuteTime": {
     "end_time": "2021-07-06T11:35:11.184431Z",
     "start_time": "2021-07-06T11:35:11.160486Z"
    }
   },
   "outputs": [
    {
     "data": {
      "text/plain": [
       "Bid                  21270\n",
       "Sold                 12494\n",
       "Bid withdrawn        12215\n",
       "Transfer             11046\n",
       "Transfer (Wrap)       2413\n",
       "Transfer (Unwrap)     2148\n",
       "Name: Type, dtype: int64"
      ]
     },
     "execution_count": 289,
     "metadata": {},
     "output_type": "execute_result"
    }
   ],
   "source": [
    "tfrom['Type'].value_counts()"
   ]
  },
  {
   "cell_type": "code",
   "execution_count": 290,
   "id": "70e79d2c",
   "metadata": {
    "ExecuteTime": {
     "end_time": "2021-07-06T11:35:52.690211Z",
     "start_time": "2021-07-06T11:35:52.658329Z"
    }
   },
   "outputs": [],
   "source": [
    "to = txn[txn['To'].isna() == False]"
   ]
  },
  {
   "cell_type": "code",
   "execution_count": 291,
   "id": "f3beabc6",
   "metadata": {
    "ExecuteTime": {
     "end_time": "2021-07-06T11:36:05.012887Z",
     "start_time": "2021-07-06T11:36:04.988952Z"
    }
   },
   "outputs": [
    {
     "data": {
      "text/plain": [
       "Sold                 12494\n",
       "Transfer             11046\n",
       "Claimed              10000\n",
       "Transfer (Wrap)       2413\n",
       "Transfer (Unwrap)     2148\n",
       "Offered                383\n",
       "Name: Type, dtype: int64"
      ]
     },
     "execution_count": 291,
     "metadata": {},
     "output_type": "execute_result"
    }
   ],
   "source": [
    "to['Type'].value_counts()"
   ]
  },
  {
   "cell_type": "code",
   "execution_count": 300,
   "id": "1766f61f",
   "metadata": {
    "ExecuteTime": {
     "end_time": "2021-07-06T11:49:16.811719Z",
     "start_time": "2021-07-06T11:49:16.743931Z"
    }
   },
   "outputs": [
    {
     "data": {
      "text/html": [
       "<div>\n",
       "<style scoped>\n",
       "    .dataframe tbody tr th:only-of-type {\n",
       "        vertical-align: middle;\n",
       "    }\n",
       "\n",
       "    .dataframe tbody tr th {\n",
       "        vertical-align: top;\n",
       "    }\n",
       "\n",
       "    .dataframe thead th {\n",
       "        text-align: right;\n",
       "    }\n",
       "</style>\n",
       "<table border=\"1\" class=\"dataframe\">\n",
       "  <thead>\n",
       "    <tr style=\"text-align: right;\">\n",
       "      <th></th>\n",
       "      <th>Number</th>\n",
       "      <th>Type</th>\n",
       "      <th>From</th>\n",
       "      <th>To</th>\n",
       "      <th>Amount_dolars</th>\n",
       "      <th>Amount_eth</th>\n",
       "      <th>user_transaction</th>\n",
       "      <th>Adj Close</th>\n",
       "      <th>Variance</th>\n",
       "    </tr>\n",
       "    <tr>\n",
       "      <th>Date</th>\n",
       "      <th></th>\n",
       "      <th></th>\n",
       "      <th></th>\n",
       "      <th></th>\n",
       "      <th></th>\n",
       "      <th></th>\n",
       "      <th></th>\n",
       "      <th></th>\n",
       "      <th></th>\n",
       "    </tr>\n",
       "  </thead>\n",
       "  <tbody>\n",
       "    <tr>\n",
       "      <th>2021-06-30</th>\n",
       "      <td>7051</td>\n",
       "      <td>Offered</td>\n",
       "      <td>NaN</td>\n",
       "      <td>NaN</td>\n",
       "      <td>60707.68</td>\n",
       "      <td>26.690</td>\n",
       "      <td>0x9e1893</td>\n",
       "      <td>2274.55</td>\n",
       "      <td>192.228272</td>\n",
       "    </tr>\n",
       "    <tr>\n",
       "      <th>2021-06-30</th>\n",
       "      <td>6493</td>\n",
       "      <td>Offered</td>\n",
       "      <td>NaN</td>\n",
       "      <td>NaN</td>\n",
       "      <td>45354.48</td>\n",
       "      <td>19.940</td>\n",
       "      <td>0xb07068</td>\n",
       "      <td>2274.55</td>\n",
       "      <td>192.228272</td>\n",
       "    </tr>\n",
       "    <tr>\n",
       "      <th>2021-06-30</th>\n",
       "      <td>8828</td>\n",
       "      <td>Offered</td>\n",
       "      <td>NaN</td>\n",
       "      <td>NaN</td>\n",
       "      <td>131923.76</td>\n",
       "      <td>58.000</td>\n",
       "      <td>0x68d50d</td>\n",
       "      <td>2274.55</td>\n",
       "      <td>192.228272</td>\n",
       "    </tr>\n",
       "    <tr>\n",
       "      <th>2021-06-30</th>\n",
       "      <td>4634</td>\n",
       "      <td>Offered</td>\n",
       "      <td>NaN</td>\n",
       "      <td>NaN</td>\n",
       "      <td>44353.68</td>\n",
       "      <td>19.500</td>\n",
       "      <td>0xd0a79a</td>\n",
       "      <td>2274.55</td>\n",
       "      <td>192.228272</td>\n",
       "    </tr>\n",
       "    <tr>\n",
       "      <th>2021-06-30</th>\n",
       "      <td>4365</td>\n",
       "      <td>Offered</td>\n",
       "      <td>NaN</td>\n",
       "      <td>NaN</td>\n",
       "      <td>79606.89</td>\n",
       "      <td>34.999</td>\n",
       "      <td>0xbc2371</td>\n",
       "      <td>2274.55</td>\n",
       "      <td>192.228272</td>\n",
       "    </tr>\n",
       "    <tr>\n",
       "      <th>...</th>\n",
       "      <td>...</td>\n",
       "      <td>...</td>\n",
       "      <td>...</td>\n",
       "      <td>...</td>\n",
       "      <td>...</td>\n",
       "      <td>...</td>\n",
       "      <td>...</td>\n",
       "      <td>...</td>\n",
       "      <td>...</td>\n",
       "    </tr>\n",
       "    <tr>\n",
       "      <th>2017-06-23</th>\n",
       "      <td>6934</td>\n",
       "      <td>Offered</td>\n",
       "      <td>NaN</td>\n",
       "      <td>NaN</td>\n",
       "      <td>30.76</td>\n",
       "      <td>0.090</td>\n",
       "      <td>0xf07ab8</td>\n",
       "      <td>341.74</td>\n",
       "      <td>13.016022</td>\n",
       "    </tr>\n",
       "    <tr>\n",
       "      <th>2017-06-23</th>\n",
       "      <td>5545</td>\n",
       "      <td>Offered</td>\n",
       "      <td>NaN</td>\n",
       "      <td>NaN</td>\n",
       "      <td>27.34</td>\n",
       "      <td>0.080</td>\n",
       "      <td>0xa55b2f</td>\n",
       "      <td>341.74</td>\n",
       "      <td>13.016022</td>\n",
       "    </tr>\n",
       "    <tr>\n",
       "      <th>2017-06-23</th>\n",
       "      <td>5621</td>\n",
       "      <td>Offered</td>\n",
       "      <td>NaN</td>\n",
       "      <td>NaN</td>\n",
       "      <td>10.25</td>\n",
       "      <td>0.030</td>\n",
       "      <td>0xd4ce1a</td>\n",
       "      <td>341.74</td>\n",
       "      <td>13.016022</td>\n",
       "    </tr>\n",
       "    <tr>\n",
       "      <th>2017-06-23</th>\n",
       "      <td>5624</td>\n",
       "      <td>Offered</td>\n",
       "      <td>NaN</td>\n",
       "      <td>NaN</td>\n",
       "      <td>20.50</td>\n",
       "      <td>0.060</td>\n",
       "      <td>0xa2d868</td>\n",
       "      <td>341.74</td>\n",
       "      <td>13.016022</td>\n",
       "    </tr>\n",
       "    <tr>\n",
       "      <th>2017-06-23</th>\n",
       "      <td>3134</td>\n",
       "      <td>Offered</td>\n",
       "      <td>NaN</td>\n",
       "      <td>0xc352b5</td>\n",
       "      <td>3.42</td>\n",
       "      <td>0.010</td>\n",
       "      <td>0x51172b</td>\n",
       "      <td>341.74</td>\n",
       "      <td>13.016022</td>\n",
       "    </tr>\n",
       "  </tbody>\n",
       "</table>\n",
       "<p>43556 rows × 9 columns</p>\n",
       "</div>"
      ],
      "text/plain": [
       "            Number     Type From        To  Amount_dolars  Amount_eth user_transaction  Adj Close    Variance\n",
       "Date                                                                                                         \n",
       "2021-06-30    7051  Offered  NaN       NaN       60707.68      26.690         0x9e1893    2274.55  192.228272\n",
       "2021-06-30    6493  Offered  NaN       NaN       45354.48      19.940         0xb07068    2274.55  192.228272\n",
       "2021-06-30    8828  Offered  NaN       NaN      131923.76      58.000         0x68d50d    2274.55  192.228272\n",
       "2021-06-30    4634  Offered  NaN       NaN       44353.68      19.500         0xd0a79a    2274.55  192.228272\n",
       "2021-06-30    4365  Offered  NaN       NaN       79606.89      34.999         0xbc2371    2274.55  192.228272\n",
       "...            ...      ...  ...       ...            ...         ...              ...        ...         ...\n",
       "2017-06-23    6934  Offered  NaN       NaN          30.76       0.090         0xf07ab8     341.74   13.016022\n",
       "2017-06-23    5545  Offered  NaN       NaN          27.34       0.080         0xa55b2f     341.74   13.016022\n",
       "2017-06-23    5621  Offered  NaN       NaN          10.25       0.030         0xd4ce1a     341.74   13.016022\n",
       "2017-06-23    5624  Offered  NaN       NaN          20.50       0.060         0xa2d868     341.74   13.016022\n",
       "2017-06-23    3134  Offered  NaN  0xc352b5           3.42       0.010         0x51172b     341.74   13.016022\n",
       "\n",
       "[43556 rows x 9 columns]"
      ]
     },
     "execution_count": 300,
     "metadata": {},
     "output_type": "execute_result"
    }
   ],
   "source": [
    "txn[txn['Type'] == 'Offered']"
   ]
  },
  {
   "cell_type": "markdown",
   "id": "d9bfa0d9",
   "metadata": {},
   "source": [
    "Comparando los valores de los tipos de transaccions entre 'From' y 'To' podemos adivinar su función. Podemos separar los tipos de transacción en si coinciden quantitativamente entre 'From' y 'To'. Estos registros estaran completos en todas sus columnas (sin nuls):\n",
    "\n",
    "    - Coinciden: Sold (12494), Transfer (11046), Transfer (Wrap) (2413), Transfer (Unwrap) (2148)\n",
    "    - Únicos de 'From': Bid (21270), Bid withdrawn (12215)\n",
    "    - Únicos de 'To': Claimed (10000), Offered (383)\n",
    "    \n",
    "Claimed fue el primer propietario del punk y coincide con los 10000 punks únicos. De las pujas solo tenemos el 'From', no entendemos porque no coinciden los 'user_transaction' con el 'from'. En el caso de 'Offered' vemos que tenemos 383 con el destinatario ('To') pero parecen casos aislados ya que tenemos un total de 43.556 ofertas, y solo estas tienen destinatario."
   ]
  },
  {
   "cell_type": "markdown",
   "id": "68cc05b2",
   "metadata": {},
   "source": [
    "-------\n",
    "Usuarios de 'user_transaction'"
   ]
  },
  {
   "cell_type": "code",
   "execution_count": 272,
   "id": "9ab8d84d",
   "metadata": {
    "ExecuteTime": {
     "end_time": "2021-07-06T11:21:46.537751Z",
     "start_time": "2021-07-06T11:21:46.501813Z"
    }
   },
   "outputs": [
    {
     "data": {
      "text/plain": [
       "111247"
      ]
     },
     "execution_count": 272,
     "metadata": {},
     "output_type": "execute_result"
    }
   ],
   "source": [
    "len(txn['user_transaction'].unique())"
   ]
  },
  {
   "cell_type": "code",
   "execution_count": 306,
   "id": "a26a0376",
   "metadata": {
    "ExecuteTime": {
     "end_time": "2021-07-06T11:54:13.833933Z",
     "start_time": "2021-07-06T11:54:13.621410Z"
    }
   },
   "outputs": [
    {
     "data": {
      "text/plain": [
       "0xb19885    0.000696\n",
       "0xeb0bcc    0.000651\n",
       "0x1bb7b7    0.000606\n",
       "0xb715ac    0.000374\n",
       "0x156965    0.000374\n",
       "              ...   \n",
       "0xb1dc44    0.000007\n",
       "0xa0becd    0.000007\n",
       "0x96b215    0.000007\n",
       "0x7a44d2    0.000007\n",
       "0x23a87f    0.000007\n",
       "Name: user_transaction, Length: 111247, dtype: float64"
      ]
     },
     "execution_count": 306,
     "metadata": {},
     "output_type": "execute_result"
    }
   ],
   "source": [
    "txn['user_transaction'].value_counts(normalize=True)"
   ]
  },
  {
   "cell_type": "code",
   "execution_count": 312,
   "id": "7ef52a64",
   "metadata": {
    "ExecuteTime": {
     "end_time": "2021-07-06T11:54:57.061265Z",
     "start_time": "2021-07-06T11:54:57.006588Z"
    }
   },
   "outputs": [
    {
     "data": {
      "text/plain": [
       "0x717403    2246\n",
       "0xb7F7F6    2148\n",
       "0xD387A6    1819\n",
       "0x53edE7    1169\n",
       "0x00d7C9    1112\n",
       "0x7760E0     928\n",
       "0xe8723d     780\n",
       "0xCbd482     732\n",
       "0xC352B5     699\n",
       "Name: From, dtype: int64"
      ]
     },
     "execution_count": 312,
     "metadata": {},
     "output_type": "execute_result"
    }
   ],
   "source": [
    "# Top user_transactions\n",
    "txn['From'].value_counts()[txn['From'].value_counts(normalize = True) > 0.01]"
   ]
  },
  {
   "cell_type": "markdown",
   "id": "99b5a915",
   "metadata": {},
   "source": [
    "Usuarios de 'From'"
   ]
  },
  {
   "cell_type": "code",
   "execution_count": 273,
   "id": "6c115cca",
   "metadata": {
    "ExecuteTime": {
     "end_time": "2021-07-06T11:22:51.430126Z",
     "start_time": "2021-07-06T11:22:51.410181Z"
    }
   },
   "outputs": [
    {
     "data": {
      "text/plain": [
       "4212"
      ]
     },
     "execution_count": 273,
     "metadata": {},
     "output_type": "execute_result"
    }
   ],
   "source": [
    "len(txn['From'].unique())"
   ]
  },
  {
   "cell_type": "code",
   "execution_count": 304,
   "id": "d63ef52f",
   "metadata": {
    "ExecuteTime": {
     "end_time": "2021-07-06T11:53:16.471871Z",
     "start_time": "2021-07-06T11:53:16.404335Z"
    }
   },
   "outputs": [
    {
     "data": {
      "text/plain": [
       "0x717403    2246\n",
       "0xb7F7F6    2148\n",
       "0xD387A6    1819\n",
       "0x53edE7    1169\n",
       "0x00d7C9    1112\n",
       "0x7760E0     928\n",
       "0xe8723d     780\n",
       "0xCbd482     732\n",
       "0xC352B5     699\n",
       "Name: From, dtype: int64"
      ]
     },
     "execution_count": 304,
     "metadata": {},
     "output_type": "execute_result"
    }
   ],
   "source": [
    "# Top user 'From'\n",
    "txn['From'].value_counts()[txn['From'].value_counts(normalize = True) > 0.01]"
   ]
  },
  {
   "cell_type": "markdown",
   "id": "d7686020",
   "metadata": {},
   "source": [
    "Usuarios de 'To'"
   ]
  },
  {
   "cell_type": "code",
   "execution_count": 274,
   "id": "e5f6a2dc",
   "metadata": {
    "ExecuteTime": {
     "end_time": "2021-07-06T11:23:00.830977Z",
     "start_time": "2021-07-06T11:23:00.811029Z"
    }
   },
   "outputs": [
    {
     "data": {
      "text/plain": [
       "4537"
      ]
     },
     "execution_count": 274,
     "metadata": {},
     "output_type": "execute_result"
    }
   ],
   "source": [
    "len(txn['To'].unique())"
   ]
  },
  {
   "cell_type": "code",
   "execution_count": 276,
   "id": "a0a5be29",
   "metadata": {
    "ExecuteTime": {
     "end_time": "2021-07-06T11:23:45.465303Z",
     "start_time": "2021-07-06T11:23:45.423422Z"
    }
   },
   "outputs": [
    {
     "data": {
      "text/plain": [
       "0xb7f7f6    2413\n",
       "0xc352b5    1070\n",
       "0x53ede7    1059\n",
       "0x00d7c9    1046\n",
       "0x577ebc     767\n",
       "            ... \n",
       "0x4a298c       1\n",
       "0x556433       1\n",
       "0x08e32d       1\n",
       "0x59d2bc       1\n",
       "0xa0b08b       1\n",
       "Name: To, Length: 4536, dtype: int64"
      ]
     },
     "execution_count": 276,
     "metadata": {},
     "output_type": "execute_result"
    }
   ],
   "source": [
    "txn['To'].value_counts()"
   ]
  },
  {
   "cell_type": "code",
   "execution_count": 313,
   "id": "b24c2c2b",
   "metadata": {
    "ExecuteTime": {
     "end_time": "2021-07-06T11:55:52.366606Z",
     "start_time": "2021-07-06T11:55:52.311712Z"
    }
   },
   "outputs": [
    {
     "data": {
      "text/plain": [
       "0xb7f7f6    2413\n",
       "0xc352b5    1070\n",
       "0x53ede7    1059\n",
       "0x00d7c9    1046\n",
       "0x577ebc     767\n",
       "0xcbd482     732\n",
       "0xd387a6     659\n",
       "0x00bd9f     516\n",
       "Name: To, dtype: int64"
      ]
     },
     "execution_count": 313,
     "metadata": {},
     "output_type": "execute_result"
    }
   ],
   "source": [
    "# Top user 'To'\n",
    "txn['To'].value_counts()[txn['To'].value_counts(normalize = True) > 0.01]"
   ]
  },
  {
   "cell_type": "markdown",
   "id": "768eeced",
   "metadata": {},
   "source": [
    "Conclusiones users: Tenemos mas de 110.000 usuarios únicos en el historial de transacciones. En el caso de emisarios y destinatarios el número se reduce con 4.212 y 4.537 respectivamente. "
   ]
  },
  {
   "cell_type": "markdown",
   "id": "26ae7d40",
   "metadata": {},
   "source": [
    "### 2.2 Numericas"
   ]
  },
  {
   "cell_type": "code",
   "execution_count": 225,
   "id": "29f13303",
   "metadata": {
    "ExecuteTime": {
     "end_time": "2021-07-06T10:26:34.183375Z",
     "start_time": "2021-07-06T10:26:34.074630Z"
    }
   },
   "outputs": [
    {
     "data": {
      "text/html": [
       "<div>\n",
       "<style scoped>\n",
       "    .dataframe tbody tr th:only-of-type {\n",
       "        vertical-align: middle;\n",
       "    }\n",
       "\n",
       "    .dataframe tbody tr th {\n",
       "        vertical-align: top;\n",
       "    }\n",
       "\n",
       "    .dataframe thead th {\n",
       "        text-align: right;\n",
       "    }\n",
       "</style>\n",
       "<table border=\"1\" class=\"dataframe\">\n",
       "  <thead>\n",
       "    <tr style=\"text-align: right;\">\n",
       "      <th></th>\n",
       "      <th>Number</th>\n",
       "      <th>Amount_dolars</th>\n",
       "      <th>Amount_eth</th>\n",
       "      <th>Adj Close</th>\n",
       "      <th>High</th>\n",
       "      <th>Low</th>\n",
       "      <th>Variance</th>\n",
       "    </tr>\n",
       "  </thead>\n",
       "  <tbody>\n",
       "    <tr>\n",
       "      <th>count</th>\n",
       "      <td>133582.00</td>\n",
       "      <td>8.907200e+04</td>\n",
       "      <td>8.953500e+04</td>\n",
       "      <td>132708.00</td>\n",
       "      <td>132708.00</td>\n",
       "      <td>132708.00</td>\n",
       "      <td>132708.00</td>\n",
       "    </tr>\n",
       "    <tr>\n",
       "      <th>mean</th>\n",
       "      <td>5294.21</td>\n",
       "      <td>8.314297e+58</td>\n",
       "      <td>2.971320e+55</td>\n",
       "      <td>1251.26</td>\n",
       "      <td>1294.52</td>\n",
       "      <td>1184.63</td>\n",
       "      <td>109.89</td>\n",
       "    </tr>\n",
       "    <tr>\n",
       "      <th>std</th>\n",
       "      <td>2767.86</td>\n",
       "      <td>5.252819e+60</td>\n",
       "      <td>1.853654e+57</td>\n",
       "      <td>1024.77</td>\n",
       "      <td>1064.16</td>\n",
       "      <td>960.01</td>\n",
       "      <td>135.73</td>\n",
       "    </tr>\n",
       "    <tr>\n",
       "      <th>min</th>\n",
       "      <td>0.00</td>\n",
       "      <td>0.000000e+00</td>\n",
       "      <td>0.000000e+00</td>\n",
       "      <td>84.31</td>\n",
       "      <td>85.34</td>\n",
       "      <td>82.83</td>\n",
       "      <td>1.22</td>\n",
       "    </tr>\n",
       "    <tr>\n",
       "      <th>25%</th>\n",
       "      <td>2976.00</td>\n",
       "      <td>2.492200e+02</td>\n",
       "      <td>1.000000e+00</td>\n",
       "      <td>341.74</td>\n",
       "      <td>348.01</td>\n",
       "      <td>328.10</td>\n",
       "      <td>13.02</td>\n",
       "    </tr>\n",
       "    <tr>\n",
       "      <th>50%</th>\n",
       "      <td>5331.00</td>\n",
       "      <td>1.444067e+04</td>\n",
       "      <td>1.200000e+01</td>\n",
       "      <td>1230.17</td>\n",
       "      <td>1272.15</td>\n",
       "      <td>1169.08</td>\n",
       "      <td>67.05</td>\n",
       "    </tr>\n",
       "    <tr>\n",
       "      <th>75%</th>\n",
       "      <td>7668.00</td>\n",
       "      <td>5.561838e+04</td>\n",
       "      <td>2.650000e+01</td>\n",
       "      <td>1924.69</td>\n",
       "      <td>1949.90</td>\n",
       "      <td>1845.12</td>\n",
       "      <td>151.10</td>\n",
       "    </tr>\n",
       "    <tr>\n",
       "      <th>max</th>\n",
       "      <td>9999.00</td>\n",
       "      <td>4.511097e+62</td>\n",
       "      <td>1.157903e+59</td>\n",
       "      <td>4168.70</td>\n",
       "      <td>4362.35</td>\n",
       "      <td>3785.85</td>\n",
       "      <td>1485.48</td>\n",
       "    </tr>\n",
       "  </tbody>\n",
       "</table>\n",
       "</div>"
      ],
      "text/plain": [
       "          Number  Amount_dolars    Amount_eth  Adj Close       High        Low   Variance\n",
       "count  133582.00   8.907200e+04  8.953500e+04  132708.00  132708.00  132708.00  132708.00\n",
       "mean     5294.21   8.314297e+58  2.971320e+55    1251.26    1294.52    1184.63     109.89\n",
       "std      2767.86   5.252819e+60  1.853654e+57    1024.77    1064.16     960.01     135.73\n",
       "min         0.00   0.000000e+00  0.000000e+00      84.31      85.34      82.83       1.22\n",
       "25%      2976.00   2.492200e+02  1.000000e+00     341.74     348.01     328.10      13.02\n",
       "50%      5331.00   1.444067e+04  1.200000e+01    1230.17    1272.15    1169.08      67.05\n",
       "75%      7668.00   5.561838e+04  2.650000e+01    1924.69    1949.90    1845.12     151.10\n",
       "max      9999.00   4.511097e+62  1.157903e+59    4168.70    4362.35    3785.85    1485.48"
      ]
     },
     "execution_count": 225,
     "metadata": {},
     "output_type": "execute_result"
    }
   ],
   "source": [
    "round(txn.describe(),2)"
   ]
  },
  {
   "cell_type": "markdown",
   "id": "a4c34db4",
   "metadata": {},
   "source": [
    "#### 2.2.1 Número de transacciones por la id de los punks ('Number'.value_counts())"
   ]
  },
  {
   "cell_type": "code",
   "execution_count": 252,
   "id": "2fe0e668",
   "metadata": {
    "ExecuteTime": {
     "end_time": "2021-07-06T11:03:07.105901Z",
     "start_time": "2021-07-06T11:03:06.740878Z"
    }
   },
   "outputs": [
    {
     "data": {
      "image/png": "[encoded data removed]",
      "text/plain": [
       "<Figure size 576x396 with 1 Axes>"
      ]
     },
     "metadata": {},
     "output_type": "display_data"
    }
   ],
   "source": [
    "plt.hist(txn['Number'].value_counts(normalize=True))\n",
    "plt.show()"
   ]
  },
  {
   "cell_type": "code",
   "execution_count": 333,
   "id": "d505a6ef",
   "metadata": {
    "ExecuteTime": {
     "end_time": "2021-07-06T17:01:26.630801Z",
     "start_time": "2021-07-06T17:01:26.607867Z"
    }
   },
   "outputs": [
    {
     "data": {
      "text/plain": [
       "count    10000.00000\n",
       "mean        13.35820\n",
       "std         13.83693\n",
       "min          1.00000\n",
       "25%          4.00000\n",
       "50%          8.00000\n",
       "75%         19.00000\n",
       "max        121.00000\n",
       "Name: Number, dtype: float64"
      ]
     },
     "execution_count": 333,
     "metadata": {},
     "output_type": "execute_result"
    }
   ],
   "source": [
    "txn['Number'].value_counts().describe()"
   ]
  },
  {
   "cell_type": "code",
   "execution_count": 227,
   "id": "6a9c2806",
   "metadata": {
    "ExecuteTime": {
     "end_time": "2021-07-06T10:26:36.537169Z",
     "start_time": "2021-07-06T10:26:36.282558Z"
    }
   },
   "outputs": [
    {
     "data": {
      "text/plain": [
       "Text(0, 0.5, 'Number of punks')"
      ]
     },
     "execution_count": 227,
     "metadata": {},
     "output_type": "execute_result"
    },
    {
     "data": {
      "image/png": "[encoded data removed]",
      "text/plain": [
       "<Figure size 576x396 with 1 Axes>"
      ]
     },
     "metadata": {},
     "output_type": "display_data"
    }
   ],
   "source": [
    "plt.hist(txn['Number'].value_counts()[txn['Number'].value_counts(normalize=True) > 0.0005])\n",
    "plt.title('Most transactioned Punks (above 0.05 of total transactions%)')\n",
    "plt.xlabel('Number of transactions for punk')\n",
    "plt.ylabel('Number of punks')"
   ]
  },
  {
   "cell_type": "code",
   "execution_count": 332,
   "id": "1525ddda",
   "metadata": {
    "ExecuteTime": {
     "end_time": "2021-07-06T16:57:09.157510Z",
     "start_time": "2021-07-06T16:57:09.047550Z"
    }
   },
   "outputs": [
    {
     "data": {
      "text/plain": [
       "count     81.000000\n",
       "mean      80.876543\n",
       "std       12.276383\n",
       "min       67.000000\n",
       "25%       71.000000\n",
       "50%       77.000000\n",
       "75%       88.000000\n",
       "max      121.000000\n",
       "Name: Number, dtype: float64"
      ]
     },
     "execution_count": 332,
     "metadata": {},
     "output_type": "execute_result"
    }
   ],
   "source": [
    "txn['Number'].value_counts()[txn['Number'].value_counts(normalize=True) > 0.0005].describe()"
   ]
  },
  {
   "cell_type": "markdown",
   "id": "de9e6650",
   "metadata": {},
   "source": [
    "#### Conclusiones número de transacciones por punk\n",
    "\n",
    "Si normalizamos los datos de la variable 'number' o id_punk y las visualizamos en forma de histograma observamos que tiene una distribución muy asimétrica a la derecha (right-skewed), en forma inversamente exponencial. Cogiendo solo los ids que supongan por lo menos un 0.05% de las transacciones totales, los valores únicos disminuyen mucho (de 10.000 a 81) y la distribución de los datos toma una pendiente menos pronunciada.\n",
    "\n",
    "De este anális podemos concluir que, a excepción de pocos punks, la mayoria tiene un número total de transacciones similar. La media se encuentra en las 13,38 transacciones por punk, con una desviación estàndar de 13,86. El mínimo és 1 con un màximo de 121, encontrandose el 25 percentil a 4, el 50 a 8 y el 75 a 19. Hay un gran salto entre el 75 percentil y el màximo (de 19 a 121 transacciones)."
   ]
  },
  {
   "cell_type": "markdown",
   "id": "ccdb33a5",
   "metadata": {},
   "source": [
    "#### 2.2.2 Número de ventas por punk"
   ]
  },
  {
   "cell_type": "code",
   "execution_count": 239,
   "id": "683acbb6",
   "metadata": {
    "ExecuteTime": {
     "end_time": "2021-07-06T10:53:23.954414Z",
     "start_time": "2021-07-06T10:53:23.904550Z"
    }
   },
   "outputs": [
    {
     "data": {
      "text/plain": [
       "count    5699.000000\n",
       "mean        2.192314\n",
       "std         1.469667\n",
       "min         1.000000\n",
       "25%         1.000000\n",
       "50%         2.000000\n",
       "75%         3.000000\n",
       "max        13.000000\n",
       "Name: Number, dtype: float64"
      ]
     },
     "execution_count": 239,
     "metadata": {},
     "output_type": "execute_result"
    }
   ],
   "source": [
    "txn['Number'][txn['Type']=='Sold'].value_counts().describe()"
   ]
  },
  {
   "cell_type": "markdown",
   "id": "739eb551",
   "metadata": {},
   "source": [
    "La media de veces que se ha vendido un punk es 2.19, con una desviación estándar de 1,47. Hay 4301 punks que NO han sido vendidos nunca y 5699 punks que han sido vendidos al menos una vez. De los punks vendidos, el máximo de veces es 13, estando el 25 percentil en 1 vez, el 50 en 2 veces y el 75 percentil en 3.\n",
    "\n",
    "De estos datos podemos concluir que, de los punks que han sido vendidos alguna vez (56,99%), un 75% de ellos ha sido vendido un máximo de 3 veces."
   ]
  },
  {
   "cell_type": "code",
   "execution_count": 254,
   "id": "05265bcf",
   "metadata": {
    "ExecuteTime": {
     "end_time": "2021-07-06T11:04:33.642859Z",
     "start_time": "2021-07-06T11:04:32.339180Z"
    }
   },
   "outputs": [
    {
     "data": {
      "image/png": "[encoded data removed]",
      "text/plain": [
       "<Figure size 1200x320 with 1 Axes>"
      ]
     },
     "metadata": {},
     "output_type": "display_data"
    }
   ],
   "source": [
    "figure(figsize=(15, 4), dpi=80)\n",
    "\n",
    "plt.hist(txn['Number'][txn['Type']=='Sold'].value_counts())\n",
    "\n",
    "plt.title('Times a punk has been sold')\n",
    "plt.xlabel('Times sold')\n",
    "plt.ylabel('Number of punks')\n",
    "\n",
    "plt.show()"
   ]
  },
  {
   "cell_type": "code",
   "execution_count": 266,
   "id": "788cf410",
   "metadata": {
    "ExecuteTime": {
     "end_time": "2021-07-06T11:12:25.128943Z",
     "start_time": "2021-07-06T11:12:24.971680Z"
    }
   },
   "outputs": [
    {
     "data": {
      "image/png": "[encoded data removed]",
      "text/plain": [
       "<Figure size 576x396 with 1 Axes>"
      ]
     },
     "metadata": {},
     "output_type": "display_data"
    }
   ],
   "source": [
    "plt.boxplot(txn['Number'][txn['Type']=='Sold'].value_counts())\n",
    "plt.show()"
   ]
  },
  {
   "cell_type": "markdown",
   "id": "bdadf6bd",
   "metadata": {},
   "source": [
    "Mediante las visualizaciones observamos que a partir de 6 veces, ese punk se considera un outlier. Podemos estudiar los beneficios reportados de estos outliers con el resto y si el beneficio es incremental con el número de ventas."
   ]
  },
  {
   "cell_type": "code",
   "execution_count": 259,
   "id": "3105cc7f",
   "metadata": {
    "ExecuteTime": {
     "end_time": "2021-07-06T11:08:03.417484Z",
     "start_time": "2021-07-06T11:08:03.373601Z"
    }
   },
   "outputs": [
    {
     "data": {
      "text/plain": [
       "count    102.000000\n",
       "mean       7.656863\n",
       "std        1.103506\n",
       "min        7.000000\n",
       "25%        7.000000\n",
       "50%        7.000000\n",
       "75%        8.000000\n",
       "max       13.000000\n",
       "Name: Number, dtype: float64"
      ]
     },
     "execution_count": 259,
     "metadata": {},
     "output_type": "execute_result"
    }
   ],
   "source": [
    "txn['Number'][txn['Type']=='Sold'].value_counts()[txn['Number'][txn['Type']=='Sold'].value_counts() > 6].describe()"
   ]
  },
  {
   "cell_type": "code",
   "execution_count": 263,
   "id": "987a95ee",
   "metadata": {
    "ExecuteTime": {
     "end_time": "2021-07-06T11:09:41.981495Z",
     "start_time": "2021-07-06T11:09:41.725203Z"
    }
   },
   "outputs": [
    {
     "data": {
      "image/png": "[encoded data removed]",
      "text/plain": [
       "<Figure size 800x320 with 1 Axes>"
      ]
     },
     "metadata": {},
     "output_type": "display_data"
    }
   ],
   "source": [
    "figure(figsize=(10, 4), dpi=80)\n",
    "\n",
    "plt.hist(txn['Number'][txn['Type']=='Sold'].value_counts()[txn['Number'][txn['Type']=='Sold'].value_counts() > 6])\n",
    "\n",
    "plt.title('Times a punk has been sold (above 6 times)')\n",
    "plt.xlabel('Times sold')\n",
    "plt.ylabel('Number of punks')\n",
    "\n",
    "plt.show()"
   ]
  },
  {
   "cell_type": "markdown",
   "id": "ca6d958f",
   "metadata": {},
   "source": [
    "El total de punks en este grupo es de 102, un 1'02%. De igual forma la mayoria se encuentran en las 7 veces, seguido de 8 y 9, de forma descendiente. La resta de veces son residuales:\n",
    "\n",
    "     Veces    N punks\n",
    " \n",
    "    - 7     63 (0,63%)\n",
    "    - 8     23 (0,23%)\n",
    "    - 9     10 (0.1%)\n",
    "    - 10     3 (0.03%)\n",
    "    - 11     1 (0.01%)\n",
    "    - 12     1 (0.01%)\n",
    "    - 13     1 (0.01%)"
   ]
  },
  {
   "cell_type": "code",
   "execution_count": 267,
   "id": "f514f2f5",
   "metadata": {
    "ExecuteTime": {
     "end_time": "2021-07-06T11:14:36.813791Z",
     "start_time": "2021-07-06T11:14:36.763885Z"
    }
   },
   "outputs": [
    {
     "data": {
      "text/plain": [
       "7     63\n",
       "8     23\n",
       "9     10\n",
       "10     3\n",
       "11     1\n",
       "12     1\n",
       "13     1\n",
       "Name: Number, dtype: int64"
      ]
     },
     "execution_count": 267,
     "metadata": {},
     "output_type": "execute_result"
    }
   ],
   "source": [
    "txn['Number'][txn['Type']=='Sold'].value_counts()[txn['Number'][txn['Type']=='Sold'].value_counts() > 6].value_counts()"
   ]
  },
  {
   "cell_type": "markdown",
   "id": "98b3e626",
   "metadata": {},
   "source": [
    "#### 2.2.2 Preu en dolars"
   ]
  },
  {
   "cell_type": "code",
   "execution_count": 319,
   "id": "f4b56419",
   "metadata": {
    "ExecuteTime": {
     "end_time": "2021-07-06T11:59:42.750872Z",
     "start_time": "2021-07-06T11:59:42.718180Z"
    }
   },
   "outputs": [
    {
     "data": {
      "text/plain": [
       "count      12447.00\n",
       "mean       29323.05\n",
       "std       112329.78\n",
       "min            0.00\n",
       "25%          134.06\n",
       "50%         6754.52\n",
       "75%        42648.71\n",
       "max      7670018.77\n",
       "Name: Amount_dolars, dtype: float64"
      ]
     },
     "execution_count": 319,
     "metadata": {},
     "output_type": "execute_result"
    }
   ],
   "source": [
    "txn['Amount_dolars'][txn['Type'] == 'Sold'].describe().round(2)"
   ]
  },
  {
   "cell_type": "code",
   "execution_count": 329,
   "id": "70a12b63",
   "metadata": {
    "ExecuteTime": {
     "end_time": "2021-07-06T14:49:42.235534Z",
     "start_time": "2021-07-06T14:49:42.206612Z"
    }
   },
   "outputs": [
    {
     "data": {
      "text/plain": [
       "29323.052302562603"
      ]
     },
     "execution_count": 329,
     "metadata": {},
     "output_type": "execute_result"
    }
   ],
   "source": [
    "txn['Amount_dolars'][txn['Type'] == 'Sold'].mean()"
   ]
  },
  {
   "cell_type": "code",
   "execution_count": 331,
   "id": "ce2a45f1",
   "metadata": {
    "ExecuteTime": {
     "end_time": "2021-07-06T14:50:13.252330Z",
     "start_time": "2021-07-06T14:50:12.969086Z"
    },
    "collapsed": true
   },
   "outputs": [
    {
     "ename": "ValueError",
     "evalue": "x and y must have same first dimension, but have shapes (133582,) and (1,)",
     "output_type": "error",
     "traceback": [
      "\u001b[1;31m---------------------------------------------------------------------------\u001b[0m",
      "\u001b[1;31mValueError\u001b[0m                                Traceback (most recent call last)",
      "\u001b[1;32m<ipython-input-331-efc629ea1ce1>\u001b[0m in \u001b[0;36m<module>\u001b[1;34m\u001b[0m\n\u001b[0;32m      2\u001b[0m \u001b[0mfigure\u001b[0m\u001b[1;33m(\u001b[0m\u001b[0mfigsize\u001b[0m\u001b[1;33m=\u001b[0m\u001b[1;33m(\u001b[0m\u001b[1;36m15\u001b[0m\u001b[1;33m,\u001b[0m \u001b[1;36m4\u001b[0m\u001b[1;33m)\u001b[0m\u001b[1;33m,\u001b[0m \u001b[0mdpi\u001b[0m\u001b[1;33m=\u001b[0m\u001b[1;36m80\u001b[0m\u001b[1;33m)\u001b[0m\u001b[1;33m\u001b[0m\u001b[1;33m\u001b[0m\u001b[0m\n\u001b[0;32m      3\u001b[0m \u001b[1;33m\u001b[0m\u001b[0m\n\u001b[1;32m----> 4\u001b[1;33m \u001b[0mplt\u001b[0m\u001b[1;33m.\u001b[0m\u001b[0mplot\u001b[0m\u001b[1;33m(\u001b[0m\u001b[0mtxn\u001b[0m\u001b[1;33m.\u001b[0m\u001b[0mindex\u001b[0m\u001b[1;33m,\u001b[0m \u001b[0mtxn\u001b[0m\u001b[1;33m[\u001b[0m\u001b[1;34m'Amount_dolars'\u001b[0m\u001b[1;33m]\u001b[0m\u001b[1;33m[\u001b[0m\u001b[0mtxn\u001b[0m\u001b[1;33m[\u001b[0m\u001b[1;34m'Type'\u001b[0m\u001b[1;33m]\u001b[0m \u001b[1;33m==\u001b[0m \u001b[1;34m'Sold'\u001b[0m\u001b[1;33m]\u001b[0m\u001b[1;33m.\u001b[0m\u001b[0mmean\u001b[0m\u001b[1;33m(\u001b[0m\u001b[1;33m)\u001b[0m\u001b[1;33m)\u001b[0m\u001b[1;33m\u001b[0m\u001b[1;33m\u001b[0m\u001b[0m\n\u001b[0m\u001b[0;32m      5\u001b[0m \u001b[1;33m\u001b[0m\u001b[0m\n\u001b[0;32m      6\u001b[0m \u001b[0mplt\u001b[0m\u001b[1;33m.\u001b[0m\u001b[0mtitle\u001b[0m\u001b[1;33m(\u001b[0m\u001b[1;34m'Ethereum Price'\u001b[0m\u001b[1;33m)\u001b[0m\u001b[1;33m\u001b[0m\u001b[1;33m\u001b[0m\u001b[0m\n",
      "\u001b[1;32m~\\anaconda3\\lib\\site-packages\\matplotlib\\pyplot.py\u001b[0m in \u001b[0;36mplot\u001b[1;34m(scalex, scaley, data, *args, **kwargs)\u001b[0m\n\u001b[0;32m   2838\u001b[0m \u001b[1;33m@\u001b[0m\u001b[0m_copy_docstring_and_deprecators\u001b[0m\u001b[1;33m(\u001b[0m\u001b[0mAxes\u001b[0m\u001b[1;33m.\u001b[0m\u001b[0mplot\u001b[0m\u001b[1;33m)\u001b[0m\u001b[1;33m\u001b[0m\u001b[1;33m\u001b[0m\u001b[0m\n\u001b[0;32m   2839\u001b[0m \u001b[1;32mdef\u001b[0m \u001b[0mplot\u001b[0m\u001b[1;33m(\u001b[0m\u001b[1;33m*\u001b[0m\u001b[0margs\u001b[0m\u001b[1;33m,\u001b[0m \u001b[0mscalex\u001b[0m\u001b[1;33m=\u001b[0m\u001b[1;32mTrue\u001b[0m\u001b[1;33m,\u001b[0m \u001b[0mscaley\u001b[0m\u001b[1;33m=\u001b[0m\u001b[1;32mTrue\u001b[0m\u001b[1;33m,\u001b[0m \u001b[0mdata\u001b[0m\u001b[1;33m=\u001b[0m\u001b[1;32mNone\u001b[0m\u001b[1;33m,\u001b[0m \u001b[1;33m**\u001b[0m\u001b[0mkwargs\u001b[0m\u001b[1;33m)\u001b[0m\u001b[1;33m:\u001b[0m\u001b[1;33m\u001b[0m\u001b[1;33m\u001b[0m\u001b[0m\n\u001b[1;32m-> 2840\u001b[1;33m     return gca().plot(\n\u001b[0m\u001b[0;32m   2841\u001b[0m         \u001b[1;33m*\u001b[0m\u001b[0margs\u001b[0m\u001b[1;33m,\u001b[0m \u001b[0mscalex\u001b[0m\u001b[1;33m=\u001b[0m\u001b[0mscalex\u001b[0m\u001b[1;33m,\u001b[0m \u001b[0mscaley\u001b[0m\u001b[1;33m=\u001b[0m\u001b[0mscaley\u001b[0m\u001b[1;33m,\u001b[0m\u001b[1;33m\u001b[0m\u001b[1;33m\u001b[0m\u001b[0m\n\u001b[0;32m   2842\u001b[0m         **({\"data\": data} if data is not None else {}), **kwargs)\n",
      "\u001b[1;32m~\\anaconda3\\lib\\site-packages\\matplotlib\\axes\\_axes.py\u001b[0m in \u001b[0;36mplot\u001b[1;34m(self, scalex, scaley, data, *args, **kwargs)\u001b[0m\n\u001b[0;32m   1741\u001b[0m         \"\"\"\n\u001b[0;32m   1742\u001b[0m         \u001b[0mkwargs\u001b[0m \u001b[1;33m=\u001b[0m \u001b[0mcbook\u001b[0m\u001b[1;33m.\u001b[0m\u001b[0mnormalize_kwargs\u001b[0m\u001b[1;33m(\u001b[0m\u001b[0mkwargs\u001b[0m\u001b[1;33m,\u001b[0m \u001b[0mmlines\u001b[0m\u001b[1;33m.\u001b[0m\u001b[0mLine2D\u001b[0m\u001b[1;33m)\u001b[0m\u001b[1;33m\u001b[0m\u001b[1;33m\u001b[0m\u001b[0m\n\u001b[1;32m-> 1743\u001b[1;33m         \u001b[0mlines\u001b[0m \u001b[1;33m=\u001b[0m \u001b[1;33m[\u001b[0m\u001b[1;33m*\u001b[0m\u001b[0mself\u001b[0m\u001b[1;33m.\u001b[0m\u001b[0m_get_lines\u001b[0m\u001b[1;33m(\u001b[0m\u001b[1;33m*\u001b[0m\u001b[0margs\u001b[0m\u001b[1;33m,\u001b[0m \u001b[0mdata\u001b[0m\u001b[1;33m=\u001b[0m\u001b[0mdata\u001b[0m\u001b[1;33m,\u001b[0m \u001b[1;33m**\u001b[0m\u001b[0mkwargs\u001b[0m\u001b[1;33m)\u001b[0m\u001b[1;33m]\u001b[0m\u001b[1;33m\u001b[0m\u001b[1;33m\u001b[0m\u001b[0m\n\u001b[0m\u001b[0;32m   1744\u001b[0m         \u001b[1;32mfor\u001b[0m \u001b[0mline\u001b[0m \u001b[1;32min\u001b[0m \u001b[0mlines\u001b[0m\u001b[1;33m:\u001b[0m\u001b[1;33m\u001b[0m\u001b[1;33m\u001b[0m\u001b[0m\n\u001b[0;32m   1745\u001b[0m             \u001b[0mself\u001b[0m\u001b[1;33m.\u001b[0m\u001b[0madd_line\u001b[0m\u001b[1;33m(\u001b[0m\u001b[0mline\u001b[0m\u001b[1;33m)\u001b[0m\u001b[1;33m\u001b[0m\u001b[1;33m\u001b[0m\u001b[0m\n",
      "\u001b[1;32m~\\anaconda3\\lib\\site-packages\\matplotlib\\axes\\_base.py\u001b[0m in \u001b[0;36m__call__\u001b[1;34m(self, data, *args, **kwargs)\u001b[0m\n\u001b[0;32m    271\u001b[0m                 \u001b[0mthis\u001b[0m \u001b[1;33m+=\u001b[0m \u001b[0margs\u001b[0m\u001b[1;33m[\u001b[0m\u001b[1;36m0\u001b[0m\u001b[1;33m]\u001b[0m\u001b[1;33m,\u001b[0m\u001b[1;33m\u001b[0m\u001b[1;33m\u001b[0m\u001b[0m\n\u001b[0;32m    272\u001b[0m                 \u001b[0margs\u001b[0m \u001b[1;33m=\u001b[0m \u001b[0margs\u001b[0m\u001b[1;33m[\u001b[0m\u001b[1;36m1\u001b[0m\u001b[1;33m:\u001b[0m\u001b[1;33m]\u001b[0m\u001b[1;33m\u001b[0m\u001b[1;33m\u001b[0m\u001b[0m\n\u001b[1;32m--> 273\u001b[1;33m             \u001b[1;32myield\u001b[0m \u001b[1;32mfrom\u001b[0m \u001b[0mself\u001b[0m\u001b[1;33m.\u001b[0m\u001b[0m_plot_args\u001b[0m\u001b[1;33m(\u001b[0m\u001b[0mthis\u001b[0m\u001b[1;33m,\u001b[0m \u001b[0mkwargs\u001b[0m\u001b[1;33m)\u001b[0m\u001b[1;33m\u001b[0m\u001b[1;33m\u001b[0m\u001b[0m\n\u001b[0m\u001b[0;32m    274\u001b[0m \u001b[1;33m\u001b[0m\u001b[0m\n\u001b[0;32m    275\u001b[0m     \u001b[1;32mdef\u001b[0m \u001b[0mget_next_color\u001b[0m\u001b[1;33m(\u001b[0m\u001b[0mself\u001b[0m\u001b[1;33m)\u001b[0m\u001b[1;33m:\u001b[0m\u001b[1;33m\u001b[0m\u001b[1;33m\u001b[0m\u001b[0m\n",
      "\u001b[1;32m~\\anaconda3\\lib\\site-packages\\matplotlib\\axes\\_base.py\u001b[0m in \u001b[0;36m_plot_args\u001b[1;34m(self, tup, kwargs)\u001b[0m\n\u001b[0;32m    397\u001b[0m \u001b[1;33m\u001b[0m\u001b[0m\n\u001b[0;32m    398\u001b[0m         \u001b[1;32mif\u001b[0m \u001b[0mx\u001b[0m\u001b[1;33m.\u001b[0m\u001b[0mshape\u001b[0m\u001b[1;33m[\u001b[0m\u001b[1;36m0\u001b[0m\u001b[1;33m]\u001b[0m \u001b[1;33m!=\u001b[0m \u001b[0my\u001b[0m\u001b[1;33m.\u001b[0m\u001b[0mshape\u001b[0m\u001b[1;33m[\u001b[0m\u001b[1;36m0\u001b[0m\u001b[1;33m]\u001b[0m\u001b[1;33m:\u001b[0m\u001b[1;33m\u001b[0m\u001b[1;33m\u001b[0m\u001b[0m\n\u001b[1;32m--> 399\u001b[1;33m             raise ValueError(f\"x and y must have same first dimension, but \"\n\u001b[0m\u001b[0;32m    400\u001b[0m                              f\"have shapes {x.shape} and {y.shape}\")\n\u001b[0;32m    401\u001b[0m         \u001b[1;32mif\u001b[0m \u001b[0mx\u001b[0m\u001b[1;33m.\u001b[0m\u001b[0mndim\u001b[0m \u001b[1;33m>\u001b[0m \u001b[1;36m2\u001b[0m \u001b[1;32mor\u001b[0m \u001b[0my\u001b[0m\u001b[1;33m.\u001b[0m\u001b[0mndim\u001b[0m \u001b[1;33m>\u001b[0m \u001b[1;36m2\u001b[0m\u001b[1;33m:\u001b[0m\u001b[1;33m\u001b[0m\u001b[1;33m\u001b[0m\u001b[0m\n",
      "\u001b[1;31mValueError\u001b[0m: x and y must have same first dimension, but have shapes (133582,) and (1,)"
     ]
    },
    {
     "data": {
      "image/png": "[encoded data removed]",
      "text/plain": [
       "<Figure size 1200x320 with 1 Axes>"
      ]
     },
     "metadata": {},
     "output_type": "display_data"
    }
   ],
   "source": [
    "plt.style.use('seaborn')\n",
    "figure(figsize=(15, 4), dpi=80)\n",
    "\n",
    "plt.plot(txn.index, txn['Amount_dolars'][txn['Type'] == 'Sold'].mean())\n",
    "\n",
    "plt.title('Ethereum Price')\n",
    "plt.ylabel('Price ($)');\n",
    "\n",
    "plt.show()"
   ]
  },
  {
   "cell_type": "markdown",
   "id": "8f813f74",
   "metadata": {},
   "source": [
    "#### 2.2.3 Preu en Ethereums"
   ]
  },
  {
   "cell_type": "code",
   "execution_count": 321,
   "id": "fff50e66",
   "metadata": {
    "ExecuteTime": {
     "end_time": "2021-07-06T12:00:22.213383Z",
     "start_time": "2021-07-06T12:00:22.176373Z"
    }
   },
   "outputs": [
    {
     "data": {
      "text/plain": [
       "count    12494.00\n",
       "mean        14.78\n",
       "std         59.19\n",
       "min          0.00\n",
       "25%          0.60\n",
       "50%          6.50\n",
       "75%         21.95\n",
       "max       4200.00\n",
       "Name: Amount_eth, dtype: float64"
      ]
     },
     "execution_count": 321,
     "metadata": {},
     "output_type": "execute_result"
    }
   ],
   "source": [
    "txn['Amount_eth'][txn['Type'] == 'Sold'].describe().round(2)"
   ]
  },
  {
   "cell_type": "markdown",
   "id": "a6a5e4ae",
   "metadata": {},
   "source": [
    "#### 2.2.4 Adj. Close (ETH-Dolar)"
   ]
  },
  {
   "cell_type": "code",
   "execution_count": 325,
   "id": "408a891f",
   "metadata": {
    "ExecuteTime": {
     "end_time": "2021-07-06T14:48:13.879989Z",
     "start_time": "2021-07-06T14:48:13.537319Z"
    }
   },
   "outputs": [
    {
     "data": {
      "image/png": "[encoded data removed]",
      "text/plain": [
       "<Figure size 1200x320 with 1 Axes>"
      ]
     },
     "metadata": {},
     "output_type": "display_data"
    }
   ],
   "source": [
    "plt.style.use('seaborn')\n",
    "figure(figsize=(15, 4), dpi=80)\n",
    "\n",
    "plt.plot(txn.index, txn['Adj Close'])\n",
    "\n",
    "plt.title('Ethereum Price')\n",
    "plt.ylabel('Price ($)');\n",
    "\n",
    "plt.show()"
   ]
  },
  {
   "cell_type": "code",
   "execution_count": 326,
   "id": "737fb620",
   "metadata": {
    "ExecuteTime": {
     "end_time": "2021-07-06T14:48:17.131211Z",
     "start_time": "2021-07-06T14:48:16.800450Z"
    }
   },
   "outputs": [
    {
     "data": {
      "image/png": "[encoded data removed]",
      "text/plain": [
       "<Figure size 1200x320 with 1 Axes>"
      ]
     },
     "metadata": {},
     "output_type": "display_data"
    }
   ],
   "source": [
    "plt.style.use('seaborn')\n",
    "figure(figsize=(15, 4), dpi=80)\n",
    "\n",
    "plt.plot(txn.index, txn['Variance'])\n",
    "\n",
    "plt.title('Ethereum Variance in dolars')\n",
    "plt.ylabel('Variance throught the day ($)');\n",
    "\n",
    "plt.show()"
   ]
  },
  {
   "cell_type": "code",
   "execution_count": 334,
   "id": "a627f3c1",
   "metadata": {
    "ExecuteTime": {
     "end_time": "2021-07-06T17:03:08.277245Z",
     "start_time": "2021-07-06T17:03:08.228338Z"
    }
   },
   "outputs": [
    {
     "data": {
      "text/html": [
       "<div>\n",
       "<style scoped>\n",
       "    .dataframe tbody tr th:only-of-type {\n",
       "        vertical-align: middle;\n",
       "    }\n",
       "\n",
       "    .dataframe tbody tr th {\n",
       "        vertical-align: top;\n",
       "    }\n",
       "\n",
       "    .dataframe thead th {\n",
       "        text-align: right;\n",
       "    }\n",
       "</style>\n",
       "<table border=\"1\" class=\"dataframe\">\n",
       "  <thead>\n",
       "    <tr style=\"text-align: right;\">\n",
       "      <th></th>\n",
       "      <th>Number</th>\n",
       "      <th>Type</th>\n",
       "      <th>From</th>\n",
       "      <th>To</th>\n",
       "      <th>Amount_dolars</th>\n",
       "      <th>Amount_eth</th>\n",
       "      <th>user_transaction</th>\n",
       "      <th>Adj Close</th>\n",
       "      <th>Variance</th>\n",
       "    </tr>\n",
       "    <tr>\n",
       "      <th>Date</th>\n",
       "      <th></th>\n",
       "      <th></th>\n",
       "      <th></th>\n",
       "      <th></th>\n",
       "      <th></th>\n",
       "      <th></th>\n",
       "      <th></th>\n",
       "      <th></th>\n",
       "      <th></th>\n",
       "    </tr>\n",
       "  </thead>\n",
       "  <tbody>\n",
       "    <tr>\n",
       "      <th>2021-06-30</th>\n",
       "      <td>7051</td>\n",
       "      <td>Offered</td>\n",
       "      <td>NaN</td>\n",
       "      <td>NaN</td>\n",
       "      <td>60707.68</td>\n",
       "      <td>26.69</td>\n",
       "      <td>0x9e1893</td>\n",
       "      <td>2274.55</td>\n",
       "      <td>192.228272</td>\n",
       "    </tr>\n",
       "    <tr>\n",
       "      <th>2021-06-30</th>\n",
       "      <td>6263</td>\n",
       "      <td>Bid withdrawn</td>\n",
       "      <td>0x12D715</td>\n",
       "      <td>NaN</td>\n",
       "      <td>38667.31</td>\n",
       "      <td>17.00</td>\n",
       "      <td>0x6feee6</td>\n",
       "      <td>2274.55</td>\n",
       "      <td>192.228272</td>\n",
       "    </tr>\n",
       "    <tr>\n",
       "      <th>2021-06-30</th>\n",
       "      <td>9400</td>\n",
       "      <td>Offer withdrawn</td>\n",
       "      <td>NaN</td>\n",
       "      <td>NaN</td>\n",
       "      <td>NaN</td>\n",
       "      <td>NaN</td>\n",
       "      <td>0xf18631</td>\n",
       "      <td>2274.55</td>\n",
       "      <td>192.228272</td>\n",
       "    </tr>\n",
       "    <tr>\n",
       "      <th>2021-06-30</th>\n",
       "      <td>6493</td>\n",
       "      <td>Offered</td>\n",
       "      <td>NaN</td>\n",
       "      <td>NaN</td>\n",
       "      <td>45354.48</td>\n",
       "      <td>19.94</td>\n",
       "      <td>0xb07068</td>\n",
       "      <td>2274.55</td>\n",
       "      <td>192.228272</td>\n",
       "    </tr>\n",
       "    <tr>\n",
       "      <th>2021-06-30</th>\n",
       "      <td>6281</td>\n",
       "      <td>Transfer</td>\n",
       "      <td>0x8F8B47</td>\n",
       "      <td>0x63d4a5</td>\n",
       "      <td>NaN</td>\n",
       "      <td>NaN</td>\n",
       "      <td>0xd09776</td>\n",
       "      <td>2274.55</td>\n",
       "      <td>192.228272</td>\n",
       "    </tr>\n",
       "    <tr>\n",
       "      <th>...</th>\n",
       "      <td>...</td>\n",
       "      <td>...</td>\n",
       "      <td>...</td>\n",
       "      <td>...</td>\n",
       "      <td>...</td>\n",
       "      <td>...</td>\n",
       "      <td>...</td>\n",
       "      <td>...</td>\n",
       "      <td>...</td>\n",
       "    </tr>\n",
       "    <tr>\n",
       "      <th>2017-06-23</th>\n",
       "      <td>3029</td>\n",
       "      <td>Claimed</td>\n",
       "      <td>NaN</td>\n",
       "      <td>0xe4d36b</td>\n",
       "      <td>NaN</td>\n",
       "      <td>NaN</td>\n",
       "      <td>0x218fdb</td>\n",
       "      <td>341.74</td>\n",
       "      <td>13.016022</td>\n",
       "    </tr>\n",
       "    <tr>\n",
       "      <th>2017-06-23</th>\n",
       "      <td>8419</td>\n",
       "      <td>Claimed</td>\n",
       "      <td>NaN</td>\n",
       "      <td>0x6f4a2d</td>\n",
       "      <td>NaN</td>\n",
       "      <td>NaN</td>\n",
       "      <td>0x82a4ad</td>\n",
       "      <td>341.74</td>\n",
       "      <td>13.016022</td>\n",
       "    </tr>\n",
       "    <tr>\n",
       "      <th>2017-06-23</th>\n",
       "      <td>8420</td>\n",
       "      <td>Claimed</td>\n",
       "      <td>NaN</td>\n",
       "      <td>0xcc7c33</td>\n",
       "      <td>NaN</td>\n",
       "      <td>NaN</td>\n",
       "      <td>0x82a4ad</td>\n",
       "      <td>341.74</td>\n",
       "      <td>13.016022</td>\n",
       "    </tr>\n",
       "    <tr>\n",
       "      <th>2017-06-23</th>\n",
       "      <td>8421</td>\n",
       "      <td>Claimed</td>\n",
       "      <td>NaN</td>\n",
       "      <td>0x005612</td>\n",
       "      <td>NaN</td>\n",
       "      <td>NaN</td>\n",
       "      <td>0x82a4ad</td>\n",
       "      <td>341.74</td>\n",
       "      <td>13.016022</td>\n",
       "    </tr>\n",
       "    <tr>\n",
       "      <th>2017-06-23</th>\n",
       "      <td>9999</td>\n",
       "      <td>Claimed</td>\n",
       "      <td>NaN</td>\n",
       "      <td>0x7e2d1c</td>\n",
       "      <td>NaN</td>\n",
       "      <td>NaN</td>\n",
       "      <td>0x6d94da</td>\n",
       "      <td>341.74</td>\n",
       "      <td>13.016022</td>\n",
       "    </tr>\n",
       "  </tbody>\n",
       "</table>\n",
       "<p>133582 rows × 9 columns</p>\n",
       "</div>"
      ],
      "text/plain": [
       "            Number             Type      From        To  Amount_dolars  Amount_eth user_transaction  Adj Close    Variance\n",
       "Date                                                                                                                      \n",
       "2021-06-30    7051          Offered       NaN       NaN       60707.68       26.69         0x9e1893    2274.55  192.228272\n",
       "2021-06-30    6263    Bid withdrawn  0x12D715       NaN       38667.31       17.00         0x6feee6    2274.55  192.228272\n",
       "2021-06-30    9400  Offer withdrawn       NaN       NaN            NaN         NaN         0xf18631    2274.55  192.228272\n",
       "2021-06-30    6493          Offered       NaN       NaN       45354.48       19.94         0xb07068    2274.55  192.228272\n",
       "2021-06-30    6281         Transfer  0x8F8B47  0x63d4a5            NaN         NaN         0xd09776    2274.55  192.228272\n",
       "...            ...              ...       ...       ...            ...         ...              ...        ...         ...\n",
       "2017-06-23    3029          Claimed       NaN  0xe4d36b            NaN         NaN         0x218fdb     341.74   13.016022\n",
       "2017-06-23    8419          Claimed       NaN  0x6f4a2d            NaN         NaN         0x82a4ad     341.74   13.016022\n",
       "2017-06-23    8420          Claimed       NaN  0xcc7c33            NaN         NaN         0x82a4ad     341.74   13.016022\n",
       "2017-06-23    8421          Claimed       NaN  0x005612            NaN         NaN         0x82a4ad     341.74   13.016022\n",
       "2017-06-23    9999          Claimed       NaN  0x7e2d1c            NaN         NaN         0x6d94da     341.74   13.016022\n",
       "\n",
       "[133582 rows x 9 columns]"
      ]
     },
     "execution_count": 334,
     "metadata": {},
     "output_type": "execute_result"
    }
   ],
   "source": [
    "txn"
   ]
  },
  {
   "cell_type": "code",
   "execution_count": 116,
   "id": "17197eea",
   "metadata": {
    "ExecuteTime": {
     "end_time": "2021-07-05T10:58:01.479129Z",
     "start_time": "2021-07-05T10:58:01.426263Z"
    }
   },
   "outputs": [
    {
     "data": {
      "text/html": [
       "<div>\n",
       "<style scoped>\n",
       "    .dataframe tbody tr th:only-of-type {\n",
       "        vertical-align: middle;\n",
       "    }\n",
       "\n",
       "    .dataframe tbody tr th {\n",
       "        vertical-align: top;\n",
       "    }\n",
       "\n",
       "    .dataframe thead th {\n",
       "        text-align: right;\n",
       "    }\n",
       "</style>\n",
       "<table border=\"1\" class=\"dataframe\">\n",
       "  <thead>\n",
       "    <tr style=\"text-align: right;\">\n",
       "      <th></th>\n",
       "      <th>Number</th>\n",
       "      <th>Type</th>\n",
       "      <th>From</th>\n",
       "      <th>To</th>\n",
       "      <th>Amount_dolars</th>\n",
       "      <th>Amount_eth</th>\n",
       "      <th>user_transaction</th>\n",
       "      <th>Adj Close</th>\n",
       "    </tr>\n",
       "    <tr>\n",
       "      <th>Date</th>\n",
       "      <th></th>\n",
       "      <th></th>\n",
       "      <th></th>\n",
       "      <th></th>\n",
       "      <th></th>\n",
       "      <th></th>\n",
       "      <th></th>\n",
       "      <th></th>\n",
       "    </tr>\n",
       "  </thead>\n",
       "  <tbody>\n",
       "    <tr>\n",
       "      <th>2021-06-30</th>\n",
       "      <td>7051</td>\n",
       "      <td>Offered</td>\n",
       "      <td>NaN</td>\n",
       "      <td>NaN</td>\n",
       "      <td>60707.68</td>\n",
       "      <td>26.69</td>\n",
       "      <td>0x9e1893</td>\n",
       "      <td>2274.55</td>\n",
       "    </tr>\n",
       "    <tr>\n",
       "      <th>2021-06-30</th>\n",
       "      <td>6263</td>\n",
       "      <td>Bid withdrawn</td>\n",
       "      <td>0x12D715</td>\n",
       "      <td>NaN</td>\n",
       "      <td>38667.31</td>\n",
       "      <td>17.00</td>\n",
       "      <td>0x6feee6</td>\n",
       "      <td>2274.55</td>\n",
       "    </tr>\n",
       "    <tr>\n",
       "      <th>2021-06-30</th>\n",
       "      <td>9400</td>\n",
       "      <td>Offer withdrawn</td>\n",
       "      <td>NaN</td>\n",
       "      <td>NaN</td>\n",
       "      <td>NaN</td>\n",
       "      <td>NaN</td>\n",
       "      <td>0xf18631</td>\n",
       "      <td>2274.55</td>\n",
       "    </tr>\n",
       "    <tr>\n",
       "      <th>2021-06-30</th>\n",
       "      <td>6493</td>\n",
       "      <td>Offered</td>\n",
       "      <td>NaN</td>\n",
       "      <td>NaN</td>\n",
       "      <td>45354.48</td>\n",
       "      <td>19.94</td>\n",
       "      <td>0xb07068</td>\n",
       "      <td>2274.55</td>\n",
       "    </tr>\n",
       "    <tr>\n",
       "      <th>2021-06-30</th>\n",
       "      <td>6281</td>\n",
       "      <td>Transfer</td>\n",
       "      <td>0x8F8B47</td>\n",
       "      <td>0x63d4a5</td>\n",
       "      <td>NaN</td>\n",
       "      <td>NaN</td>\n",
       "      <td>0xd09776</td>\n",
       "      <td>2274.55</td>\n",
       "    </tr>\n",
       "    <tr>\n",
       "      <th>...</th>\n",
       "      <td>...</td>\n",
       "      <td>...</td>\n",
       "      <td>...</td>\n",
       "      <td>...</td>\n",
       "      <td>...</td>\n",
       "      <td>...</td>\n",
       "      <td>...</td>\n",
       "      <td>...</td>\n",
       "    </tr>\n",
       "    <tr>\n",
       "      <th>2017-06-23</th>\n",
       "      <td>3029</td>\n",
       "      <td>Claimed</td>\n",
       "      <td>NaN</td>\n",
       "      <td>0xe4d36b</td>\n",
       "      <td>NaN</td>\n",
       "      <td>NaN</td>\n",
       "      <td>0x218fdb</td>\n",
       "      <td>341.74</td>\n",
       "    </tr>\n",
       "    <tr>\n",
       "      <th>2017-06-23</th>\n",
       "      <td>8419</td>\n",
       "      <td>Claimed</td>\n",
       "      <td>NaN</td>\n",
       "      <td>0x6f4a2d</td>\n",
       "      <td>NaN</td>\n",
       "      <td>NaN</td>\n",
       "      <td>0x82a4ad</td>\n",
       "      <td>341.74</td>\n",
       "    </tr>\n",
       "    <tr>\n",
       "      <th>2017-06-23</th>\n",
       "      <td>8420</td>\n",
       "      <td>Claimed</td>\n",
       "      <td>NaN</td>\n",
       "      <td>0xcc7c33</td>\n",
       "      <td>NaN</td>\n",
       "      <td>NaN</td>\n",
       "      <td>0x82a4ad</td>\n",
       "      <td>341.74</td>\n",
       "    </tr>\n",
       "    <tr>\n",
       "      <th>2017-06-23</th>\n",
       "      <td>8421</td>\n",
       "      <td>Claimed</td>\n",
       "      <td>NaN</td>\n",
       "      <td>0x005612</td>\n",
       "      <td>NaN</td>\n",
       "      <td>NaN</td>\n",
       "      <td>0x82a4ad</td>\n",
       "      <td>341.74</td>\n",
       "    </tr>\n",
       "    <tr>\n",
       "      <th>2017-06-23</th>\n",
       "      <td>9999</td>\n",
       "      <td>Claimed</td>\n",
       "      <td>NaN</td>\n",
       "      <td>0x7e2d1c</td>\n",
       "      <td>NaN</td>\n",
       "      <td>NaN</td>\n",
       "      <td>0x6d94da</td>\n",
       "      <td>341.74</td>\n",
       "    </tr>\n",
       "  </tbody>\n",
       "</table>\n",
       "<p>133789 rows × 8 columns</p>\n",
       "</div>"
      ],
      "text/plain": [
       "            Number             Type      From        To  Amount_dolars  Amount_eth user_transaction  Adj Close\n",
       "Date                                                                                                          \n",
       "2021-06-30    7051          Offered       NaN       NaN       60707.68       26.69         0x9e1893    2274.55\n",
       "2021-06-30    6263    Bid withdrawn  0x12D715       NaN       38667.31       17.00         0x6feee6    2274.55\n",
       "2021-06-30    9400  Offer withdrawn       NaN       NaN            NaN         NaN         0xf18631    2274.55\n",
       "2021-06-30    6493          Offered       NaN       NaN       45354.48       19.94         0xb07068    2274.55\n",
       "2021-06-30    6281         Transfer  0x8F8B47  0x63d4a5            NaN         NaN         0xd09776    2274.55\n",
       "...            ...              ...       ...       ...            ...         ...              ...        ...\n",
       "2017-06-23    3029          Claimed       NaN  0xe4d36b            NaN         NaN         0x218fdb     341.74\n",
       "2017-06-23    8419          Claimed       NaN  0x6f4a2d            NaN         NaN         0x82a4ad     341.74\n",
       "2017-06-23    8420          Claimed       NaN  0xcc7c33            NaN         NaN         0x82a4ad     341.74\n",
       "2017-06-23    8421          Claimed       NaN  0x005612            NaN         NaN         0x82a4ad     341.74\n",
       "2017-06-23    9999          Claimed       NaN  0x7e2d1c            NaN         NaN         0x6d94da     341.74\n",
       "\n",
       "[133789 rows x 8 columns]"
      ]
     },
     "execution_count": 116,
     "metadata": {},
     "output_type": "execute_result"
    }
   ],
   "source": [
    "# per comparar dates\n",
    "d1 = datetime.datetime(2017, 1, 1)\n",
    "txn[txn.index>d1]"
   ]
  }
 ],
 "metadata": {
  "kernelspec": {
   "display_name": "Python 3",
   "language": "python",
   "name": "python3"
  },
  "language_info": {
   "codemirror_mode": {
    "name": "ipython",
    "version": 3
   },
   "file_extension": ".py",
   "mimetype": "text/x-python",
   "name": "python",
   "nbconvert_exporter": "python",
   "pygments_lexer": "ipython3",
   "version": "3.8.8"
  }
 },
 "nbformat": 4,
 "nbformat_minor": 5
}
