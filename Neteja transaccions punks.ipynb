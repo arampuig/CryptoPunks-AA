{
 "cells": [
  {
   "cell_type": "code",
   "execution_count": 362,
   "id": "f96fec86",
   "metadata": {
    "ExecuteTime": {
     "end_time": "2021-07-03T07:39:06.526029Z",
     "start_time": "2021-07-03T07:39:06.502833Z"
    }
   },
   "outputs": [],
   "source": [
    "import pandas as pd\n",
    "import regex as re\n",
    "import numpy as np\n",
    "\n",
    "pd.set_option('display.max_rows', 500)\n",
    "pd.set_option('display.max_columns', 500)\n",
    "pd.set_option('display.width', 1000)\n",
    "pd.set_option('display.expand_frame_repr', False)\n",
    "\n",
    "import warnings\n",
    "warnings.filterwarnings('ignore')"
   ]
  },
  {
   "cell_type": "markdown",
   "id": "cad480ac",
   "metadata": {},
   "source": [
    "Volem deixar la taula STATUS_TOTAL així:\n",
    "\n",
    "- cryptopunk_number\n",
    "- owner\n",
    "- for_sale: Yes/No\n",
    "- sale_eth: quantiat ethereum sense el signe/None\n",
    "- eth_factors: K, M i Y\n",
    "- sale_dolars: quantiat dolars sense el signe/None\n",
    "- dolars factors: B\n",
    "- are_bids: Yes/No\n",
    "- bids_eth: quantiat ethereum sense el signe/None\n",
    "- bids_eth_factors: K, M i Y\n",
    "- bids_dolars: quantiat dolars sense el signe/None\n",
    "- bids_dolars_factors: B\n",
    "- bid_placer: usuari que fa la puja/None"
   ]
  },
  {
   "cell_type": "code",
   "execution_count": 2,
   "id": "63d16fed",
   "metadata": {
    "ExecuteTime": {
     "end_time": "2021-07-01T17:23:37.836789Z",
     "start_time": "2021-07-01T17:23:37.758996Z"
    }
   },
   "outputs": [],
   "source": [
    "df_1 = pd.read_csv('STATUS_TOTAL.csv')"
   ]
  },
  {
   "cell_type": "code",
   "execution_count": 3,
   "id": "2e8ac72d",
   "metadata": {
    "ExecuteTime": {
     "end_time": "2021-07-01T17:23:37.884663Z",
     "start_time": "2021-07-01T17:23:37.839782Z"
    }
   },
   "outputs": [
    {
     "data": {
      "text/html": [
       "<div>\n",
       "<style scoped>\n",
       "    .dataframe tbody tr th:only-of-type {\n",
       "        vertical-align: middle;\n",
       "    }\n",
       "\n",
       "    .dataframe tbody tr th {\n",
       "        vertical-align: top;\n",
       "    }\n",
       "\n",
       "    .dataframe thead th {\n",
       "        text-align: right;\n",
       "    }\n",
       "</style>\n",
       "<table border=\"1\" class=\"dataframe\">\n",
       "  <thead>\n",
       "    <tr style=\"text-align: right;\">\n",
       "      <th></th>\n",
       "      <th>Unnamed: 0</th>\n",
       "      <th>owner</th>\n",
       "      <th>for_sale</th>\n",
       "      <th>are_bids</th>\n",
       "      <th>cryptopunk_number</th>\n",
       "    </tr>\n",
       "  </thead>\n",
       "  <tbody>\n",
       "    <tr>\n",
       "      <th>0</th>\n",
       "      <td>0</td>\n",
       "      <td>This punk is currently owned by address 0xe08c32.</td>\n",
       "      <td>This punk has not been listed for sale by its ...</td>\n",
       "      <td>There are currently no bids on this punk.</td>\n",
       "      <td>0</td>\n",
       "    </tr>\n",
       "    <tr>\n",
       "      <th>1</th>\n",
       "      <td>1</td>\n",
       "      <td>This punk is currently owned by address 0xb88f61.</td>\n",
       "      <td>This punk has not been listed for sale by its ...</td>\n",
       "      <td>There are currently no bids on this punk.</td>\n",
       "      <td>1</td>\n",
       "    </tr>\n",
       "    <tr>\n",
       "      <th>2</th>\n",
       "      <td>2</td>\n",
       "      <td>This punk is currently owned by address 0x897aea.</td>\n",
       "      <td>This punk has not been listed for sale by its ...</td>\n",
       "      <td>There is a bid of &lt;0.01Ξ ($4) for this punk fr...</td>\n",
       "      <td>2</td>\n",
       "    </tr>\n",
       "    <tr>\n",
       "      <th>3</th>\n",
       "      <td>3</td>\n",
       "      <td>This punk is currently owned by address 0xc352b5.</td>\n",
       "      <td>This punk has not been listed for sale by its ...</td>\n",
       "      <td>There are currently no bids on this punk.</td>\n",
       "      <td>3</td>\n",
       "    </tr>\n",
       "    <tr>\n",
       "      <th>4</th>\n",
       "      <td>4</td>\n",
       "      <td>This punk is currently owned by address 0xc352b5.</td>\n",
       "      <td>This punk has not been listed for sale by its ...</td>\n",
       "      <td>There are currently no bids on this punk.</td>\n",
       "      <td>4</td>\n",
       "    </tr>\n",
       "    <tr>\n",
       "      <th>...</th>\n",
       "      <td>...</td>\n",
       "      <td>...</td>\n",
       "      <td>...</td>\n",
       "      <td>...</td>\n",
       "      <td>...</td>\n",
       "    </tr>\n",
       "    <tr>\n",
       "      <th>9995</th>\n",
       "      <td>9995</td>\n",
       "      <td>This punk is currently owned by address 0x758353.</td>\n",
       "      <td>This punk has not been listed for sale by its ...</td>\n",
       "      <td>There are currently no bids on this punk.</td>\n",
       "      <td>9995</td>\n",
       "    </tr>\n",
       "    <tr>\n",
       "      <th>9996</th>\n",
       "      <td>9996</td>\n",
       "      <td>This punk is currently owned by address 0xa9bfa9.</td>\n",
       "      <td>This punk has not been listed for sale by its ...</td>\n",
       "      <td>There are currently no bids on this punk.</td>\n",
       "      <td>9996</td>\n",
       "    </tr>\n",
       "    <tr>\n",
       "      <th>9997</th>\n",
       "      <td>9997</td>\n",
       "      <td>This punk is currently owned by address 0x279679.</td>\n",
       "      <td>This punk is currently for sale by owner for 4...</td>\n",
       "      <td>There are currently no bids on this punk.</td>\n",
       "      <td>9997</td>\n",
       "    </tr>\n",
       "    <tr>\n",
       "      <th>9998</th>\n",
       "      <td>9998</td>\n",
       "      <td>This punk is currently owned by address 0xcfd9cc.</td>\n",
       "      <td>This punk has not been listed for sale by its ...</td>\n",
       "      <td>There are currently no bids on this punk.</td>\n",
       "      <td>9998</td>\n",
       "    </tr>\n",
       "    <tr>\n",
       "      <th>9999</th>\n",
       "      <td>9999</td>\n",
       "      <td>This punk is currently owned by address punk99...</td>\n",
       "      <td>This punk has not been listed for sale by its ...</td>\n",
       "      <td>There is a bid of 0.22Ξ ($489) for this punk f...</td>\n",
       "      <td>9999</td>\n",
       "    </tr>\n",
       "  </tbody>\n",
       "</table>\n",
       "<p>10000 rows × 5 columns</p>\n",
       "</div>"
      ],
      "text/plain": [
       "      Unnamed: 0                                              owner                                           for_sale                                           are_bids  cryptopunk_number\n",
       "0              0  This punk is currently owned by address 0xe08c32.  This punk has not been listed for sale by its ...          There are currently no bids on this punk.                  0\n",
       "1              1  This punk is currently owned by address 0xb88f61.  This punk has not been listed for sale by its ...          There are currently no bids on this punk.                  1\n",
       "2              2  This punk is currently owned by address 0x897aea.  This punk has not been listed for sale by its ...  There is a bid of <0.01Ξ ($4) for this punk fr...                  2\n",
       "3              3  This punk is currently owned by address 0xc352b5.  This punk has not been listed for sale by its ...          There are currently no bids on this punk.                  3\n",
       "4              4  This punk is currently owned by address 0xc352b5.  This punk has not been listed for sale by its ...          There are currently no bids on this punk.                  4\n",
       "...          ...                                                ...                                                ...                                                ...                ...\n",
       "9995        9995  This punk is currently owned by address 0x758353.  This punk has not been listed for sale by its ...          There are currently no bids on this punk.               9995\n",
       "9996        9996  This punk is currently owned by address 0xa9bfa9.  This punk has not been listed for sale by its ...          There are currently no bids on this punk.               9996\n",
       "9997        9997  This punk is currently owned by address 0x279679.  This punk is currently for sale by owner for 4...          There are currently no bids on this punk.               9997\n",
       "9998        9998  This punk is currently owned by address 0xcfd9cc.  This punk has not been listed for sale by its ...          There are currently no bids on this punk.               9998\n",
       "9999        9999  This punk is currently owned by address punk99...  This punk has not been listed for sale by its ...  There is a bid of 0.22Ξ ($489) for this punk f...               9999\n",
       "\n",
       "[10000 rows x 5 columns]"
      ]
     },
     "execution_count": 3,
     "metadata": {},
     "output_type": "execute_result"
    }
   ],
   "source": [
    "df_1"
   ]
  },
  {
   "cell_type": "markdown",
   "id": "9373a507",
   "metadata": {},
   "source": [
    "Eliminem la primera columna, ja que està repetida i canviem l'ordre de les columnes, posant l'id davant:"
   ]
  },
  {
   "cell_type": "code",
   "execution_count": 4,
   "id": "b53f0724",
   "metadata": {
    "ExecuteTime": {
     "end_time": "2021-07-01T17:23:37.900619Z",
     "start_time": "2021-07-01T17:23:37.888650Z"
    }
   },
   "outputs": [],
   "source": [
    "df_1.drop('Unnamed: 0', axis=1, inplace=True)"
   ]
  },
  {
   "cell_type": "code",
   "execution_count": 5,
   "id": "3a8aaf99",
   "metadata": {
    "ExecuteTime": {
     "end_time": "2021-07-01T17:23:37.917576Z",
     "start_time": "2021-07-01T17:23:37.903610Z"
    }
   },
   "outputs": [],
   "source": [
    "df_1 = df_1[['cryptopunk_number','owner', 'for_sale', 'are_bids']]"
   ]
  },
  {
   "cell_type": "markdown",
   "id": "4fd2d98a",
   "metadata": {},
   "source": [
    "Netejem la columna owner perquè ens quedi només l'identificador de l'usuari:"
   ]
  },
  {
   "cell_type": "code",
   "execution_count": 6,
   "id": "f036f709",
   "metadata": {
    "ExecuteTime": {
     "end_time": "2021-07-01T17:23:38.026283Z",
     "start_time": "2021-07-01T17:23:37.920565Z"
    }
   },
   "outputs": [],
   "source": [
    "df_1['owner'].replace({'This punk is currently owned by address':''}, regex=True, inplace=True)"
   ]
  },
  {
   "cell_type": "code",
   "execution_count": 7,
   "id": "713ea265",
   "metadata": {
    "ExecuteTime": {
     "end_time": "2021-07-01T17:23:38.121058Z",
     "start_time": "2021-07-01T17:23:38.029273Z"
    }
   },
   "outputs": [],
   "source": [
    "df_1['owner'].replace({'\\.':''}, regex=True, inplace=True)"
   ]
  },
  {
   "cell_type": "markdown",
   "id": "f16006b2",
   "metadata": {},
   "source": [
    "Netegem la columna 'for_sale'. Posem 'No' a tots els registres que no han estat en venta i deixem només el preu dels que han estat venuts:"
   ]
  },
  {
   "cell_type": "code",
   "execution_count": 8,
   "id": "2a0d7594",
   "metadata": {
    "ExecuteTime": {
     "end_time": "2021-07-01T17:23:38.150982Z",
     "start_time": "2021-07-01T17:23:38.126044Z"
    }
   },
   "outputs": [
    {
     "data": {
      "text/plain": [
       "This punk has not been listed for sale by its owner.                8079\n",
       "This punk is currently for sale by owner for 140Ξ ($293,839).        190\n",
       "This punk is currently for sale by owner for 38.95Ξ ($83,588).       155\n",
       "This punk is currently for sale by owner for 125Ξ ($274,111).         59\n",
       "This punk is currently for sale by owner for 34.47Ξ ($73,073).        26\n",
       "                                                                    ... \n",
       "This punk is currently for sale by owner for 28Ξ ($63,110).            1\n",
       "This punk is currently for sale by owner for 33.98Ξ ($76,589).         1\n",
       "This punk is currently for sale by owner for 133.70Ξ ($283,334).       1\n",
       "This punk is currently for sale by owner for 39Ξ ($88,061).            1\n",
       "This punk is currently for sale by owner for 23.99Ξ ($52,038).         1\n",
       "Name: for_sale, Length: 1119, dtype: int64"
      ]
     },
     "execution_count": 8,
     "metadata": {},
     "output_type": "execute_result"
    }
   ],
   "source": [
    "df_1['for_sale'].value_counts()"
   ]
  },
  {
   "cell_type": "code",
   "execution_count": 9,
   "id": "80d1949c",
   "metadata": {
    "ExecuteTime": {
     "end_time": "2021-07-01T17:23:38.229770Z",
     "start_time": "2021-07-01T17:23:38.156962Z"
    }
   },
   "outputs": [],
   "source": [
    "df_1['for_sale'].replace({'This punk has not been listed for sale by its owner.':'No'}, regex=True, inplace=True)"
   ]
  },
  {
   "cell_type": "code",
   "execution_count": 10,
   "id": "05ea9497",
   "metadata": {
    "ExecuteTime": {
     "end_time": "2021-07-01T17:23:38.275643Z",
     "start_time": "2021-07-01T17:23:38.235752Z"
    }
   },
   "outputs": [],
   "source": [
    "df_1['for_sale'].replace({'This punk is currently for sale by owner for ':''}, regex=True, inplace=True)"
   ]
  },
  {
   "cell_type": "code",
   "execution_count": 11,
   "id": "a7c3cc8c",
   "metadata": {
    "ExecuteTime": {
     "end_time": "2021-07-01T17:23:38.321291Z",
     "start_time": "2021-07-01T17:23:38.277640Z"
    }
   },
   "outputs": [],
   "source": [
    "df_1['for_sale'].replace({'\\.':''}, regex=True, inplace=True)"
   ]
  },
  {
   "cell_type": "markdown",
   "id": "dbdaffc5",
   "metadata": {},
   "source": [
    "Separem els preus en dolars i ethereum en dues columnes noves:"
   ]
  },
  {
   "cell_type": "code",
   "execution_count": 12,
   "id": "2e9d2f17",
   "metadata": {
    "ExecuteTime": {
     "end_time": "2021-07-01T17:23:38.399607Z",
     "start_time": "2021-07-01T17:23:38.323285Z"
    }
   },
   "outputs": [],
   "source": [
    "df_1[['price_eth','price_dolar']] = df_1['for_sale'].str.split(expand=True)"
   ]
  },
  {
   "cell_type": "code",
   "execution_count": 13,
   "id": "451ceba4",
   "metadata": {
    "ExecuteTime": {
     "end_time": "2021-07-01T17:23:38.446492Z",
     "start_time": "2021-07-01T17:23:38.401603Z"
    }
   },
   "outputs": [],
   "source": [
    "df_1['for_sale'].replace({'[^\"No\"]+':'Yes'}, regex=True, inplace=True)"
   ]
  },
  {
   "cell_type": "code",
   "execution_count": 14,
   "id": "7f93ef60",
   "metadata": {
    "ExecuteTime": {
     "end_time": "2021-07-01T17:23:38.462440Z",
     "start_time": "2021-07-01T17:23:38.450472Z"
    }
   },
   "outputs": [
    {
     "data": {
      "text/plain": [
       "No     8079\n",
       "Yes    1921\n",
       "Name: for_sale, dtype: int64"
      ]
     },
     "execution_count": 14,
     "metadata": {},
     "output_type": "execute_result"
    }
   ],
   "source": [
    "df_1['for_sale'].value_counts()"
   ]
  },
  {
   "cell_type": "code",
   "execution_count": 15,
   "id": "de48a13c",
   "metadata": {
    "ExecuteTime": {
     "end_time": "2021-07-01T17:23:38.494354Z",
     "start_time": "2021-07-01T17:23:38.466430Z"
    }
   },
   "outputs": [
    {
     "data": {
      "text/plain": [
       "No     8079\n",
       "Yes    1921\n",
       "Name: for_sale, dtype: int64"
      ]
     },
     "execution_count": 15,
     "metadata": {},
     "output_type": "execute_result"
    }
   ],
   "source": [
    "df_1['for_sale'].value_counts()"
   ]
  },
  {
   "cell_type": "markdown",
   "id": "1c77913e",
   "metadata": {},
   "source": [
    "Netegem els registres de Bids:"
   ]
  },
  {
   "cell_type": "code",
   "execution_count": 16,
   "id": "869fc628",
   "metadata": {
    "ExecuteTime": {
     "end_time": "2021-07-01T17:23:38.621022Z",
     "start_time": "2021-07-01T17:23:38.497346Z"
    }
   },
   "outputs": [],
   "source": [
    "df_1['are_bids'].replace({'There are currently no bids on this punk.':'No'}, regex=True, inplace=True)"
   ]
  },
  {
   "cell_type": "code",
   "execution_count": 17,
   "id": "ef49b7a0",
   "metadata": {
    "ExecuteTime": {
     "end_time": "2021-07-01T17:23:38.667573Z",
     "start_time": "2021-07-01T17:23:38.623009Z"
    }
   },
   "outputs": [],
   "source": [
    "df_1['are_bids'].replace({'There is a bid of ':''}, regex=True, inplace=True)"
   ]
  },
  {
   "cell_type": "code",
   "execution_count": 18,
   "id": "e6b07cbe",
   "metadata": {
    "ExecuteTime": {
     "end_time": "2021-07-01T17:23:38.699480Z",
     "start_time": "2021-07-01T17:23:38.675550Z"
    }
   },
   "outputs": [
    {
     "data": {
      "text/plain": [
       "0                                              No\n",
       "1                                              No\n",
       "2        <0.01Ξ ($4) for this punk from 0x7f6498.\n",
       "3                                              No\n",
       "4                                              No\n",
       "                          ...                    \n",
       "9995                                           No\n",
       "9996                                           No\n",
       "9997                                           No\n",
       "9998                                           No\n",
       "9999    0.22Ξ ($489) for this punk from 0x20ed17.\n",
       "Name: are_bids, Length: 10000, dtype: object"
      ]
     },
     "execution_count": 18,
     "metadata": {},
     "output_type": "execute_result"
    }
   ],
   "source": [
    "df_1['are_bids']"
   ]
  },
  {
   "cell_type": "markdown",
   "id": "ac81a95b",
   "metadata": {},
   "source": [
    "Creem les columnes necessaries per incloure tota la informació de bids:"
   ]
  },
  {
   "cell_type": "code",
   "execution_count": 19,
   "id": "7790cfdc",
   "metadata": {
    "ExecuteTime": {
     "end_time": "2021-07-01T17:23:38.715439Z",
     "start_time": "2021-07-01T17:23:38.704468Z"
    }
   },
   "outputs": [],
   "source": [
    "df_1['bids_price'] = df_1['are_bids']"
   ]
  },
  {
   "cell_type": "code",
   "execution_count": 20,
   "id": "cd96b486",
   "metadata": {
    "ExecuteTime": {
     "end_time": "2021-07-01T17:23:38.746358Z",
     "start_time": "2021-07-01T17:23:38.719427Z"
    }
   },
   "outputs": [],
   "source": [
    "df_1['bids_placer'] = df_1['are_bids']"
   ]
  },
  {
   "cell_type": "code",
   "execution_count": 21,
   "id": "48734186",
   "metadata": {
    "ExecuteTime": {
     "end_time": "2021-07-01T17:23:38.824202Z",
     "start_time": "2021-07-01T17:23:38.758329Z"
    }
   },
   "outputs": [],
   "source": [
    "df_1.loc[df_1['are_bids']!='No', 'are_bids'] = df_1.loc[df_1['are_bids']!='No']['are_bids'].replace({'\\w':'', '\\W':''}, regex=True)"
   ]
  },
  {
   "cell_type": "code",
   "execution_count": 22,
   "id": "af946d68",
   "metadata": {
    "ExecuteTime": {
     "end_time": "2021-07-01T17:23:38.871384Z",
     "start_time": "2021-07-01T17:23:38.828191Z"
    }
   },
   "outputs": [],
   "source": [
    "df_1['are_bids'].replace({'':'Yes'}, regex=True, inplace=True)"
   ]
  },
  {
   "cell_type": "code",
   "execution_count": 23,
   "id": "db08edf9",
   "metadata": {
    "ExecuteTime": {
     "end_time": "2021-07-01T17:23:38.903297Z",
     "start_time": "2021-07-01T17:23:38.877370Z"
    }
   },
   "outputs": [
    {
     "data": {
      "text/plain": [
       "No     9108\n",
       "Yes     892\n",
       "Name: are_bids, dtype: int64"
      ]
     },
     "execution_count": 23,
     "metadata": {},
     "output_type": "execute_result"
    }
   ],
   "source": [
    "df_1['are_bids'].value_counts()"
   ]
  },
  {
   "cell_type": "markdown",
   "id": "459a8ef1",
   "metadata": {},
   "source": [
    "Netegem 'price_eth': FALTA SABER QUÈ FER AMB ELS FACTORIALS 'K', 'M' i 'Y' !"
   ]
  },
  {
   "cell_type": "code",
   "execution_count": 24,
   "id": "f9ee48e0",
   "metadata": {
    "ExecuteTime": {
     "end_time": "2021-07-01T17:23:38.950177Z",
     "start_time": "2021-07-01T17:23:38.907289Z"
    }
   },
   "outputs": [],
   "source": [
    "df_1['price_eth'].replace({'Ξ':''}, regex=True, inplace=True)"
   ]
  },
  {
   "cell_type": "code",
   "execution_count": 25,
   "id": "65f5f7aa",
   "metadata": {
    "ExecuteTime": {
     "end_time": "2021-07-01T17:23:39.013289Z",
     "start_time": "2021-07-01T17:23:38.957156Z"
    }
   },
   "outputs": [],
   "source": [
    "df_1['price_eth'].replace({'No':'None'}, regex=True, inplace=True)"
   ]
  },
  {
   "cell_type": "markdown",
   "id": "2b8babc4",
   "metadata": {},
   "source": [
    "Netegem 'price_dolar':"
   ]
  },
  {
   "cell_type": "code",
   "execution_count": 26,
   "id": "335a410a",
   "metadata": {
    "ExecuteTime": {
     "end_time": "2021-07-01T17:23:39.060987Z",
     "start_time": "2021-07-01T17:23:39.017289Z"
    }
   },
   "outputs": [],
   "source": [
    "df_1['price_dolar'].replace({'\\(':'', '\\)':'', '\\$':'', ',':''}, regex=True, inplace=True)"
   ]
  },
  {
   "cell_type": "code",
   "execution_count": 27,
   "id": "07a59369",
   "metadata": {
    "ExecuteTime": {
     "end_time": "2021-07-01T17:23:39.091911Z",
     "start_time": "2021-07-01T17:23:39.062989Z"
    }
   },
   "outputs": [
    {
     "data": {
      "text/plain": [
       "293839    190\n",
       "83588     155\n",
       "274111     59\n",
       "73073      26\n",
       "49918      23\n",
       "         ... \n",
       "37319       1\n",
       "442676      1\n",
       "201322      1\n",
       "119303      1\n",
       "70798       1\n",
       "Name: price_dolar, Length: 1107, dtype: int64"
      ]
     },
     "execution_count": 27,
     "metadata": {},
     "output_type": "execute_result"
    }
   ],
   "source": [
    "df_1.price_dolar.value_counts()"
   ]
  },
  {
   "cell_type": "code",
   "execution_count": 28,
   "id": "2344f7a5",
   "metadata": {
    "ExecuteTime": {
     "end_time": "2021-07-01T17:23:39.123840Z",
     "start_time": "2021-07-01T17:23:39.094914Z"
    }
   },
   "outputs": [],
   "source": [
    "df_1['dolar_factors'] = df_1['price_dolar'].str.extract(r'([a-zA-Z])')"
   ]
  },
  {
   "cell_type": "code",
   "execution_count": 29,
   "id": "316482d7",
   "metadata": {
    "ExecuteTime": {
     "end_time": "2021-07-01T17:23:39.171699Z",
     "start_time": "2021-07-01T17:23:39.128814Z"
    }
   },
   "outputs": [],
   "source": [
    "df_1['eth_factors'] = df_1['price_eth'].str.extract(r'([a-zA-Z])')"
   ]
  },
  {
   "cell_type": "code",
   "execution_count": 30,
   "id": "d6d19a90",
   "metadata": {
    "ExecuteTime": {
     "end_time": "2021-07-01T17:23:39.211592Z",
     "start_time": "2021-07-01T17:23:39.176700Z"
    }
   },
   "outputs": [
    {
     "data": {
      "text/plain": [
       "N    8079\n",
       "K      44\n",
       "Y      20\n",
       "M       1\n",
       "Name: eth_factors, dtype: int64"
      ]
     },
     "execution_count": 30,
     "metadata": {},
     "output_type": "execute_result"
    }
   ],
   "source": [
    "df_1['eth_factors'].value_counts()"
   ]
  },
  {
   "cell_type": "code",
   "execution_count": 31,
   "id": "29e5aad4",
   "metadata": {
    "ExecuteTime": {
     "end_time": "2021-07-01T17:23:39.234532Z",
     "start_time": "2021-07-01T17:23:39.218572Z"
    }
   },
   "outputs": [
    {
     "data": {
      "text/plain": [
       "M    114\n",
       "Y     20\n",
       "B      1\n",
       "Name: dolar_factors, dtype: int64"
      ]
     },
     "execution_count": 31,
     "metadata": {},
     "output_type": "execute_result"
    }
   ],
   "source": [
    "df_1['dolar_factors'].value_counts()"
   ]
  },
  {
   "cell_type": "markdown",
   "id": "cfe46d04",
   "metadata": {},
   "source": [
    "Separem la columna de de bids en si hi ha bid o no, l'usuari que l'ha fet, el preu en dolars i el preu en ethereum:"
   ]
  },
  {
   "cell_type": "code",
   "execution_count": 32,
   "id": "a4751085",
   "metadata": {
    "ExecuteTime": {
     "end_time": "2021-07-01T17:23:39.282414Z",
     "start_time": "2021-07-01T17:23:39.237523Z"
    }
   },
   "outputs": [],
   "source": [
    "df_1['bids_price'].replace({'<':''}, regex=True, inplace=True)"
   ]
  },
  {
   "cell_type": "code",
   "execution_count": 187,
   "id": "8a419ae8",
   "metadata": {
    "ExecuteTime": {
     "end_time": "2021-07-02T08:20:11.987142Z",
     "start_time": "2021-07-02T08:20:11.951241Z"
    }
   },
   "outputs": [],
   "source": [
    "df_1['bids_dolars'] = df_1['bids_price'].str.extract(r'(\\$\\d+(\\,\\d+)?[a-zA-Z]?)')"
   ]
  },
  {
   "cell_type": "code",
   "execution_count": 51,
   "id": "0ff2755b",
   "metadata": {
    "ExecuteTime": {
     "end_time": "2021-07-01T17:34:46.127876Z",
     "start_time": "2021-07-01T17:34:46.100912Z"
    }
   },
   "outputs": [],
   "source": [
    "df_1['bids_dolars'].replace({'$':''}, regex=True, inplace=True)"
   ]
  },
  {
   "cell_type": "code",
   "execution_count": 252,
   "id": "be30fd68",
   "metadata": {
    "ExecuteTime": {
     "end_time": "2021-07-02T18:00:31.484583Z",
     "start_time": "2021-07-02T18:00:31.412027Z"
    },
    "collapsed": true
   },
   "outputs": [
    {
     "ename": "KeyError",
     "evalue": "'bids_price'",
     "output_type": "error",
     "traceback": [
      "\u001b[1;31m---------------------------------------------------------------------------\u001b[0m",
      "\u001b[1;31mKeyError\u001b[0m                                  Traceback (most recent call last)",
      "\u001b[1;32m~\\anaconda3\\lib\\site-packages\\pandas\\core\\indexes\\base.py\u001b[0m in \u001b[0;36mget_loc\u001b[1;34m(self, key, method, tolerance)\u001b[0m\n\u001b[0;32m   3079\u001b[0m             \u001b[1;32mtry\u001b[0m\u001b[1;33m:\u001b[0m\u001b[1;33m\u001b[0m\u001b[1;33m\u001b[0m\u001b[0m\n\u001b[1;32m-> 3080\u001b[1;33m                 \u001b[1;32mreturn\u001b[0m \u001b[0mself\u001b[0m\u001b[1;33m.\u001b[0m\u001b[0m_engine\u001b[0m\u001b[1;33m.\u001b[0m\u001b[0mget_loc\u001b[0m\u001b[1;33m(\u001b[0m\u001b[0mcasted_key\u001b[0m\u001b[1;33m)\u001b[0m\u001b[1;33m\u001b[0m\u001b[1;33m\u001b[0m\u001b[0m\n\u001b[0m\u001b[0;32m   3081\u001b[0m             \u001b[1;32mexcept\u001b[0m \u001b[0mKeyError\u001b[0m \u001b[1;32mas\u001b[0m \u001b[0merr\u001b[0m\u001b[1;33m:\u001b[0m\u001b[1;33m\u001b[0m\u001b[1;33m\u001b[0m\u001b[0m\n",
      "\u001b[1;32mpandas\\_libs\\index.pyx\u001b[0m in \u001b[0;36mpandas._libs.index.IndexEngine.get_loc\u001b[1;34m()\u001b[0m\n",
      "\u001b[1;32mpandas\\_libs\\index.pyx\u001b[0m in \u001b[0;36mpandas._libs.index.IndexEngine.get_loc\u001b[1;34m()\u001b[0m\n",
      "\u001b[1;32mpandas\\_libs\\hashtable_class_helper.pxi\u001b[0m in \u001b[0;36mpandas._libs.hashtable.PyObjectHashTable.get_item\u001b[1;34m()\u001b[0m\n",
      "\u001b[1;32mpandas\\_libs\\hashtable_class_helper.pxi\u001b[0m in \u001b[0;36mpandas._libs.hashtable.PyObjectHashTable.get_item\u001b[1;34m()\u001b[0m\n",
      "\u001b[1;31mKeyError\u001b[0m: 'bids_price'",
      "\nThe above exception was the direct cause of the following exception:\n",
      "\u001b[1;31mKeyError\u001b[0m                                  Traceback (most recent call last)",
      "\u001b[1;32m<ipython-input-252-b4cb4fca283c>\u001b[0m in \u001b[0;36m<module>\u001b[1;34m\u001b[0m\n\u001b[1;32m----> 1\u001b[1;33m \u001b[0mdf_1\u001b[0m\u001b[1;33m[\u001b[0m\u001b[1;34m'bids_eth'\u001b[0m\u001b[1;33m]\u001b[0m \u001b[1;33m=\u001b[0m \u001b[0mdf_1\u001b[0m\u001b[1;33m[\u001b[0m\u001b[1;34m'bids_price'\u001b[0m\u001b[1;33m]\u001b[0m\u001b[1;33m.\u001b[0m\u001b[0mstr\u001b[0m\u001b[1;33m[\u001b[0m\u001b[1;33m:\u001b[0m\u001b[1;36m6\u001b[0m\u001b[1;33m]\u001b[0m\u001b[1;33m\u001b[0m\u001b[1;33m\u001b[0m\u001b[0m\n\u001b[0m",
      "\u001b[1;32m~\\anaconda3\\lib\\site-packages\\pandas\\core\\frame.py\u001b[0m in \u001b[0;36m__getitem__\u001b[1;34m(self, key)\u001b[0m\n\u001b[0;32m   3022\u001b[0m             \u001b[1;32mif\u001b[0m \u001b[0mself\u001b[0m\u001b[1;33m.\u001b[0m\u001b[0mcolumns\u001b[0m\u001b[1;33m.\u001b[0m\u001b[0mnlevels\u001b[0m \u001b[1;33m>\u001b[0m \u001b[1;36m1\u001b[0m\u001b[1;33m:\u001b[0m\u001b[1;33m\u001b[0m\u001b[1;33m\u001b[0m\u001b[0m\n\u001b[0;32m   3023\u001b[0m                 \u001b[1;32mreturn\u001b[0m \u001b[0mself\u001b[0m\u001b[1;33m.\u001b[0m\u001b[0m_getitem_multilevel\u001b[0m\u001b[1;33m(\u001b[0m\u001b[0mkey\u001b[0m\u001b[1;33m)\u001b[0m\u001b[1;33m\u001b[0m\u001b[1;33m\u001b[0m\u001b[0m\n\u001b[1;32m-> 3024\u001b[1;33m             \u001b[0mindexer\u001b[0m \u001b[1;33m=\u001b[0m \u001b[0mself\u001b[0m\u001b[1;33m.\u001b[0m\u001b[0mcolumns\u001b[0m\u001b[1;33m.\u001b[0m\u001b[0mget_loc\u001b[0m\u001b[1;33m(\u001b[0m\u001b[0mkey\u001b[0m\u001b[1;33m)\u001b[0m\u001b[1;33m\u001b[0m\u001b[1;33m\u001b[0m\u001b[0m\n\u001b[0m\u001b[0;32m   3025\u001b[0m             \u001b[1;32mif\u001b[0m \u001b[0mis_integer\u001b[0m\u001b[1;33m(\u001b[0m\u001b[0mindexer\u001b[0m\u001b[1;33m)\u001b[0m\u001b[1;33m:\u001b[0m\u001b[1;33m\u001b[0m\u001b[1;33m\u001b[0m\u001b[0m\n\u001b[0;32m   3026\u001b[0m                 \u001b[0mindexer\u001b[0m \u001b[1;33m=\u001b[0m \u001b[1;33m[\u001b[0m\u001b[0mindexer\u001b[0m\u001b[1;33m]\u001b[0m\u001b[1;33m\u001b[0m\u001b[1;33m\u001b[0m\u001b[0m\n",
      "\u001b[1;32m~\\anaconda3\\lib\\site-packages\\pandas\\core\\indexes\\base.py\u001b[0m in \u001b[0;36mget_loc\u001b[1;34m(self, key, method, tolerance)\u001b[0m\n\u001b[0;32m   3080\u001b[0m                 \u001b[1;32mreturn\u001b[0m \u001b[0mself\u001b[0m\u001b[1;33m.\u001b[0m\u001b[0m_engine\u001b[0m\u001b[1;33m.\u001b[0m\u001b[0mget_loc\u001b[0m\u001b[1;33m(\u001b[0m\u001b[0mcasted_key\u001b[0m\u001b[1;33m)\u001b[0m\u001b[1;33m\u001b[0m\u001b[1;33m\u001b[0m\u001b[0m\n\u001b[0;32m   3081\u001b[0m             \u001b[1;32mexcept\u001b[0m \u001b[0mKeyError\u001b[0m \u001b[1;32mas\u001b[0m \u001b[0merr\u001b[0m\u001b[1;33m:\u001b[0m\u001b[1;33m\u001b[0m\u001b[1;33m\u001b[0m\u001b[0m\n\u001b[1;32m-> 3082\u001b[1;33m                 \u001b[1;32mraise\u001b[0m \u001b[0mKeyError\u001b[0m\u001b[1;33m(\u001b[0m\u001b[0mkey\u001b[0m\u001b[1;33m)\u001b[0m \u001b[1;32mfrom\u001b[0m \u001b[0merr\u001b[0m\u001b[1;33m\u001b[0m\u001b[1;33m\u001b[0m\u001b[0m\n\u001b[0m\u001b[0;32m   3083\u001b[0m \u001b[1;33m\u001b[0m\u001b[0m\n\u001b[0;32m   3084\u001b[0m         \u001b[1;32mif\u001b[0m \u001b[0mtolerance\u001b[0m \u001b[1;32mis\u001b[0m \u001b[1;32mnot\u001b[0m \u001b[1;32mNone\u001b[0m\u001b[1;33m:\u001b[0m\u001b[1;33m\u001b[0m\u001b[1;33m\u001b[0m\u001b[0m\n",
      "\u001b[1;31mKeyError\u001b[0m: 'bids_price'"
     ]
    }
   ],
   "source": [
    "df_1['bids_eth'] = df_1['bids_price'].str[:6]"
   ]
  },
  {
   "cell_type": "code",
   "execution_count": null,
   "id": "395bef2a",
   "metadata": {},
   "outputs": [],
   "source": [
    "df_1['bids_eth'].head(200)"
   ]
  },
  {
   "cell_type": "code",
   "execution_count": 223,
   "id": "c9cc1281",
   "metadata": {
    "ExecuteTime": {
     "end_time": "2021-07-02T17:41:06.930292Z",
     "start_time": "2021-07-02T17:41:06.850889Z"
    }
   },
   "outputs": [],
   "source": [
    "df_1['bids_eth'].replace({'Ξ':'', 'No':'', '\\(\\$\\d?': ''}, regex=True, inplace=True)"
   ]
  },
  {
   "cell_type": "code",
   "execution_count": 229,
   "id": "6f52ec3c",
   "metadata": {
    "ExecuteTime": {
     "end_time": "2021-07-02T17:43:55.565948Z",
     "start_time": "2021-07-02T17:43:55.522514Z"
    }
   },
   "outputs": [],
   "source": [
    "df_1['bids_placer'] = df_1['bids_price'].str.extract(r'(from\\s\\w+)')"
   ]
  },
  {
   "cell_type": "code",
   "execution_count": 230,
   "id": "17c7e997",
   "metadata": {
    "ExecuteTime": {
     "end_time": "2021-07-02T17:44:25.861149Z",
     "start_time": "2021-07-02T17:44:25.824912Z"
    }
   },
   "outputs": [],
   "source": [
    "df_1['bids_placer'].replace({'from':''}, regex=True, inplace=True)"
   ]
  },
  {
   "cell_type": "code",
   "execution_count": 232,
   "id": "9a88302f",
   "metadata": {
    "ExecuteTime": {
     "end_time": "2021-07-02T17:44:47.115813Z",
     "start_time": "2021-07-02T17:44:47.071923Z"
    }
   },
   "outputs": [],
   "source": [
    "df_1.drop('bids_price', axis=1, inplace=True)"
   ]
  },
  {
   "cell_type": "code",
   "execution_count": 233,
   "id": "2fa6debe",
   "metadata": {
    "ExecuteTime": {
     "end_time": "2021-07-02T17:44:52.944549Z",
     "start_time": "2021-07-02T17:44:52.919574Z"
    }
   },
   "outputs": [
    {
     "data": {
      "text/plain": [
       "Index(['cryptopunk_number', 'owner', 'for_sale', 'are_bids', 'price_eth', 'price_dolar', 'bids_placer', 'dolar_factors', 'eth_factors', 'bids_dolars', 'bids_eth'], dtype='object')"
      ]
     },
     "execution_count": 233,
     "metadata": {},
     "output_type": "execute_result"
    }
   ],
   "source": [
    "df_1.columns"
   ]
  },
  {
   "cell_type": "code",
   "execution_count": 234,
   "id": "29dad218",
   "metadata": {
    "ExecuteTime": {
     "end_time": "2021-07-02T17:46:47.977965Z",
     "start_time": "2021-07-02T17:46:47.957028Z"
    }
   },
   "outputs": [],
   "source": [
    "df_1 = df_1[['cryptopunk_number', 'owner', 'for_sale', 'price_dolar', 'dolar_factors', 'price_eth', 'eth_factors', \n",
    "             'are_bids', 'bids_placer', 'bids_dolars', 'bids_eth']]"
   ]
  },
  {
   "cell_type": "code",
   "execution_count": 235,
   "id": "b2324da0",
   "metadata": {
    "ExecuteTime": {
     "end_time": "2021-07-02T17:46:51.746752Z",
     "start_time": "2021-07-02T17:46:51.681354Z"
    }
   },
   "outputs": [
    {
     "data": {
      "text/html": [
       "<div>\n",
       "<style scoped>\n",
       "    .dataframe tbody tr th:only-of-type {\n",
       "        vertical-align: middle;\n",
       "    }\n",
       "\n",
       "    .dataframe tbody tr th {\n",
       "        vertical-align: top;\n",
       "    }\n",
       "\n",
       "    .dataframe thead th {\n",
       "        text-align: right;\n",
       "    }\n",
       "</style>\n",
       "<table border=\"1\" class=\"dataframe\">\n",
       "  <thead>\n",
       "    <tr style=\"text-align: right;\">\n",
       "      <th></th>\n",
       "      <th>cryptopunk_number</th>\n",
       "      <th>owner</th>\n",
       "      <th>for_sale</th>\n",
       "      <th>price_dolar</th>\n",
       "      <th>dolar_factors</th>\n",
       "      <th>price_eth</th>\n",
       "      <th>eth_factors</th>\n",
       "      <th>are_bids</th>\n",
       "      <th>bids_placer</th>\n",
       "      <th>bids_dolars</th>\n",
       "      <th>bids_eth</th>\n",
       "    </tr>\n",
       "  </thead>\n",
       "  <tbody>\n",
       "    <tr>\n",
       "      <th>0</th>\n",
       "      <td>0</td>\n",
       "      <td>0xe08c32</td>\n",
       "      <td>No</td>\n",
       "      <td>None</td>\n",
       "      <td>NaN</td>\n",
       "      <td>None</td>\n",
       "      <td>N</td>\n",
       "      <td>No</td>\n",
       "      <td>NaN</td>\n",
       "      <td>NaN</td>\n",
       "      <td></td>\n",
       "    </tr>\n",
       "    <tr>\n",
       "      <th>1</th>\n",
       "      <td>1</td>\n",
       "      <td>0xb88f61</td>\n",
       "      <td>No</td>\n",
       "      <td>None</td>\n",
       "      <td>NaN</td>\n",
       "      <td>None</td>\n",
       "      <td>N</td>\n",
       "      <td>No</td>\n",
       "      <td>NaN</td>\n",
       "      <td>NaN</td>\n",
       "      <td></td>\n",
       "    </tr>\n",
       "    <tr>\n",
       "      <th>2</th>\n",
       "      <td>2</td>\n",
       "      <td>0x897aea</td>\n",
       "      <td>No</td>\n",
       "      <td>None</td>\n",
       "      <td>NaN</td>\n",
       "      <td>None</td>\n",
       "      <td>N</td>\n",
       "      <td>Yes</td>\n",
       "      <td>0x7f6498</td>\n",
       "      <td>$4</td>\n",
       "      <td>0.01</td>\n",
       "    </tr>\n",
       "    <tr>\n",
       "      <th>3</th>\n",
       "      <td>3</td>\n",
       "      <td>0xc352b5</td>\n",
       "      <td>No</td>\n",
       "      <td>None</td>\n",
       "      <td>NaN</td>\n",
       "      <td>None</td>\n",
       "      <td>N</td>\n",
       "      <td>No</td>\n",
       "      <td>NaN</td>\n",
       "      <td>NaN</td>\n",
       "      <td></td>\n",
       "    </tr>\n",
       "    <tr>\n",
       "      <th>4</th>\n",
       "      <td>4</td>\n",
       "      <td>0xc352b5</td>\n",
       "      <td>No</td>\n",
       "      <td>None</td>\n",
       "      <td>NaN</td>\n",
       "      <td>None</td>\n",
       "      <td>N</td>\n",
       "      <td>No</td>\n",
       "      <td>NaN</td>\n",
       "      <td>NaN</td>\n",
       "      <td></td>\n",
       "    </tr>\n",
       "    <tr>\n",
       "      <th>...</th>\n",
       "      <td>...</td>\n",
       "      <td>...</td>\n",
       "      <td>...</td>\n",
       "      <td>...</td>\n",
       "      <td>...</td>\n",
       "      <td>...</td>\n",
       "      <td>...</td>\n",
       "      <td>...</td>\n",
       "      <td>...</td>\n",
       "      <td>...</td>\n",
       "      <td>...</td>\n",
       "    </tr>\n",
       "    <tr>\n",
       "      <th>9995</th>\n",
       "      <td>9995</td>\n",
       "      <td>0x758353</td>\n",
       "      <td>No</td>\n",
       "      <td>None</td>\n",
       "      <td>NaN</td>\n",
       "      <td>None</td>\n",
       "      <td>N</td>\n",
       "      <td>No</td>\n",
       "      <td>NaN</td>\n",
       "      <td>NaN</td>\n",
       "      <td></td>\n",
       "    </tr>\n",
       "    <tr>\n",
       "      <th>9996</th>\n",
       "      <td>9996</td>\n",
       "      <td>0xa9bfa9</td>\n",
       "      <td>No</td>\n",
       "      <td>None</td>\n",
       "      <td>NaN</td>\n",
       "      <td>None</td>\n",
       "      <td>N</td>\n",
       "      <td>No</td>\n",
       "      <td>NaN</td>\n",
       "      <td>NaN</td>\n",
       "      <td></td>\n",
       "    </tr>\n",
       "    <tr>\n",
       "      <th>9997</th>\n",
       "      <td>9997</td>\n",
       "      <td>0x279679</td>\n",
       "      <td>Yes</td>\n",
       "      <td>991742</td>\n",
       "      <td>NaN</td>\n",
       "      <td>450</td>\n",
       "      <td>NaN</td>\n",
       "      <td>No</td>\n",
       "      <td>NaN</td>\n",
       "      <td>NaN</td>\n",
       "      <td></td>\n",
       "    </tr>\n",
       "    <tr>\n",
       "      <th>9998</th>\n",
       "      <td>9998</td>\n",
       "      <td>0xcfd9cc</td>\n",
       "      <td>No</td>\n",
       "      <td>None</td>\n",
       "      <td>NaN</td>\n",
       "      <td>None</td>\n",
       "      <td>N</td>\n",
       "      <td>No</td>\n",
       "      <td>NaN</td>\n",
       "      <td>NaN</td>\n",
       "      <td></td>\n",
       "    </tr>\n",
       "    <tr>\n",
       "      <th>9999</th>\n",
       "      <td>9999</td>\n",
       "      <td>punk9999…</td>\n",
       "      <td>No</td>\n",
       "      <td>None</td>\n",
       "      <td>NaN</td>\n",
       "      <td>None</td>\n",
       "      <td>N</td>\n",
       "      <td>Yes</td>\n",
       "      <td>0x20ed17</td>\n",
       "      <td>$489</td>\n",
       "      <td>0.22</td>\n",
       "    </tr>\n",
       "  </tbody>\n",
       "</table>\n",
       "<p>10000 rows × 11 columns</p>\n",
       "</div>"
      ],
      "text/plain": [
       "      cryptopunk_number       owner for_sale price_dolar dolar_factors price_eth eth_factors are_bids bids_placer bids_dolars bids_eth\n",
       "0                     0    0xe08c32       No        None           NaN      None           N       No         NaN         NaN         \n",
       "1                     1    0xb88f61       No        None           NaN      None           N       No         NaN         NaN         \n",
       "2                     2    0x897aea       No        None           NaN      None           N      Yes    0x7f6498          $4    0.01 \n",
       "3                     3    0xc352b5       No        None           NaN      None           N       No         NaN         NaN         \n",
       "4                     4    0xc352b5       No        None           NaN      None           N       No         NaN         NaN         \n",
       "...                 ...         ...      ...         ...           ...       ...         ...      ...         ...         ...      ...\n",
       "9995               9995    0x758353       No        None           NaN      None           N       No         NaN         NaN         \n",
       "9996               9996    0xa9bfa9       No        None           NaN      None           N       No         NaN         NaN         \n",
       "9997               9997    0x279679      Yes      991742           NaN       450         NaN       No         NaN         NaN         \n",
       "9998               9998    0xcfd9cc       No        None           NaN      None           N       No         NaN         NaN         \n",
       "9999               9999   punk9999…       No        None           NaN      None           N      Yes    0x20ed17        $489    0.22 \n",
       "\n",
       "[10000 rows x 11 columns]"
      ]
     },
     "execution_count": 235,
     "metadata": {},
     "output_type": "execute_result"
    }
   ],
   "source": [
    "df_1"
   ]
  },
  {
   "cell_type": "markdown",
   "id": "0375c671",
   "metadata": {},
   "source": [
    "### TXN_TOTAL"
   ]
  },
  {
   "cell_type": "markdown",
   "id": "cc2b17bf",
   "metadata": {},
   "source": [
    "Volem deixar la taula TXN_TOTAL així:\n",
    "\n",
    "- cryptopunk_number\n",
    "- txn_type\n",
    "- from\n",
    "- to\n",
    "- amount_dolars\n",
    "- dolars_factors:\n",
    "- amount_ethereum\n",
    "- ethereum_factors:\n",
    "- txn_date\n"
   ]
  },
  {
   "cell_type": "code",
   "execution_count": 88,
   "id": "5d970a6f",
   "metadata": {
    "ExecuteTime": {
     "end_time": "2021-07-01T18:40:15.411837Z",
     "start_time": "2021-07-01T18:40:15.118236Z"
    }
   },
   "outputs": [],
   "source": [
    "df_2 = pd.read_csv('TXN_TOTAL.csv')"
   ]
  },
  {
   "cell_type": "code",
   "execution_count": 89,
   "id": "a7864471",
   "metadata": {
    "ExecuteTime": {
     "end_time": "2021-07-01T18:40:15.569388Z",
     "start_time": "2021-07-01T18:40:15.542458Z"
    }
   },
   "outputs": [
    {
     "data": {
      "text/html": [
       "<div>\n",
       "<style scoped>\n",
       "    .dataframe tbody tr th:only-of-type {\n",
       "        vertical-align: middle;\n",
       "    }\n",
       "\n",
       "    .dataframe tbody tr th {\n",
       "        vertical-align: top;\n",
       "    }\n",
       "\n",
       "    .dataframe thead th {\n",
       "        text-align: right;\n",
       "    }\n",
       "</style>\n",
       "<table border=\"1\" class=\"dataframe\">\n",
       "  <thead>\n",
       "    <tr style=\"text-align: right;\">\n",
       "      <th></th>\n",
       "      <th>Unnamed: 0</th>\n",
       "      <th>Unnamed: 0.1</th>\n",
       "      <th>txn_type</th>\n",
       "      <th>from</th>\n",
       "      <th>to</th>\n",
       "      <th>amount</th>\n",
       "      <th>txn_date</th>\n",
       "      <th>cryptopunk_number</th>\n",
       "    </tr>\n",
       "  </thead>\n",
       "  <tbody>\n",
       "    <tr>\n",
       "      <th>0</th>\n",
       "      <td>0</td>\n",
       "      <td>0</td>\n",
       "      <td>0</td>\n",
       "      <td>NaN</td>\n",
       "      <td>NaN</td>\n",
       "      <td>NaN</td>\n",
       "      <td>NaN</td>\n",
       "      <td>NaN</td>\n",
       "    </tr>\n",
       "    <tr>\n",
       "      <th>1</th>\n",
       "      <td>1</td>\n",
       "      <td>1</td>\n",
       "      <td>Bid Withdrawn</td>\n",
       "      <td>0x983ace</td>\n",
       "      <td>NaN</td>\n",
       "      <td>250Ξ ($1.03M)</td>\n",
       "      <td>May 10, 2021</td>\n",
       "      <td>0.0</td>\n",
       "    </tr>\n",
       "    <tr>\n",
       "      <th>2</th>\n",
       "      <td>2</td>\n",
       "      <td>2</td>\n",
       "      <td>Bid</td>\n",
       "      <td>0x983ace</td>\n",
       "      <td>NaN</td>\n",
       "      <td>250Ξ ($537,615)</td>\n",
       "      <td>Apr 11, 2021</td>\n",
       "      <td>0.0</td>\n",
       "    </tr>\n",
       "    <tr>\n",
       "      <th>3</th>\n",
       "      <td>3</td>\n",
       "      <td>3</td>\n",
       "      <td>Bid Withdrawn</td>\n",
       "      <td>0xd7510a</td>\n",
       "      <td>NaN</td>\n",
       "      <td>100Ξ ($160,973)</td>\n",
       "      <td>Mar 03, 2021</td>\n",
       "      <td>0.0</td>\n",
       "    </tr>\n",
       "    <tr>\n",
       "      <th>4</th>\n",
       "      <td>4</td>\n",
       "      <td>4</td>\n",
       "      <td>Bid</td>\n",
       "      <td>0xd7510a</td>\n",
       "      <td>NaN</td>\n",
       "      <td>100Ξ ($188,897)</td>\n",
       "      <td>Feb 20, 2021</td>\n",
       "      <td>0.0</td>\n",
       "    </tr>\n",
       "    <tr>\n",
       "      <th>...</th>\n",
       "      <td>...</td>\n",
       "      <td>...</td>\n",
       "      <td>...</td>\n",
       "      <td>...</td>\n",
       "      <td>...</td>\n",
       "      <td>...</td>\n",
       "      <td>...</td>\n",
       "      <td>...</td>\n",
       "    </tr>\n",
       "    <tr>\n",
       "      <th>133269</th>\n",
       "      <td>133269</td>\n",
       "      <td>70605</td>\n",
       "      <td>Bid</td>\n",
       "      <td>0xa0a59c</td>\n",
       "      <td>NaN</td>\n",
       "      <td>0.25Ξ ($69)</td>\n",
       "      <td>Jul 03, 2017</td>\n",
       "      <td>9999.0</td>\n",
       "    </tr>\n",
       "    <tr>\n",
       "      <th>133270</th>\n",
       "      <td>133270</td>\n",
       "      <td>70606</td>\n",
       "      <td>Bid</td>\n",
       "      <td>0x717403</td>\n",
       "      <td>NaN</td>\n",
       "      <td>0.20Ξ ($51)</td>\n",
       "      <td>Jun 26, 2017</td>\n",
       "      <td>9999.0</td>\n",
       "    </tr>\n",
       "    <tr>\n",
       "      <th>133271</th>\n",
       "      <td>133271</td>\n",
       "      <td>70607</td>\n",
       "      <td>Bid</td>\n",
       "      <td>ddaavvee</td>\n",
       "      <td>NaN</td>\n",
       "      <td>0.20Ξ ($65)</td>\n",
       "      <td>Jun 23, 2017</td>\n",
       "      <td>9999.0</td>\n",
       "    </tr>\n",
       "    <tr>\n",
       "      <th>133272</th>\n",
       "      <td>133272</td>\n",
       "      <td>70608</td>\n",
       "      <td>Bid</td>\n",
       "      <td>0x5b098b</td>\n",
       "      <td>NaN</td>\n",
       "      <td>0.15Ξ ($50)</td>\n",
       "      <td>Jun 23, 2017</td>\n",
       "      <td>9999.0</td>\n",
       "    </tr>\n",
       "    <tr>\n",
       "      <th>133273</th>\n",
       "      <td>133273</td>\n",
       "      <td>70609</td>\n",
       "      <td>Claimed</td>\n",
       "      <td>NaN</td>\n",
       "      <td>0x7e2d1c</td>\n",
       "      <td>NaN</td>\n",
       "      <td>Jun 23, 2017</td>\n",
       "      <td>9999.0</td>\n",
       "    </tr>\n",
       "  </tbody>\n",
       "</table>\n",
       "<p>133274 rows × 8 columns</p>\n",
       "</div>"
      ],
      "text/plain": [
       "        Unnamed: 0  Unnamed: 0.1       txn_type      from        to           amount      txn_date  cryptopunk_number\n",
       "0                0             0              0       NaN       NaN              NaN           NaN                NaN\n",
       "1                1             1  Bid Withdrawn  0x983ace       NaN    250Ξ ($1.03M)  May 10, 2021                0.0\n",
       "2                2             2            Bid  0x983ace       NaN  250Ξ ($537,615)  Apr 11, 2021                0.0\n",
       "3                3             3  Bid Withdrawn  0xd7510a       NaN  100Ξ ($160,973)  Mar 03, 2021                0.0\n",
       "4                4             4            Bid  0xd7510a       NaN  100Ξ ($188,897)  Feb 20, 2021                0.0\n",
       "...            ...           ...            ...       ...       ...              ...           ...                ...\n",
       "133269      133269         70605            Bid  0xa0a59c       NaN      0.25Ξ ($69)  Jul 03, 2017             9999.0\n",
       "133270      133270         70606            Bid  0x717403       NaN      0.20Ξ ($51)  Jun 26, 2017             9999.0\n",
       "133271      133271         70607            Bid  ddaavvee       NaN      0.20Ξ ($65)  Jun 23, 2017             9999.0\n",
       "133272      133272         70608            Bid  0x5b098b       NaN      0.15Ξ ($50)  Jun 23, 2017             9999.0\n",
       "133273      133273         70609        Claimed       NaN  0x7e2d1c              NaN  Jun 23, 2017             9999.0\n",
       "\n",
       "[133274 rows x 8 columns]"
      ]
     },
     "execution_count": 89,
     "metadata": {},
     "output_type": "execute_result"
    }
   ],
   "source": [
    "df_2"
   ]
  },
  {
   "cell_type": "code",
   "execution_count": 90,
   "id": "3e8f3a54",
   "metadata": {
    "ExecuteTime": {
     "end_time": "2021-07-01T18:40:16.466699Z",
     "start_time": "2021-07-01T18:40:16.444726Z"
    }
   },
   "outputs": [],
   "source": [
    "df_2.drop(['Unnamed: 0', 'Unnamed: 0.1'], axis=1, inplace=True)"
   ]
  },
  {
   "cell_type": "code",
   "execution_count": 118,
   "id": "3d0a1755",
   "metadata": {
    "ExecuteTime": {
     "end_time": "2021-07-01T18:48:33.799751Z",
     "start_time": "2021-07-01T18:48:33.768793Z"
    }
   },
   "outputs": [],
   "source": [
    "df_2.drop(0, inplace=True)"
   ]
  },
  {
   "cell_type": "code",
   "execution_count": 119,
   "id": "8bd432c1",
   "metadata": {
    "ExecuteTime": {
     "end_time": "2021-07-01T18:48:37.158857Z",
     "start_time": "2021-07-01T18:48:37.115977Z"
    }
   },
   "outputs": [
    {
     "data": {
      "text/plain": [
       "Offered            43487\n",
       "Bid                21934\n",
       "Sold               13848\n",
       "Bid Withdrawn      12429\n",
       "Transfer           10687\n",
       "Claimed            10000\n",
       "Offer Withdrawn     6534\n",
       "(Wrap)              2297\n",
       "(Unwrap)            2058\n",
       "7068                   1\n",
       "Name: txn_type, dtype: int64"
      ]
     },
     "execution_count": 119,
     "metadata": {},
     "output_type": "execute_result"
    }
   ],
   "source": [
    "df_2.txn_type.value_counts().head(10)"
   ]
  },
  {
   "cell_type": "code",
   "execution_count": 120,
   "id": "fa70a289",
   "metadata": {
    "ExecuteTime": {
     "end_time": "2021-07-01T18:48:39.119320Z",
     "start_time": "2021-07-01T18:48:39.084412Z"
    }
   },
   "outputs": [
    {
     "data": {
      "text/plain": [
       "Pranksy      0.036220\n",
       "WrappedC…    0.032536\n",
       "0x717403     0.032520\n",
       "Hemba        0.019430\n",
       "0x7760e0     0.017090\n",
       "               ...   \n",
       "0xa2af28…    0.000016\n",
       "0xece772     0.000016\n",
       "0x60385b     0.000016\n",
       "0x143418     0.000016\n",
       "0x15547b     0.000016\n",
       "Name: from, Length: 4052, dtype: float64"
      ]
     },
     "execution_count": 120,
     "metadata": {},
     "output_type": "execute_result"
    }
   ],
   "source": [
    "df_2['from'].value_counts(normalize=True)"
   ]
  },
  {
   "cell_type": "code",
   "execution_count": 121,
   "id": "40489741",
   "metadata": {
    "ExecuteTime": {
     "end_time": "2021-07-01T18:48:40.468735Z",
     "start_time": "2021-07-01T18:48:40.430841Z"
    }
   },
   "outputs": [
    {
     "data": {
      "text/plain": [
       "WrappedC…    0.058542\n",
       "0xc352b5     0.027219\n",
       "Hemba        0.024874\n",
       "0x00d7c9     0.023549\n",
       "Pranksy      0.018834\n",
       "               ...   \n",
       "0x3db26e     0.000025\n",
       "0xcc72f7     0.000025\n",
       "0x3d19c5     0.000025\n",
       "0xbdeef4     0.000025\n",
       "0x59fe45     0.000025\n",
       "Name: to, Length: 4343, dtype: float64"
      ]
     },
     "execution_count": 121,
     "metadata": {},
     "output_type": "execute_result"
    }
   ],
   "source": [
    "df_2['to'].value_counts(normalize=True)"
   ]
  },
  {
   "cell_type": "code",
   "execution_count": 122,
   "id": "c8fe6a33",
   "metadata": {
    "ExecuteTime": {
     "end_time": "2021-07-01T18:48:41.039230Z",
     "start_time": "2021-07-01T18:48:40.928721Z"
    }
   },
   "outputs": [
    {
     "data": {
      "text/plain": [
       "0.05Ξ ($14)         1025\n",
       "0.05Ξ ($13)          800\n",
       "<0.01Ξ ($<0.01)      657\n",
       "0.05Ξ ($16)          569\n",
       "0.03Ξ ($10)          387\n",
       "                    ... \n",
       "52Ξ ($116,474)         1\n",
       "125Ξ ($262,280)        1\n",
       "24.49Ξ ($86,405)       1\n",
       "41.50Ξ ($76,807)       1\n",
       "31Ξ ($106,010)         1\n",
       "Name: amount, Length: 52622, dtype: int64"
      ]
     },
     "execution_count": 122,
     "metadata": {},
     "output_type": "execute_result"
    }
   ],
   "source": [
    "df_2['amount'].value_counts()"
   ]
  },
  {
   "cell_type": "code",
   "execution_count": 124,
   "id": "6aac6492",
   "metadata": {
    "ExecuteTime": {
     "end_time": "2021-07-01T18:49:07.462997Z",
     "start_time": "2021-07-01T18:49:07.426099Z"
    }
   },
   "outputs": [
    {
     "data": {
      "text/plain": [
       "Jun 23, 2017    10452\n",
       "May 03, 2021     1635\n",
       "Mar 28, 2021     1287\n",
       "Sep 28, 2020     1193\n",
       "Feb 21, 2021     1117\n",
       "                ...  \n",
       "Sep 07, 2019        1\n",
       "Apr 03, 2019        1\n",
       "Nov 08, 2017        1\n",
       "Jan 30, 2018        1\n",
       "Mar 28, 2020        1\n",
       "Name: txn_date, Length: 1367, dtype: int64"
      ]
     },
     "execution_count": 124,
     "metadata": {},
     "output_type": "execute_result"
    }
   ],
   "source": [
    "df_2['txn_date'].value_counts()"
   ]
  },
  {
   "cell_type": "code",
   "execution_count": 125,
   "id": "5c7edcfd",
   "metadata": {
    "ExecuteTime": {
     "end_time": "2021-07-01T18:49:38.196299Z",
     "start_time": "2021-07-01T18:49:38.159399Z"
    }
   },
   "outputs": [
    {
     "data": {
      "text/plain": [
       "3914.0    111\n",
       "6704.0    104\n",
       "1737.0    102\n",
       "7421.0    102\n",
       "8951.0     99\n",
       "         ... \n",
       "8496.0      1\n",
       "2171.0      1\n",
       "2797.0      1\n",
       "4981.0      1\n",
       "5459.0      1\n",
       "Name: cryptopunk_number, Length: 10000, dtype: int64"
      ]
     },
     "execution_count": 125,
     "metadata": {},
     "output_type": "execute_result"
    }
   ],
   "source": [
    "df_2['cryptopunk_number'].value_counts()"
   ]
  },
  {
   "cell_type": "code",
   "execution_count": 126,
   "id": "bbe6bca4",
   "metadata": {
    "ExecuteTime": {
     "end_time": "2021-07-01T18:50:03.989342Z",
     "start_time": "2021-07-01T18:50:03.969403Z"
    }
   },
   "outputs": [
    {
     "data": {
      "text/plain": [
       "Index(['txn_type', 'from', 'to', 'amount', 'txn_date', 'cryptopunk_number'], dtype='object')"
      ]
     },
     "execution_count": 126,
     "metadata": {},
     "output_type": "execute_result"
    }
   ],
   "source": [
    "df_2.columns"
   ]
  },
  {
   "cell_type": "code",
   "execution_count": 127,
   "id": "5d730fb5",
   "metadata": {
    "ExecuteTime": {
     "end_time": "2021-07-01T18:50:22.963278Z",
     "start_time": "2021-07-01T18:50:22.946288Z"
    }
   },
   "outputs": [],
   "source": [
    "df_2 = df_2[['cryptopunk_number','txn_type', 'from', 'to', 'amount', 'txn_date']]"
   ]
  },
  {
   "cell_type": "code",
   "execution_count": 135,
   "id": "36d1d2f5",
   "metadata": {
    "ExecuteTime": {
     "end_time": "2021-07-01T18:57:20.543436Z",
     "start_time": "2021-07-01T18:57:20.479747Z"
    }
   },
   "outputs": [
    {
     "name": "stdout",
     "output_type": "stream",
     "text": [
      "<class 'pandas.core.frame.DataFrame'>\n",
      "Int64Index: 133273 entries, 1 to 133273\n",
      "Data columns (total 6 columns):\n",
      " #   Column             Non-Null Count   Dtype         \n",
      "---  ------             --------------   -----         \n",
      " 0   cryptopunk_number  123274 non-null  float64       \n",
      " 1   txn_type           133273 non-null  object        \n",
      " 2   from               63253 non-null   object        \n",
      " 3   to                 39237 non-null   object        \n",
      " 4   amount             91698 non-null   object        \n",
      " 5   txn_date           123274 non-null  datetime64[ns]\n",
      "dtypes: datetime64[ns](1), float64(1), object(4)\n",
      "memory usage: 7.1+ MB\n"
     ]
    }
   ],
   "source": [
    "df_2.info()"
   ]
  },
  {
   "cell_type": "markdown",
   "id": "7ece3bcc",
   "metadata": {},
   "source": [
    "Hi ha un nul per cada cryptopunk:"
   ]
  },
  {
   "cell_type": "code",
   "execution_count": 132,
   "id": "f995d71e",
   "metadata": {
    "ExecuteTime": {
     "end_time": "2021-07-01T18:51:20.469901Z",
     "start_time": "2021-07-01T18:51:20.461923Z"
    }
   },
   "outputs": [
    {
     "data": {
      "text/plain": [
       "9999"
      ]
     },
     "execution_count": 132,
     "metadata": {},
     "output_type": "execute_result"
    }
   ],
   "source": [
    "df_2['cryptopunk_number'].isna().sum()"
   ]
  },
  {
   "cell_type": "code",
   "execution_count": 134,
   "id": "0ad0a17c",
   "metadata": {
    "ExecuteTime": {
     "end_time": "2021-07-01T18:57:15.008429Z",
     "start_time": "2021-07-01T18:57:14.770642Z"
    }
   },
   "outputs": [],
   "source": [
    "df_2[\"txn_date\"]= pd.to_datetime(df_2[\"txn_date\"])"
   ]
  },
  {
   "cell_type": "code",
   "execution_count": 136,
   "id": "09425a99",
   "metadata": {
    "ExecuteTime": {
     "end_time": "2021-07-01T18:57:35.836275Z",
     "start_time": "2021-07-01T18:57:35.812336Z"
    }
   },
   "outputs": [
    {
     "data": {
      "text/plain": [
       "2017-06-23    10452\n",
       "2021-05-03     1635\n",
       "2021-03-28     1287\n",
       "2020-09-28     1193\n",
       "2021-02-21     1117\n",
       "              ...  \n",
       "2017-10-22        1\n",
       "2019-11-17        1\n",
       "2020-07-18        1\n",
       "2018-08-14        1\n",
       "2018-07-17        1\n",
       "Name: txn_date, Length: 1367, dtype: int64"
      ]
     },
     "execution_count": 136,
     "metadata": {},
     "output_type": "execute_result"
    }
   ],
   "source": [
    "df_2['txn_date'].value_counts()"
   ]
  },
  {
   "cell_type": "code",
   "execution_count": 137,
   "id": "fc4520ac",
   "metadata": {
    "ExecuteTime": {
     "end_time": "2021-07-01T18:58:04.417054Z",
     "start_time": "2021-07-01T18:58:04.368189Z"
    }
   },
   "outputs": [
    {
     "data": {
      "text/plain": [
       "cryptopunk_number     9999\n",
       "txn_type                 0\n",
       "from                 70020\n",
       "to                   94036\n",
       "amount               41575\n",
       "txn_date              9999\n",
       "dtype: int64"
      ]
     },
     "execution_count": 137,
     "metadata": {},
     "output_type": "execute_result"
    }
   ],
   "source": [
    "df_2.isna().sum()"
   ]
  },
  {
   "cell_type": "markdown",
   "id": "e4470b12",
   "metadata": {},
   "source": [
    "Veiem que al final de cada crypto punk hi ha una fila de barrera on els valors son nulls. Les busquem totes i les eliminem:"
   ]
  },
  {
   "cell_type": "code",
   "execution_count": 156,
   "id": "b33c496a",
   "metadata": {
    "ExecuteTime": {
     "end_time": "2021-07-01T19:02:08.629700Z",
     "start_time": "2021-07-01T19:02:08.622716Z"
    }
   },
   "outputs": [],
   "source": [
    "i = df_2['cryptopunk_number'].isna()"
   ]
  },
  {
   "cell_type": "code",
   "execution_count": 161,
   "id": "5464d156",
   "metadata": {
    "ExecuteTime": {
     "end_time": "2021-07-01T19:02:45.911887Z",
     "start_time": "2021-07-01T19:02:45.900921Z"
    }
   },
   "outputs": [],
   "source": [
    "i = df_2[i].index"
   ]
  },
  {
   "cell_type": "code",
   "execution_count": 163,
   "id": "05860110",
   "metadata": {
    "ExecuteTime": {
     "end_time": "2021-07-01T19:03:03.878806Z",
     "start_time": "2021-07-01T19:03:03.826948Z"
    }
   },
   "outputs": [],
   "source": [
    "df_2.drop(i, inplace=True)"
   ]
  },
  {
   "cell_type": "code",
   "execution_count": 164,
   "id": "7abed48a",
   "metadata": {
    "ExecuteTime": {
     "end_time": "2021-07-01T19:03:12.824866Z",
     "start_time": "2021-07-01T19:03:12.777956Z"
    }
   },
   "outputs": [
    {
     "data": {
      "text/plain": [
       "cryptopunk_number        0\n",
       "txn_type                 0\n",
       "from                 60021\n",
       "to                   84037\n",
       "amount               31576\n",
       "txn_date                 0\n",
       "dtype: int64"
      ]
     },
     "execution_count": 164,
     "metadata": {},
     "output_type": "execute_result"
    }
   ],
   "source": [
    "df_2.isna().sum()"
   ]
  },
  {
   "cell_type": "markdown",
   "id": "9a3876fd",
   "metadata": {},
   "source": [
    "Passem la columna de id dels punks a INT:"
   ]
  },
  {
   "cell_type": "code",
   "execution_count": null,
   "id": "ccf671e0",
   "metadata": {
    "ExecuteTime": {
     "end_time": "2021-07-01T19:08:47.940013Z",
     "start_time": "2021-07-01T19:08:47.930040Z"
    }
   },
   "outputs": [],
   "source": [
    "df_2['cryptopunk_number'] = df_2['cryptopunk_number'].astype(int)"
   ]
  },
  {
   "cell_type": "markdown",
   "id": "70718e57",
   "metadata": {},
   "source": [
    "Comencem amb els regex:"
   ]
  },
  {
   "cell_type": "code",
   "execution_count": 165,
   "id": "b2943c9b",
   "metadata": {
    "ExecuteTime": {
     "end_time": "2021-07-01T19:06:08.599371Z",
     "start_time": "2021-07-01T19:06:08.430820Z"
    }
   },
   "outputs": [],
   "source": [
    "df_2['amount'].replace({'<':''}, regex=True, inplace=True)"
   ]
  },
  {
   "cell_type": "markdown",
   "id": "52b94996",
   "metadata": {},
   "source": [
    "Creem les columnes per dolars i Ethereum, omplim amb NaN els espais buits de la columna 'amount':"
   ]
  },
  {
   "cell_type": "code",
   "execution_count": 385,
   "id": "72cc7814",
   "metadata": {
    "ExecuteTime": {
     "end_time": "2021-07-03T07:50:31.121340Z",
     "start_time": "2021-07-03T07:50:30.852510Z"
    }
   },
   "outputs": [],
   "source": [
    "df_2['amount'].replace(r'^(?!\\d).*$', np.nan, regex=True, inplace=True)"
   ]
  },
  {
   "cell_type": "markdown",
   "id": "99a08924",
   "metadata": {},
   "source": [
    "Columna dolars, agafant des del tercer caràcter de l'string i eliminant allò que ens sobra:"
   ]
  },
  {
   "cell_type": "code",
   "execution_count": 355,
   "id": "a2c8f32e",
   "metadata": {
    "ExecuteTime": {
     "end_time": "2021-07-03T07:35:13.561125Z",
     "start_time": "2021-07-03T07:35:13.448485Z"
    }
   },
   "outputs": [],
   "source": [
    "df_2['amount_dolars'] = df_2['amount'].str[3:]"
   ]
  },
  {
   "cell_type": "code",
   "execution_count": 357,
   "id": "cd4bca8a",
   "metadata": {
    "ExecuteTime": {
     "end_time": "2021-07-03T07:35:22.779448Z",
     "start_time": "2021-07-03T07:35:20.258157Z"
    }
   },
   "outputs": [],
   "source": [
    "df_2['amount_dolars'].replace({'\\.?\\d*[a-zA-Z]?Ξ':'','\\s':'', '\\$':'', '\\(':'',  '\\)':'', '\\,':'', '[a-zA-Z]':''}, regex=True, inplace=True)"
   ]
  },
  {
   "cell_type": "markdown",
   "id": "96e0a4dc",
   "metadata": {},
   "source": [
    "Columna d'ethereum, agafant des del setè caràcter de l'string i eliminant allò que ens sobra:"
   ]
  },
  {
   "cell_type": "code",
   "execution_count": 391,
   "id": "f3b7db91",
   "metadata": {
    "ExecuteTime": {
     "end_time": "2021-07-03T07:55:35.369700Z",
     "start_time": "2021-07-03T07:55:35.288055Z"
    }
   },
   "outputs": [],
   "source": [
    "df_2['amount_eth'] = df_2['amount'].str[:7]"
   ]
  },
  {
   "cell_type": "code",
   "execution_count": 392,
   "id": "bf2d58f7",
   "metadata": {
    "ExecuteTime": {
     "end_time": "2021-07-03T07:55:38.149952Z",
     "start_time": "2021-07-03T07:55:35.956838Z"
    }
   },
   "outputs": [],
   "source": [
    "df_2['amount_eth'].replace({'Ξ':'','\\s':'', '\\(':'','\\)':'','\\$':'','\\$\\d+?': '', '\\,':'', '[a-zA-Z]':''}, regex=True, inplace=True)"
   ]
  },
  {
   "cell_type": "markdown",
   "id": "b602162e",
   "metadata": {},
   "source": [
    "Convertim les columnes a numèric, per fer-ho hem d'omplir els empty strings amb NaN:"
   ]
  },
  {
   "cell_type": "code",
   "execution_count": 365,
   "id": "9cb77afc",
   "metadata": {
    "ExecuteTime": {
     "end_time": "2021-07-03T07:40:23.051240Z",
     "start_time": "2021-07-03T07:40:22.975237Z"
    }
   },
   "outputs": [],
   "source": [
    "df_2.replace(r'', np.nan, regex=True, inplace=True)"
   ]
  },
  {
   "cell_type": "code",
   "execution_count": 366,
   "id": "95cb13e7",
   "metadata": {
    "ExecuteTime": {
     "end_time": "2021-07-03T07:40:26.896744Z",
     "start_time": "2021-07-03T07:40:26.809525Z"
    }
   },
   "outputs": [],
   "source": [
    "df_2['amount_dolars'] = df_2['amount_dolars'].astype(float)"
   ]
  },
  {
   "cell_type": "code",
   "execution_count": 393,
   "id": "c86fb037",
   "metadata": {
    "ExecuteTime": {
     "end_time": "2021-07-03T07:55:44.260675Z",
     "start_time": "2021-07-03T07:55:43.991611Z"
    }
   },
   "outputs": [],
   "source": [
    "df_2['amount_eth'].replace(r'^(?!\\d).*$', np.nan, regex=True, inplace=True)"
   ]
  },
  {
   "cell_type": "code",
   "execution_count": 394,
   "id": "d2a95d0a",
   "metadata": {
    "ExecuteTime": {
     "end_time": "2021-07-03T07:55:44.970574Z",
     "start_time": "2021-07-03T07:55:44.867845Z"
    }
   },
   "outputs": [],
   "source": [
    "df_2['amount_eth'] = df_2['amount_eth'].astype(float)"
   ]
  },
  {
   "cell_type": "markdown",
   "id": "5723bd1a",
   "metadata": {},
   "source": [
    "Fem les columnes de factors corresponents:"
   ]
  },
  {
   "cell_type": "code",
   "execution_count": 345,
   "id": "c3fbfc7e",
   "metadata": {
    "ExecuteTime": {
     "end_time": "2021-07-03T07:24:55.672827Z",
     "start_time": "2021-07-03T07:24:55.525706Z"
    }
   },
   "outputs": [],
   "source": [
    "df_2['dolar_factors'] = df_2['amount_dolars'].str.extract(r'([a-zA-Z])')"
   ]
  },
  {
   "cell_type": "code",
   "execution_count": 346,
   "id": "4cac1b7a",
   "metadata": {
    "ExecuteTime": {
     "end_time": "2021-07-03T07:24:56.218289Z",
     "start_time": "2021-07-03T07:24:56.187357Z"
    }
   },
   "outputs": [
    {
     "data": {
      "text/plain": [
       "M    473\n",
       "Y     28\n",
       "T      3\n",
       "B      3\n",
       "Z      2\n",
       "P      1\n",
       "Name: dolar_factors, dtype: int64"
      ]
     },
     "execution_count": 346,
     "metadata": {},
     "output_type": "execute_result"
    }
   ],
   "source": [
    "df_2['dolar_factors'].value_counts()"
   ]
  },
  {
   "cell_type": "code",
   "execution_count": 322,
   "id": "33173901",
   "metadata": {
    "ExecuteTime": {
     "end_time": "2021-07-03T07:15:05.049503Z",
     "start_time": "2021-07-03T07:15:04.897729Z"
    }
   },
   "outputs": [],
   "source": [
    "df_2['eth_factors'] = df_2['amount_eth'].str.extract(r'([a-zA-Z])')"
   ]
  },
  {
   "cell_type": "code",
   "execution_count": 325,
   "id": "e5a956f5",
   "metadata": {
    "ExecuteTime": {
     "end_time": "2021-07-03T07:15:45.150555Z",
     "start_time": "2021-07-03T07:15:45.116794Z"
    }
   },
   "outputs": [
    {
     "data": {
      "text/plain": [
       "K    235\n",
       "Z      3\n",
       "M      2\n",
       "B      2\n",
       "T      1\n",
       "Y      1\n",
       "Name: eth_factors, dtype: int64"
      ]
     },
     "execution_count": 325,
     "metadata": {},
     "output_type": "execute_result"
    }
   ],
   "source": [
    "df_2['eth_factors'].value_counts()"
   ]
  },
  {
   "cell_type": "code",
   "execution_count": 399,
   "id": "0cb3a777",
   "metadata": {
    "ExecuteTime": {
     "end_time": "2021-07-03T08:03:53.138047Z",
     "start_time": "2021-07-03T08:03:53.095980Z"
    },
    "scrolled": true
   },
   "outputs": [
    {
     "data": {
      "text/html": [
       "<div>\n",
       "<style scoped>\n",
       "    .dataframe tbody tr th:only-of-type {\n",
       "        vertical-align: middle;\n",
       "    }\n",
       "\n",
       "    .dataframe tbody tr th {\n",
       "        vertical-align: top;\n",
       "    }\n",
       "\n",
       "    .dataframe thead th {\n",
       "        text-align: right;\n",
       "    }\n",
       "</style>\n",
       "<table border=\"1\" class=\"dataframe\">\n",
       "  <thead>\n",
       "    <tr style=\"text-align: right;\">\n",
       "      <th></th>\n",
       "      <th>cryptopunk_number</th>\n",
       "      <th>txn_type</th>\n",
       "      <th>from</th>\n",
       "      <th>to</th>\n",
       "      <th>amount</th>\n",
       "      <th>txn_date</th>\n",
       "      <th>amount_dolars</th>\n",
       "      <th>amount_eth</th>\n",
       "      <th>dolar_factors</th>\n",
       "      <th>eth_factors</th>\n",
       "    </tr>\n",
       "  </thead>\n",
       "  <tbody>\n",
       "    <tr>\n",
       "      <th>1</th>\n",
       "      <td>0</td>\n",
       "      <td>Bid Withdrawn</td>\n",
       "      <td>0x983ace</td>\n",
       "      <td>NaN</td>\n",
       "      <td>250Ξ ($1.03M)</td>\n",
       "      <td>2021-05-10</td>\n",
       "      <td>1.03</td>\n",
       "      <td>250.00</td>\n",
       "      <td>1000000.0</td>\n",
       "      <td>NaN</td>\n",
       "    </tr>\n",
       "    <tr>\n",
       "      <th>2</th>\n",
       "      <td>0</td>\n",
       "      <td>Bid</td>\n",
       "      <td>0x983ace</td>\n",
       "      <td>NaN</td>\n",
       "      <td>250Ξ ($537,615)</td>\n",
       "      <td>2021-04-11</td>\n",
       "      <td>537615.00</td>\n",
       "      <td>250.00</td>\n",
       "      <td>NaN</td>\n",
       "      <td>NaN</td>\n",
       "    </tr>\n",
       "    <tr>\n",
       "      <th>3</th>\n",
       "      <td>0</td>\n",
       "      <td>Bid Withdrawn</td>\n",
       "      <td>0xd7510a</td>\n",
       "      <td>NaN</td>\n",
       "      <td>100Ξ ($160,973)</td>\n",
       "      <td>2021-03-03</td>\n",
       "      <td>160973.00</td>\n",
       "      <td>100.00</td>\n",
       "      <td>NaN</td>\n",
       "      <td>NaN</td>\n",
       "    </tr>\n",
       "    <tr>\n",
       "      <th>4</th>\n",
       "      <td>0</td>\n",
       "      <td>Bid</td>\n",
       "      <td>0xd7510a</td>\n",
       "      <td>NaN</td>\n",
       "      <td>100Ξ ($188,897)</td>\n",
       "      <td>2021-02-20</td>\n",
       "      <td>188897.00</td>\n",
       "      <td>100.00</td>\n",
       "      <td>NaN</td>\n",
       "      <td>NaN</td>\n",
       "    </tr>\n",
       "    <tr>\n",
       "      <th>5</th>\n",
       "      <td>0</td>\n",
       "      <td>Bid Withdrawn</td>\n",
       "      <td>natealex</td>\n",
       "      <td>NaN</td>\n",
       "      <td>69Ξ ($25,532)</td>\n",
       "      <td>2020-09-16</td>\n",
       "      <td>25532.00</td>\n",
       "      <td>692.00</td>\n",
       "      <td>NaN</td>\n",
       "      <td>NaN</td>\n",
       "    </tr>\n",
       "    <tr>\n",
       "      <th>...</th>\n",
       "      <td>...</td>\n",
       "      <td>...</td>\n",
       "      <td>...</td>\n",
       "      <td>...</td>\n",
       "      <td>...</td>\n",
       "      <td>...</td>\n",
       "      <td>...</td>\n",
       "      <td>...</td>\n",
       "      <td>...</td>\n",
       "      <td>...</td>\n",
       "    </tr>\n",
       "    <tr>\n",
       "      <th>133269</th>\n",
       "      <td>9999</td>\n",
       "      <td>Bid</td>\n",
       "      <td>0xa0a59c</td>\n",
       "      <td>NaN</td>\n",
       "      <td>0.25Ξ ($69)</td>\n",
       "      <td>2017-07-03</td>\n",
       "      <td>69.00</td>\n",
       "      <td>0.25</td>\n",
       "      <td>NaN</td>\n",
       "      <td>NaN</td>\n",
       "    </tr>\n",
       "    <tr>\n",
       "      <th>133270</th>\n",
       "      <td>9999</td>\n",
       "      <td>Bid</td>\n",
       "      <td>0x717403</td>\n",
       "      <td>NaN</td>\n",
       "      <td>0.20Ξ ($51)</td>\n",
       "      <td>2017-06-26</td>\n",
       "      <td>51.00</td>\n",
       "      <td>0.20</td>\n",
       "      <td>NaN</td>\n",
       "      <td>NaN</td>\n",
       "    </tr>\n",
       "    <tr>\n",
       "      <th>133271</th>\n",
       "      <td>9999</td>\n",
       "      <td>Bid</td>\n",
       "      <td>ddaavvee</td>\n",
       "      <td>NaN</td>\n",
       "      <td>0.20Ξ ($65)</td>\n",
       "      <td>2017-06-23</td>\n",
       "      <td>65.00</td>\n",
       "      <td>0.20</td>\n",
       "      <td>NaN</td>\n",
       "      <td>NaN</td>\n",
       "    </tr>\n",
       "    <tr>\n",
       "      <th>133272</th>\n",
       "      <td>9999</td>\n",
       "      <td>Bid</td>\n",
       "      <td>0x5b098b</td>\n",
       "      <td>NaN</td>\n",
       "      <td>0.15Ξ ($50)</td>\n",
       "      <td>2017-06-23</td>\n",
       "      <td>50.00</td>\n",
       "      <td>0.15</td>\n",
       "      <td>NaN</td>\n",
       "      <td>NaN</td>\n",
       "    </tr>\n",
       "    <tr>\n",
       "      <th>133273</th>\n",
       "      <td>9999</td>\n",
       "      <td>Claimed</td>\n",
       "      <td>NaN</td>\n",
       "      <td>0x7e2d1c</td>\n",
       "      <td>NaN</td>\n",
       "      <td>2017-06-23</td>\n",
       "      <td>NaN</td>\n",
       "      <td>NaN</td>\n",
       "      <td>NaN</td>\n",
       "      <td>NaN</td>\n",
       "    </tr>\n",
       "  </tbody>\n",
       "</table>\n",
       "<p>123274 rows × 10 columns</p>\n",
       "</div>"
      ],
      "text/plain": [
       "        cryptopunk_number       txn_type      from        to           amount   txn_date  amount_dolars  amount_eth  dolar_factors  eth_factors\n",
       "1                       0  Bid Withdrawn  0x983ace       NaN    250Ξ ($1.03M) 2021-05-10           1.03      250.00      1000000.0          NaN\n",
       "2                       0            Bid  0x983ace       NaN  250Ξ ($537,615) 2021-04-11      537615.00      250.00            NaN          NaN\n",
       "3                       0  Bid Withdrawn  0xd7510a       NaN  100Ξ ($160,973) 2021-03-03      160973.00      100.00            NaN          NaN\n",
       "4                       0            Bid  0xd7510a       NaN  100Ξ ($188,897) 2021-02-20      188897.00      100.00            NaN          NaN\n",
       "5                       0  Bid Withdrawn  natealex       NaN    69Ξ ($25,532) 2020-09-16       25532.00      692.00            NaN          NaN\n",
       "...                   ...            ...       ...       ...              ...        ...            ...         ...            ...          ...\n",
       "133269               9999            Bid  0xa0a59c       NaN      0.25Ξ ($69) 2017-07-03          69.00        0.25            NaN          NaN\n",
       "133270               9999            Bid  0x717403       NaN      0.20Ξ ($51) 2017-06-26          51.00        0.20            NaN          NaN\n",
       "133271               9999            Bid  ddaavvee       NaN      0.20Ξ ($65) 2017-06-23          65.00        0.20            NaN          NaN\n",
       "133272               9999            Bid  0x5b098b       NaN      0.15Ξ ($50) 2017-06-23          50.00        0.15            NaN          NaN\n",
       "133273               9999        Claimed       NaN  0x7e2d1c              NaN 2017-06-23            NaN         NaN            NaN          NaN\n",
       "\n",
       "[123274 rows x 10 columns]"
      ]
     },
     "execution_count": 399,
     "metadata": {},
     "output_type": "execute_result"
    }
   ],
   "source": [
    "df_2"
   ]
  },
  {
   "cell_type": "code",
   "execution_count": 398,
   "id": "088c4c06",
   "metadata": {
    "ExecuteTime": {
     "end_time": "2021-07-03T08:03:49.370038Z",
     "start_time": "2021-07-03T08:03:49.268838Z"
    }
   },
   "outputs": [],
   "source": [
    "factors = {'K': 10**3,\n",
    "          'M': 10**6,\n",
    "          'G': 10**9,\n",
    "          'T': 10**12,\n",
    "          'P': 10**15,\n",
    "          'E': 10**18,\n",
    "          'Z': 10**21,\n",
    "          'Y': 10**24,\n",
    "          'B': 10**9,\n",
    "          }\n",
    "\n",
    "df_2['eth_factors'] = df_2['eth_factors'].map(factors).astype(float)\n",
    "df_2['dolar_factors'] = df_2['dolar_factors'].map(factors).astype(float)"
   ]
  },
  {
   "cell_type": "markdown",
   "id": "08d92f5f",
   "metadata": {},
   "source": [
    "Revisar tema factors, els mès grans fent value counts, per mirar que no doni uns valors massa grans. Fer també per la TAULA 1."
   ]
  },
  {
   "cell_type": "code",
   "execution_count": null,
   "id": "7f1fe633",
   "metadata": {},
   "outputs": [],
   "source": [
    "# df_2.drop('amount', inplace=True)"
   ]
  }
 ],
 "metadata": {
  "kernelspec": {
   "display_name": "Python 3",
   "language": "python",
   "name": "python3"
  },
  "language_info": {
   "codemirror_mode": {
    "name": "ipython",
    "version": 3
   },
   "file_extension": ".py",
   "mimetype": "text/x-python",
   "name": "python",
   "nbconvert_exporter": "python",
   "pygments_lexer": "ipython3",
   "version": "3.8.8"
  }
 },
 "nbformat": 4,
 "nbformat_minor": 5
}
